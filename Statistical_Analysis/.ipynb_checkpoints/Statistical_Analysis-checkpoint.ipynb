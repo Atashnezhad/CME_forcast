{
 "cells": [
  {
   "cell_type": "markdown",
   "metadata": {},
   "source": [
    "# Statistical_Analysis"
   ]
  },
  {
   "cell_type": "code",
   "execution_count": 1,
   "metadata": {},
   "outputs": [],
   "source": [
    "section_fig_main_title = 'Statistical_Analysis_'"
   ]
  },
  {
   "cell_type": "code",
   "execution_count": 2,
   "metadata": {},
   "outputs": [
    {
     "name": "stdout",
     "output_type": "stream",
     "text": [
      "/Users/amin/miniconda3/bin/python\r\n"
     ]
    }
   ],
   "source": [
    "!which python"
   ]
  },
  {
   "cell_type": "code",
   "execution_count": 3,
   "metadata": {},
   "outputs": [],
   "source": [
    "import warnings\n",
    "warnings.filterwarnings('ignore')\n",
    "warnings.simplefilter(action='ignore', category=FutureWarning)"
   ]
  },
  {
   "cell_type": "code",
   "execution_count": 4,
   "metadata": {},
   "outputs": [
    {
     "name": "stdout",
     "output_type": "stream",
     "text": [
      "/Users/amin/anaconda3/bin/python\n"
     ]
    }
   ],
   "source": [
    "import sys\n",
    "print(sys.executable)\n"
   ]
  },
  {
   "cell_type": "code",
   "execution_count": 5,
   "metadata": {},
   "outputs": [
    {
     "name": "stderr",
     "output_type": "stream",
     "text": [
      "Using TensorFlow backend.\n"
     ]
    }
   ],
   "source": [
    "import os, sys\n",
    "import requests\n",
    "import scipy.stats as stats\n",
    "from statsmodels.stats.multicomp import pairwise_tukeyhsd\n",
    "from urllib.parse import urljoin, urlparse\n",
    "# from bs4 import BeautifulSoup as bs\n",
    "import re\n",
    "import statsmodels.api as sm\n",
    "import pingouin as pg\n",
    "import numpy as np\n",
    "import pandas as pd\n",
    "import matplotlib.pyplot as plt\n",
    "import seaborn as sns\n",
    "%config InlineBackend.figure_format = 'retina'\n",
    "from pandas.plotting import lag_plot\n",
    "import researchpy as rp\n",
    "from tensorflow import keras\n",
    "\n",
    "from sklearn.metrics import r2_score\n",
    "from math import sqrt\n",
    "import json\n",
    "\n",
    "from sklearn.metrics import mean_absolute_error\n",
    "from sklearn.metrics import mean_absolute_error\n",
    "from xgboost import XGBRegressor\n",
    "# !/Users/amin/Desktop/proj/env/bin/python -m pip install xgboost\n",
    "\n",
    "from sklearn.metrics import r2_score,mean_absolute_error\n",
    "\n",
    "# !/Users/amin/anaconda3/bin/python -m pip install biokit.viz \n",
    "# pip install --upgrade tensorflow \n",
    "\n",
    "\n",
    "\n",
    "from sklearn.preprocessing import MinMaxScaler\n",
    "from keras.models import Sequential\n",
    "from keras.layers import Dense, LSTM, Dropout, GRU, Bidirectional\n",
    "# from keras.optimizers import SGD\n",
    "from tensorflow.keras.optimizers import SGD\n",
    "\n",
    "import math\n",
    "from sklearn.metrics import mean_squared_error\n",
    "\n",
    "\n",
    "from sklearn.linear_model import LinearRegression\n",
    "from sklearn.preprocessing import StandardScaler, PolynomialFeatures\n",
    "\n",
    "from pandas.plotting import autocorrelation_plot\n",
    "import gif"
   ]
  },
  {
   "cell_type": "code",
   "execution_count": 6,
   "metadata": {},
   "outputs": [
    {
     "name": "stdout",
     "output_type": "stream",
     "text": [
      "1.13.1\n"
     ]
    }
   ],
   "source": [
    "from statsmodels.tsa.ar_model import AutoReg\n",
    "from sklearn.metrics import mean_squared_error\n",
    "\n",
    "import tensorflow as tf\n",
    "print(tf.__version__)\n",
    "\n",
    "import gif\n",
    "from tqdm import tqdm\n",
    "\n",
    "from sklearn import metrics\n",
    "# import statsmoadels.api as sm"
   ]
  },
  {
   "cell_type": "markdown",
   "metadata": {},
   "source": [
    "## Read Data \n",
    "\n"
   ]
  },
  {
   "cell_type": "code",
   "execution_count": 7,
   "metadata": {},
   "outputs": [],
   "source": [
    "csv_path = \"../Data/Data_ICME_Edited_Decoded_out_P02_03.csv\"\n",
    "df = pd.read_csv(csv_path, infer_datetime_format=True)\n",
    "\n",
    "\n",
    "df['ICME Plasma/Field Start Y/M/D (UT) (b)'] = pd.to_datetime(df['ICME Plasma/Field Start Y/M/D (UT) (b)'])\n",
    "df['ICME Plasma/Field End Y/M/D (UT) (b)'] = pd.to_datetime(df['ICME Plasma/Field End Y/M/D (UT) (b)'])\n",
    "\n",
    "\n",
    "df.index = df['ICME Plasma/Field Start Y/M/D (UT) (b)']\n",
    "df = df.drop(columns=['ICME Plasma/Field Start Y/M/D (UT) (b)'])\n",
    "df = df.drop(columns=['ICME Plasma/Field End Y/M/D (UT) (b)'])"
   ]
  },
  {
   "cell_type": "code",
   "execution_count": 8,
   "metadata": {},
   "outputs": [
    {
     "data": {
      "text/plain": [
       "Index(['BDE? (e)', 'Qual. (g)', 'dV (km/s) (h)', 'V_ICME (km/s) (i)',\n",
       "       'V_max (km/s) (j)', 'B (nT) (k)', 'MC? (l)', 'Dst (nT) (m)',\n",
       "       'Normalized_time_interval'],\n",
       "      dtype='object')"
      ]
     },
     "execution_count": 8,
     "metadata": {},
     "output_type": "execute_result"
    }
   ],
   "source": [
    "df.columns"
   ]
  },
  {
   "cell_type": "code",
   "execution_count": 9,
   "metadata": {},
   "outputs": [
    {
     "data": {
      "image/png": "[encoded data removed]",
      "text/plain": [
       "<Figure size 432x288 with 2 Axes>"
      ]
     },
     "metadata": {
      "image/png": {
       "height": 133,
       "width": 377
      },
      "needs_background": "light"
     },
     "output_type": "display_data"
    }
   ],
   "source": [
    "\n",
    "\n",
    "\n",
    "\n",
    "plt.subplot(2,2,1)\n",
    "plt.hist2d(df['V_ICME (km/s) (i)'], df['BDE? (e)'], cmap=plt.cm.jet, bins=(50, 50))\n",
    "plt.subplot(2,2,2)\n",
    "plt.hist2d(df['V_ICME (km/s) (i)'], df['Qual. (g)'], cmap=plt.cm.jet, bins=(50, 50))\n",
    "plt.show()"
   ]
  },
  {
   "cell_type": "code",
   "execution_count": null,
   "metadata": {},
   "outputs": [],
   "source": []
  },
  {
   "cell_type": "code",
   "execution_count": null,
   "metadata": {},
   "outputs": [],
   "source": []
  },
  {
   "cell_type": "code",
   "execution_count": null,
   "metadata": {},
   "outputs": [],
   "source": []
  },
  {
   "cell_type": "code",
   "execution_count": 10,
   "metadata": {},
   "outputs": [],
   "source": [
    "csv_path = \"../Data/Data_ICME_Edited_out_P02_02.csv\"\n",
    "df = pd.read_csv(csv_path, infer_datetime_format=True)\n",
    "\n",
    "\n",
    "df['ICME Plasma/Field Start Y/M/D (UT) (b)'] = pd.to_datetime(df['ICME Plasma/Field Start Y/M/D (UT) (b)'])\n",
    "df['ICME Plasma/Field End Y/M/D (UT) (b)'] = pd.to_datetime(df['ICME Plasma/Field End Y/M/D (UT) (b)'])\n",
    "\n",
    "\n",
    "df.index = df['ICME Plasma/Field Start Y/M/D (UT) (b)']\n",
    "df = df.drop(columns=['ICME Plasma/Field Start Y/M/D (UT) (b)'])\n",
    "df = df.drop(columns=['ICME Plasma/Field End Y/M/D (UT) (b)'])"
   ]
  },
  {
   "cell_type": "code",
   "execution_count": 11,
   "metadata": {},
   "outputs": [
    {
     "data": {
      "text/plain": [
       "Index(['Disturbance Y/M/D (UT) (a)',\n",
       "       'Comp. Start (Hrs wrt. Plasma/ Field) (c)',\n",
       "       'Comp. End (Hrs wrt. Plasma/ Field) (c)',\n",
       "       'MC Start (Hrs wrt. Plasma/ Field) (d)',\n",
       "       'End (Hrs wrt. Plasma/ Field) (d)', 'BDE? (e)', 'BIF? (f)', 'Qual. (g)',\n",
       "       'dV (km/s) (h)', 'V_ICME (km/s) (i)', 'V_max (km/s) (j)', 'B (nT) (k)',\n",
       "       'MC? (l)', 'Dst (nT) (m)', 'V_transit (km/s) (n)',\n",
       "       'LASCO CME Y/M/D (UT) (o)'],\n",
       "      dtype='object')"
      ]
     },
     "execution_count": 11,
     "metadata": {},
     "output_type": "execute_result"
    }
   ],
   "source": [
    "df.columns"
   ]
  },
  {
   "cell_type": "markdown",
   "metadata": {},
   "source": [
    "# Hypothesis Questions"
   ]
  },
  {
   "cell_type": "markdown",
   "metadata": {},
   "source": [
    "## BDE\n",
    "\n",
    "Evidence of BiDirectional suprathermal Electron strahls (BDE) in ACE/SWEPAM Observations. If data are unavailable from SWEPAM (data commence on 10/22/97), observations from the 3-D P instrument on WIND are referred to. \"SEP\" indicates that an intense solar energetic particle event was in progress at the time of ICME passage and electron flows therefore cannot be determined.\n",
    "\n",
    "[Reference](http://www.srl.caltech.edu/ACE/ASC/DATA/level3/icmetable2.htm#(e))"
   ]
  },
  {
   "cell_type": "code",
   "execution_count": 12,
   "metadata": {},
   "outputs": [
    {
     "name": "stdout",
     "output_type": "stream",
     "text": [
      "num of uniq BDE? (e) \n",
      " ['N' 'Y' '...' 'SEP']\n"
     ]
    },
    {
     "data": {
      "text/plain": [
       "4"
      ]
     },
     "execution_count": 12,
     "metadata": {},
     "output_type": "execute_result"
    }
   ],
   "source": [
    "col1 = 'BDE? (e)'\n",
    "col2_numer = 'V_ICME (km/s) (i)'\n",
    "\n",
    "print('num of uniq', col1 ,'\\n', df[col1].unique())\n",
    "\n",
    "df[col1].nunique()"
   ]
  },
  {
   "cell_type": "code",
   "execution_count": 13,
   "metadata": {},
   "outputs": [],
   "source": [
    "# target_grp = df.groupby([col1])\n",
    "\n",
    "# sub_df = target_grp[col2_numer]\n",
    "# target_grp[col2_numer].mean().plot.barh()\n",
    "# plt.xlabel(col2_numer)\n",
    "# plt.show()"
   ]
  },
  {
   "cell_type": "code",
   "execution_count": 14,
   "metadata": {},
   "outputs": [
    {
     "data": {
      "image/png": "[encoded data removed]",
      "text/plain": [
       "<Figure size 864x720 with 1 Axes>"
      ]
     },
     "metadata": {
      "image/png": {
       "height": 588,
       "width": 730
      },
      "needs_background": "light"
     },
     "output_type": "display_data"
    }
   ],
   "source": [
    "# https://www.reneshbedre.com/blog/anova.html\n",
    "plt.figure(figsize=(12,10))\n",
    "\n",
    "sns.boxplot(x=col1, y=col2_numer, data=df, color='#99c2a2')\n",
    "# ax = sns.swarmplot(x=col1, y=col2_numer, data=df, color='#7d0013')\n",
    "plt.show()"
   ]
  },
  {
   "cell_type": "code",
   "execution_count": 15,
   "metadata": {},
   "outputs": [],
   "source": [
    "ICME_V_BDE_Y = df[df['BDE? (e)'] == 'Y']['V_ICME (km/s) (i)']\n",
    "ICME_V_BDE_N = df[df['BDE? (e)'] == 'N']['V_ICME (km/s) (i)']\n",
    "ICME_V_BDE_SEP = df[df['BDE? (e)'] == 'SEP']['V_ICME (km/s) (i)']"
   ]
  },
  {
   "cell_type": "code",
   "execution_count": 16,
   "metadata": {},
   "outputs": [
    {
     "name": "stdout",
     "output_type": "stream",
     "text": [
      "468.2369942196532\n",
      "426.02649006622516\n",
      "485.0\n"
     ]
    }
   ],
   "source": [
    "print(ICME_V_BDE_Y.mean())\n",
    "print(ICME_V_BDE_N.mean())\n",
    "print(ICME_V_BDE_SEP.mean())"
   ]
  },
  {
   "cell_type": "markdown",
   "metadata": {},
   "source": [
    "From the above plot, it seems that I can infer that the solar speed for those data that there is evidence of bi-directional suprathermal electron (Y) is higher in average compared to those that there no evidence reported. is a difference in average solar wind speed observed from data statistically significant?\n",
    "\n",
    "\n",
    "<span style=\"color:gray\">\n",
    "    \n",
    "H0: Nothing extraordinary going on! The average solar wind speed is constant whether there are Bidirectional suprathermal Electron strahls happen or Not.\n",
    "\n",
    "</span>\n",
    "\n",
    "\n",
    "<span style=\"color:blue\">\n",
    "Ha: Average solar wind speed is higher when Bidirectional suprathermal Electron strahls happen!\n",
    "</span>\n",
    "\n",
    "\n",
    "\n",
    "<span style=\"color:red\">\n",
    "    \n",
    "## Does Average solar wind speed is higher when Bidirectional suprathermal Electron strahls happen?\n",
    "</span>"
   ]
  },
  {
   "cell_type": "code",
   "execution_count": 17,
   "metadata": {},
   "outputs": [
    {
     "data": {
      "image/png": "[encoded data removed]",
      "text/plain": [
       "<Figure size 432x288 with 1 Axes>"
      ]
     },
     "metadata": {
      "image/png": {
       "height": 261,
       "width": 369
      },
      "needs_background": "light"
     },
     "output_type": "display_data"
    }
   ],
   "source": [
    "plt.hist(ICME_V_BDE_Y, bins=50, alpha=0.4,label='BDE evidence exist')\n",
    "plt.hist(ICME_V_BDE_N, bins=50, alpha=0.4,label='BDE evidence Not exist')\n",
    "plt.xlabel(' ICME speed km/s')\n",
    "plt.legend()\n",
    "plt.savefig('../Figures/Statistical_Analysis_H0_1.png')\n",
    "plt.show()"
   ]
  },
  {
   "cell_type": "markdown",
   "metadata": {},
   "source": [
    "### t-test independent"
   ]
  },
  {
   "cell_type": "markdown",
   "metadata": {},
   "source": [
    "I have two samples so I use two sample t-test (t test independent)."
   ]
  },
  {
   "cell_type": "code",
   "execution_count": 18,
   "metadata": {},
   "outputs": [
    {
     "data": {
      "text/plain": [
       "Ttest_indResult(statistic=4.231118622668038, pvalue=2.771368873951386e-05)"
      ]
     },
     "execution_count": 18,
     "metadata": {},
     "output_type": "execute_result"
    }
   ],
   "source": [
    "stats.ttest_ind(a = ICME_V_BDE_Y,\n",
    "                b = ICME_V_BDE_N)"
   ]
  },
  {
   "cell_type": "markdown",
   "metadata": {},
   "source": [
    "The p-value is less than 0.05 therefore we can reject the null hypothesis (H0) and accept that there is a significant difference between the solar storm speed (ICME speed) when there is evidence of BDE with when there is no BDE evidence. In another word, the H1 is correct.\n",
    "\n",
    "<span style=\"color:green\">\n",
    "    \n",
    "## Ha: Average solar wind speed is higher when Bidirectional suprathermal Electron strahls happen. \n",
    "At least I have not any evidence against it. In more conservative way, I should say that the average is different.\n",
    "\n",
    "</span>\n",
    "The p-value is pretty small therefore I have a high confidence level and the chance of Type 1 error (false positive) is low."
   ]
  },
  {
   "cell_type": "markdown",
   "metadata": {},
   "source": [
    "\n",
    "I see from bar plot that the average ICME speed when intense solar energetic particle event was going on is higher than when there was Bidirectional suprathermal Electron strahls happen. Is this observaition from data statistically sognificant or not? So here is my Null hypothesis: \n",
    "\n",
    "\n",
    "<span style=\"color:gray\">\n",
    "    \n",
    "H0: The average solar wind speed when Bidirectional suprathermal Electron strahls happen is not different than when intense solar energetic particle event is happening. the observed different is ICME speed is due to error.\n",
    "\n",
    "</span>\n",
    "\n",
    "\n",
    "<span style=\"color:blue\">\n",
    "Ha: The average solar wind speed when Bidirectional suprathermal Electron strahls happen is not equal to when intense solar energetic particle event is happening and it is actually lower.\n",
    "</span>\n",
    "\n",
    "I have two independant samples therefore, I use two sample t-test (t test independent)."
   ]
  },
  {
   "cell_type": "code",
   "execution_count": 19,
   "metadata": {},
   "outputs": [
    {
     "data": {
      "image/png": "[encoded data removed]",
      "text/plain": [
       "<Figure size 432x288 with 1 Axes>"
      ]
     },
     "metadata": {
      "image/png": {
       "height": 261,
       "width": 369
      },
      "needs_background": "light"
     },
     "output_type": "display_data"
    }
   ],
   "source": [
    "plt.hist(ICME_V_BDE_Y, bins=50, alpha=0.4,label='Bidirectional suprathermal \\nElectron strahls happening')\n",
    "plt.hist(ICME_V_BDE_SEP, bins=5, alpha=0.4,label='Intense solar energetic \\nparticle event is happening')\n",
    "plt.xlabel(' ICME speed km/s')\n",
    "plt.legend()\n",
    "plt.savefig('../Figures/Statistical_Analysis_H0_2.png')\n",
    "plt.show()"
   ]
  },
  {
   "cell_type": "markdown",
   "metadata": {},
   "source": [
    "### t-test independent"
   ]
  },
  {
   "cell_type": "code",
   "execution_count": 20,
   "metadata": {},
   "outputs": [
    {
     "data": {
      "text/plain": [
       "Ttest_indResult(statistic=-0.2943973492407707, pvalue=0.7686298196205192)"
      ]
     },
     "execution_count": 20,
     "metadata": {},
     "output_type": "execute_result"
    }
   ],
   "source": [
    "stats.ttest_ind(a = ICME_V_BDE_Y,\n",
    "                b = ICME_V_BDE_SEP)"
   ]
  },
  {
   "cell_type": "markdown",
   "metadata": {},
   "source": [
    "based on p-value from ttest_ind above, the alternative hypothesis is rejected. The observed difference from data is not significant enought to reject the null hypothesis (H0), therefore I stick to H0 and conclude:\n",
    "\n",
    "\n",
    "<span style=\"color:green\">\n",
    "    \n",
    "## H0: The average solar wind speed when Bidirectional suprathermal Electron strahls happen is not different than when intense solar energetic particle event is happening. The observed difference in ICME speed is just due to noise. Although the data shows that when the intense solar energetic particle event is happening the solar wind speed is higher in average, compare to when Bidirectional suprathermal Electron strahls. However it is not statistically significant.\n",
    "\n",
    "</span>\n",
    "\n",
    "\n",
    "Checking out the number of data point with ```SEP``` below, it is seen that we do have just 4 rows of data which is not enougth to come up with a solid conclusion about the average ICME speed."
   ]
  },
  {
   "cell_type": "code",
   "execution_count": 21,
   "metadata": {},
   "outputs": [
    {
     "data": {
      "text/plain": [
       "4"
      ]
     },
     "execution_count": 21,
     "metadata": {},
     "output_type": "execute_result"
    }
   ],
   "source": [
    "len(ICME_V_BDE_SEP)"
   ]
  },
  {
   "cell_type": "markdown",
   "metadata": {},
   "source": [
    "# \"quality\" of the boundary times\n",
    "\n",
    "The \"quality\" of the boundary times (`1' indicating the most reliable) based on assessment of the various data sets, including plasma, magnetic field and solar wind composition/charge states. 'W' indicates that the overall ICME signatures are particularly weak.\n",
    "\n",
    "[Reference](http://www.srl.caltech.edu/ACE/ASC/DATA/level3/icmetable2.htm#(e))"
   ]
  },
  {
   "cell_type": "code",
   "execution_count": 22,
   "metadata": {},
   "outputs": [],
   "source": [
    "# col1 = 'Qual. (g)'\n",
    "# col2_numer = 'V_ICME (km/s) (i)'\n",
    "\n",
    "# print('num of uniq', col1 ,'  \\n', df[col1].unique())\n",
    "\n",
    "# df[col1].unique()\n",
    "\n",
    "# target_grp = df.groupby([col1])\n",
    "\n",
    "# target_grp[col2_numer].mean().plot.barh()\n",
    "# plt.xlabel(col2_numer)\n",
    "# plt.show()"
   ]
  },
  {
   "cell_type": "code",
   "execution_count": 23,
   "metadata": {},
   "outputs": [
    {
     "data": {
      "image/png": "[encoded data removed]",
      "text/plain": [
       "<Figure size 864x720 with 1 Axes>"
      ]
     },
     "metadata": {
      "image/png": {
       "height": 588,
       "width": 730
      },
      "needs_background": "light"
     },
     "output_type": "display_data"
    }
   ],
   "source": [
    "# https://www.reneshbedre.com/blog/anova.html\n",
    "plt.figure(figsize=(12,10))\n",
    "sns.boxplot(x=col1, y=col2_numer, data=df, color='#99c2a2')\n",
    "plt.show()"
   ]
  },
  {
   "cell_type": "code",
   "execution_count": 24,
   "metadata": {},
   "outputs": [],
   "source": [
    "ICME_V_BDE_1 = df[df['Qual. (g)'] == '1']['V_ICME (km/s) (i)']\n",
    "ICME_V_BDE_2 = df[df['Qual. (g)'] == '2']['V_ICME (km/s) (i)']\n",
    "ICME_V_BDE_3 = df[df['Qual. (g)'] == '3']['V_ICME (km/s) (i)']\n",
    "ICME_V_BDE_2W = df[df['Qual. (g)'] == '2W']['V_ICME (km/s) (i)']\n",
    "ICME_V_BDE_3W = df[df['Qual. (g)'] == '3W']['V_ICME (km/s) (i)']"
   ]
  },
  {
   "cell_type": "code",
   "execution_count": 25,
   "metadata": {},
   "outputs": [
    {
     "name": "stdout",
     "output_type": "stream",
     "text": [
      "1  464.5360824742268\n",
      "2  463.1764705882353\n",
      "3  441.85483870967744\n",
      "2W  401.25\n",
      "3W  411.7241379310345\n"
     ]
    }
   ],
   "source": [
    "print('1 ', ICME_V_BDE_1.mean())\n",
    "print('2 ', ICME_V_BDE_2.mean())\n",
    "print('3 ', ICME_V_BDE_3.mean())\n",
    "print('2W ', ICME_V_BDE_2W.mean())\n",
    "print('3W ', ICME_V_BDE_3W.mean())"
   ]
  },
  {
   "cell_type": "code",
   "execution_count": 26,
   "metadata": {},
   "outputs": [
    {
     "data": {
      "image/png": "[encoded data removed]",
      "text/plain": [
       "<Figure size 864x360 with 1 Axes>"
      ]
     },
     "metadata": {
      "image/png": {
       "height": 316,
       "width": 708
      },
      "needs_background": "light"
     },
     "output_type": "display_data"
    }
   ],
   "source": [
    "plt.figure(figsize=(12,5))\n",
    "plt.hist(ICME_V_BDE_1, bins=50, alpha=0.4, label='ICME_V_BDE_1 reliable rank 1', log=True)\n",
    "plt.hist(ICME_V_BDE_2, bins=50, alpha=0.4,label='ICME_V_BDE_2 reliable rank 2', log=True)\n",
    "plt.hist(ICME_V_BDE_3, bins=50, alpha=0.4, label='ICME_V_BDE_3 reliable rank 4', log=True)\n",
    "plt.hist(ICME_V_BDE_2W, bins=50, alpha=0.4,label='ICME_V_BDE_2W reliable rank 3', log=True)\n",
    "plt.hist(ICME_V_BDE_3W, bins=50, alpha=0.4, label='ICME_V_BDE_3W reliable rank 5', log=True)\n",
    "plt.xlabel(' ICME speed km/s')\n",
    "plt.legend()\n",
    "plt.savefig('../Figures/Statistical_Analysis_H0_2.png')\n",
    "plt.show()"
   ]
  },
  {
   "cell_type": "markdown",
   "metadata": {},
   "source": [
    "I see that the average ICME speed is different across different data qualities. is this difference is due to noise? or is it statistically significant?\n",
    "\n",
    "So I can have the following alternative hypothesis:\n",
    "\n",
    "\n",
    "<span style=\"color:gray\">\n",
    "    \n",
    "H0: The average solar wind speed is not different across data with different reliability.\n",
    "\n",
    "\n",
    "</span>\n",
    "\n",
    "\n",
    "<span style=\"color:red\">\n",
    "    \n",
    "## Ha: Average solar wind speed is different depending on the data quality (reliability). In another word, the quality of data affects the reported ICME speed.\n",
    "\n",
    "</span>\n",
    "\n",
    "\n",
    "\n",
    "One way is to carry out several pairs of t-test but that might increase the chance of getting False positive (rejecting the null hypothesis and accepting alternative hypothesis)"
   ]
  },
  {
   "cell_type": "code",
   "execution_count": 27,
   "metadata": {},
   "outputs": [
    {
     "data": {
      "text/plain": [
       "F_onewayResult(statistic=2.9485437566815804, pvalue=0.01987754290191895)"
      ]
     },
     "execution_count": 27,
     "metadata": {},
     "output_type": "execute_result"
    }
   ],
   "source": [
    "stats.f_oneway(ICME_V_BDE_1,ICME_V_BDE_2,ICME_V_BDE_3,ICME_V_BDE_2W, ICME_V_BDE_3W)"
   ]
  },
  {
   "cell_type": "markdown",
   "metadata": {},
   "source": [
    "based on ANOVA one way test, there is a significant difference between the means. In another word, the average ICME speed is changed across different data reliability.\n",
    "\n",
    "\n",
    "<span style=\"color:green\">\n",
    "    \n",
    "## Ha: The average ICME speed is changed across different data reliability.\n",
    "\n",
    "</span>\n",
    "\n",
    "\n",
    "\n",
    "I got significant results here and I am wondering which category or pair of categories (in this case, the data reliability) causes these significant results. I carry out the post-hoc test to find out."
   ]
  },
  {
   "cell_type": "code",
   "execution_count": 28,
   "metadata": {},
   "outputs": [
    {
     "name": "stdout",
     "output_type": "stream",
     "text": [
      "('ICME_V_BDE_1', 'ICME_V_BDE_3W')\n",
      "Ttest_indResult(statistic=2.5510780520652956, pvalue=0.011954863596576232)\n",
      "====================\n",
      "('ICME_V_BDE_2', 'ICME_V_BDE_3W')\n",
      "Ttest_indResult(statistic=2.447424954103449, pvalue=0.0149981995796097)\n",
      "====================\n",
      "('ICME_V_BDE_3W', 'ICME_V_BDE_1')\n",
      "Ttest_indResult(statistic=-2.5510780520652956, pvalue=0.011954863596576232)\n",
      "====================\n",
      "('ICME_V_BDE_3W', 'ICME_V_BDE_2')\n",
      "Ttest_indResult(statistic=-2.447424954103449, pvalue=0.0149981995796097)\n",
      "====================\n"
     ]
    }
   ],
   "source": [
    "my_list = [ICME_V_BDE_1,\n",
    "           ICME_V_BDE_2,\n",
    "           ICME_V_BDE_3,\n",
    "           ICME_V_BDE_2W, \n",
    "           ICME_V_BDE_3W]\n",
    "\n",
    "\n",
    "my_list_names = ['ICME_V_BDE_1',\n",
    "               'ICME_V_BDE_2',\n",
    "               'ICME_V_BDE_3',\n",
    "               'ICME_V_BDE_2W', \n",
    "               'ICME_V_BDE_3W']\n",
    "\n",
    "\n",
    "list_pair = []\n",
    "for name1 in my_list:\n",
    "    for name2 in my_list:\n",
    "        list_pair.append((name1, name2))\n",
    "\n",
    "list_pair_names = []      \n",
    "for name1 in my_list_names:\n",
    "    for name2 in my_list_names:\n",
    "        list_pair_names.append((name1, name2))       \n",
    "        \n",
    "\n",
    "        \n",
    "for i, (a, b) in enumerate(list_pair):\n",
    "    \n",
    "    p_val = stats.ttest_ind(a = a, b = b)[1]\n",
    "    if p_val < 0.05:\n",
    "        \n",
    "        print(list_pair_names[i])\n",
    "\n",
    "        print(stats.ttest_ind(a = a, b = b))      \n",
    "        print(20*'=')"
   ]
  },
  {
   "cell_type": "markdown",
   "metadata": {},
   "source": [
    "3W category is observed in all significant results. Therefore I can say that this is the reason I get significant results from the ANOVA test. \n",
    "\n",
    "Note that as I carry out more t-tests, there is more likely I get significant results. One way to overcome that is to adjust the alpha value (p-value). We can use a more conservative alpha value in this case,. simply by dividing the p-value by a number of comparisons (0.002!). This adjustment is well known as Bonferroni Correction.\n",
    "\n",
    "\n",
    "Note that using Bonferroni correction, we can end up rejecting lots of significant results (lots of False negatives)."
   ]
  },
  {
   "cell_type": "markdown",
   "metadata": {},
   "source": [
    "## dV (km/s) (h)\n",
    "\n",
    "Increase in solar wind speed at the upstream disturbance (shock/wave) estimated from 1 hour averaged solar wind data. 'S' indicates that a forward fast shock has been reported in the ACE List of Disturbances and Transients or Kasper Shock list (including ACE and WIND observations)"
   ]
  },
  {
   "cell_type": "code",
   "execution_count": 48,
   "metadata": {},
   "outputs": [],
   "source": [
    "# df['dV (km/s) (h)'].unique()"
   ]
  },
  {
   "cell_type": "markdown",
   "metadata": {},
   "source": [
    "Separate the strings from numeric in the DV column and save it in separate column"
   ]
  },
  {
   "cell_type": "code",
   "execution_count": 47,
   "metadata": {},
   "outputs": [],
   "source": [
    "# mask = df['dV (km/s) (h)'].str.contains('S')\n",
    "# df['dv_yes_no'] = mask   "
   ]
  },
  {
   "cell_type": "markdown",
   "metadata": {},
   "source": [
    "# Q: \n",
    "\n",
    "\n",
    "\n",
    "\n",
    "<span style=\"color:red\">\n",
    "    \n",
    "## Does the solar wind speed is higher/lower when the forward fast shock happens?\n",
    "\n",
    "</span>\n",
    "\n",
    "Let's take a look at the data and observed the mean of solar wind across different categories."
   ]
  },
  {
   "cell_type": "code",
   "execution_count": null,
   "metadata": {},
   "outputs": [],
   "source": [
    "col1 = 'dV (km/s) (h)'\n",
    "col2_numer = 'V_ICME (km/s) (i)'"
   ]
  },
  {
   "cell_type": "markdown",
   "metadata": {},
   "source": [
    "add a new columns with yes/no and then hue the boxplot based on it."
   ]
  },
  {
   "cell_type": "code",
   "execution_count": null,
   "metadata": {},
   "outputs": [],
   "source": [
    "# https://stackabuse.com/python-check-if-string-contains-substring/\n",
    "emp_list= []\n",
    "for i in df['dV (km/s) (h)']:\n",
    "    \n",
    "    fullstring = i\n",
    "    substring = \"S\"\n",
    "\n",
    "    if fullstring.find(substring) != -1:\n",
    "#         print(\"Found!\")\n",
    "        emp_list.append('Yes')\n",
    "    else:\n",
    "#         print(\"Not found!\")\n",
    "        emp_list.append('No')\n",
    "    \n",
    "df['forward fast shock happens'] = emp_list"
   ]
  },
  {
   "cell_type": "code",
   "execution_count": null,
   "metadata": {},
   "outputs": [],
   "source": [
    "# https://www.reneshbedre.com/blog/anova.html\n",
    "plt.figure(figsize=(17,10))\n",
    "\n",
    "ax = sns.boxplot(x=col1, y=col2_numer, data=df, palette=\"Spectral\", \n",
    "                 hue=df['forward fast shock happens'])\n",
    "ax.set_xticklabels(ax.get_xticklabels(),rotation = 45)\n",
    "\n",
    "ax = sns.swarmplot(x=col1, y=col2_numer, data=df, color='#7d0013')\n",
    "plt.xlabel('Increase in solar wind speed at the upstream disturbance (shock/wave) ')\n",
    "plt.show()"
   ]
  },
  {
   "cell_type": "code",
   "execution_count": null,
   "metadata": {},
   "outputs": [],
   "source": [
    "ICME_V_FFS_Yes = df['V_ICME (km/s) (i)'][df['forward fast shock happens'] == 'Yes']\n",
    "ICME_V_FFS_No = df['V_ICME (km/s) (i)'][df['forward fast shock happens'] == 'No']\n",
    "\n",
    "plt.figure(figsize=(12,5))\n",
    "plt.hist(ICME_V_FFS_Yes, bins=50, alpha=0.4, label='Solar winds with FFS', log=True)\n",
    "plt.hist(ICME_V_FFS_No, bins=50, alpha=0.4,label='Solar winds without FFS', log=True)\n",
    "\n",
    "plt.vlines(ICME_V_FFS_Yes.mean(), 0, 100, colors='blue', alpha=0.6)\n",
    "plt.vlines(ICME_V_FFS_No.mean(), 0, 100, colors='orange', alpha=0.6)\n",
    "\n",
    "plt.xlabel(' ICME speed km/s')\n",
    "plt.legend()\n",
    "plt.savefig('../Figures/Statistical_Analysis_3.png')\n",
    "plt.show()"
   ]
  },
  {
   "cell_type": "code",
   "execution_count": null,
   "metadata": {},
   "outputs": [],
   "source": [
    "col1 = 'forward fast shock happens'\n",
    "col2_numer = 'V_ICME (km/s) (i)'\n",
    "\n",
    "ax = sns.boxplot(y=col1, x=col2_numer, data=df, palette=\"vlag\")"
   ]
  },
  {
   "cell_type": "code",
   "execution_count": null,
   "metadata": {},
   "outputs": [],
   "source": [
    "ICME_V_FFS_Yes = df['V_ICME (km/s) (i)'][df['forward fast shock happens'] == 'Yes']\n",
    "ICME_V_BDE_No = df['V_ICME (km/s) (i)'][df['forward fast shock happens'] == 'No']\n",
    "\n",
    "print('yes ', ICME_V_FFS_Yes.mean())\n",
    "print('no ', ICME_V_BDE_No.mean())"
   ]
  },
  {
   "cell_type": "markdown",
   "metadata": {},
   "source": [
    "I can see that there is a difference between ICME speed during fast forward shocks occurs. Is this difference statistically significant? Can I conclude that those cases in which fast forward shock happens have a higher speed?\n",
    "Let's use a two-sample t-test (independent) to figure that out and come up with a solid conclusion.\n"
   ]
  },
  {
   "cell_type": "code",
   "execution_count": null,
   "metadata": {},
   "outputs": [],
   "source": [
    "stats.ttest_ind(a = ICME_V_FFS_Yes,\n",
    "                b = ICME_V_BDE_No)"
   ]
  },
  {
   "cell_type": "markdown",
   "metadata": {},
   "source": [
    "I got p-value pretty small and I reject the Null Hypothesis (H0) and accept the alternative hypothesis (Ha).\n",
    "\n",
    "\n",
    "<span style=\"color:green\">\n",
    "    \n",
    "## Ha: solar wind speed is higher in average when the forward fast shock happens.\n",
    "\n",
    "</span>\n",
    "    "
   ]
  },
  {
   "cell_type": "markdown",
   "metadata": {},
   "source": [
    "## Mean magnetic field strength\n",
    "\n",
    "\n",
    "(k) Mean magnetic field strength in the ICME, based on the interval from (b) to (c), to the nearest 1 nT.\n",
    "\n",
    "\n",
    "\n",
    "\n",
    "<span style=\"color:red\">\n",
    "    \n",
    "## Q: Is there is a significant correlation between solar wind speed and the mean magnetic field. Does solar wind speeds for cases with higher mean magnetic filed, have higher speeds?\n",
    "\n",
    "</span>"
   ]
  },
  {
   "cell_type": "code",
   "execution_count": null,
   "metadata": {},
   "outputs": [],
   "source": [
    "pg.corr(x=df['V_ICME (km/s) (i)'], \n",
    "        y=df['B (nT) (k)'])"
   ]
  },
  {
   "cell_type": "markdown",
   "metadata": {},
   "source": [
    "Based on the achieved p-value, solar wind speed and mean magnetic field strength are correlated.\n",
    "\n",
    "\n",
    "\n",
    "\n",
    "<span style=\"color:green\">\n",
    "    \n",
    "## Ha: There is a significant correlation between solar wind speed and the mean magnetic field. I observed that those cases with the higher mean magnetic fields have higher solar wind speeds.\n",
    "\n",
    "</span>"
   ]
  },
  {
   "cell_type": "code",
   "execution_count": null,
   "metadata": {},
   "outputs": [],
   "source": [
    "# !/Users/amin/anaconda3/bin/python -m pip install pingouin "
   ]
  },
  {
   "cell_type": "code",
   "execution_count": null,
   "metadata": {},
   "outputs": [],
   "source": []
  },
  {
   "cell_type": "code",
   "execution_count": null,
   "metadata": {},
   "outputs": [],
   "source": []
  },
  {
   "cell_type": "code",
   "execution_count": null,
   "metadata": {},
   "outputs": [],
   "source": []
  },
  {
   "cell_type": "markdown",
   "metadata": {},
   "source": [
    "some references:\n",
    "* [stat in python](https://www.youtube.com/watch?v=EWYzeZbchR0&t=719s)"
   ]
  },
  {
   "cell_type": "code",
   "execution_count": null,
   "metadata": {},
   "outputs": [],
   "source": []
  }
 ],
 "metadata": {
  "kernelspec": {
   "display_name": "Python 3",
   "language": "python",
   "name": "python3"
  },
  "language_info": {
   "codemirror_mode": {
    "name": "ipython",
    "version": 3
   },
   "file_extension": ".py",
   "mimetype": "text/x-python",
   "name": "python",
   "nbconvert_exporter": "python",
   "pygments_lexer": "ipython3",
   "version": "3.7.0"
  }
 },
 "nbformat": 4,
 "nbformat_minor": 5
}

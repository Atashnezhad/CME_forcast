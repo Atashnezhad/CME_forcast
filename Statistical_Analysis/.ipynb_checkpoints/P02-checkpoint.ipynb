{
 "cells": [
  {
   "cell_type": "markdown",
   "metadata": {},
   "source": [
    "# P02"
   ]
  },
  {
   "cell_type": "code",
   "execution_count": 1,
   "metadata": {},
   "outputs": [],
   "source": [
    "section_fig_main_title = 'P02_'"
   ]
  },
  {
   "cell_type": "code",
   "execution_count": 2,
   "metadata": {},
   "outputs": [
    {
     "name": "stdout",
     "output_type": "stream",
     "text": [
      "/Users/amin/miniconda3/bin/python\r\n"
     ]
    }
   ],
   "source": [
    "!which python"
   ]
  },
  {
   "cell_type": "code",
   "execution_count": 3,
   "metadata": {},
   "outputs": [
    {
     "name": "stdout",
     "output_type": "stream",
     "text": [
      "/Users/amin/anaconda3/bin/python\n"
     ]
    }
   ],
   "source": [
    "import sys\n",
    "print(sys.executable)\n"
   ]
  },
  {
   "cell_type": "code",
   "execution_count": 4,
   "metadata": {},
   "outputs": [
    {
     "name": "stderr",
     "output_type": "stream",
     "text": [
      "/Users/amin/anaconda3/lib/python3.7/site-packages/tensorflow/python/framework/dtypes.py:526: FutureWarning: Passing (type, 1) or '1type' as a synonym of type is deprecated; in a future version of numpy, it will be understood as (type, (1,)) / '(1,)type'.\n",
      "  _np_qint8 = np.dtype([(\"qint8\", np.int8, 1)])\n",
      "/Users/amin/anaconda3/lib/python3.7/site-packages/tensorflow/python/framework/dtypes.py:527: FutureWarning: Passing (type, 1) or '1type' as a synonym of type is deprecated; in a future version of numpy, it will be understood as (type, (1,)) / '(1,)type'.\n",
      "  _np_quint8 = np.dtype([(\"quint8\", np.uint8, 1)])\n",
      "/Users/amin/anaconda3/lib/python3.7/site-packages/tensorflow/python/framework/dtypes.py:528: FutureWarning: Passing (type, 1) or '1type' as a synonym of type is deprecated; in a future version of numpy, it will be understood as (type, (1,)) / '(1,)type'.\n",
      "  _np_qint16 = np.dtype([(\"qint16\", np.int16, 1)])\n",
      "/Users/amin/anaconda3/lib/python3.7/site-packages/tensorflow/python/framework/dtypes.py:529: FutureWarning: Passing (type, 1) or '1type' as a synonym of type is deprecated; in a future version of numpy, it will be understood as (type, (1,)) / '(1,)type'.\n",
      "  _np_quint16 = np.dtype([(\"quint16\", np.uint16, 1)])\n",
      "/Users/amin/anaconda3/lib/python3.7/site-packages/tensorflow/python/framework/dtypes.py:530: FutureWarning: Passing (type, 1) or '1type' as a synonym of type is deprecated; in a future version of numpy, it will be understood as (type, (1,)) / '(1,)type'.\n",
      "  _np_qint32 = np.dtype([(\"qint32\", np.int32, 1)])\n",
      "/Users/amin/anaconda3/lib/python3.7/site-packages/tensorflow/python/framework/dtypes.py:535: FutureWarning: Passing (type, 1) or '1type' as a synonym of type is deprecated; in a future version of numpy, it will be understood as (type, (1,)) / '(1,)type'.\n",
      "  np_resource = np.dtype([(\"resource\", np.ubyte, 1)])\n",
      "Using TensorFlow backend.\n"
     ]
    }
   ],
   "source": [
    "import os, sys\n",
    "import requests\n",
    "from urllib.parse import urljoin, urlparse\n",
    "# from bs4 import BeautifulSoup as bs\n",
    "import re\n",
    "import numpy as np\n",
    "import pandas as pd\n",
    "import matplotlib.pyplot as plt\n",
    "import seaborn as sns\n",
    "%config InlineBackend.figure_format = 'retina'\n",
    "from pandas.plotting import lag_plot\n",
    "\n",
    "from tensorflow import keras\n",
    "\n",
    "from sklearn.metrics import r2_score\n",
    "from math import sqrt\n",
    "import json\n",
    "\n",
    "from sklearn.metrics import mean_absolute_error\n",
    "from sklearn.metrics import mean_absolute_error\n",
    "from xgboost import XGBRegressor\n",
    "# !/Users/amin/Desktop/proj/env/bin/python -m pip install xgboost\n",
    "\n",
    "from sklearn.metrics import r2_score,mean_absolute_error\n",
    "\n",
    "# !/Users/amin/anaconda3/bin/python -m pip install --upgrade tensorflow \n",
    "# pip install --upgrade tensorflow \n",
    "\n",
    "import warnings\n",
    "warnings.filterwarnings('ignore')\n",
    "warnings.simplefilter(action='ignore', category=FutureWarning)\n",
    "\n",
    "from sklearn.preprocessing import MinMaxScaler\n",
    "from keras.models import Sequential\n",
    "from keras.layers import Dense, LSTM, Dropout, GRU, Bidirectional\n",
    "# from keras.optimizers import SGD\n",
    "from tensorflow.keras.optimizers import SGD\n",
    "\n",
    "import math\n",
    "from sklearn.metrics import mean_squared_error\n",
    "\n",
    "\n",
    "from sklearn.linear_model import LinearRegression\n",
    "from sklearn.preprocessing import StandardScaler, PolynomialFeatures\n",
    "\n",
    "from pandas.plotting import autocorrelation_plot\n",
    "import gif"
   ]
  },
  {
   "cell_type": "code",
   "execution_count": 5,
   "metadata": {},
   "outputs": [
    {
     "name": "stdout",
     "output_type": "stream",
     "text": [
      "1.13.1\n"
     ]
    }
   ],
   "source": [
    "from statsmodels.tsa.ar_model import AutoReg\n",
    "from sklearn.metrics import mean_squared_error\n",
    "\n",
    "import tensorflow as tf\n",
    "print(tf.__version__)\n",
    "\n",
    "import gif\n",
    "from tqdm import tqdm\n",
    "\n",
    "from sklearn import metrics\n",
    "# import statsmoadels.api as sm"
   ]
  },
  {
   "cell_type": "markdown",
   "metadata": {},
   "source": [
    "## Read Data \n",
    "\n",
    "Using data from part 02_03 EDA."
   ]
  },
  {
   "cell_type": "code",
   "execution_count": 7,
   "metadata": {},
   "outputs": [],
   "source": [
    "csv_path = \"../Data/Data_ICME_Edited_out_P02_02.csv\"\n",
    "df = pd.read_csv(csv_path, infer_datetime_format=True)"
   ]
  },
  {
   "cell_type": "code",
   "execution_count": 8,
   "metadata": {},
   "outputs": [],
   "source": [
    "df['ICME Plasma/Field Start Y/M/D (UT) (b)'] = pd.to_datetime(df['ICME Plasma/Field Start Y/M/D (UT) (b)'])\n",
    "df['ICME Plasma/Field End Y/M/D (UT) (b)'] = pd.to_datetime(df['ICME Plasma/Field End Y/M/D (UT) (b)'])\n",
    "\n",
    "\n",
    "df.index = df['ICME Plasma/Field Start Y/M/D (UT) (b)']\n",
    "df = df.drop(columns=['ICME Plasma/Field Start Y/M/D (UT) (b)'])\n",
    "df = df.drop(columns=['ICME Plasma/Field End Y/M/D (UT) (b)'])"
   ]
  },
  {
   "cell_type": "code",
   "execution_count": 9,
   "metadata": {},
   "outputs": [
    {
     "data": {
      "text/html": [
       "<div>\n",
       "<style scoped>\n",
       "    .dataframe tbody tr th:only-of-type {\n",
       "        vertical-align: middle;\n",
       "    }\n",
       "\n",
       "    .dataframe tbody tr th {\n",
       "        vertical-align: top;\n",
       "    }\n",
       "\n",
       "    .dataframe thead th {\n",
       "        text-align: right;\n",
       "    }\n",
       "</style>\n",
       "<table border=\"1\" class=\"dataframe\">\n",
       "  <thead>\n",
       "    <tr style=\"text-align: right;\">\n",
       "      <th></th>\n",
       "      <th>Disturbance Y/M/D (UT) (a)</th>\n",
       "      <th>Comp. Start (Hrs wrt. Plasma/ Field) (c)</th>\n",
       "      <th>Comp. End (Hrs wrt. Plasma/ Field) (c)</th>\n",
       "      <th>MC Start (Hrs wrt. Plasma/ Field) (d)</th>\n",
       "      <th>End (Hrs wrt. Plasma/ Field) (d)</th>\n",
       "      <th>BDE? (e)</th>\n",
       "      <th>BIF? (f)</th>\n",
       "      <th>Qual. (g)</th>\n",
       "      <th>dV (km/s) (h)</th>\n",
       "      <th>V_ICME (km/s) (i)</th>\n",
       "      <th>V_max (km/s) (j)</th>\n",
       "      <th>B (nT) (k)</th>\n",
       "      <th>MC? (l)</th>\n",
       "      <th>Dst (nT) (m)</th>\n",
       "      <th>V_transit (km/s) (n)</th>\n",
       "      <th>LASCO CME Y/M/D (UT) (o)</th>\n",
       "    </tr>\n",
       "    <tr>\n",
       "      <th>ICME Plasma/Field Start Y/M/D (UT) (b)</th>\n",
       "      <th></th>\n",
       "      <th></th>\n",
       "      <th></th>\n",
       "      <th></th>\n",
       "      <th></th>\n",
       "      <th></th>\n",
       "      <th></th>\n",
       "      <th></th>\n",
       "      <th></th>\n",
       "      <th></th>\n",
       "      <th></th>\n",
       "      <th></th>\n",
       "      <th></th>\n",
       "      <th></th>\n",
       "      <th></th>\n",
       "      <th></th>\n",
       "    </tr>\n",
       "  </thead>\n",
       "  <tbody>\n",
       "    <tr>\n",
       "      <th>1996-05-27 15:00:00</th>\n",
       "      <td>1996/05/27 1500</td>\n",
       "      <td>...</td>\n",
       "      <td>...</td>\n",
       "      <td>0</td>\n",
       "      <td>+4</td>\n",
       "      <td>N</td>\n",
       "      <td>...</td>\n",
       "      <td>2</td>\n",
       "      <td>0</td>\n",
       "      <td>370</td>\n",
       "      <td>400</td>\n",
       "      <td>9</td>\n",
       "      <td>2</td>\n",
       "      <td>-33</td>\n",
       "      <td>...</td>\n",
       "      <td>NaN</td>\n",
       "    </tr>\n",
       "    <tr>\n",
       "      <th>1996-07-01 18:00:00</th>\n",
       "      <td>1996/07/01 1320</td>\n",
       "      <td>...</td>\n",
       "      <td>...</td>\n",
       "      <td>0</td>\n",
       "      <td>0</td>\n",
       "      <td>N</td>\n",
       "      <td>...</td>\n",
       "      <td>3</td>\n",
       "      <td>40</td>\n",
       "      <td>360</td>\n",
       "      <td>370</td>\n",
       "      <td>11</td>\n",
       "      <td>2</td>\n",
       "      <td>-20</td>\n",
       "      <td>...</td>\n",
       "      <td>NaN</td>\n",
       "    </tr>\n",
       "    <tr>\n",
       "      <th>1996-08-07 12:00:00</th>\n",
       "      <td>1996/08/07 0600</td>\n",
       "      <td>...</td>\n",
       "      <td>...</td>\n",
       "      <td>0</td>\n",
       "      <td>0</td>\n",
       "      <td>N</td>\n",
       "      <td>...</td>\n",
       "      <td>2</td>\n",
       "      <td>10</td>\n",
       "      <td>350</td>\n",
       "      <td>380</td>\n",
       "      <td>7</td>\n",
       "      <td>2</td>\n",
       "      <td>-23</td>\n",
       "      <td>...</td>\n",
       "      <td>NaN</td>\n",
       "    </tr>\n",
       "    <tr>\n",
       "      <th>1996-12-23 17:00:00</th>\n",
       "      <td>1996/12/23 1600</td>\n",
       "      <td>...</td>\n",
       "      <td>...</td>\n",
       "      <td>+10</td>\n",
       "      <td>0</td>\n",
       "      <td>N</td>\n",
       "      <td>...</td>\n",
       "      <td>2</td>\n",
       "      <td>20</td>\n",
       "      <td>360</td>\n",
       "      <td>420</td>\n",
       "      <td>10</td>\n",
       "      <td>2</td>\n",
       "      <td>-18</td>\n",
       "      <td>435</td>\n",
       "      <td>1996/12/19 1630 H</td>\n",
       "    </tr>\n",
       "    <tr>\n",
       "      <th>1997-01-10 04:00:00</th>\n",
       "      <td>1997/01/10 0104</td>\n",
       "      <td>...</td>\n",
       "      <td>...</td>\n",
       "      <td>0</td>\n",
       "      <td>0</td>\n",
       "      <td>Y</td>\n",
       "      <td>...</td>\n",
       "      <td>1</td>\n",
       "      <td>100 S</td>\n",
       "      <td>450</td>\n",
       "      <td>460</td>\n",
       "      <td>14</td>\n",
       "      <td>2</td>\n",
       "      <td>-78</td>\n",
       "      <td>507</td>\n",
       "      <td>1997/01/06 1510 H</td>\n",
       "    </tr>\n",
       "  </tbody>\n",
       "</table>\n",
       "</div>"
      ],
      "text/plain": [
       "                                       Disturbance Y/M/D (UT) (a)  \\\n",
       "ICME Plasma/Field Start Y/M/D (UT) (b)                              \n",
       "1996-05-27 15:00:00                               1996/05/27 1500   \n",
       "1996-07-01 18:00:00                               1996/07/01 1320   \n",
       "1996-08-07 12:00:00                               1996/08/07 0600   \n",
       "1996-12-23 17:00:00                               1996/12/23 1600   \n",
       "1997-01-10 04:00:00                               1997/01/10 0104   \n",
       "\n",
       "                                       Comp. Start (Hrs wrt. Plasma/ Field) (c)  \\\n",
       "ICME Plasma/Field Start Y/M/D (UT) (b)                                            \n",
       "1996-05-27 15:00:00                                                         ...   \n",
       "1996-07-01 18:00:00                                                         ...   \n",
       "1996-08-07 12:00:00                                                         ...   \n",
       "1996-12-23 17:00:00                                                         ...   \n",
       "1997-01-10 04:00:00                                                         ...   \n",
       "\n",
       "                                       Comp. End (Hrs wrt. Plasma/ Field) (c)  \\\n",
       "ICME Plasma/Field Start Y/M/D (UT) (b)                                          \n",
       "1996-05-27 15:00:00                                                       ...   \n",
       "1996-07-01 18:00:00                                                       ...   \n",
       "1996-08-07 12:00:00                                                       ...   \n",
       "1996-12-23 17:00:00                                                       ...   \n",
       "1997-01-10 04:00:00                                                       ...   \n",
       "\n",
       "                                       MC Start (Hrs wrt. Plasma/ Field) (d)  \\\n",
       "ICME Plasma/Field Start Y/M/D (UT) (b)                                         \n",
       "1996-05-27 15:00:00                                                        0   \n",
       "1996-07-01 18:00:00                                                        0   \n",
       "1996-08-07 12:00:00                                                        0   \n",
       "1996-12-23 17:00:00                                                      +10   \n",
       "1997-01-10 04:00:00                                                        0   \n",
       "\n",
       "                                       End (Hrs wrt. Plasma/ Field) (d)  \\\n",
       "ICME Plasma/Field Start Y/M/D (UT) (b)                                    \n",
       "1996-05-27 15:00:00                                                  +4   \n",
       "1996-07-01 18:00:00                                                   0   \n",
       "1996-08-07 12:00:00                                                   0   \n",
       "1996-12-23 17:00:00                                                   0   \n",
       "1997-01-10 04:00:00                                                   0   \n",
       "\n",
       "                                       BDE? (e) BIF? (f) Qual. (g)  \\\n",
       "ICME Plasma/Field Start Y/M/D (UT) (b)                               \n",
       "1996-05-27 15:00:00                           N      ...         2   \n",
       "1996-07-01 18:00:00                           N      ...         3   \n",
       "1996-08-07 12:00:00                           N      ...         2   \n",
       "1996-12-23 17:00:00                           N      ...         2   \n",
       "1997-01-10 04:00:00                           Y      ...         1   \n",
       "\n",
       "                                       dV (km/s) (h)  V_ICME (km/s) (i)  \\\n",
       "ICME Plasma/Field Start Y/M/D (UT) (b)                                    \n",
       "1996-05-27 15:00:00                                0                370   \n",
       "1996-07-01 18:00:00                               40                360   \n",
       "1996-08-07 12:00:00                               10                350   \n",
       "1996-12-23 17:00:00                               20                360   \n",
       "1997-01-10 04:00:00                            100 S                450   \n",
       "\n",
       "                                        V_max (km/s) (j)  B (nT) (k) MC? (l)  \\\n",
       "ICME Plasma/Field Start Y/M/D (UT) (b)                                         \n",
       "1996-05-27 15:00:00                                  400           9       2   \n",
       "1996-07-01 18:00:00                                  370          11       2   \n",
       "1996-08-07 12:00:00                                  380           7       2   \n",
       "1996-12-23 17:00:00                                  420          10       2   \n",
       "1997-01-10 04:00:00                                  460          14       2   \n",
       "\n",
       "                                       Dst (nT) (m) V_transit (km/s) (n)  \\\n",
       "ICME Plasma/Field Start Y/M/D (UT) (b)                                     \n",
       "1996-05-27 15:00:00                             -33                  ...   \n",
       "1996-07-01 18:00:00                             -20                  ...   \n",
       "1996-08-07 12:00:00                             -23                  ...   \n",
       "1996-12-23 17:00:00                             -18                  435   \n",
       "1997-01-10 04:00:00                             -78                  507   \n",
       "\n",
       "                                       LASCO CME Y/M/D (UT) (o)  \n",
       "ICME Plasma/Field Start Y/M/D (UT) (b)                           \n",
       "1996-05-27 15:00:00                                         NaN  \n",
       "1996-07-01 18:00:00                                         NaN  \n",
       "1996-08-07 12:00:00                                         NaN  \n",
       "1996-12-23 17:00:00                           1996/12/19 1630 H  \n",
       "1997-01-10 04:00:00                           1997/01/06 1510 H  "
      ]
     },
     "execution_count": 9,
     "metadata": {},
     "output_type": "execute_result"
    }
   ],
   "source": [
    "df.head()"
   ]
  },
  {
   "cell_type": "code",
   "execution_count": 13,
   "metadata": {},
   "outputs": [
    {
     "data": {
      "text/plain": [
       "Index(['Disturbance Y/M/D (UT) (a)',\n",
       "       'Comp. Start (Hrs wrt. Plasma/ Field) (c)',\n",
       "       'Comp. End (Hrs wrt. Plasma/ Field) (c)',\n",
       "       'MC Start (Hrs wrt. Plasma/ Field) (d)',\n",
       "       'End (Hrs wrt. Plasma/ Field) (d)', 'BDE? (e)', 'BIF? (f)', 'Qual. (g)',\n",
       "       'dV (km/s) (h)', 'V_ICME (km/s) (i)', 'V_max (km/s) (j)', 'B (nT) (k)',\n",
       "       'MC? (l)', 'Dst (nT) (m)', 'V_transit (km/s) (n)',\n",
       "       'LASCO CME Y/M/D (UT) (o)'],\n",
       "      dtype='object')"
      ]
     },
     "execution_count": 13,
     "metadata": {},
     "output_type": "execute_result"
    }
   ],
   "source": [
    "df.columns"
   ]
  },
  {
   "cell_type": "code",
   "execution_count": 14,
   "metadata": {},
   "outputs": [],
   "source": [
    "df = df.drop(columns=['Disturbance Y/M/D (UT) (a)',\n",
    "       'Comp. Start (Hrs wrt. Plasma/ Field) (c)',\n",
    "       'Comp. End (Hrs wrt. Plasma/ Field) (c)',\n",
    "        'BIF? (f)','V_max (km/s) (j)','LASCO CME Y/M/D (UT) (o)'])"
   ]
  },
  {
   "cell_type": "code",
   "execution_count": 15,
   "metadata": {},
   "outputs": [
    {
     "data": {
      "text/html": [
       "<div>\n",
       "<style scoped>\n",
       "    .dataframe tbody tr th:only-of-type {\n",
       "        vertical-align: middle;\n",
       "    }\n",
       "\n",
       "    .dataframe tbody tr th {\n",
       "        vertical-align: top;\n",
       "    }\n",
       "\n",
       "    .dataframe thead th {\n",
       "        text-align: right;\n",
       "    }\n",
       "</style>\n",
       "<table border=\"1\" class=\"dataframe\">\n",
       "  <thead>\n",
       "    <tr style=\"text-align: right;\">\n",
       "      <th></th>\n",
       "      <th>MC Start (Hrs wrt. Plasma/ Field) (d)</th>\n",
       "      <th>End (Hrs wrt. Plasma/ Field) (d)</th>\n",
       "      <th>BDE? (e)</th>\n",
       "      <th>Qual. (g)</th>\n",
       "      <th>dV (km/s) (h)</th>\n",
       "      <th>V_ICME (km/s) (i)</th>\n",
       "      <th>B (nT) (k)</th>\n",
       "      <th>MC? (l)</th>\n",
       "      <th>Dst (nT) (m)</th>\n",
       "      <th>V_transit (km/s) (n)</th>\n",
       "    </tr>\n",
       "    <tr>\n",
       "      <th>ICME Plasma/Field Start Y/M/D (UT) (b)</th>\n",
       "      <th></th>\n",
       "      <th></th>\n",
       "      <th></th>\n",
       "      <th></th>\n",
       "      <th></th>\n",
       "      <th></th>\n",
       "      <th></th>\n",
       "      <th></th>\n",
       "      <th></th>\n",
       "      <th></th>\n",
       "    </tr>\n",
       "  </thead>\n",
       "  <tbody>\n",
       "    <tr>\n",
       "      <th>1996-05-27 15:00:00</th>\n",
       "      <td>0</td>\n",
       "      <td>+4</td>\n",
       "      <td>N</td>\n",
       "      <td>2</td>\n",
       "      <td>0</td>\n",
       "      <td>370</td>\n",
       "      <td>9</td>\n",
       "      <td>2</td>\n",
       "      <td>-33</td>\n",
       "      <td>...</td>\n",
       "    </tr>\n",
       "    <tr>\n",
       "      <th>1996-07-01 18:00:00</th>\n",
       "      <td>0</td>\n",
       "      <td>0</td>\n",
       "      <td>N</td>\n",
       "      <td>3</td>\n",
       "      <td>40</td>\n",
       "      <td>360</td>\n",
       "      <td>11</td>\n",
       "      <td>2</td>\n",
       "      <td>-20</td>\n",
       "      <td>...</td>\n",
       "    </tr>\n",
       "    <tr>\n",
       "      <th>1996-08-07 12:00:00</th>\n",
       "      <td>0</td>\n",
       "      <td>0</td>\n",
       "      <td>N</td>\n",
       "      <td>2</td>\n",
       "      <td>10</td>\n",
       "      <td>350</td>\n",
       "      <td>7</td>\n",
       "      <td>2</td>\n",
       "      <td>-23</td>\n",
       "      <td>...</td>\n",
       "    </tr>\n",
       "    <tr>\n",
       "      <th>1996-12-23 17:00:00</th>\n",
       "      <td>+10</td>\n",
       "      <td>0</td>\n",
       "      <td>N</td>\n",
       "      <td>2</td>\n",
       "      <td>20</td>\n",
       "      <td>360</td>\n",
       "      <td>10</td>\n",
       "      <td>2</td>\n",
       "      <td>-18</td>\n",
       "      <td>435</td>\n",
       "    </tr>\n",
       "    <tr>\n",
       "      <th>1997-01-10 04:00:00</th>\n",
       "      <td>0</td>\n",
       "      <td>0</td>\n",
       "      <td>Y</td>\n",
       "      <td>1</td>\n",
       "      <td>100 S</td>\n",
       "      <td>450</td>\n",
       "      <td>14</td>\n",
       "      <td>2</td>\n",
       "      <td>-78</td>\n",
       "      <td>507</td>\n",
       "    </tr>\n",
       "  </tbody>\n",
       "</table>\n",
       "</div>"
      ],
      "text/plain": [
       "                                       MC Start (Hrs wrt. Plasma/ Field) (d)  \\\n",
       "ICME Plasma/Field Start Y/M/D (UT) (b)                                         \n",
       "1996-05-27 15:00:00                                                        0   \n",
       "1996-07-01 18:00:00                                                        0   \n",
       "1996-08-07 12:00:00                                                        0   \n",
       "1996-12-23 17:00:00                                                      +10   \n",
       "1997-01-10 04:00:00                                                        0   \n",
       "\n",
       "                                       End (Hrs wrt. Plasma/ Field) (d)  \\\n",
       "ICME Plasma/Field Start Y/M/D (UT) (b)                                    \n",
       "1996-05-27 15:00:00                                                  +4   \n",
       "1996-07-01 18:00:00                                                   0   \n",
       "1996-08-07 12:00:00                                                   0   \n",
       "1996-12-23 17:00:00                                                   0   \n",
       "1997-01-10 04:00:00                                                   0   \n",
       "\n",
       "                                       BDE? (e) Qual. (g) dV (km/s) (h)  \\\n",
       "ICME Plasma/Field Start Y/M/D (UT) (b)                                    \n",
       "1996-05-27 15:00:00                           N         2             0   \n",
       "1996-07-01 18:00:00                           N         3            40   \n",
       "1996-08-07 12:00:00                           N         2            10   \n",
       "1996-12-23 17:00:00                           N         2            20   \n",
       "1997-01-10 04:00:00                           Y         1         100 S   \n",
       "\n",
       "                                        V_ICME (km/s) (i)  B (nT) (k) MC? (l)  \\\n",
       "ICME Plasma/Field Start Y/M/D (UT) (b)                                          \n",
       "1996-05-27 15:00:00                                   370           9       2   \n",
       "1996-07-01 18:00:00                                   360          11       2   \n",
       "1996-08-07 12:00:00                                   350           7       2   \n",
       "1996-12-23 17:00:00                                   360          10       2   \n",
       "1997-01-10 04:00:00                                   450          14       2   \n",
       "\n",
       "                                       Dst (nT) (m) V_transit (km/s) (n)  \n",
       "ICME Plasma/Field Start Y/M/D (UT) (b)                                    \n",
       "1996-05-27 15:00:00                             -33                  ...  \n",
       "1996-07-01 18:00:00                             -20                  ...  \n",
       "1996-08-07 12:00:00                             -23                  ...  \n",
       "1996-12-23 17:00:00                             -18                  435  \n",
       "1997-01-10 04:00:00                             -78                  507  "
      ]
     },
     "execution_count": 15,
     "metadata": {},
     "output_type": "execute_result"
    }
   ],
   "source": [
    "df.head()"
   ]
  },
  {
   "cell_type": "code",
   "execution_count": 21,
   "metadata": {},
   "outputs": [],
   "source": [
    "df = df.replace('...', np.nan)   "
   ]
  },
  {
   "cell_type": "code",
   "execution_count": 22,
   "metadata": {},
   "outputs": [
    {
     "data": {
      "text/plain": [
       "MC Start (Hrs wrt. Plasma/ Field) (d)    410\n",
       "End (Hrs wrt. Plasma/ Field) (d)         410\n",
       "BDE? (e)                                  12\n",
       "Qual. (g)                                  0\n",
       "dV (km/s) (h)                              1\n",
       "V_ICME (km/s) (i)                          0\n",
       "B (nT) (k)                                 0\n",
       "MC? (l)                                    0\n",
       "Dst (nT) (m)                               7\n",
       "V_transit (km/s) (n)                     248\n",
       "dtype: int64"
      ]
     },
     "execution_count": 22,
     "metadata": {},
     "output_type": "execute_result"
    }
   ],
   "source": [
    "df.isnull().sum()"
   ]
  },
  {
   "cell_type": "code",
   "execution_count": 23,
   "metadata": {},
   "outputs": [],
   "source": [
    "df = df.drop(columns=['MC Start (Hrs wrt. Plasma/ Field) (d)',\n",
    "       'End (Hrs wrt. Plasma/ Field) (d)', 'V_transit (km/s) (n)'])"
   ]
  },
  {
   "cell_type": "code",
   "execution_count": 24,
   "metadata": {},
   "outputs": [
    {
     "data": {
      "text/html": [
       "<div>\n",
       "<style scoped>\n",
       "    .dataframe tbody tr th:only-of-type {\n",
       "        vertical-align: middle;\n",
       "    }\n",
       "\n",
       "    .dataframe tbody tr th {\n",
       "        vertical-align: top;\n",
       "    }\n",
       "\n",
       "    .dataframe thead th {\n",
       "        text-align: right;\n",
       "    }\n",
       "</style>\n",
       "<table border=\"1\" class=\"dataframe\">\n",
       "  <thead>\n",
       "    <tr style=\"text-align: right;\">\n",
       "      <th></th>\n",
       "      <th>BDE? (e)</th>\n",
       "      <th>Qual. (g)</th>\n",
       "      <th>dV (km/s) (h)</th>\n",
       "      <th>V_ICME (km/s) (i)</th>\n",
       "      <th>B (nT) (k)</th>\n",
       "      <th>MC? (l)</th>\n",
       "      <th>Dst (nT) (m)</th>\n",
       "    </tr>\n",
       "    <tr>\n",
       "      <th>ICME Plasma/Field Start Y/M/D (UT) (b)</th>\n",
       "      <th></th>\n",
       "      <th></th>\n",
       "      <th></th>\n",
       "      <th></th>\n",
       "      <th></th>\n",
       "      <th></th>\n",
       "      <th></th>\n",
       "    </tr>\n",
       "  </thead>\n",
       "  <tbody>\n",
       "    <tr>\n",
       "      <th>1996-05-27 15:00:00</th>\n",
       "      <td>N</td>\n",
       "      <td>2</td>\n",
       "      <td>0</td>\n",
       "      <td>370</td>\n",
       "      <td>9</td>\n",
       "      <td>2</td>\n",
       "      <td>-33</td>\n",
       "    </tr>\n",
       "    <tr>\n",
       "      <th>1996-07-01 18:00:00</th>\n",
       "      <td>N</td>\n",
       "      <td>3</td>\n",
       "      <td>40</td>\n",
       "      <td>360</td>\n",
       "      <td>11</td>\n",
       "      <td>2</td>\n",
       "      <td>-20</td>\n",
       "    </tr>\n",
       "    <tr>\n",
       "      <th>1996-08-07 12:00:00</th>\n",
       "      <td>N</td>\n",
       "      <td>2</td>\n",
       "      <td>10</td>\n",
       "      <td>350</td>\n",
       "      <td>7</td>\n",
       "      <td>2</td>\n",
       "      <td>-23</td>\n",
       "    </tr>\n",
       "    <tr>\n",
       "      <th>1996-12-23 17:00:00</th>\n",
       "      <td>N</td>\n",
       "      <td>2</td>\n",
       "      <td>20</td>\n",
       "      <td>360</td>\n",
       "      <td>10</td>\n",
       "      <td>2</td>\n",
       "      <td>-18</td>\n",
       "    </tr>\n",
       "    <tr>\n",
       "      <th>1997-01-10 04:00:00</th>\n",
       "      <td>Y</td>\n",
       "      <td>1</td>\n",
       "      <td>100 S</td>\n",
       "      <td>450</td>\n",
       "      <td>14</td>\n",
       "      <td>2</td>\n",
       "      <td>-78</td>\n",
       "    </tr>\n",
       "  </tbody>\n",
       "</table>\n",
       "</div>"
      ],
      "text/plain": [
       "                                       BDE? (e) Qual. (g) dV (km/s) (h)  \\\n",
       "ICME Plasma/Field Start Y/M/D (UT) (b)                                    \n",
       "1996-05-27 15:00:00                           N         2             0   \n",
       "1996-07-01 18:00:00                           N         3            40   \n",
       "1996-08-07 12:00:00                           N         2            10   \n",
       "1996-12-23 17:00:00                           N         2            20   \n",
       "1997-01-10 04:00:00                           Y         1         100 S   \n",
       "\n",
       "                                        V_ICME (km/s) (i)  B (nT) (k) MC? (l)  \\\n",
       "ICME Plasma/Field Start Y/M/D (UT) (b)                                          \n",
       "1996-05-27 15:00:00                                   370           9       2   \n",
       "1996-07-01 18:00:00                                   360          11       2   \n",
       "1996-08-07 12:00:00                                   350           7       2   \n",
       "1996-12-23 17:00:00                                   360          10       2   \n",
       "1997-01-10 04:00:00                                   450          14       2   \n",
       "\n",
       "                                       Dst (nT) (m)  \n",
       "ICME Plasma/Field Start Y/M/D (UT) (b)               \n",
       "1996-05-27 15:00:00                             -33  \n",
       "1996-07-01 18:00:00                             -20  \n",
       "1996-08-07 12:00:00                             -23  \n",
       "1996-12-23 17:00:00                             -18  \n",
       "1997-01-10 04:00:00                             -78  "
      ]
     },
     "execution_count": 24,
     "metadata": {},
     "output_type": "execute_result"
    }
   ],
   "source": [
    "df.head()"
   ]
  },
  {
   "cell_type": "code",
   "execution_count": 25,
   "metadata": {},
   "outputs": [
    {
     "data": {
      "text/plain": [
       "BDE? (e)             12\n",
       "Qual. (g)             0\n",
       "dV (km/s) (h)         1\n",
       "V_ICME (km/s) (i)     0\n",
       "B (nT) (k)            0\n",
       "MC? (l)               0\n",
       "Dst (nT) (m)          7\n",
       "dtype: int64"
      ]
     },
     "execution_count": 25,
     "metadata": {},
     "output_type": "execute_result"
    }
   ],
   "source": [
    "df.isnull().sum()"
   ]
  },
  {
   "cell_type": "code",
   "execution_count": 26,
   "metadata": {},
   "outputs": [],
   "source": [
    "df = df.dropna()"
   ]
  },
  {
   "cell_type": "code",
   "execution_count": 27,
   "metadata": {},
   "outputs": [
    {
     "data": {
      "text/plain": [
       "BDE? (e)             0\n",
       "Qual. (g)            0\n",
       "dV (km/s) (h)        0\n",
       "V_ICME (km/s) (i)    0\n",
       "B (nT) (k)           0\n",
       "MC? (l)              0\n",
       "Dst (nT) (m)         0\n",
       "dtype: int64"
      ]
     },
     "execution_count": 27,
     "metadata": {},
     "output_type": "execute_result"
    }
   ],
   "source": [
    "df.isnull().sum()"
   ]
  },
  {
   "cell_type": "code",
   "execution_count": 28,
   "metadata": {},
   "outputs": [
    {
     "data": {
      "text/html": [
       "<div>\n",
       "<style scoped>\n",
       "    .dataframe tbody tr th:only-of-type {\n",
       "        vertical-align: middle;\n",
       "    }\n",
       "\n",
       "    .dataframe tbody tr th {\n",
       "        vertical-align: top;\n",
       "    }\n",
       "\n",
       "    .dataframe thead th {\n",
       "        text-align: right;\n",
       "    }\n",
       "</style>\n",
       "<table border=\"1\" class=\"dataframe\">\n",
       "  <thead>\n",
       "    <tr style=\"text-align: right;\">\n",
       "      <th></th>\n",
       "      <th>BDE? (e)</th>\n",
       "      <th>Qual. (g)</th>\n",
       "      <th>dV (km/s) (h)</th>\n",
       "      <th>V_ICME (km/s) (i)</th>\n",
       "      <th>B (nT) (k)</th>\n",
       "      <th>MC? (l)</th>\n",
       "      <th>Dst (nT) (m)</th>\n",
       "    </tr>\n",
       "    <tr>\n",
       "      <th>ICME Plasma/Field Start Y/M/D (UT) (b)</th>\n",
       "      <th></th>\n",
       "      <th></th>\n",
       "      <th></th>\n",
       "      <th></th>\n",
       "      <th></th>\n",
       "      <th></th>\n",
       "      <th></th>\n",
       "    </tr>\n",
       "  </thead>\n",
       "  <tbody>\n",
       "    <tr>\n",
       "      <th>1996-05-27 15:00:00</th>\n",
       "      <td>N</td>\n",
       "      <td>2</td>\n",
       "      <td>0</td>\n",
       "      <td>370</td>\n",
       "      <td>9</td>\n",
       "      <td>2</td>\n",
       "      <td>-33</td>\n",
       "    </tr>\n",
       "    <tr>\n",
       "      <th>1996-07-01 18:00:00</th>\n",
       "      <td>N</td>\n",
       "      <td>3</td>\n",
       "      <td>40</td>\n",
       "      <td>360</td>\n",
       "      <td>11</td>\n",
       "      <td>2</td>\n",
       "      <td>-20</td>\n",
       "    </tr>\n",
       "    <tr>\n",
       "      <th>1996-08-07 12:00:00</th>\n",
       "      <td>N</td>\n",
       "      <td>2</td>\n",
       "      <td>10</td>\n",
       "      <td>350</td>\n",
       "      <td>7</td>\n",
       "      <td>2</td>\n",
       "      <td>-23</td>\n",
       "    </tr>\n",
       "    <tr>\n",
       "      <th>1996-12-23 17:00:00</th>\n",
       "      <td>N</td>\n",
       "      <td>2</td>\n",
       "      <td>20</td>\n",
       "      <td>360</td>\n",
       "      <td>10</td>\n",
       "      <td>2</td>\n",
       "      <td>-18</td>\n",
       "    </tr>\n",
       "    <tr>\n",
       "      <th>1997-01-10 04:00:00</th>\n",
       "      <td>Y</td>\n",
       "      <td>1</td>\n",
       "      <td>100 S</td>\n",
       "      <td>450</td>\n",
       "      <td>14</td>\n",
       "      <td>2</td>\n",
       "      <td>-78</td>\n",
       "    </tr>\n",
       "  </tbody>\n",
       "</table>\n",
       "</div>"
      ],
      "text/plain": [
       "                                       BDE? (e) Qual. (g) dV (km/s) (h)  \\\n",
       "ICME Plasma/Field Start Y/M/D (UT) (b)                                    \n",
       "1996-05-27 15:00:00                           N         2             0   \n",
       "1996-07-01 18:00:00                           N         3            40   \n",
       "1996-08-07 12:00:00                           N         2            10   \n",
       "1996-12-23 17:00:00                           N         2            20   \n",
       "1997-01-10 04:00:00                           Y         1         100 S   \n",
       "\n",
       "                                        V_ICME (km/s) (i)  B (nT) (k) MC? (l)  \\\n",
       "ICME Plasma/Field Start Y/M/D (UT) (b)                                          \n",
       "1996-05-27 15:00:00                                   370           9       2   \n",
       "1996-07-01 18:00:00                                   360          11       2   \n",
       "1996-08-07 12:00:00                                   350           7       2   \n",
       "1996-12-23 17:00:00                                   360          10       2   \n",
       "1997-01-10 04:00:00                                   450          14       2   \n",
       "\n",
       "                                       Dst (nT) (m)  \n",
       "ICME Plasma/Field Start Y/M/D (UT) (b)               \n",
       "1996-05-27 15:00:00                             -33  \n",
       "1996-07-01 18:00:00                             -20  \n",
       "1996-08-07 12:00:00                             -23  \n",
       "1996-12-23 17:00:00                             -18  \n",
       "1997-01-10 04:00:00                             -78  "
      ]
     },
     "execution_count": 28,
     "metadata": {},
     "output_type": "execute_result"
    }
   ],
   "source": [
    "df.head()"
   ]
  },
  {
   "cell_type": "code",
   "execution_count": 30,
   "metadata": {},
   "outputs": [
    {
     "data": {
      "text/plain": [
       "BDE? (e)             object\n",
       "Qual. (g)            object\n",
       "dV (km/s) (h)        object\n",
       "V_ICME (km/s) (i)     int64\n",
       "B (nT) (k)            int64\n",
       "MC? (l)              object\n",
       "Dst (nT) (m)         object\n",
       "dtype: object"
      ]
     },
     "execution_count": 30,
     "metadata": {},
     "output_type": "execute_result"
    }
   ],
   "source": [
    "df.dtypes"
   ]
  },
  {
   "cell_type": "code",
   "execution_count": 35,
   "metadata": {},
   "outputs": [
    {
     "data": {
      "text/plain": [
       "Index(['BDE? (e)', 'Qual. (g)', 'dV (km/s) (h)', 'V_ICME (km/s) (i)',\n",
       "       'B (nT) (k)', 'MC? (l)', 'Dst (nT) (m)'],\n",
       "      dtype='object')"
      ]
     },
     "execution_count": 35,
     "metadata": {},
     "output_type": "execute_result"
    }
   ],
   "source": [
    "df.columns"
   ]
  },
  {
   "cell_type": "code",
   "execution_count": 36,
   "metadata": {},
   "outputs": [
    {
     "data": {
      "text/plain": [
       "BDE? (e)           3\n",
       "Qual. (g)          5\n",
       "dV (km/s) (h)     62\n",
       "MC? (l)            4\n",
       "Dst (nT) (m)     221\n",
       "dtype: int64"
      ]
     },
     "execution_count": 36,
     "metadata": {},
     "output_type": "execute_result"
    }
   ],
   "source": [
    "cols = ['BDE? (e)', 'Qual. (g)', 'dV (km/s) (h)', 'MC? (l)', 'Dst (nT) (m)']\n",
    "df[cols].nunique()"
   ]
  },
  {
   "cell_type": "markdown",
   "metadata": {},
   "source": [
    "Evidence of BiDirectional suprathermal Electron strahls (BDE) in ACE/SWEPAM Observations. If data are unavailable from SWEPAM (data commence on 10/22/97), observations from the 3-D P instrument on WIND are referred to. \"SEP\" indicates that an intense solar energetic particle event was in progress at the time of ICME passage and electron flows therefore cannot be determined.\n",
    "\n",
    "[reference](http://www.srl.caltech.edu/ACE/ASC/DATA/level3/icmetable2.htm#(e))"
   ]
  },
  {
   "cell_type": "code",
   "execution_count": 39,
   "metadata": {},
   "outputs": [
    {
     "data": {
      "text/plain": [
       "array(['N', 'Y', 'SEP'], dtype=object)"
      ]
     },
     "execution_count": 39,
     "metadata": {},
     "output_type": "execute_result"
    }
   ],
   "source": [
    "df['BDE? (e)'].unique()"
   ]
  },
  {
   "cell_type": "markdown",
   "metadata": {},
   "source": [
    "The \"quality\" of the boundary times (`1' indicating the most reliable) based on assessment of the various data sets, including plasma, magnetic field and solar wind composition/charge states. 'W' indicates that the overall ICME signatures are particularly weak."
   ]
  },
  {
   "cell_type": "code",
   "execution_count": 40,
   "metadata": {},
   "outputs": [
    {
     "data": {
      "text/plain": [
       "array(['2', '3', '1', '2W', '3W'], dtype=object)"
      ]
     },
     "execution_count": 40,
     "metadata": {},
     "output_type": "execute_result"
    }
   ],
   "source": [
    "df['Qual. (g)'].unique()"
   ]
  },
  {
   "cell_type": "markdown",
   "metadata": {},
   "source": [
    "```\n",
    "1 - most reliable --> 5\n",
    "2 - reliable --> 4\n",
    "2w - weak, reliable --> 3\n",
    "3 - less reliable --> 2\n",
    "3w - weak, less reliable --> 1\n",
    "```"
   ]
  },
  {
   "cell_type": "code",
   "execution_count": 50,
   "metadata": {},
   "outputs": [],
   "source": [
    "df['Qual. (g)'] = df['Qual. (g)'].str.replace('1', '5')\n",
    "df['Qual. (g)'] = df['Qual. (g)'].replace('2', '4')\n",
    "df['Qual. (g)'] = df['Qual. (g)'].replace('2w', '3')\n",
    "df['Qual. (g)'] = df['Qual. (g)'].replace('3', '2')\n",
    "df['Qual. (g)'] = df['Qual. (g)'].replace('3w', '1')"
   ]
  },
  {
   "cell_type": "code",
   "execution_count": 51,
   "metadata": {},
   "outputs": [
    {
     "data": {
      "text/plain": [
       "array(['4', '5', '2W', '3W'], dtype=object)"
      ]
     },
     "execution_count": 51,
     "metadata": {},
     "output_type": "execute_result"
    }
   ],
   "source": [
    "df['Qual. (g)'].unique()"
   ]
  },
  {
   "cell_type": "code",
   "execution_count": null,
   "metadata": {},
   "outputs": [],
   "source": []
  },
  {
   "cell_type": "code",
   "execution_count": null,
   "metadata": {},
   "outputs": [],
   "source": []
  },
  {
   "cell_type": "code",
   "execution_count": null,
   "metadata": {},
   "outputs": [],
   "source": []
  },
  {
   "cell_type": "code",
   "execution_count": null,
   "metadata": {},
   "outputs": [],
   "source": []
  },
  {
   "cell_type": "code",
   "execution_count": null,
   "metadata": {},
   "outputs": [],
   "source": []
  },
  {
   "cell_type": "code",
   "execution_count": null,
   "metadata": {},
   "outputs": [],
   "source": []
  },
  {
   "cell_type": "code",
   "execution_count": 41,
   "metadata": {},
   "outputs": [
    {
     "data": {
      "text/plain": [
       "array(['0', '40', '10', '20', '100 S', '90  S', '150', '150 S', '70 S',\n",
       "       '30', '60', '80', '40 S', '110', '60 S', '140 S', '170 S', '100',\n",
       "       '50 S', '80 S', '50', '30 S', '20 S', '250 Wv', '200 S', '300 S',\n",
       "       '130 S', '120 S', '250 S', '120', '70', '90', '180 S', '280',\n",
       "       '220 S', '130', '260 S', '90 S', '350 S', '110 S', '230 S',\n",
       "       '400 S', '150  S', '300  S', '550 S', '160 S', '210 S', '650 S',\n",
       "       '340 S', '70  S', '900 S', '750 S', '240 S', '320 S', '200', '140',\n",
       "       '180', '270', '170', '230', '220', '190'], dtype=object)"
      ]
     },
     "execution_count": 41,
     "metadata": {},
     "output_type": "execute_result"
    }
   ],
   "source": [
    "df['dV (km/s) (h)'].unique()"
   ]
  },
  {
   "cell_type": "code",
   "execution_count": 42,
   "metadata": {},
   "outputs": [
    {
     "data": {
      "text/plain": [
       "array(['2', '2H', '0', '1'], dtype=object)"
      ]
     },
     "execution_count": 42,
     "metadata": {},
     "output_type": "execute_result"
    }
   ],
   "source": [
    "df['MC? (l)'].unique()"
   ]
  },
  {
   "cell_type": "code",
   "execution_count": 43,
   "metadata": {},
   "outputs": [
    {
     "data": {
      "text/plain": [
       "array(['-33', '-20', '-23', '-18', '-78', '-68', '-82', '-107', '-115',\n",
       "       '-74', '-84', '-36', '-45', '-48', '-28', '-98', '-64', '-130',\n",
       "       '-60', '-110', '-108', '-47', '-77', '-29', '-11', '-55', '-34',\n",
       "       '-100', '-51', '-56', '-35', '-46', '-85', '-205', '-1', '-25',\n",
       "       '-101', '-30', '-6', '-138', '-62', '-27', '-19', '-67', '-155',\n",
       "       '-207', '-112', '-52', '-81', '-149', '-131', '-15', '-58', '-17',\n",
       "       '-7', '-123', '-91', '-13', '-41', '-4', '-38', '-39', '-16',\n",
       "       '-66', '-173', '-237', '-69', '-106', '-8', '-97', '-133', '-26',\n",
       "       '-43', '-3', '-288', '-14', '-61', '-37', '-10', '-2', '-32',\n",
       "       '-92', '-147', '-90', '-12', '-76', '0', '-57', '-301', '-93',\n",
       "       '-42', '-71', '-235', '-201', '-143', '-182', '-127', '-159',\n",
       "       '-80', '-119', '-73', '-87', '-387', '-50', '-59', '-271', '-114',\n",
       "       '-102', '-105', '-40', '-24', '-148', '-104', '-166', '-187',\n",
       "       '-157', '-292', '-221', '-109', '-21', '-181', '-176', '-146',\n",
       "       '-75', '-72', '-49', '-144', '-63', '-141', '-353', '-383', '-422',\n",
       "       '-117', '-99', '-136', '-170', '-129', '-374', '-263', '-65',\n",
       "       '-247', '-83', '-113', '-139', '-88', '-86', '-22', '-79', '-162',\n",
       "       '-31', '-5', '-118', '-145', '-122', '+1', '+9', '-132', '-95',\n",
       "       '-42 P', '-62 P', '-99 P', '+16 P', '-223 P', '-43 P', '-29 P',\n",
       "       '-28 P', '-2 P', '1 P', '-75 P', '-8 P', '-51 P', '-44 P',\n",
       "       '-204 P', '-86 P', '-57 P', '-61 P', '-25 P', '-84 P', '-92 P',\n",
       "       '-94 P', '-38 P', '-7 P', '-60 P', '-89 P', '-155 P', '-110 P',\n",
       "       '-93 P', '-10 P', '-4 P', '-59 P', '-23 P', '-34 P', '-14 P',\n",
       "       '-104 P', '-17 P', '-44 Q', '-24 Q', '-25 Q', '-122 Q', '-72Q',\n",
       "       '-48Q', '-17Q', '-124Q', '-24Q', '-39 Q', '-21 Q', '-48 Q',\n",
       "       '-10 Q', '0 Q', '-174 Q', '-28 Q', '-2 Q', '-51 Q', '-65 Q',\n",
       "       '-16 Q', '-19 Q', '-23 Q', '-59 Q', '-40 Q', '-31 Q', '-61 Q'],\n",
       "      dtype=object)"
      ]
     },
     "execution_count": 43,
     "metadata": {},
     "output_type": "execute_result"
    }
   ],
   "source": [
    "df['Dst (nT) (m)'].unique()"
   ]
  },
  {
   "cell_type": "code",
   "execution_count": null,
   "metadata": {},
   "outputs": [],
   "source": []
  },
  {
   "cell_type": "code",
   "execution_count": null,
   "metadata": {},
   "outputs": [],
   "source": []
  },
  {
   "cell_type": "code",
   "execution_count": null,
   "metadata": {},
   "outputs": [],
   "source": []
  },
  {
   "cell_type": "code",
   "execution_count": null,
   "metadata": {},
   "outputs": [],
   "source": []
  },
  {
   "cell_type": "code",
   "execution_count": null,
   "metadata": {},
   "outputs": [],
   "source": []
  },
  {
   "cell_type": "code",
   "execution_count": null,
   "metadata": {},
   "outputs": [],
   "source": []
  },
  {
   "cell_type": "code",
   "execution_count": null,
   "metadata": {},
   "outputs": [],
   "source": []
  },
  {
   "cell_type": "code",
   "execution_count": null,
   "metadata": {},
   "outputs": [],
   "source": []
  },
  {
   "cell_type": "code",
   "execution_count": null,
   "metadata": {},
   "outputs": [],
   "source": []
  },
  {
   "cell_type": "code",
   "execution_count": null,
   "metadata": {},
   "outputs": [],
   "source": []
  },
  {
   "cell_type": "code",
   "execution_count": null,
   "metadata": {},
   "outputs": [],
   "source": []
  },
  {
   "cell_type": "code",
   "execution_count": null,
   "metadata": {},
   "outputs": [],
   "source": []
  },
  {
   "cell_type": "code",
   "execution_count": null,
   "metadata": {},
   "outputs": [],
   "source": []
  },
  {
   "cell_type": "code",
   "execution_count": null,
   "metadata": {},
   "outputs": [],
   "source": []
  },
  {
   "cell_type": "code",
   "execution_count": 32,
   "metadata": {},
   "outputs": [
    {
     "data": {
      "text/plain": [
       "array([<matplotlib.axes._subplots.AxesSubplot object at 0x7ff3306f3518>,\n",
       "       <matplotlib.axes._subplots.AxesSubplot object at 0x7ff330722550>],\n",
       "      dtype=object)"
      ]
     },
     "execution_count": 32,
     "metadata": {},
     "output_type": "execute_result"
    },
    {
     "data": {
      "image/png": "[encoded data removed]",
      "text/plain": [
       "<Figure size 432x288 with 2 Axes>"
      ]
     },
     "metadata": {
      "image/png": {
       "height": 253,
       "width": 383
      },
      "needs_background": "light"
     },
     "output_type": "display_data"
    }
   ],
   "source": [
    "df.plot(subplots=True)"
   ]
  },
  {
   "cell_type": "code",
   "execution_count": null,
   "metadata": {},
   "outputs": [],
   "source": []
  },
  {
   "cell_type": "code",
   "execution_count": null,
   "metadata": {},
   "outputs": [],
   "source": []
  },
  {
   "cell_type": "code",
   "execution_count": null,
   "metadata": {},
   "outputs": [],
   "source": []
  },
  {
   "cell_type": "code",
   "execution_count": null,
   "metadata": {},
   "outputs": [],
   "source": []
  },
  {
   "cell_type": "code",
   "execution_count": null,
   "metadata": {},
   "outputs": [],
   "source": []
  },
  {
   "cell_type": "code",
   "execution_count": null,
   "metadata": {},
   "outputs": [],
   "source": []
  },
  {
   "cell_type": "code",
   "execution_count": null,
   "metadata": {},
   "outputs": [],
   "source": []
  },
  {
   "cell_type": "code",
   "execution_count": null,
   "metadata": {},
   "outputs": [],
   "source": []
  },
  {
   "cell_type": "code",
   "execution_count": null,
   "metadata": {},
   "outputs": [],
   "source": []
  },
  {
   "cell_type": "code",
   "execution_count": null,
   "metadata": {},
   "outputs": [],
   "source": []
  },
  {
   "cell_type": "code",
   "execution_count": null,
   "metadata": {},
   "outputs": [],
   "source": []
  },
  {
   "cell_type": "code",
   "execution_count": 17,
   "metadata": {},
   "outputs": [],
   "source": [
    "# df.plot(subplots=True, figsize=(20,15))\n",
    "# plt.show()"
   ]
  },
  {
   "cell_type": "code",
   "execution_count": 18,
   "metadata": {},
   "outputs": [
    {
     "data": {
      "text/plain": [
       "MC Start (Hrs wrt. Plasma/ Field) (d)    object\n",
       "End (Hrs wrt. Plasma/ Field) (d)         object\n",
       "BDE? (e)                                 object\n",
       "Qual. (g)                                object\n",
       "dV (km/s) (h)                            object\n",
       "V_ICME (km/s) (i)                         int64\n",
       "B (nT) (k)                                int64\n",
       "MC? (l)                                  object\n",
       "Dst (nT) (m)                             object\n",
       "V_transit (km/s) (n)                     object\n",
       "dtype: object"
      ]
     },
     "execution_count": 18,
     "metadata": {},
     "output_type": "execute_result"
    }
   ],
   "source": [
    "df.dtypes"
   ]
  },
  {
   "cell_type": "code",
   "execution_count": null,
   "metadata": {},
   "outputs": [],
   "source": []
  }
 ],
 "metadata": {
  "kernelspec": {
   "display_name": "Python 3",
   "language": "python",
   "name": "python3"
  },
  "language_info": {
   "codemirror_mode": {
    "name": "ipython",
    "version": 3
   },
   "file_extension": ".py",
   "mimetype": "text/x-python",
   "name": "python",
   "nbconvert_exporter": "python",
   "pygments_lexer": "ipython3",
   "version": "3.7.0"
  }
 },
 "nbformat": 4,
 "nbformat_minor": 5
}

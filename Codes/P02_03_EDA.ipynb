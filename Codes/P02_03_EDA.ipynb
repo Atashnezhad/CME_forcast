{
 "cells": [
  {
   "cell_type": "markdown",
   "metadata": {},
   "source": [
    "# P02_03_EDA"
   ]
  },
  {
   "cell_type": "code",
   "execution_count": 1,
   "metadata": {},
   "outputs": [],
   "source": [
    "section_fig_main_title = 'P02_03_EDA_'"
   ]
  },
  {
   "cell_type": "code",
   "execution_count": 2,
   "metadata": {},
   "outputs": [],
   "source": [
    "import os, sys\n",
    "import requests\n",
    "from urllib.parse import urljoin, urlparse\n",
    "from bs4 import BeautifulSoup as bs\n",
    "import re\n",
    "import numpy as np\n",
    "import pandas as pd\n",
    "import matplotlib.pyplot as plt\n",
    "import seaborn as sns\n",
    "%config InlineBackend.figure_format = 'retina'\n",
    "from pandas.plotting import lag_plot"
   ]
  },
  {
   "cell_type": "code",
   "execution_count": 3,
   "metadata": {},
   "outputs": [],
   "source": [
    "from pandas.plotting import autocorrelation_plot\n"
   ]
  },
  {
   "cell_type": "code",
   "execution_count": 4,
   "metadata": {},
   "outputs": [],
   "source": [
    "import warnings\n",
    "warnings.filterwarnings('ignore')"
   ]
  },
  {
   "cell_type": "code",
   "execution_count": 5,
   "metadata": {},
   "outputs": [],
   "source": [
    "from sklearn.linear_model import LinearRegression\n",
    "from sklearn.preprocessing import StandardScaler, PolynomialFeatures"
   ]
  },
  {
   "cell_type": "code",
   "execution_count": 6,
   "metadata": {},
   "outputs": [],
   "source": [
    "from sklearn import metrics\n",
    "import statsmodels.api as sm"
   ]
  },
  {
   "cell_type": "markdown",
   "metadata": {},
   "source": [
    "## Read Data\n"
   ]
  },
  {
   "cell_type": "code",
   "execution_count": 7,
   "metadata": {},
   "outputs": [],
   "source": [
    "csv_path = \"../Data/Data_ICME_Edited_out_P02_02.csv\"\n",
    "df = pd.read_csv(csv_path, parse_dates=True, infer_datetime_format=True)"
   ]
  },
  {
   "cell_type": "code",
   "execution_count": 8,
   "metadata": {},
   "outputs": [
    {
     "data": {
      "text/html": [
       "<div>\n",
       "<style scoped>\n",
       "    .dataframe tbody tr th:only-of-type {\n",
       "        vertical-align: middle;\n",
       "    }\n",
       "\n",
       "    .dataframe tbody tr th {\n",
       "        vertical-align: top;\n",
       "    }\n",
       "\n",
       "    .dataframe thead th {\n",
       "        text-align: right;\n",
       "    }\n",
       "</style>\n",
       "<table border=\"1\" class=\"dataframe\">\n",
       "  <thead>\n",
       "    <tr style=\"text-align: right;\">\n",
       "      <th></th>\n",
       "      <th>Disturbance Y/M/D (UT) (a)</th>\n",
       "      <th>ICME Plasma/Field Start Y/M/D (UT) (b)</th>\n",
       "      <th>ICME Plasma/Field End Y/M/D (UT) (b)</th>\n",
       "      <th>Comp. Start (Hrs wrt. Plasma/ Field) (c)</th>\n",
       "      <th>Comp. End (Hrs wrt. Plasma/ Field) (c)</th>\n",
       "      <th>MC Start (Hrs wrt. Plasma/ Field) (d)</th>\n",
       "      <th>End (Hrs wrt. Plasma/ Field) (d)</th>\n",
       "      <th>BDE? (e)</th>\n",
       "      <th>BIF? (f)</th>\n",
       "      <th>Qual. (g)</th>\n",
       "      <th>dV (km/s) (h)</th>\n",
       "      <th>V_ICME (km/s) (i)</th>\n",
       "      <th>V_max (km/s) (j)</th>\n",
       "      <th>B (nT) (k)</th>\n",
       "      <th>MC? (l)</th>\n",
       "      <th>Dst (nT) (m)</th>\n",
       "      <th>V_transit (km/s) (n)</th>\n",
       "      <th>LASCO CME Y/M/D (UT) (o)</th>\n",
       "    </tr>\n",
       "  </thead>\n",
       "  <tbody>\n",
       "    <tr>\n",
       "      <th>0</th>\n",
       "      <td>1996/05/27 1500</td>\n",
       "      <td>1996-05-27 15:00:00</td>\n",
       "      <td>1996-05-29 03:00:00</td>\n",
       "      <td>...</td>\n",
       "      <td>...</td>\n",
       "      <td>0</td>\n",
       "      <td>+4</td>\n",
       "      <td>N</td>\n",
       "      <td>...</td>\n",
       "      <td>2</td>\n",
       "      <td>0</td>\n",
       "      <td>370</td>\n",
       "      <td>400</td>\n",
       "      <td>9</td>\n",
       "      <td>2</td>\n",
       "      <td>-33</td>\n",
       "      <td>...</td>\n",
       "      <td>NaN</td>\n",
       "    </tr>\n",
       "    <tr>\n",
       "      <th>1</th>\n",
       "      <td>1996/07/01 1320</td>\n",
       "      <td>1996-07-01 18:00:00</td>\n",
       "      <td>1996-07-02 11:00:00</td>\n",
       "      <td>...</td>\n",
       "      <td>...</td>\n",
       "      <td>0</td>\n",
       "      <td>0</td>\n",
       "      <td>N</td>\n",
       "      <td>...</td>\n",
       "      <td>3</td>\n",
       "      <td>40</td>\n",
       "      <td>360</td>\n",
       "      <td>370</td>\n",
       "      <td>11</td>\n",
       "      <td>2</td>\n",
       "      <td>-20</td>\n",
       "      <td>...</td>\n",
       "      <td>NaN</td>\n",
       "    </tr>\n",
       "  </tbody>\n",
       "</table>\n",
       "</div>"
      ],
      "text/plain": [
       "  Disturbance Y/M/D (UT) (a) ICME Plasma/Field Start Y/M/D (UT) (b)  \\\n",
       "0            1996/05/27 1500                    1996-05-27 15:00:00   \n",
       "1            1996/07/01 1320                    1996-07-01 18:00:00   \n",
       "\n",
       "  ICME Plasma/Field End Y/M/D (UT) (b)  \\\n",
       "0                  1996-05-29 03:00:00   \n",
       "1                  1996-07-02 11:00:00   \n",
       "\n",
       "  Comp. Start (Hrs wrt. Plasma/ Field) (c)  \\\n",
       "0                                      ...   \n",
       "1                                      ...   \n",
       "\n",
       "  Comp. End (Hrs wrt. Plasma/ Field) (c)  \\\n",
       "0                                    ...   \n",
       "1                                    ...   \n",
       "\n",
       "  MC Start (Hrs wrt. Plasma/ Field) (d) End (Hrs wrt. Plasma/ Field) (d)  \\\n",
       "0                                     0                               +4   \n",
       "1                                     0                                0   \n",
       "\n",
       "  BDE? (e) BIF? (f) Qual. (g) dV (km/s) (h)  V_ICME (km/s) (i)  \\\n",
       "0        N      ...         2             0                370   \n",
       "1        N      ...         3            40                360   \n",
       "\n",
       "   V_max (km/s) (j)  B (nT) (k) MC? (l) Dst (nT) (m) V_transit (km/s) (n)  \\\n",
       "0               400           9       2          -33                  ...   \n",
       "1               370          11       2          -20                  ...   \n",
       "\n",
       "  LASCO CME Y/M/D (UT) (o)  \n",
       "0                      NaN  \n",
       "1                      NaN  "
      ]
     },
     "execution_count": 8,
     "metadata": {},
     "output_type": "execute_result"
    }
   ],
   "source": [
    "df.head(2)"
   ]
  },
  {
   "cell_type": "markdown",
   "metadata": {},
   "source": [
    "drop the first column. "
   ]
  },
  {
   "cell_type": "code",
   "execution_count": 9,
   "metadata": {},
   "outputs": [],
   "source": [
    "df = df.drop(columns=['Disturbance Y/M/D (UT) (a)'])"
   ]
  },
  {
   "cell_type": "code",
   "execution_count": 10,
   "metadata": {},
   "outputs": [
    {
     "data": {
      "text/html": [
       "<div>\n",
       "<style scoped>\n",
       "    .dataframe tbody tr th:only-of-type {\n",
       "        vertical-align: middle;\n",
       "    }\n",
       "\n",
       "    .dataframe tbody tr th {\n",
       "        vertical-align: top;\n",
       "    }\n",
       "\n",
       "    .dataframe thead th {\n",
       "        text-align: right;\n",
       "    }\n",
       "</style>\n",
       "<table border=\"1\" class=\"dataframe\">\n",
       "  <thead>\n",
       "    <tr style=\"text-align: right;\">\n",
       "      <th></th>\n",
       "      <th>ICME Plasma/Field Start Y/M/D (UT) (b)</th>\n",
       "      <th>ICME Plasma/Field End Y/M/D (UT) (b)</th>\n",
       "      <th>Comp. Start (Hrs wrt. Plasma/ Field) (c)</th>\n",
       "      <th>Comp. End (Hrs wrt. Plasma/ Field) (c)</th>\n",
       "      <th>MC Start (Hrs wrt. Plasma/ Field) (d)</th>\n",
       "      <th>End (Hrs wrt. Plasma/ Field) (d)</th>\n",
       "      <th>BDE? (e)</th>\n",
       "      <th>BIF? (f)</th>\n",
       "      <th>Qual. (g)</th>\n",
       "      <th>dV (km/s) (h)</th>\n",
       "      <th>V_ICME (km/s) (i)</th>\n",
       "      <th>V_max (km/s) (j)</th>\n",
       "      <th>B (nT) (k)</th>\n",
       "      <th>MC? (l)</th>\n",
       "      <th>Dst (nT) (m)</th>\n",
       "      <th>V_transit (km/s) (n)</th>\n",
       "      <th>LASCO CME Y/M/D (UT) (o)</th>\n",
       "    </tr>\n",
       "  </thead>\n",
       "  <tbody>\n",
       "    <tr>\n",
       "      <th>0</th>\n",
       "      <td>1996-05-27 15:00:00</td>\n",
       "      <td>1996-05-29 03:00:00</td>\n",
       "      <td>...</td>\n",
       "      <td>...</td>\n",
       "      <td>0</td>\n",
       "      <td>+4</td>\n",
       "      <td>N</td>\n",
       "      <td>...</td>\n",
       "      <td>2</td>\n",
       "      <td>0</td>\n",
       "      <td>370</td>\n",
       "      <td>400</td>\n",
       "      <td>9</td>\n",
       "      <td>2</td>\n",
       "      <td>-33</td>\n",
       "      <td>...</td>\n",
       "      <td>NaN</td>\n",
       "    </tr>\n",
       "    <tr>\n",
       "      <th>1</th>\n",
       "      <td>1996-07-01 18:00:00</td>\n",
       "      <td>1996-07-02 11:00:00</td>\n",
       "      <td>...</td>\n",
       "      <td>...</td>\n",
       "      <td>0</td>\n",
       "      <td>0</td>\n",
       "      <td>N</td>\n",
       "      <td>...</td>\n",
       "      <td>3</td>\n",
       "      <td>40</td>\n",
       "      <td>360</td>\n",
       "      <td>370</td>\n",
       "      <td>11</td>\n",
       "      <td>2</td>\n",
       "      <td>-20</td>\n",
       "      <td>...</td>\n",
       "      <td>NaN</td>\n",
       "    </tr>\n",
       "  </tbody>\n",
       "</table>\n",
       "</div>"
      ],
      "text/plain": [
       "  ICME Plasma/Field Start Y/M/D (UT) (b) ICME Plasma/Field End Y/M/D (UT) (b)  \\\n",
       "0                    1996-05-27 15:00:00                  1996-05-29 03:00:00   \n",
       "1                    1996-07-01 18:00:00                  1996-07-02 11:00:00   \n",
       "\n",
       "  Comp. Start (Hrs wrt. Plasma/ Field) (c)  \\\n",
       "0                                      ...   \n",
       "1                                      ...   \n",
       "\n",
       "  Comp. End (Hrs wrt. Plasma/ Field) (c)  \\\n",
       "0                                    ...   \n",
       "1                                    ...   \n",
       "\n",
       "  MC Start (Hrs wrt. Plasma/ Field) (d) End (Hrs wrt. Plasma/ Field) (d)  \\\n",
       "0                                     0                               +4   \n",
       "1                                     0                                0   \n",
       "\n",
       "  BDE? (e) BIF? (f) Qual. (g) dV (km/s) (h)  V_ICME (km/s) (i)  \\\n",
       "0        N      ...         2             0                370   \n",
       "1        N      ...         3            40                360   \n",
       "\n",
       "   V_max (km/s) (j)  B (nT) (k) MC? (l) Dst (nT) (m) V_transit (km/s) (n)  \\\n",
       "0               400           9       2          -33                  ...   \n",
       "1               370          11       2          -20                  ...   \n",
       "\n",
       "  LASCO CME Y/M/D (UT) (o)  \n",
       "0                      NaN  \n",
       "1                      NaN  "
      ]
     },
     "execution_count": 10,
     "metadata": {},
     "output_type": "execute_result"
    }
   ],
   "source": [
    "df.head(2)"
   ]
  },
  {
   "cell_type": "code",
   "execution_count": 11,
   "metadata": {
    "scrolled": true
   },
   "outputs": [
    {
     "data": {
      "text/plain": [
       "ICME Plasma/Field Start Y/M/D (UT) (b)        0\n",
       "ICME Plasma/Field End Y/M/D (UT) (b)          0\n",
       "Comp. Start (Hrs wrt. Plasma/ Field) (c)      0\n",
       "Comp. End (Hrs wrt. Plasma/ Field) (c)        0\n",
       "MC Start (Hrs wrt. Plasma/ Field) (d)         0\n",
       "End (Hrs wrt. Plasma/ Field) (d)              0\n",
       "BDE? (e)                                      0\n",
       "BIF? (f)                                      0\n",
       "Qual. (g)                                     0\n",
       "dV (km/s) (h)                                 0\n",
       "V_ICME (km/s) (i)                             0\n",
       "V_max (km/s) (j)                              0\n",
       "B (nT) (k)                                    0\n",
       "MC? (l)                                       0\n",
       "Dst (nT) (m)                                  0\n",
       "V_transit (km/s) (n)                          1\n",
       "LASCO CME Y/M/D (UT) (o)                    235\n",
       "dtype: int64"
      ]
     },
     "execution_count": 11,
     "metadata": {},
     "output_type": "execute_result"
    }
   ],
   "source": [
    "df.isnull().sum()"
   ]
  },
  {
   "cell_type": "markdown",
   "metadata": {},
   "source": [
    "drop the LASCO CME Y/M/D (UT) (o) columns. it has 235 null values."
   ]
  },
  {
   "cell_type": "code",
   "execution_count": 12,
   "metadata": {},
   "outputs": [],
   "source": [
    "df = df.drop(columns=['LASCO CME Y/M/D (UT) (o)'])"
   ]
  },
  {
   "cell_type": "code",
   "execution_count": 13,
   "metadata": {},
   "outputs": [
    {
     "data": {
      "text/html": [
       "<div>\n",
       "<style scoped>\n",
       "    .dataframe tbody tr th:only-of-type {\n",
       "        vertical-align: middle;\n",
       "    }\n",
       "\n",
       "    .dataframe tbody tr th {\n",
       "        vertical-align: top;\n",
       "    }\n",
       "\n",
       "    .dataframe thead th {\n",
       "        text-align: right;\n",
       "    }\n",
       "</style>\n",
       "<table border=\"1\" class=\"dataframe\">\n",
       "  <thead>\n",
       "    <tr style=\"text-align: right;\">\n",
       "      <th></th>\n",
       "      <th>ICME Plasma/Field Start Y/M/D (UT) (b)</th>\n",
       "      <th>ICME Plasma/Field End Y/M/D (UT) (b)</th>\n",
       "      <th>Comp. Start (Hrs wrt. Plasma/ Field) (c)</th>\n",
       "      <th>Comp. End (Hrs wrt. Plasma/ Field) (c)</th>\n",
       "      <th>MC Start (Hrs wrt. Plasma/ Field) (d)</th>\n",
       "      <th>End (Hrs wrt. Plasma/ Field) (d)</th>\n",
       "      <th>BDE? (e)</th>\n",
       "      <th>BIF? (f)</th>\n",
       "      <th>Qual. (g)</th>\n",
       "      <th>dV (km/s) (h)</th>\n",
       "      <th>V_ICME (km/s) (i)</th>\n",
       "      <th>V_max (km/s) (j)</th>\n",
       "      <th>B (nT) (k)</th>\n",
       "      <th>MC? (l)</th>\n",
       "      <th>Dst (nT) (m)</th>\n",
       "      <th>V_transit (km/s) (n)</th>\n",
       "    </tr>\n",
       "  </thead>\n",
       "  <tbody>\n",
       "    <tr>\n",
       "      <th>0</th>\n",
       "      <td>1996-05-27 15:00:00</td>\n",
       "      <td>1996-05-29 03:00:00</td>\n",
       "      <td>...</td>\n",
       "      <td>...</td>\n",
       "      <td>0</td>\n",
       "      <td>+4</td>\n",
       "      <td>N</td>\n",
       "      <td>...</td>\n",
       "      <td>2</td>\n",
       "      <td>0</td>\n",
       "      <td>370</td>\n",
       "      <td>400</td>\n",
       "      <td>9</td>\n",
       "      <td>2</td>\n",
       "      <td>-33</td>\n",
       "      <td>...</td>\n",
       "    </tr>\n",
       "    <tr>\n",
       "      <th>1</th>\n",
       "      <td>1996-07-01 18:00:00</td>\n",
       "      <td>1996-07-02 11:00:00</td>\n",
       "      <td>...</td>\n",
       "      <td>...</td>\n",
       "      <td>0</td>\n",
       "      <td>0</td>\n",
       "      <td>N</td>\n",
       "      <td>...</td>\n",
       "      <td>3</td>\n",
       "      <td>40</td>\n",
       "      <td>360</td>\n",
       "      <td>370</td>\n",
       "      <td>11</td>\n",
       "      <td>2</td>\n",
       "      <td>-20</td>\n",
       "      <td>...</td>\n",
       "    </tr>\n",
       "    <tr>\n",
       "      <th>2</th>\n",
       "      <td>1996-08-07 12:00:00</td>\n",
       "      <td>1996-08-08 10:00:00</td>\n",
       "      <td>...</td>\n",
       "      <td>...</td>\n",
       "      <td>0</td>\n",
       "      <td>0</td>\n",
       "      <td>N</td>\n",
       "      <td>...</td>\n",
       "      <td>2</td>\n",
       "      <td>10</td>\n",
       "      <td>350</td>\n",
       "      <td>380</td>\n",
       "      <td>7</td>\n",
       "      <td>2</td>\n",
       "      <td>-23</td>\n",
       "      <td>...</td>\n",
       "    </tr>\n",
       "    <tr>\n",
       "      <th>3</th>\n",
       "      <td>1996-12-23 17:00:00</td>\n",
       "      <td>1996-12-25 11:00:00</td>\n",
       "      <td>...</td>\n",
       "      <td>...</td>\n",
       "      <td>+10</td>\n",
       "      <td>0</td>\n",
       "      <td>N</td>\n",
       "      <td>...</td>\n",
       "      <td>2</td>\n",
       "      <td>20</td>\n",
       "      <td>360</td>\n",
       "      <td>420</td>\n",
       "      <td>10</td>\n",
       "      <td>2</td>\n",
       "      <td>-18</td>\n",
       "      <td>435</td>\n",
       "    </tr>\n",
       "    <tr>\n",
       "      <th>4</th>\n",
       "      <td>1997-01-10 04:00:00</td>\n",
       "      <td>1997-01-11 02:00:00</td>\n",
       "      <td>...</td>\n",
       "      <td>...</td>\n",
       "      <td>0</td>\n",
       "      <td>0</td>\n",
       "      <td>Y</td>\n",
       "      <td>...</td>\n",
       "      <td>1</td>\n",
       "      <td>100 S</td>\n",
       "      <td>450</td>\n",
       "      <td>460</td>\n",
       "      <td>14</td>\n",
       "      <td>2</td>\n",
       "      <td>-78</td>\n",
       "      <td>507</td>\n",
       "    </tr>\n",
       "  </tbody>\n",
       "</table>\n",
       "</div>"
      ],
      "text/plain": [
       "  ICME Plasma/Field Start Y/M/D (UT) (b) ICME Plasma/Field End Y/M/D (UT) (b)  \\\n",
       "0                    1996-05-27 15:00:00                  1996-05-29 03:00:00   \n",
       "1                    1996-07-01 18:00:00                  1996-07-02 11:00:00   \n",
       "2                    1996-08-07 12:00:00                  1996-08-08 10:00:00   \n",
       "3                    1996-12-23 17:00:00                  1996-12-25 11:00:00   \n",
       "4                    1997-01-10 04:00:00                  1997-01-11 02:00:00   \n",
       "\n",
       "  Comp. Start (Hrs wrt. Plasma/ Field) (c)  \\\n",
       "0                                      ...   \n",
       "1                                      ...   \n",
       "2                                      ...   \n",
       "3                                      ...   \n",
       "4                                      ...   \n",
       "\n",
       "  Comp. End (Hrs wrt. Plasma/ Field) (c)  \\\n",
       "0                                    ...   \n",
       "1                                    ...   \n",
       "2                                    ...   \n",
       "3                                    ...   \n",
       "4                                    ...   \n",
       "\n",
       "  MC Start (Hrs wrt. Plasma/ Field) (d) End (Hrs wrt. Plasma/ Field) (d)  \\\n",
       "0                                     0                               +4   \n",
       "1                                     0                                0   \n",
       "2                                     0                                0   \n",
       "3                                   +10                                0   \n",
       "4                                     0                                0   \n",
       "\n",
       "  BDE? (e) BIF? (f) Qual. (g) dV (km/s) (h)  V_ICME (km/s) (i)  \\\n",
       "0        N      ...         2             0                370   \n",
       "1        N      ...         3            40                360   \n",
       "2        N      ...         2            10                350   \n",
       "3        N      ...         2            20                360   \n",
       "4        Y      ...         1         100 S                450   \n",
       "\n",
       "   V_max (km/s) (j)  B (nT) (k) MC? (l) Dst (nT) (m) V_transit (km/s) (n)  \n",
       "0               400           9       2          -33                  ...  \n",
       "1               370          11       2          -20                  ...  \n",
       "2               380           7       2          -23                  ...  \n",
       "3               420          10       2          -18                  435  \n",
       "4               460          14       2          -78                  507  "
      ]
     },
     "execution_count": 13,
     "metadata": {},
     "output_type": "execute_result"
    }
   ],
   "source": [
    "df.head()"
   ]
  },
  {
   "cell_type": "markdown",
   "metadata": {},
   "source": [
    "let's replace the ```...``` with nan and see how many missed values exist in data."
   ]
  },
  {
   "cell_type": "code",
   "execution_count": 14,
   "metadata": {},
   "outputs": [],
   "source": [
    "df = df.replace('...', np.nan)                "
   ]
  },
  {
   "cell_type": "code",
   "execution_count": 15,
   "metadata": {},
   "outputs": [
    {
     "data": {
      "text/plain": [
       "ICME Plasma/Field Start Y/M/D (UT) (b)        0\n",
       "ICME Plasma/Field End Y/M/D (UT) (b)          0\n",
       "Comp. Start (Hrs wrt. Plasma/ Field) (c)    236\n",
       "Comp. End (Hrs wrt. Plasma/ Field) (c)      236\n",
       "MC Start (Hrs wrt. Plasma/ Field) (d)       410\n",
       "End (Hrs wrt. Plasma/ Field) (d)            410\n",
       "BDE? (e)                                     12\n",
       "BIF? (f)                                    400\n",
       "Qual. (g)                                     0\n",
       "dV (km/s) (h)                                 1\n",
       "V_ICME (km/s) (i)                             0\n",
       "V_max (km/s) (j)                              0\n",
       "B (nT) (k)                                    0\n",
       "MC? (l)                                       0\n",
       "Dst (nT) (m)                                  7\n",
       "V_transit (km/s) (n)                        248\n",
       "dtype: int64"
      ]
     },
     "execution_count": 15,
     "metadata": {},
     "output_type": "execute_result"
    }
   ],
   "source": [
    "df.isna().sum()"
   ]
  },
  {
   "cell_type": "markdown",
   "metadata": {},
   "source": [
    "Ok lets's drop columns including: \n",
    "\n",
    "```\n",
    "Comp. Start (Hrs wrt. Plasma/ Field) (c)\n",
    "Comp. End (Hrs wrt. Plasma/ Field) (c)\n",
    "MC Start (Hrs wrt. Plasma/ Field) (d)\n",
    "End (Hrs wrt. Plasma/ Field) (d)            \n",
    "BIF? (f)                                   \n",
    "V_transit (km/s) (n)                        \n",
    "```"
   ]
  },
  {
   "cell_type": "code",
   "execution_count": 16,
   "metadata": {},
   "outputs": [
    {
     "data": {
      "text/html": [
       "<div>\n",
       "<style scoped>\n",
       "    .dataframe tbody tr th:only-of-type {\n",
       "        vertical-align: middle;\n",
       "    }\n",
       "\n",
       "    .dataframe tbody tr th {\n",
       "        vertical-align: top;\n",
       "    }\n",
       "\n",
       "    .dataframe thead th {\n",
       "        text-align: right;\n",
       "    }\n",
       "</style>\n",
       "<table border=\"1\" class=\"dataframe\">\n",
       "  <thead>\n",
       "    <tr style=\"text-align: right;\">\n",
       "      <th></th>\n",
       "      <th>ICME Plasma/Field Start Y/M/D (UT) (b)</th>\n",
       "      <th>ICME Plasma/Field End Y/M/D (UT) (b)</th>\n",
       "      <th>BDE? (e)</th>\n",
       "      <th>Qual. (g)</th>\n",
       "      <th>dV (km/s) (h)</th>\n",
       "      <th>V_ICME (km/s) (i)</th>\n",
       "      <th>V_max (km/s) (j)</th>\n",
       "      <th>B (nT) (k)</th>\n",
       "      <th>MC? (l)</th>\n",
       "      <th>Dst (nT) (m)</th>\n",
       "    </tr>\n",
       "  </thead>\n",
       "  <tbody>\n",
       "    <tr>\n",
       "      <th>0</th>\n",
       "      <td>1996-05-27 15:00:00</td>\n",
       "      <td>1996-05-29 03:00:00</td>\n",
       "      <td>N</td>\n",
       "      <td>2</td>\n",
       "      <td>0</td>\n",
       "      <td>370</td>\n",
       "      <td>400</td>\n",
       "      <td>9</td>\n",
       "      <td>2</td>\n",
       "      <td>-33</td>\n",
       "    </tr>\n",
       "    <tr>\n",
       "      <th>1</th>\n",
       "      <td>1996-07-01 18:00:00</td>\n",
       "      <td>1996-07-02 11:00:00</td>\n",
       "      <td>N</td>\n",
       "      <td>3</td>\n",
       "      <td>40</td>\n",
       "      <td>360</td>\n",
       "      <td>370</td>\n",
       "      <td>11</td>\n",
       "      <td>2</td>\n",
       "      <td>-20</td>\n",
       "    </tr>\n",
       "    <tr>\n",
       "      <th>2</th>\n",
       "      <td>1996-08-07 12:00:00</td>\n",
       "      <td>1996-08-08 10:00:00</td>\n",
       "      <td>N</td>\n",
       "      <td>2</td>\n",
       "      <td>10</td>\n",
       "      <td>350</td>\n",
       "      <td>380</td>\n",
       "      <td>7</td>\n",
       "      <td>2</td>\n",
       "      <td>-23</td>\n",
       "    </tr>\n",
       "    <tr>\n",
       "      <th>3</th>\n",
       "      <td>1996-12-23 17:00:00</td>\n",
       "      <td>1996-12-25 11:00:00</td>\n",
       "      <td>N</td>\n",
       "      <td>2</td>\n",
       "      <td>20</td>\n",
       "      <td>360</td>\n",
       "      <td>420</td>\n",
       "      <td>10</td>\n",
       "      <td>2</td>\n",
       "      <td>-18</td>\n",
       "    </tr>\n",
       "    <tr>\n",
       "      <th>4</th>\n",
       "      <td>1997-01-10 04:00:00</td>\n",
       "      <td>1997-01-11 02:00:00</td>\n",
       "      <td>Y</td>\n",
       "      <td>1</td>\n",
       "      <td>100 S</td>\n",
       "      <td>450</td>\n",
       "      <td>460</td>\n",
       "      <td>14</td>\n",
       "      <td>2</td>\n",
       "      <td>-78</td>\n",
       "    </tr>\n",
       "  </tbody>\n",
       "</table>\n",
       "</div>"
      ],
      "text/plain": [
       "  ICME Plasma/Field Start Y/M/D (UT) (b) ICME Plasma/Field End Y/M/D (UT) (b)  \\\n",
       "0                    1996-05-27 15:00:00                  1996-05-29 03:00:00   \n",
       "1                    1996-07-01 18:00:00                  1996-07-02 11:00:00   \n",
       "2                    1996-08-07 12:00:00                  1996-08-08 10:00:00   \n",
       "3                    1996-12-23 17:00:00                  1996-12-25 11:00:00   \n",
       "4                    1997-01-10 04:00:00                  1997-01-11 02:00:00   \n",
       "\n",
       "  BDE? (e) Qual. (g) dV (km/s) (h)  V_ICME (km/s) (i)  V_max (km/s) (j)  \\\n",
       "0        N         2             0                370               400   \n",
       "1        N         3            40                360               370   \n",
       "2        N         2            10                350               380   \n",
       "3        N         2            20                360               420   \n",
       "4        Y         1         100 S                450               460   \n",
       "\n",
       "   B (nT) (k) MC? (l) Dst (nT) (m)  \n",
       "0           9       2          -33  \n",
       "1          11       2          -20  \n",
       "2           7       2          -23  \n",
       "3          10       2          -18  \n",
       "4          14       2          -78  "
      ]
     },
     "execution_count": 16,
     "metadata": {},
     "output_type": "execute_result"
    }
   ],
   "source": [
    "cols = ['Comp. Start (Hrs wrt. Plasma/ Field) (c)',\n",
    "'Comp. End (Hrs wrt. Plasma/ Field) (c)',\n",
    "'MC Start (Hrs wrt. Plasma/ Field) (d)',\n",
    "'End (Hrs wrt. Plasma/ Field) (d)',           \n",
    "'BIF? (f)',                                  \n",
    "'V_transit (km/s) (n)']\n",
    "\n",
    "df = df.drop(columns=cols)\n",
    "df.head()"
   ]
  },
  {
   "cell_type": "code",
   "execution_count": 17,
   "metadata": {},
   "outputs": [
    {
     "data": {
      "text/plain": [
       "ICME Plasma/Field Start Y/M/D (UT) (b)     0\n",
       "ICME Plasma/Field End Y/M/D (UT) (b)       0\n",
       "BDE? (e)                                  12\n",
       "Qual. (g)                                  0\n",
       "dV (km/s) (h)                              1\n",
       "V_ICME (km/s) (i)                          0\n",
       "V_max (km/s) (j)                           0\n",
       "B (nT) (k)                                 0\n",
       "MC? (l)                                    0\n",
       "Dst (nT) (m)                               7\n",
       "dtype: int64"
      ]
     },
     "execution_count": 17,
     "metadata": {},
     "output_type": "execute_result"
    }
   ],
   "source": [
    "df.isna().sum()"
   ]
  },
  {
   "cell_type": "code",
   "execution_count": 18,
   "metadata": {},
   "outputs": [
    {
     "data": {
      "text/plain": [
       "ICME Plasma/Field Start Y/M/D (UT) (b)    object\n",
       "ICME Plasma/Field End Y/M/D (UT) (b)      object\n",
       "BDE? (e)                                  object\n",
       "Qual. (g)                                 object\n",
       "dV (km/s) (h)                             object\n",
       "V_ICME (km/s) (i)                          int64\n",
       "V_max (km/s) (j)                           int64\n",
       "B (nT) (k)                                 int64\n",
       "MC? (l)                                   object\n",
       "Dst (nT) (m)                              object\n",
       "dtype: object"
      ]
     },
     "execution_count": 18,
     "metadata": {},
     "output_type": "execute_result"
    }
   ],
   "source": [
    "df.dtypes"
   ]
  },
  {
   "cell_type": "markdown",
   "metadata": {},
   "source": [
    "before working on data dtypes, let's change the dtype of start and end ICME columns and subtract to come up with a time interval."
   ]
  },
  {
   "cell_type": "code",
   "execution_count": 19,
   "metadata": {},
   "outputs": [],
   "source": [
    "df['ICME Plasma/Field Start Y/M/D (UT) (b)'] = pd.to_datetime(df['ICME Plasma/Field Start Y/M/D (UT) (b)'])\n",
    "df['ICME Plasma/Field End Y/M/D (UT) (b)'] = pd.to_datetime(df['ICME Plasma/Field End Y/M/D (UT) (b)'])"
   ]
  },
  {
   "cell_type": "code",
   "execution_count": 20,
   "metadata": {},
   "outputs": [
    {
     "data": {
      "text/plain": [
       "ICME Plasma/Field Start Y/M/D (UT) (b)    datetime64[ns]\n",
       "ICME Plasma/Field End Y/M/D (UT) (b)      datetime64[ns]\n",
       "BDE? (e)                                          object\n",
       "Qual. (g)                                         object\n",
       "dV (km/s) (h)                                     object\n",
       "V_ICME (km/s) (i)                                  int64\n",
       "V_max (km/s) (j)                                   int64\n",
       "B (nT) (k)                                         int64\n",
       "MC? (l)                                           object\n",
       "Dst (nT) (m)                                      object\n",
       "dtype: object"
      ]
     },
     "execution_count": 20,
     "metadata": {},
     "output_type": "execute_result"
    }
   ],
   "source": [
    "df.dtypes"
   ]
  },
  {
   "cell_type": "markdown",
   "metadata": {},
   "source": [
    "time interval for each ICME."
   ]
  },
  {
   "cell_type": "code",
   "execution_count": 21,
   "metadata": {},
   "outputs": [],
   "source": [
    "df['time_interval'] = df['ICME Plasma/Field End Y/M/D (UT) (b)'] - \\\n",
    "                    df['ICME Plasma/Field Start Y/M/D (UT) (b)']"
   ]
  },
  {
   "cell_type": "code",
   "execution_count": 22,
   "metadata": {},
   "outputs": [
    {
     "data": {
      "text/html": [
       "<div>\n",
       "<style scoped>\n",
       "    .dataframe tbody tr th:only-of-type {\n",
       "        vertical-align: middle;\n",
       "    }\n",
       "\n",
       "    .dataframe tbody tr th {\n",
       "        vertical-align: top;\n",
       "    }\n",
       "\n",
       "    .dataframe thead th {\n",
       "        text-align: right;\n",
       "    }\n",
       "</style>\n",
       "<table border=\"1\" class=\"dataframe\">\n",
       "  <thead>\n",
       "    <tr style=\"text-align: right;\">\n",
       "      <th></th>\n",
       "      <th>ICME Plasma/Field Start Y/M/D (UT) (b)</th>\n",
       "      <th>ICME Plasma/Field End Y/M/D (UT) (b)</th>\n",
       "      <th>BDE? (e)</th>\n",
       "      <th>Qual. (g)</th>\n",
       "      <th>dV (km/s) (h)</th>\n",
       "      <th>V_ICME (km/s) (i)</th>\n",
       "      <th>V_max (km/s) (j)</th>\n",
       "      <th>B (nT) (k)</th>\n",
       "      <th>MC? (l)</th>\n",
       "      <th>Dst (nT) (m)</th>\n",
       "      <th>time_interval</th>\n",
       "    </tr>\n",
       "  </thead>\n",
       "  <tbody>\n",
       "    <tr>\n",
       "      <th>0</th>\n",
       "      <td>1996-05-27 15:00:00</td>\n",
       "      <td>1996-05-29 03:00:00</td>\n",
       "      <td>N</td>\n",
       "      <td>2</td>\n",
       "      <td>0</td>\n",
       "      <td>370</td>\n",
       "      <td>400</td>\n",
       "      <td>9</td>\n",
       "      <td>2</td>\n",
       "      <td>-33</td>\n",
       "      <td>1 days 12:00:00</td>\n",
       "    </tr>\n",
       "    <tr>\n",
       "      <th>1</th>\n",
       "      <td>1996-07-01 18:00:00</td>\n",
       "      <td>1996-07-02 11:00:00</td>\n",
       "      <td>N</td>\n",
       "      <td>3</td>\n",
       "      <td>40</td>\n",
       "      <td>360</td>\n",
       "      <td>370</td>\n",
       "      <td>11</td>\n",
       "      <td>2</td>\n",
       "      <td>-20</td>\n",
       "      <td>0 days 17:00:00</td>\n",
       "    </tr>\n",
       "    <tr>\n",
       "      <th>2</th>\n",
       "      <td>1996-08-07 12:00:00</td>\n",
       "      <td>1996-08-08 10:00:00</td>\n",
       "      <td>N</td>\n",
       "      <td>2</td>\n",
       "      <td>10</td>\n",
       "      <td>350</td>\n",
       "      <td>380</td>\n",
       "      <td>7</td>\n",
       "      <td>2</td>\n",
       "      <td>-23</td>\n",
       "      <td>0 days 22:00:00</td>\n",
       "    </tr>\n",
       "    <tr>\n",
       "      <th>3</th>\n",
       "      <td>1996-12-23 17:00:00</td>\n",
       "      <td>1996-12-25 11:00:00</td>\n",
       "      <td>N</td>\n",
       "      <td>2</td>\n",
       "      <td>20</td>\n",
       "      <td>360</td>\n",
       "      <td>420</td>\n",
       "      <td>10</td>\n",
       "      <td>2</td>\n",
       "      <td>-18</td>\n",
       "      <td>1 days 18:00:00</td>\n",
       "    </tr>\n",
       "    <tr>\n",
       "      <th>4</th>\n",
       "      <td>1997-01-10 04:00:00</td>\n",
       "      <td>1997-01-11 02:00:00</td>\n",
       "      <td>Y</td>\n",
       "      <td>1</td>\n",
       "      <td>100 S</td>\n",
       "      <td>450</td>\n",
       "      <td>460</td>\n",
       "      <td>14</td>\n",
       "      <td>2</td>\n",
       "      <td>-78</td>\n",
       "      <td>0 days 22:00:00</td>\n",
       "    </tr>\n",
       "  </tbody>\n",
       "</table>\n",
       "</div>"
      ],
      "text/plain": [
       "  ICME Plasma/Field Start Y/M/D (UT) (b) ICME Plasma/Field End Y/M/D (UT) (b)  \\\n",
       "0                    1996-05-27 15:00:00                  1996-05-29 03:00:00   \n",
       "1                    1996-07-01 18:00:00                  1996-07-02 11:00:00   \n",
       "2                    1996-08-07 12:00:00                  1996-08-08 10:00:00   \n",
       "3                    1996-12-23 17:00:00                  1996-12-25 11:00:00   \n",
       "4                    1997-01-10 04:00:00                  1997-01-11 02:00:00   \n",
       "\n",
       "  BDE? (e) Qual. (g) dV (km/s) (h)  V_ICME (km/s) (i)  V_max (km/s) (j)  \\\n",
       "0        N         2             0                370               400   \n",
       "1        N         3            40                360               370   \n",
       "2        N         2            10                350               380   \n",
       "3        N         2            20                360               420   \n",
       "4        Y         1         100 S                450               460   \n",
       "\n",
       "   B (nT) (k) MC? (l) Dst (nT) (m)   time_interval  \n",
       "0           9       2          -33 1 days 12:00:00  \n",
       "1          11       2          -20 0 days 17:00:00  \n",
       "2           7       2          -23 0 days 22:00:00  \n",
       "3          10       2          -18 1 days 18:00:00  \n",
       "4          14       2          -78 0 days 22:00:00  "
      ]
     },
     "execution_count": 22,
     "metadata": {},
     "output_type": "execute_result"
    }
   ],
   "source": [
    "df.head()"
   ]
  },
  {
   "cell_type": "code",
   "execution_count": 23,
   "metadata": {},
   "outputs": [
    {
     "data": {
      "text/plain": [
       "<matplotlib.axes._subplots.AxesSubplot at 0x7fe98bde24e0>"
      ]
     },
     "execution_count": 23,
     "metadata": {},
     "output_type": "execute_result"
    },
    {
     "data": {
      "image/png": "[encoded data removed]",
      "text/plain": [
       "<Figure size 432x288 with 1 Axes>"
      ]
     },
     "metadata": {
      "image/png": {
       "height": 258,
       "width": 373
      },
      "needs_background": "light"
     },
     "output_type": "display_data"
    }
   ],
   "source": [
    "df['time_interval'].plot()"
   ]
  },
  {
   "cell_type": "code",
   "execution_count": 24,
   "metadata": {},
   "outputs": [
    {
     "name": "stdout",
     "output_type": "stream",
     "text": [
      "<class 'pandas.core.frame.DataFrame'>\n",
      "RangeIndex: 513 entries, 0 to 512\n",
      "Data columns (total 11 columns):\n",
      "ICME Plasma/Field Start Y/M/D (UT) (b)    513 non-null datetime64[ns]\n",
      "ICME Plasma/Field End Y/M/D (UT) (b)      513 non-null datetime64[ns]\n",
      "BDE? (e)                                  501 non-null object\n",
      "Qual. (g)                                 513 non-null object\n",
      "dV (km/s) (h)                             512 non-null object\n",
      "V_ICME (km/s) (i)                         513 non-null int64\n",
      "V_max (km/s) (j)                          513 non-null int64\n",
      "B (nT) (k)                                513 non-null int64\n",
      "MC? (l)                                   513 non-null object\n",
      "Dst (nT) (m)                              506 non-null object\n",
      "time_interval                             513 non-null timedelta64[ns]\n",
      "dtypes: datetime64[ns](2), int64(3), object(5), timedelta64[ns](1)\n",
      "memory usage: 44.2+ KB\n"
     ]
    }
   ],
   "source": [
    "df.info()"
   ]
  },
  {
   "cell_type": "markdown",
   "metadata": {},
   "source": [
    "Let's add a new column with flaot format and normalized values. "
   ]
  },
  {
   "cell_type": "code",
   "execution_count": 25,
   "metadata": {},
   "outputs": [
    {
     "data": {
      "text/plain": [
       "Timedelta('0 days 03:00:00')"
      ]
     },
     "execution_count": 25,
     "metadata": {},
     "output_type": "execute_result"
    }
   ],
   "source": [
    "df['time_interval'].min()"
   ]
  },
  {
   "cell_type": "markdown",
   "metadata": {},
   "source": [
    "A minimum of 3 hours is used for normalization purposes.\n",
    "\n",
    "Remember that later any new data should be normalized based on 3 hours and used as a feature."
   ]
  },
  {
   "cell_type": "code",
   "execution_count": 26,
   "metadata": {},
   "outputs": [],
   "source": [
    " df['Normalized_time_interval'] = (df['time_interval'] - df['time_interval'].min())  / np.timedelta64(1,'D')"
   ]
  },
  {
   "cell_type": "code",
   "execution_count": 27,
   "metadata": {},
   "outputs": [
    {
     "name": "stdout",
     "output_type": "stream",
     "text": [
      "<class 'pandas.core.frame.DataFrame'>\n",
      "RangeIndex: 513 entries, 0 to 512\n",
      "Data columns (total 12 columns):\n",
      "ICME Plasma/Field Start Y/M/D (UT) (b)    513 non-null datetime64[ns]\n",
      "ICME Plasma/Field End Y/M/D (UT) (b)      513 non-null datetime64[ns]\n",
      "BDE? (e)                                  501 non-null object\n",
      "Qual. (g)                                 513 non-null object\n",
      "dV (km/s) (h)                             512 non-null object\n",
      "V_ICME (km/s) (i)                         513 non-null int64\n",
      "V_max (km/s) (j)                          513 non-null int64\n",
      "B (nT) (k)                                513 non-null int64\n",
      "MC? (l)                                   513 non-null object\n",
      "Dst (nT) (m)                              506 non-null object\n",
      "time_interval                             513 non-null timedelta64[ns]\n",
      "Normalized_time_interval                  513 non-null float64\n",
      "dtypes: datetime64[ns](2), float64(1), int64(3), object(5), timedelta64[ns](1)\n",
      "memory usage: 48.2+ KB\n"
     ]
    }
   ],
   "source": [
    "df.info()"
   ]
  },
  {
   "cell_type": "code",
   "execution_count": 28,
   "metadata": {},
   "outputs": [
    {
     "data": {
      "text/plain": [
       "<matplotlib.axes._subplots.AxesSubplot at 0x7fe98d16b908>"
      ]
     },
     "execution_count": 28,
     "metadata": {},
     "output_type": "execute_result"
    },
    {
     "data": {
      "image/png": "[encoded data removed]",
      "text/plain": [
       "<Figure size 432x288 with 1 Axes>"
      ]
     },
     "metadata": {
      "image/png": {
       "height": 250,
       "width": 373
      },
      "needs_background": "light"
     },
     "output_type": "display_data"
    }
   ],
   "source": [
    "df['Normalized_time_interval'].plot()"
   ]
  },
  {
   "cell_type": "code",
   "execution_count": 29,
   "metadata": {},
   "outputs": [
    {
     "data": {
      "text/html": [
       "<div>\n",
       "<style scoped>\n",
       "    .dataframe tbody tr th:only-of-type {\n",
       "        vertical-align: middle;\n",
       "    }\n",
       "\n",
       "    .dataframe tbody tr th {\n",
       "        vertical-align: top;\n",
       "    }\n",
       "\n",
       "    .dataframe thead th {\n",
       "        text-align: right;\n",
       "    }\n",
       "</style>\n",
       "<table border=\"1\" class=\"dataframe\">\n",
       "  <thead>\n",
       "    <tr style=\"text-align: right;\">\n",
       "      <th></th>\n",
       "      <th>ICME Plasma/Field Start Y/M/D (UT) (b)</th>\n",
       "      <th>ICME Plasma/Field End Y/M/D (UT) (b)</th>\n",
       "      <th>BDE? (e)</th>\n",
       "      <th>Qual. (g)</th>\n",
       "      <th>dV (km/s) (h)</th>\n",
       "      <th>V_ICME (km/s) (i)</th>\n",
       "      <th>V_max (km/s) (j)</th>\n",
       "      <th>B (nT) (k)</th>\n",
       "      <th>MC? (l)</th>\n",
       "      <th>Dst (nT) (m)</th>\n",
       "      <th>time_interval</th>\n",
       "      <th>Normalized_time_interval</th>\n",
       "    </tr>\n",
       "  </thead>\n",
       "  <tbody>\n",
       "    <tr>\n",
       "      <th>0</th>\n",
       "      <td>1996-05-27 15:00:00</td>\n",
       "      <td>1996-05-29 03:00:00</td>\n",
       "      <td>N</td>\n",
       "      <td>2</td>\n",
       "      <td>0</td>\n",
       "      <td>370</td>\n",
       "      <td>400</td>\n",
       "      <td>9</td>\n",
       "      <td>2</td>\n",
       "      <td>-33</td>\n",
       "      <td>1 days 12:00:00</td>\n",
       "      <td>1.375000</td>\n",
       "    </tr>\n",
       "    <tr>\n",
       "      <th>1</th>\n",
       "      <td>1996-07-01 18:00:00</td>\n",
       "      <td>1996-07-02 11:00:00</td>\n",
       "      <td>N</td>\n",
       "      <td>3</td>\n",
       "      <td>40</td>\n",
       "      <td>360</td>\n",
       "      <td>370</td>\n",
       "      <td>11</td>\n",
       "      <td>2</td>\n",
       "      <td>-20</td>\n",
       "      <td>0 days 17:00:00</td>\n",
       "      <td>0.583333</td>\n",
       "    </tr>\n",
       "    <tr>\n",
       "      <th>2</th>\n",
       "      <td>1996-08-07 12:00:00</td>\n",
       "      <td>1996-08-08 10:00:00</td>\n",
       "      <td>N</td>\n",
       "      <td>2</td>\n",
       "      <td>10</td>\n",
       "      <td>350</td>\n",
       "      <td>380</td>\n",
       "      <td>7</td>\n",
       "      <td>2</td>\n",
       "      <td>-23</td>\n",
       "      <td>0 days 22:00:00</td>\n",
       "      <td>0.791667</td>\n",
       "    </tr>\n",
       "    <tr>\n",
       "      <th>3</th>\n",
       "      <td>1996-12-23 17:00:00</td>\n",
       "      <td>1996-12-25 11:00:00</td>\n",
       "      <td>N</td>\n",
       "      <td>2</td>\n",
       "      <td>20</td>\n",
       "      <td>360</td>\n",
       "      <td>420</td>\n",
       "      <td>10</td>\n",
       "      <td>2</td>\n",
       "      <td>-18</td>\n",
       "      <td>1 days 18:00:00</td>\n",
       "      <td>1.625000</td>\n",
       "    </tr>\n",
       "    <tr>\n",
       "      <th>4</th>\n",
       "      <td>1997-01-10 04:00:00</td>\n",
       "      <td>1997-01-11 02:00:00</td>\n",
       "      <td>Y</td>\n",
       "      <td>1</td>\n",
       "      <td>100 S</td>\n",
       "      <td>450</td>\n",
       "      <td>460</td>\n",
       "      <td>14</td>\n",
       "      <td>2</td>\n",
       "      <td>-78</td>\n",
       "      <td>0 days 22:00:00</td>\n",
       "      <td>0.791667</td>\n",
       "    </tr>\n",
       "  </tbody>\n",
       "</table>\n",
       "</div>"
      ],
      "text/plain": [
       "  ICME Plasma/Field Start Y/M/D (UT) (b) ICME Plasma/Field End Y/M/D (UT) (b)  \\\n",
       "0                    1996-05-27 15:00:00                  1996-05-29 03:00:00   \n",
       "1                    1996-07-01 18:00:00                  1996-07-02 11:00:00   \n",
       "2                    1996-08-07 12:00:00                  1996-08-08 10:00:00   \n",
       "3                    1996-12-23 17:00:00                  1996-12-25 11:00:00   \n",
       "4                    1997-01-10 04:00:00                  1997-01-11 02:00:00   \n",
       "\n",
       "  BDE? (e) Qual. (g) dV (km/s) (h)  V_ICME (km/s) (i)  V_max (km/s) (j)  \\\n",
       "0        N         2             0                370               400   \n",
       "1        N         3            40                360               370   \n",
       "2        N         2            10                350               380   \n",
       "3        N         2            20                360               420   \n",
       "4        Y         1         100 S                450               460   \n",
       "\n",
       "   B (nT) (k) MC? (l) Dst (nT) (m)   time_interval  Normalized_time_interval  \n",
       "0           9       2          -33 1 days 12:00:00                  1.375000  \n",
       "1          11       2          -20 0 days 17:00:00                  0.583333  \n",
       "2           7       2          -23 0 days 22:00:00                  0.791667  \n",
       "3          10       2          -18 1 days 18:00:00                  1.625000  \n",
       "4          14       2          -78 0 days 22:00:00                  0.791667  "
      ]
     },
     "execution_count": 29,
     "metadata": {},
     "output_type": "execute_result"
    }
   ],
   "source": [
    "df.head()"
   ]
  },
  {
   "cell_type": "code",
   "execution_count": 30,
   "metadata": {},
   "outputs": [],
   "source": [
    "df = df.drop(columns=['time_interval'])"
   ]
  },
  {
   "cell_type": "code",
   "execution_count": 31,
   "metadata": {},
   "outputs": [
    {
     "data": {
      "text/html": [
       "<div>\n",
       "<style scoped>\n",
       "    .dataframe tbody tr th:only-of-type {\n",
       "        vertical-align: middle;\n",
       "    }\n",
       "\n",
       "    .dataframe tbody tr th {\n",
       "        vertical-align: top;\n",
       "    }\n",
       "\n",
       "    .dataframe thead th {\n",
       "        text-align: right;\n",
       "    }\n",
       "</style>\n",
       "<table border=\"1\" class=\"dataframe\">\n",
       "  <thead>\n",
       "    <tr style=\"text-align: right;\">\n",
       "      <th></th>\n",
       "      <th>ICME Plasma/Field Start Y/M/D (UT) (b)</th>\n",
       "      <th>ICME Plasma/Field End Y/M/D (UT) (b)</th>\n",
       "      <th>BDE? (e)</th>\n",
       "      <th>Qual. (g)</th>\n",
       "      <th>dV (km/s) (h)</th>\n",
       "      <th>V_ICME (km/s) (i)</th>\n",
       "      <th>V_max (km/s) (j)</th>\n",
       "      <th>B (nT) (k)</th>\n",
       "      <th>MC? (l)</th>\n",
       "      <th>Dst (nT) (m)</th>\n",
       "      <th>Normalized_time_interval</th>\n",
       "    </tr>\n",
       "  </thead>\n",
       "  <tbody>\n",
       "    <tr>\n",
       "      <th>0</th>\n",
       "      <td>1996-05-27 15:00:00</td>\n",
       "      <td>1996-05-29 03:00:00</td>\n",
       "      <td>N</td>\n",
       "      <td>2</td>\n",
       "      <td>0</td>\n",
       "      <td>370</td>\n",
       "      <td>400</td>\n",
       "      <td>9</td>\n",
       "      <td>2</td>\n",
       "      <td>-33</td>\n",
       "      <td>1.375000</td>\n",
       "    </tr>\n",
       "    <tr>\n",
       "      <th>1</th>\n",
       "      <td>1996-07-01 18:00:00</td>\n",
       "      <td>1996-07-02 11:00:00</td>\n",
       "      <td>N</td>\n",
       "      <td>3</td>\n",
       "      <td>40</td>\n",
       "      <td>360</td>\n",
       "      <td>370</td>\n",
       "      <td>11</td>\n",
       "      <td>2</td>\n",
       "      <td>-20</td>\n",
       "      <td>0.583333</td>\n",
       "    </tr>\n",
       "    <tr>\n",
       "      <th>2</th>\n",
       "      <td>1996-08-07 12:00:00</td>\n",
       "      <td>1996-08-08 10:00:00</td>\n",
       "      <td>N</td>\n",
       "      <td>2</td>\n",
       "      <td>10</td>\n",
       "      <td>350</td>\n",
       "      <td>380</td>\n",
       "      <td>7</td>\n",
       "      <td>2</td>\n",
       "      <td>-23</td>\n",
       "      <td>0.791667</td>\n",
       "    </tr>\n",
       "    <tr>\n",
       "      <th>3</th>\n",
       "      <td>1996-12-23 17:00:00</td>\n",
       "      <td>1996-12-25 11:00:00</td>\n",
       "      <td>N</td>\n",
       "      <td>2</td>\n",
       "      <td>20</td>\n",
       "      <td>360</td>\n",
       "      <td>420</td>\n",
       "      <td>10</td>\n",
       "      <td>2</td>\n",
       "      <td>-18</td>\n",
       "      <td>1.625000</td>\n",
       "    </tr>\n",
       "    <tr>\n",
       "      <th>4</th>\n",
       "      <td>1997-01-10 04:00:00</td>\n",
       "      <td>1997-01-11 02:00:00</td>\n",
       "      <td>Y</td>\n",
       "      <td>1</td>\n",
       "      <td>100 S</td>\n",
       "      <td>450</td>\n",
       "      <td>460</td>\n",
       "      <td>14</td>\n",
       "      <td>2</td>\n",
       "      <td>-78</td>\n",
       "      <td>0.791667</td>\n",
       "    </tr>\n",
       "  </tbody>\n",
       "</table>\n",
       "</div>"
      ],
      "text/plain": [
       "  ICME Plasma/Field Start Y/M/D (UT) (b) ICME Plasma/Field End Y/M/D (UT) (b)  \\\n",
       "0                    1996-05-27 15:00:00                  1996-05-29 03:00:00   \n",
       "1                    1996-07-01 18:00:00                  1996-07-02 11:00:00   \n",
       "2                    1996-08-07 12:00:00                  1996-08-08 10:00:00   \n",
       "3                    1996-12-23 17:00:00                  1996-12-25 11:00:00   \n",
       "4                    1997-01-10 04:00:00                  1997-01-11 02:00:00   \n",
       "\n",
       "  BDE? (e) Qual. (g) dV (km/s) (h)  V_ICME (km/s) (i)  V_max (km/s) (j)  \\\n",
       "0        N         2             0                370               400   \n",
       "1        N         3            40                360               370   \n",
       "2        N         2            10                350               380   \n",
       "3        N         2            20                360               420   \n",
       "4        Y         1         100 S                450               460   \n",
       "\n",
       "   B (nT) (k) MC? (l) Dst (nT) (m)  Normalized_time_interval  \n",
       "0           9       2          -33                  1.375000  \n",
       "1          11       2          -20                  0.583333  \n",
       "2           7       2          -23                  0.791667  \n",
       "3          10       2          -18                  1.625000  \n",
       "4          14       2          -78                  0.791667  "
      ]
     },
     "execution_count": 31,
     "metadata": {},
     "output_type": "execute_result"
    }
   ],
   "source": [
    "df.head()"
   ]
  },
  {
   "cell_type": "code",
   "execution_count": 32,
   "metadata": {},
   "outputs": [
    {
     "data": {
      "text/plain": [
       "ICME Plasma/Field Start Y/M/D (UT) (b)     0\n",
       "ICME Plasma/Field End Y/M/D (UT) (b)       0\n",
       "BDE? (e)                                  12\n",
       "Qual. (g)                                  0\n",
       "dV (km/s) (h)                              1\n",
       "V_ICME (km/s) (i)                          0\n",
       "V_max (km/s) (j)                           0\n",
       "B (nT) (k)                                 0\n",
       "MC? (l)                                    0\n",
       "Dst (nT) (m)                               7\n",
       "Normalized_time_interval                   0\n",
       "dtype: int64"
      ]
     },
     "execution_count": 32,
     "metadata": {},
     "output_type": "execute_result"
    }
   ],
   "source": [
    "df.isna().sum()"
   ]
  },
  {
   "cell_type": "code",
   "execution_count": 33,
   "metadata": {},
   "outputs": [
    {
     "data": {
      "text/plain": [
       "array(['N', 'Y', nan, 'SEP'], dtype=object)"
      ]
     },
     "execution_count": 33,
     "metadata": {},
     "output_type": "execute_result"
    }
   ],
   "source": [
    "df['BDE? (e)'].unique()"
   ]
  },
  {
   "cell_type": "markdown",
   "metadata": {},
   "source": [
    "let's drop those rows with nan."
   ]
  },
  {
   "cell_type": "code",
   "execution_count": 34,
   "metadata": {},
   "outputs": [],
   "source": [
    "df = df.dropna()"
   ]
  },
  {
   "cell_type": "code",
   "execution_count": 35,
   "metadata": {},
   "outputs": [
    {
     "data": {
      "text/plain": [
       "ICME Plasma/Field Start Y/M/D (UT) (b)    0\n",
       "ICME Plasma/Field End Y/M/D (UT) (b)      0\n",
       "BDE? (e)                                  0\n",
       "Qual. (g)                                 0\n",
       "dV (km/s) (h)                             0\n",
       "V_ICME (km/s) (i)                         0\n",
       "V_max (km/s) (j)                          0\n",
       "B (nT) (k)                                0\n",
       "MC? (l)                                   0\n",
       "Dst (nT) (m)                              0\n",
       "Normalized_time_interval                  0\n",
       "dtype: int64"
      ]
     },
     "execution_count": 35,
     "metadata": {},
     "output_type": "execute_result"
    }
   ],
   "source": [
    "df.isna().sum()"
   ]
  },
  {
   "cell_type": "code",
   "execution_count": 36,
   "metadata": {},
   "outputs": [
    {
     "data": {
      "text/html": [
       "<div>\n",
       "<style scoped>\n",
       "    .dataframe tbody tr th:only-of-type {\n",
       "        vertical-align: middle;\n",
       "    }\n",
       "\n",
       "    .dataframe tbody tr th {\n",
       "        vertical-align: top;\n",
       "    }\n",
       "\n",
       "    .dataframe thead th {\n",
       "        text-align: right;\n",
       "    }\n",
       "</style>\n",
       "<table border=\"1\" class=\"dataframe\">\n",
       "  <thead>\n",
       "    <tr style=\"text-align: right;\">\n",
       "      <th></th>\n",
       "      <th>ICME Plasma/Field Start Y/M/D (UT) (b)</th>\n",
       "      <th>ICME Plasma/Field End Y/M/D (UT) (b)</th>\n",
       "      <th>BDE? (e)</th>\n",
       "      <th>Qual. (g)</th>\n",
       "      <th>dV (km/s) (h)</th>\n",
       "      <th>V_ICME (km/s) (i)</th>\n",
       "      <th>V_max (km/s) (j)</th>\n",
       "      <th>B (nT) (k)</th>\n",
       "      <th>MC? (l)</th>\n",
       "      <th>Dst (nT) (m)</th>\n",
       "      <th>Normalized_time_interval</th>\n",
       "    </tr>\n",
       "  </thead>\n",
       "  <tbody>\n",
       "    <tr>\n",
       "      <th>0</th>\n",
       "      <td>1996-05-27 15:00:00</td>\n",
       "      <td>1996-05-29 03:00:00</td>\n",
       "      <td>N</td>\n",
       "      <td>2</td>\n",
       "      <td>0</td>\n",
       "      <td>370</td>\n",
       "      <td>400</td>\n",
       "      <td>9</td>\n",
       "      <td>2</td>\n",
       "      <td>-33</td>\n",
       "      <td>1.375000</td>\n",
       "    </tr>\n",
       "    <tr>\n",
       "      <th>1</th>\n",
       "      <td>1996-07-01 18:00:00</td>\n",
       "      <td>1996-07-02 11:00:00</td>\n",
       "      <td>N</td>\n",
       "      <td>3</td>\n",
       "      <td>40</td>\n",
       "      <td>360</td>\n",
       "      <td>370</td>\n",
       "      <td>11</td>\n",
       "      <td>2</td>\n",
       "      <td>-20</td>\n",
       "      <td>0.583333</td>\n",
       "    </tr>\n",
       "    <tr>\n",
       "      <th>2</th>\n",
       "      <td>1996-08-07 12:00:00</td>\n",
       "      <td>1996-08-08 10:00:00</td>\n",
       "      <td>N</td>\n",
       "      <td>2</td>\n",
       "      <td>10</td>\n",
       "      <td>350</td>\n",
       "      <td>380</td>\n",
       "      <td>7</td>\n",
       "      <td>2</td>\n",
       "      <td>-23</td>\n",
       "      <td>0.791667</td>\n",
       "    </tr>\n",
       "    <tr>\n",
       "      <th>3</th>\n",
       "      <td>1996-12-23 17:00:00</td>\n",
       "      <td>1996-12-25 11:00:00</td>\n",
       "      <td>N</td>\n",
       "      <td>2</td>\n",
       "      <td>20</td>\n",
       "      <td>360</td>\n",
       "      <td>420</td>\n",
       "      <td>10</td>\n",
       "      <td>2</td>\n",
       "      <td>-18</td>\n",
       "      <td>1.625000</td>\n",
       "    </tr>\n",
       "    <tr>\n",
       "      <th>4</th>\n",
       "      <td>1997-01-10 04:00:00</td>\n",
       "      <td>1997-01-11 02:00:00</td>\n",
       "      <td>Y</td>\n",
       "      <td>1</td>\n",
       "      <td>100 S</td>\n",
       "      <td>450</td>\n",
       "      <td>460</td>\n",
       "      <td>14</td>\n",
       "      <td>2</td>\n",
       "      <td>-78</td>\n",
       "      <td>0.791667</td>\n",
       "    </tr>\n",
       "  </tbody>\n",
       "</table>\n",
       "</div>"
      ],
      "text/plain": [
       "  ICME Plasma/Field Start Y/M/D (UT) (b) ICME Plasma/Field End Y/M/D (UT) (b)  \\\n",
       "0                    1996-05-27 15:00:00                  1996-05-29 03:00:00   \n",
       "1                    1996-07-01 18:00:00                  1996-07-02 11:00:00   \n",
       "2                    1996-08-07 12:00:00                  1996-08-08 10:00:00   \n",
       "3                    1996-12-23 17:00:00                  1996-12-25 11:00:00   \n",
       "4                    1997-01-10 04:00:00                  1997-01-11 02:00:00   \n",
       "\n",
       "  BDE? (e) Qual. (g) dV (km/s) (h)  V_ICME (km/s) (i)  V_max (km/s) (j)  \\\n",
       "0        N         2             0                370               400   \n",
       "1        N         3            40                360               370   \n",
       "2        N         2            10                350               380   \n",
       "3        N         2            20                360               420   \n",
       "4        Y         1         100 S                450               460   \n",
       "\n",
       "   B (nT) (k) MC? (l) Dst (nT) (m)  Normalized_time_interval  \n",
       "0           9       2          -33                  1.375000  \n",
       "1          11       2          -20                  0.583333  \n",
       "2           7       2          -23                  0.791667  \n",
       "3          10       2          -18                  1.625000  \n",
       "4          14       2          -78                  0.791667  "
      ]
     },
     "execution_count": 36,
     "metadata": {},
     "output_type": "execute_result"
    }
   ],
   "source": [
    "df.head()"
   ]
  },
  {
   "cell_type": "code",
   "execution_count": 37,
   "metadata": {},
   "outputs": [
    {
     "data": {
      "text/plain": [
       "Index(['ICME Plasma/Field Start Y/M/D (UT) (b)',\n",
       "       'ICME Plasma/Field End Y/M/D (UT) (b)', 'BDE? (e)', 'Qual. (g)',\n",
       "       'dV (km/s) (h)', 'V_ICME (km/s) (i)', 'V_max (km/s) (j)', 'B (nT) (k)',\n",
       "       'MC? (l)', 'Dst (nT) (m)', 'Normalized_time_interval'],\n",
       "      dtype='object')"
      ]
     },
     "execution_count": 37,
     "metadata": {},
     "output_type": "execute_result"
    }
   ],
   "source": [
    "df.columns"
   ]
  },
  {
   "cell_type": "code",
   "execution_count": 38,
   "metadata": {},
   "outputs": [
    {
     "data": {
      "text/plain": [
       "ICME Plasma/Field Start Y/M/D (UT) (b)    datetime64[ns]\n",
       "ICME Plasma/Field End Y/M/D (UT) (b)      datetime64[ns]\n",
       "BDE? (e)                                          object\n",
       "Qual. (g)                                         object\n",
       "dV (km/s) (h)                                     object\n",
       "V_ICME (km/s) (i)                                  int64\n",
       "V_max (km/s) (j)                                   int64\n",
       "B (nT) (k)                                         int64\n",
       "MC? (l)                                           object\n",
       "Dst (nT) (m)                                      object\n",
       "Normalized_time_interval                         float64\n",
       "dtype: object"
      ]
     },
     "execution_count": 38,
     "metadata": {},
     "output_type": "execute_result"
    }
   ],
   "source": [
    "df.dtypes"
   ]
  },
  {
   "cell_type": "markdown",
   "metadata": {},
   "source": [
    "let's turn the object (strings) into values. The number of string are counted and a number is assigned.\n",
    "\n",
    "columns including ``` 'V_ICME (km/s) (i)', 'V_max (km/s) (j)', 'B (nT) (k)', 'Normalized_time_interval'``` are already int64 and flaot64. No need for turning catogorical to value."
   ]
  },
  {
   "cell_type": "code",
   "execution_count": 39,
   "metadata": {},
   "outputs": [
    {
     "name": "stdout",
     "output_type": "stream",
     "text": [
      "number of unique values for  BDE? (e) =   3\n",
      "number of unique values for  Qual. (g) =   5\n",
      "number of unique values for  dV (km/s) (h) =   62\n",
      "number of unique values for  MC? (l) =   4\n",
      "number of unique values for  Dst (nT) (m) =   221\n"
     ]
    }
   ],
   "source": [
    "cols = ['BDE? (e)', 'Qual. (g)',\n",
    "       'dV (km/s) (h)',\n",
    "       'MC? (l)', 'Dst (nT) (m)']\n",
    "\n",
    "for col in cols:    \n",
    "    print('number of unique values for ', \n",
    "          col, '=  ', df[col].value_counts().count())"
   ]
  },
  {
   "cell_type": "code",
   "execution_count": 40,
   "metadata": {},
   "outputs": [],
   "source": [
    "save_coded_values = []\n",
    "for col in cols:\n",
    "    \n",
    "    \n",
    "    labels = df[col].astype('category').cat.categories.tolist()\n",
    "    replace_map_comp = {col : {k: v for k,v in zip(labels,list(range(1,len(labels)+1)))}}\n",
    "#     print(replace_map_comp1)\n",
    "    save_coded_values.append(replace_map_comp)\n",
    "    df.replace(replace_map_comp, inplace=True)"
   ]
  },
  {
   "cell_type": "code",
   "execution_count": 41,
   "metadata": {},
   "outputs": [
    {
     "data": {
      "text/html": [
       "<div>\n",
       "<style scoped>\n",
       "    .dataframe tbody tr th:only-of-type {\n",
       "        vertical-align: middle;\n",
       "    }\n",
       "\n",
       "    .dataframe tbody tr th {\n",
       "        vertical-align: top;\n",
       "    }\n",
       "\n",
       "    .dataframe thead th {\n",
       "        text-align: right;\n",
       "    }\n",
       "</style>\n",
       "<table border=\"1\" class=\"dataframe\">\n",
       "  <thead>\n",
       "    <tr style=\"text-align: right;\">\n",
       "      <th></th>\n",
       "      <th>ICME Plasma/Field Start Y/M/D (UT) (b)</th>\n",
       "      <th>ICME Plasma/Field End Y/M/D (UT) (b)</th>\n",
       "      <th>BDE? (e)</th>\n",
       "      <th>Qual. (g)</th>\n",
       "      <th>dV (km/s) (h)</th>\n",
       "      <th>V_ICME (km/s) (i)</th>\n",
       "      <th>V_max (km/s) (j)</th>\n",
       "      <th>B (nT) (k)</th>\n",
       "      <th>MC? (l)</th>\n",
       "      <th>Dst (nT) (m)</th>\n",
       "      <th>Normalized_time_interval</th>\n",
       "    </tr>\n",
       "  </thead>\n",
       "  <tbody>\n",
       "    <tr>\n",
       "      <th>0</th>\n",
       "      <td>1996-05-27 15:00:00</td>\n",
       "      <td>1996-05-29 03:00:00</td>\n",
       "      <td>1</td>\n",
       "      <td>2</td>\n",
       "      <td>1</td>\n",
       "      <td>370</td>\n",
       "      <td>400</td>\n",
       "      <td>9</td>\n",
       "      <td>3</td>\n",
       "      <td>117</td>\n",
       "      <td>1.375000</td>\n",
       "    </tr>\n",
       "    <tr>\n",
       "      <th>1</th>\n",
       "      <td>1996-07-01 18:00:00</td>\n",
       "      <td>1996-07-02 11:00:00</td>\n",
       "      <td>1</td>\n",
       "      <td>4</td>\n",
       "      <td>44</td>\n",
       "      <td>360</td>\n",
       "      <td>370</td>\n",
       "      <td>11</td>\n",
       "      <td>3</td>\n",
       "      <td>78</td>\n",
       "      <td>0.583333</td>\n",
       "    </tr>\n",
       "    <tr>\n",
       "      <th>2</th>\n",
       "      <td>1996-08-07 12:00:00</td>\n",
       "      <td>1996-08-08 10:00:00</td>\n",
       "      <td>1</td>\n",
       "      <td>2</td>\n",
       "      <td>2</td>\n",
       "      <td>350</td>\n",
       "      <td>380</td>\n",
       "      <td>7</td>\n",
       "      <td>3</td>\n",
       "      <td>88</td>\n",
       "      <td>0.791667</td>\n",
       "    </tr>\n",
       "    <tr>\n",
       "      <th>3</th>\n",
       "      <td>1996-12-23 17:00:00</td>\n",
       "      <td>1996-12-25 11:00:00</td>\n",
       "      <td>1</td>\n",
       "      <td>2</td>\n",
       "      <td>22</td>\n",
       "      <td>360</td>\n",
       "      <td>420</td>\n",
       "      <td>10</td>\n",
       "      <td>3</td>\n",
       "      <td>69</td>\n",
       "      <td>1.625000</td>\n",
       "    </tr>\n",
       "    <tr>\n",
       "      <th>4</th>\n",
       "      <td>1997-01-10 04:00:00</td>\n",
       "      <td>1997-01-11 02:00:00</td>\n",
       "      <td>3</td>\n",
       "      <td>1</td>\n",
       "      <td>4</td>\n",
       "      <td>450</td>\n",
       "      <td>460</td>\n",
       "      <td>14</td>\n",
       "      <td>3</td>\n",
       "      <td>191</td>\n",
       "      <td>0.791667</td>\n",
       "    </tr>\n",
       "  </tbody>\n",
       "</table>\n",
       "</div>"
      ],
      "text/plain": [
       "  ICME Plasma/Field Start Y/M/D (UT) (b) ICME Plasma/Field End Y/M/D (UT) (b)  \\\n",
       "0                    1996-05-27 15:00:00                  1996-05-29 03:00:00   \n",
       "1                    1996-07-01 18:00:00                  1996-07-02 11:00:00   \n",
       "2                    1996-08-07 12:00:00                  1996-08-08 10:00:00   \n",
       "3                    1996-12-23 17:00:00                  1996-12-25 11:00:00   \n",
       "4                    1997-01-10 04:00:00                  1997-01-11 02:00:00   \n",
       "\n",
       "   BDE? (e)  Qual. (g)  dV (km/s) (h)  V_ICME (km/s) (i)  V_max (km/s) (j)  \\\n",
       "0         1          2              1                370               400   \n",
       "1         1          4             44                360               370   \n",
       "2         1          2              2                350               380   \n",
       "3         1          2             22                360               420   \n",
       "4         3          1              4                450               460   \n",
       "\n",
       "   B (nT) (k)  MC? (l)  Dst (nT) (m)  Normalized_time_interval  \n",
       "0           9        3           117                  1.375000  \n",
       "1          11        3            78                  0.583333  \n",
       "2           7        3            88                  0.791667  \n",
       "3          10        3            69                  1.625000  \n",
       "4          14        3           191                  0.791667  "
      ]
     },
     "execution_count": 41,
     "metadata": {},
     "output_type": "execute_result"
    }
   ],
   "source": [
    "df.head()"
   ]
  },
  {
   "cell_type": "code",
   "execution_count": 42,
   "metadata": {},
   "outputs": [
    {
     "name": "stdout",
     "output_type": "stream",
     "text": [
      "<class 'pandas.core.frame.DataFrame'>\n",
      "Int64Index: 493 entries, 0 to 511\n",
      "Data columns (total 11 columns):\n",
      "ICME Plasma/Field Start Y/M/D (UT) (b)    493 non-null datetime64[ns]\n",
      "ICME Plasma/Field End Y/M/D (UT) (b)      493 non-null datetime64[ns]\n",
      "BDE? (e)                                  493 non-null int64\n",
      "Qual. (g)                                 493 non-null int64\n",
      "dV (km/s) (h)                             493 non-null int64\n",
      "V_ICME (km/s) (i)                         493 non-null int64\n",
      "V_max (km/s) (j)                          493 non-null int64\n",
      "B (nT) (k)                                493 non-null int64\n",
      "MC? (l)                                   493 non-null int64\n",
      "Dst (nT) (m)                              493 non-null int64\n",
      "Normalized_time_interval                  493 non-null float64\n",
      "dtypes: datetime64[ns](2), float64(1), int64(8)\n",
      "memory usage: 46.2 KB\n"
     ]
    }
   ],
   "source": [
    "df.info()"
   ]
  },
  {
   "cell_type": "markdown",
   "metadata": {},
   "source": [
    "Nice. Now we have a data set with numerical values ready for ML.\n",
    "\n",
    "Checking out decoded values. Remember, any input values should be decoded before feeding into the ML. The ML uses decoded values for the fitting purposes."
   ]
  },
  {
   "cell_type": "code",
   "execution_count": 44,
   "metadata": {},
   "outputs": [
    {
     "data": {
      "text/plain": [
       "{'BDE? (e)': {'N': 1, 'SEP': 2, 'Y': 3}}"
      ]
     },
     "execution_count": 44,
     "metadata": {},
     "output_type": "execute_result"
    }
   ],
   "source": [
    "save_coded_values[0]"
   ]
  },
  {
   "cell_type": "code",
   "execution_count": 45,
   "metadata": {},
   "outputs": [
    {
     "data": {
      "text/plain": [
       "{'Qual. (g)': {'1': 1, '2': 2, '2W': 3, '3': 4, '3W': 5}}"
      ]
     },
     "execution_count": 45,
     "metadata": {},
     "output_type": "execute_result"
    }
   ],
   "source": [
    "save_coded_values[1]"
   ]
  },
  {
   "cell_type": "markdown",
   "metadata": {},
   "source": [
    "Save the df."
   ]
  },
  {
   "cell_type": "code",
   "execution_count": 46,
   "metadata": {},
   "outputs": [],
   "source": [
    "file_path = \"../Data/\"\n",
    "file_name = \"Data_ICME_Edited_Decoded_out_P02_03.csv\"\n",
    "df.to_csv(file_path+file_name, index=False)"
   ]
  },
  {
   "cell_type": "code",
   "execution_count": null,
   "metadata": {},
   "outputs": [],
   "source": []
  }
 ],
 "metadata": {
  "kernelspec": {
   "display_name": "Python 3",
   "language": "python",
   "name": "python3"
  },
  "language_info": {
   "codemirror_mode": {
    "name": "ipython",
    "version": 3
   },
   "file_extension": ".py",
   "mimetype": "text/x-python",
   "name": "python",
   "nbconvert_exporter": "python",
   "pygments_lexer": "ipython3",
   "version": "3.7.0"
  }
 },
 "nbformat": 4,
 "nbformat_minor": 5
}

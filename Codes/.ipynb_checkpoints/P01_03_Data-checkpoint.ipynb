{
 "cells": [
  {
   "cell_type": "code",
   "execution_count": 10,
   "id": "38538975",
   "metadata": {},
   "outputs": [],
   "source": [
    "import pandas as pd\n",
    "import numpy as np\n",
    "import csv\n",
    "import matplotlib.pyplot as plt"
   ]
  },
  {
   "cell_type": "code",
   "execution_count": 3,
   "id": "032a6285",
   "metadata": {},
   "outputs": [],
   "source": [
    "csv_path = \"../Data/Data_CME.csv\"\n",
    "df = pd.read_csv(csv_path)"
   ]
  },
  {
   "cell_type": "code",
   "execution_count": 6,
   "id": "92f02cf4",
   "metadata": {},
   "outputs": [],
   "source": [
    "df = df.iloc[: , 1:]"
   ]
  },
  {
   "cell_type": "code",
   "execution_count": 8,
   "id": "76b5eb07",
   "metadata": {},
   "outputs": [
    {
     "name": "stdout",
     "output_type": "stream",
     "text": [
      "<class 'pandas.core.frame.DataFrame'>\n",
      "RangeIndex: 143 entries, 0 to 142\n",
      "Data columns (total 39 columns):\n",
      " #   Column                    Non-Null Count  Dtype \n",
      "---  ------                    --------------  ----- \n",
      " 0   HICAT_ID                  143 non-null    object\n",
      " 1   SSE_LAUNCH [UTC]          143 non-null    object\n",
      " 2   TARGET_NAME               143 non-null    object\n",
      " 3   TARGET_ARRIVAL [UTC]      143 non-null    object\n",
      " 4   ICMECAT_ID                143 non-null    object\n",
      " 5   SC_INSITU                 143 non-null    object\n",
      " 6   ICME_START_TIME [UTC]     143 non-null    object\n",
      " 7   ARRIVAL_DIFFERENCE [hrs]  143 non-null    int64 \n",
      " 8   SC_HELIODISTANCE [AU]     143 non-null    int64 \n",
      " 9   SC_LONG_HEEQ [deg]        143 non-null    int64 \n",
      " 10  SC_LAT_HEEQ [deg]         143 non-null    int64 \n",
      " 11  SOURCE_TYPE               81 non-null     object\n",
      " 12  SOURCE_LONG_HEEQ [deg]    143 non-null    int64 \n",
      " 13  SOURCE_LAT_HEEQ [deg]     143 non-null    int64 \n",
      " 14  FLARE_CLASS               80 non-null     object\n",
      " 15  FLARE_START_TIME [UTC]    76 non-null     object\n",
      " 16  FLARE_END_TIME [UTC]      76 non-null     object\n",
      " 17  FLARE_PEAK_TIME [UTC]     76 non-null     object\n",
      " 18  CME_SSE_LONG_HEEQ [deg]   143 non-null    int64 \n",
      " 19  CME_SSE_LAT_HEEQ [deg]    143 non-null    int64 \n",
      " 20  CME_SSE_SPEED [kms-1]     143 non-null    int64 \n",
      " 21  CME_TARGET_SPEED [kms-1]  143 non-null    int64 \n",
      " 22  MO_START_TIME [UTC]       143 non-null    object\n",
      " 23  MO_END_TIME [UTC]         143 non-null    object\n",
      " 24  MO_BMEAN [nT]             143 non-null    int64 \n",
      " 25  MO_BSTD [nT]              143 non-null    int64 \n",
      " 26  MO_BZMEAN [nT]            143 non-null    int64 \n",
      " 27  MO_BZMIN [nT]             143 non-null    int64 \n",
      " 28  MO_MVA_AXIS_LONG [deg]    143 non-null    int64 \n",
      " 29  MO_MVA_AXIS_LAT [deg]     143 non-null    int64 \n",
      " 30  MO_MVA_RATIO              143 non-null    int64 \n",
      " 31  GSR_START_TIME [UTC]      73 non-null     object\n",
      " 32  GSR_START_TIME [UTC].1    73 non-null     object\n",
      " 33  GSR_AXIS_LONG [deg]       143 non-null    int64 \n",
      " 34  GSR_AXIS_LAT [deg]        143 non-null    int64 \n",
      " 35  GSR_IMPACT [AU]           143 non-null    int64 \n",
      " 36  VHTX [kms-1]              143 non-null    int64 \n",
      " 37  VHTY [kms-1]              143 non-null    int64 \n",
      " 38  VHTZ [kms-1]              143 non-null    int64 \n",
      "dtypes: int64(23), object(16)\n",
      "memory usage: 43.7+ KB\n"
     ]
    }
   ],
   "source": [
    "df.info()"
   ]
  },
  {
   "cell_type": "code",
   "execution_count": 11,
   "id": "47d58c93",
   "metadata": {},
   "outputs": [
    {
     "data": {
      "text/plain": [
       "[<matplotlib.lines.Line2D at 0x164afea8250>]"
      ]
     },
     "execution_count": 11,
     "metadata": {},
     "output_type": "execute_result"
    },
    {
     "data": {
      "image/png": "[encoded data removed]",
      "text/plain": [
       "<Figure size 432x288 with 1 Axes>"
      ]
     },
     "metadata": {
      "needs_background": "light"
     },
     "output_type": "display_data"
    }
   ],
   "source": [
    "plt.plot(df['CME_TARGET_SPEED [kms-1]'])"
   ]
  },
  {
   "cell_type": "code",
   "execution_count": null,
   "id": "b4a92c0c",
   "metadata": {},
   "outputs": [],
   "source": []
  },
  {
   "cell_type": "code",
   "execution_count": null,
   "id": "ff6b878d",
   "metadata": {},
   "outputs": [],
   "source": []
  },
  {
   "cell_type": "code",
   "execution_count": null,
   "id": "9ba68871",
   "metadata": {},
   "outputs": [],
   "source": []
  },
  {
   "cell_type": "code",
   "execution_count": null,
   "id": "b5d84acc",
   "metadata": {},
   "outputs": [],
   "source": []
  }
 ],
 "metadata": {
  "kernelspec": {
   "display_name": "Python 3 (ipykernel)",
   "language": "python",
   "name": "python3"
  },
  "language_info": {
   "codemirror_mode": {
    "name": "ipython",
    "version": 3
   },
   "file_extension": ".py",
   "mimetype": "text/x-python",
   "name": "python",
   "nbconvert_exporter": "python",
   "pygments_lexer": "ipython3",
   "version": "3.9.7"
  }
 },
 "nbformat": 4,
 "nbformat_minor": 5
}

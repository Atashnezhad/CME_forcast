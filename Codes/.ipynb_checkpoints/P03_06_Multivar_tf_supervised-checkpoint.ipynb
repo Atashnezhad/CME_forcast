{
 "cells": [
  {
   "cell_type": "markdown",
   "metadata": {},
   "source": [
    "# P03_06_Multivar_tf_supervised\n",
    "\n",
    "\n",
    "\n",
    "\n",
    "DNN Supervised approach to forecast the ICME 18 ahead."
   ]
  },
  {
   "cell_type": "code",
   "execution_count": 1,
   "metadata": {},
   "outputs": [],
   "source": [
    "section_fig_main_title = 'P03_06_Multivar_tf_supervised'"
   ]
  },
  {
   "cell_type": "code",
   "execution_count": 2,
   "metadata": {},
   "outputs": [],
   "source": [
    "# import os\n",
    "# print(\"PYTHONPATH:\", os.environ.get('PYTHONPATH'))\n",
    "# print(\"PATH:\", os.environ.get('PATH'))"
   ]
  },
  {
   "cell_type": "code",
   "execution_count": 3,
   "metadata": {},
   "outputs": [],
   "source": [
    "import os, sys\n",
    "import requests\n",
    "from urllib.parse import urljoin, urlparse\n",
    "# from bs4 import BeautifulSoup as bs\n",
    "import re\n",
    "import numpy as np\n",
    "import pandas as pd\n",
    "import matplotlib.pyplot as plt\n",
    "import seaborn as sns\n",
    "%config InlineBackend.figure_format = 'retina'\n",
    "from pandas.plotting import lag_plot\n",
    "\n",
    "from tensorflow import keras\n",
    "from tensorflow.keras import layers\n"
   ]
  },
  {
   "cell_type": "code",
   "execution_count": 4,
   "metadata": {},
   "outputs": [
    {
     "name": "stdout",
     "output_type": "stream",
     "text": [
      "/Users/amin/Desktop/proj/env/bin/python\r\n"
     ]
    }
   ],
   "source": [
    "!which python"
   ]
  },
  {
   "cell_type": "code",
   "execution_count": 5,
   "metadata": {},
   "outputs": [],
   "source": [
    "# from sklearn.metrics import mean_absolute_error\n",
    "# from sklearn.metrics import mean_absolute_error\n",
    "# from xgboost import XGBRegressor\n",
    "# !/Users/amin/Desktop/proj/env/bin/python -m pip install numpy"
   ]
  },
  {
   "cell_type": "code",
   "execution_count": 6,
   "metadata": {},
   "outputs": [],
   "source": [
    "from sklearn.metrics import r2_score,mean_absolute_error"
   ]
  },
  {
   "cell_type": "code",
   "execution_count": 7,
   "metadata": {},
   "outputs": [],
   "source": [
    "# !/Users/amin/anaconda3/bin/python -m pip install --upgrade tensorflow \n",
    "# pip install --upgrade tensorflow "
   ]
  },
  {
   "cell_type": "code",
   "execution_count": 8,
   "metadata": {},
   "outputs": [],
   "source": [
    "\n",
    "import warnings\n",
    "warnings.filterwarnings('ignore')\n",
    "warnings.simplefilter(action='ignore', category=FutureWarning)"
   ]
  },
  {
   "cell_type": "code",
   "execution_count": 9,
   "metadata": {},
   "outputs": [],
   "source": [
    "\n",
    "from sklearn.preprocessing import MinMaxScaler\n",
    "from keras.models import Sequential\n",
    "from keras.layers import Dense, LSTM, Dropout, GRU, Bidirectional\n",
    "# from keras.optimizers import SGD\n",
    "from tensorflow.keras.optimizers import SGD\n",
    "\n",
    "import math\n",
    "from sklearn.metrics import mean_squared_error"
   ]
  },
  {
   "cell_type": "code",
   "execution_count": 10,
   "metadata": {},
   "outputs": [],
   "source": [
    "from sklearn.linear_model import LinearRegression\n",
    "from sklearn.preprocessing import StandardScaler, PolynomialFeatures"
   ]
  },
  {
   "cell_type": "code",
   "execution_count": 11,
   "metadata": {},
   "outputs": [],
   "source": [
    "from pandas.plotting import autocorrelation_plot\n",
    "import gif"
   ]
  },
  {
   "cell_type": "code",
   "execution_count": 12,
   "metadata": {},
   "outputs": [],
   "source": [
    "from statsmodels.tsa.ar_model import AutoReg\n",
    "from sklearn.metrics import mean_squared_error"
   ]
  },
  {
   "cell_type": "code",
   "execution_count": 13,
   "metadata": {},
   "outputs": [
    {
     "data": {
      "text/plain": [
       "'2.6.0'"
      ]
     },
     "execution_count": 13,
     "metadata": {},
     "output_type": "execute_result"
    }
   ],
   "source": [
    "import tensorflow as tf\n",
    "tf.__version__\n"
   ]
  },
  {
   "cell_type": "code",
   "execution_count": 14,
   "metadata": {},
   "outputs": [],
   "source": [
    "import gif\n",
    "from tqdm import tqdm"
   ]
  },
  {
   "cell_type": "code",
   "execution_count": 15,
   "metadata": {},
   "outputs": [],
   "source": [
    "from sklearn import metrics\n",
    "import statsmodels.api as sm"
   ]
  },
  {
   "cell_type": "markdown",
   "metadata": {},
   "source": [
    "## Read Data \n",
    "\n",
    "Using the univariate evenly spaced time series data from P03_01."
   ]
  },
  {
   "cell_type": "code",
   "execution_count": 16,
   "metadata": {},
   "outputs": [],
   "source": [
    "csv_path = \"../Data/Data_ICME_Edited_Decoded_out_P02_03.csv\"\n",
    "dataset = pd.read_csv(csv_path, infer_datetime_format=True)"
   ]
  },
  {
   "cell_type": "code",
   "execution_count": 17,
   "metadata": {},
   "outputs": [],
   "source": [
    "dataset.index = dataset['ICME Plasma/Field Start Y/M/D (UT) (b)']"
   ]
  },
  {
   "cell_type": "code",
   "execution_count": 18,
   "metadata": {},
   "outputs": [
    {
     "data": {
      "text/html": [
       "<div>\n",
       "<style scoped>\n",
       "    .dataframe tbody tr th:only-of-type {\n",
       "        vertical-align: middle;\n",
       "    }\n",
       "\n",
       "    .dataframe tbody tr th {\n",
       "        vertical-align: top;\n",
       "    }\n",
       "\n",
       "    .dataframe thead th {\n",
       "        text-align: right;\n",
       "    }\n",
       "</style>\n",
       "<table border=\"1\" class=\"dataframe\">\n",
       "  <thead>\n",
       "    <tr style=\"text-align: right;\">\n",
       "      <th></th>\n",
       "      <th>ICME Plasma/Field Start Y/M/D (UT) (b)</th>\n",
       "      <th>ICME Plasma/Field End Y/M/D (UT) (b)</th>\n",
       "      <th>BDE? (e)</th>\n",
       "      <th>Qual. (g)</th>\n",
       "      <th>dV (km/s) (h)</th>\n",
       "      <th>V_ICME (km/s) (i)</th>\n",
       "      <th>V_max (km/s) (j)</th>\n",
       "      <th>B (nT) (k)</th>\n",
       "      <th>MC? (l)</th>\n",
       "      <th>Dst (nT) (m)</th>\n",
       "      <th>Normalized_time_interval</th>\n",
       "    </tr>\n",
       "    <tr>\n",
       "      <th>ICME Plasma/Field Start Y/M/D (UT) (b)</th>\n",
       "      <th></th>\n",
       "      <th></th>\n",
       "      <th></th>\n",
       "      <th></th>\n",
       "      <th></th>\n",
       "      <th></th>\n",
       "      <th></th>\n",
       "      <th></th>\n",
       "      <th></th>\n",
       "      <th></th>\n",
       "      <th></th>\n",
       "    </tr>\n",
       "  </thead>\n",
       "  <tbody>\n",
       "    <tr>\n",
       "      <th>1996-05-27 15:00:00</th>\n",
       "      <td>1996-05-27 15:00:00</td>\n",
       "      <td>1996-05-29 03:00:00</td>\n",
       "      <td>1</td>\n",
       "      <td>2</td>\n",
       "      <td>1</td>\n",
       "      <td>370</td>\n",
       "      <td>400</td>\n",
       "      <td>9</td>\n",
       "      <td>3</td>\n",
       "      <td>117</td>\n",
       "      <td>1.375000</td>\n",
       "    </tr>\n",
       "    <tr>\n",
       "      <th>1996-07-01 18:00:00</th>\n",
       "      <td>1996-07-01 18:00:00</td>\n",
       "      <td>1996-07-02 11:00:00</td>\n",
       "      <td>1</td>\n",
       "      <td>4</td>\n",
       "      <td>44</td>\n",
       "      <td>360</td>\n",
       "      <td>370</td>\n",
       "      <td>11</td>\n",
       "      <td>3</td>\n",
       "      <td>78</td>\n",
       "      <td>0.583333</td>\n",
       "    </tr>\n",
       "    <tr>\n",
       "      <th>1996-08-07 12:00:00</th>\n",
       "      <td>1996-08-07 12:00:00</td>\n",
       "      <td>1996-08-08 10:00:00</td>\n",
       "      <td>1</td>\n",
       "      <td>2</td>\n",
       "      <td>2</td>\n",
       "      <td>350</td>\n",
       "      <td>380</td>\n",
       "      <td>7</td>\n",
       "      <td>3</td>\n",
       "      <td>88</td>\n",
       "      <td>0.791667</td>\n",
       "    </tr>\n",
       "    <tr>\n",
       "      <th>1996-12-23 17:00:00</th>\n",
       "      <td>1996-12-23 17:00:00</td>\n",
       "      <td>1996-12-25 11:00:00</td>\n",
       "      <td>1</td>\n",
       "      <td>2</td>\n",
       "      <td>22</td>\n",
       "      <td>360</td>\n",
       "      <td>420</td>\n",
       "      <td>10</td>\n",
       "      <td>3</td>\n",
       "      <td>69</td>\n",
       "      <td>1.625000</td>\n",
       "    </tr>\n",
       "    <tr>\n",
       "      <th>1997-01-10 04:00:00</th>\n",
       "      <td>1997-01-10 04:00:00</td>\n",
       "      <td>1997-01-11 02:00:00</td>\n",
       "      <td>3</td>\n",
       "      <td>1</td>\n",
       "      <td>4</td>\n",
       "      <td>450</td>\n",
       "      <td>460</td>\n",
       "      <td>14</td>\n",
       "      <td>3</td>\n",
       "      <td>191</td>\n",
       "      <td>0.791667</td>\n",
       "    </tr>\n",
       "  </tbody>\n",
       "</table>\n",
       "</div>"
      ],
      "text/plain": [
       "                                       ICME Plasma/Field Start Y/M/D (UT) (b)  \\\n",
       "ICME Plasma/Field Start Y/M/D (UT) (b)                                          \n",
       "1996-05-27 15:00:00                                       1996-05-27 15:00:00   \n",
       "1996-07-01 18:00:00                                       1996-07-01 18:00:00   \n",
       "1996-08-07 12:00:00                                       1996-08-07 12:00:00   \n",
       "1996-12-23 17:00:00                                       1996-12-23 17:00:00   \n",
       "1997-01-10 04:00:00                                       1997-01-10 04:00:00   \n",
       "\n",
       "                                       ICME Plasma/Field End Y/M/D (UT) (b)  \\\n",
       "ICME Plasma/Field Start Y/M/D (UT) (b)                                        \n",
       "1996-05-27 15:00:00                                     1996-05-29 03:00:00   \n",
       "1996-07-01 18:00:00                                     1996-07-02 11:00:00   \n",
       "1996-08-07 12:00:00                                     1996-08-08 10:00:00   \n",
       "1996-12-23 17:00:00                                     1996-12-25 11:00:00   \n",
       "1997-01-10 04:00:00                                     1997-01-11 02:00:00   \n",
       "\n",
       "                                        BDE? (e)  Qual. (g)  dV (km/s) (h)  \\\n",
       "ICME Plasma/Field Start Y/M/D (UT) (b)                                       \n",
       "1996-05-27 15:00:00                            1          2              1   \n",
       "1996-07-01 18:00:00                            1          4             44   \n",
       "1996-08-07 12:00:00                            1          2              2   \n",
       "1996-12-23 17:00:00                            1          2             22   \n",
       "1997-01-10 04:00:00                            3          1              4   \n",
       "\n",
       "                                        V_ICME (km/s) (i)  V_max (km/s) (j)  \\\n",
       "ICME Plasma/Field Start Y/M/D (UT) (b)                                        \n",
       "1996-05-27 15:00:00                                   370               400   \n",
       "1996-07-01 18:00:00                                   360               370   \n",
       "1996-08-07 12:00:00                                   350               380   \n",
       "1996-12-23 17:00:00                                   360               420   \n",
       "1997-01-10 04:00:00                                   450               460   \n",
       "\n",
       "                                        B (nT) (k)  MC? (l)  Dst (nT) (m)  \\\n",
       "ICME Plasma/Field Start Y/M/D (UT) (b)                                      \n",
       "1996-05-27 15:00:00                              9        3           117   \n",
       "1996-07-01 18:00:00                             11        3            78   \n",
       "1996-08-07 12:00:00                              7        3            88   \n",
       "1996-12-23 17:00:00                             10        3            69   \n",
       "1997-01-10 04:00:00                             14        3           191   \n",
       "\n",
       "                                        Normalized_time_interval  \n",
       "ICME Plasma/Field Start Y/M/D (UT) (b)                            \n",
       "1996-05-27 15:00:00                                     1.375000  \n",
       "1996-07-01 18:00:00                                     0.583333  \n",
       "1996-08-07 12:00:00                                     0.791667  \n",
       "1996-12-23 17:00:00                                     1.625000  \n",
       "1997-01-10 04:00:00                                     0.791667  "
      ]
     },
     "execution_count": 18,
     "metadata": {},
     "output_type": "execute_result"
    }
   ],
   "source": [
    "dataset.head()"
   ]
  },
  {
   "cell_type": "code",
   "execution_count": null,
   "metadata": {},
   "outputs": [],
   "source": []
  },
  {
   "cell_type": "code",
   "execution_count": 19,
   "metadata": {},
   "outputs": [
    {
     "data": {
      "text/plain": [
       "Index(['ICME Plasma/Field Start Y/M/D (UT) (b)',\n",
       "       'ICME Plasma/Field End Y/M/D (UT) (b)', 'BDE? (e)', 'Qual. (g)',\n",
       "       'dV (km/s) (h)', 'V_ICME (km/s) (i)', 'V_max (km/s) (j)', 'B (nT) (k)',\n",
       "       'MC? (l)', 'Dst (nT) (m)', 'Normalized_time_interval'],\n",
       "      dtype='object')"
      ]
     },
     "execution_count": 19,
     "metadata": {},
     "output_type": "execute_result"
    }
   ],
   "source": [
    "dataset.columns"
   ]
  },
  {
   "cell_type": "markdown",
   "metadata": {},
   "source": [
    "Following columns are used for multi-var time series modeling.\n",
    "\n",
    "```BDE? (e)``` : Evidence of BiDirectional suprathermal Electron strahls (BDE) in ACE/SWEPAM Observations\n",
    "\n",
    "```MC? (l)``` :  magnetic cloud has been reported in association with the ICME \n",
    "\n",
    "```V_ICME (km/s) (i)``` : ICME speed\n",
    "\n"
   ]
  },
  {
   "cell_type": "code",
   "execution_count": 20,
   "metadata": {},
   "outputs": [
    {
     "data": {
      "text/html": [
       "<div>\n",
       "<style scoped>\n",
       "    .dataframe tbody tr th:only-of-type {\n",
       "        vertical-align: middle;\n",
       "    }\n",
       "\n",
       "    .dataframe tbody tr th {\n",
       "        vertical-align: top;\n",
       "    }\n",
       "\n",
       "    .dataframe thead th {\n",
       "        text-align: right;\n",
       "    }\n",
       "</style>\n",
       "<table border=\"1\" class=\"dataframe\">\n",
       "  <thead>\n",
       "    <tr style=\"text-align: right;\">\n",
       "      <th></th>\n",
       "      <th>ICME Plasma/Field Start Y/M/D (UT) (b)</th>\n",
       "      <th>BDE? (e)</th>\n",
       "      <th>V_ICME (km/s) (i)</th>\n",
       "      <th>MC? (l)</th>\n",
       "    </tr>\n",
       "    <tr>\n",
       "      <th>ICME Plasma/Field Start Y/M/D (UT) (b)</th>\n",
       "      <th></th>\n",
       "      <th></th>\n",
       "      <th></th>\n",
       "      <th></th>\n",
       "    </tr>\n",
       "  </thead>\n",
       "  <tbody>\n",
       "    <tr>\n",
       "      <th>1996-05-27 15:00:00</th>\n",
       "      <td>1996-05-27 15:00:00</td>\n",
       "      <td>1</td>\n",
       "      <td>370</td>\n",
       "      <td>3</td>\n",
       "    </tr>\n",
       "    <tr>\n",
       "      <th>1996-07-01 18:00:00</th>\n",
       "      <td>1996-07-01 18:00:00</td>\n",
       "      <td>1</td>\n",
       "      <td>360</td>\n",
       "      <td>3</td>\n",
       "    </tr>\n",
       "    <tr>\n",
       "      <th>1996-08-07 12:00:00</th>\n",
       "      <td>1996-08-07 12:00:00</td>\n",
       "      <td>1</td>\n",
       "      <td>350</td>\n",
       "      <td>3</td>\n",
       "    </tr>\n",
       "    <tr>\n",
       "      <th>1996-12-23 17:00:00</th>\n",
       "      <td>1996-12-23 17:00:00</td>\n",
       "      <td>1</td>\n",
       "      <td>360</td>\n",
       "      <td>3</td>\n",
       "    </tr>\n",
       "    <tr>\n",
       "      <th>1997-01-10 04:00:00</th>\n",
       "      <td>1997-01-10 04:00:00</td>\n",
       "      <td>3</td>\n",
       "      <td>450</td>\n",
       "      <td>3</td>\n",
       "    </tr>\n",
       "  </tbody>\n",
       "</table>\n",
       "</div>"
      ],
      "text/plain": [
       "                                       ICME Plasma/Field Start Y/M/D (UT) (b)  \\\n",
       "ICME Plasma/Field Start Y/M/D (UT) (b)                                          \n",
       "1996-05-27 15:00:00                                       1996-05-27 15:00:00   \n",
       "1996-07-01 18:00:00                                       1996-07-01 18:00:00   \n",
       "1996-08-07 12:00:00                                       1996-08-07 12:00:00   \n",
       "1996-12-23 17:00:00                                       1996-12-23 17:00:00   \n",
       "1997-01-10 04:00:00                                       1997-01-10 04:00:00   \n",
       "\n",
       "                                        BDE? (e)  V_ICME (km/s) (i)  MC? (l)  \n",
       "ICME Plasma/Field Start Y/M/D (UT) (b)                                        \n",
       "1996-05-27 15:00:00                            1                370        3  \n",
       "1996-07-01 18:00:00                            1                360        3  \n",
       "1996-08-07 12:00:00                            1                350        3  \n",
       "1996-12-23 17:00:00                            1                360        3  \n",
       "1997-01-10 04:00:00                            3                450        3  "
      ]
     },
     "execution_count": 20,
     "metadata": {},
     "output_type": "execute_result"
    }
   ],
   "source": [
    "# keep_cols = ['BDE? (e)', 'Qual. (g)',\n",
    "#        'dV (km/s) (h)', 'V_ICME (km/s) (i)', 'B (nT) (k)',\n",
    "#        'MC? (l)', 'Dst (nT) (m)', 'Normalized_time_interval']\n",
    "\n",
    "keep_cols = ['ICME Plasma/Field Start Y/M/D (UT) (b)' ,'BDE? (e)', 'V_ICME (km/s) (i)','MC? (l)']\n",
    "dataset = dataset[keep_cols]\n",
    "dataset.head()"
   ]
  },
  {
   "cell_type": "code",
   "execution_count": 21,
   "metadata": {},
   "outputs": [
    {
     "name": "stdout",
     "output_type": "stream",
     "text": [
      "<class 'pandas.core.frame.DataFrame'>\n",
      "Index: 493 entries, 1996-05-27 15:00:00 to 2021-05-12 15:00:00\n",
      "Data columns (total 4 columns):\n",
      " #   Column                                  Non-Null Count  Dtype \n",
      "---  ------                                  --------------  ----- \n",
      " 0   ICME Plasma/Field Start Y/M/D (UT) (b)  493 non-null    object\n",
      " 1   BDE? (e)                                493 non-null    int64 \n",
      " 2   V_ICME (km/s) (i)                       493 non-null    int64 \n",
      " 3   MC? (l)                                 493 non-null    int64 \n",
      "dtypes: int64(3), object(1)\n",
      "memory usage: 19.3+ KB\n"
     ]
    }
   ],
   "source": [
    "dataset.info()"
   ]
  },
  {
   "cell_type": "markdown",
   "metadata": {},
   "source": [
    "## Make Data evenly spaced time series"
   ]
  },
  {
   "cell_type": "code",
   "execution_count": null,
   "metadata": {},
   "outputs": [],
   "source": []
  },
  {
   "cell_type": "code",
   "execution_count": 22,
   "metadata": {},
   "outputs": [],
   "source": [
    "# fix the date dtype\n",
    "dataset['ICME Plasma/Field Start Y/M/D (UT) (b)']= pd.to_datetime(dataset['ICME Plasma/Field Start Y/M/D (UT) (b)'])"
   ]
  },
  {
   "cell_type": "code",
   "execution_count": 23,
   "metadata": {},
   "outputs": [],
   "source": [
    "dataset = dataset.set_index('ICME Plasma/Field Start Y/M/D (UT) (b)').resample('18D').pad()"
   ]
  },
  {
   "cell_type": "code",
   "execution_count": 24,
   "metadata": {},
   "outputs": [
    {
     "data": {
      "text/html": [
       "<div>\n",
       "<style scoped>\n",
       "    .dataframe tbody tr th:only-of-type {\n",
       "        vertical-align: middle;\n",
       "    }\n",
       "\n",
       "    .dataframe tbody tr th {\n",
       "        vertical-align: top;\n",
       "    }\n",
       "\n",
       "    .dataframe thead th {\n",
       "        text-align: right;\n",
       "    }\n",
       "</style>\n",
       "<table border=\"1\" class=\"dataframe\">\n",
       "  <thead>\n",
       "    <tr style=\"text-align: right;\">\n",
       "      <th></th>\n",
       "      <th>BDE? (e)</th>\n",
       "      <th>V_ICME (km/s) (i)</th>\n",
       "      <th>MC? (l)</th>\n",
       "    </tr>\n",
       "    <tr>\n",
       "      <th>ICME Plasma/Field Start Y/M/D (UT) (b)</th>\n",
       "      <th></th>\n",
       "      <th></th>\n",
       "      <th></th>\n",
       "    </tr>\n",
       "  </thead>\n",
       "  <tbody>\n",
       "    <tr>\n",
       "      <th>1996-05-27</th>\n",
       "      <td>NaN</td>\n",
       "      <td>NaN</td>\n",
       "      <td>NaN</td>\n",
       "    </tr>\n",
       "    <tr>\n",
       "      <th>1996-06-14</th>\n",
       "      <td>1.0</td>\n",
       "      <td>370.0</td>\n",
       "      <td>3.0</td>\n",
       "    </tr>\n",
       "    <tr>\n",
       "      <th>1996-07-02</th>\n",
       "      <td>1.0</td>\n",
       "      <td>360.0</td>\n",
       "      <td>3.0</td>\n",
       "    </tr>\n",
       "    <tr>\n",
       "      <th>1996-07-20</th>\n",
       "      <td>1.0</td>\n",
       "      <td>360.0</td>\n",
       "      <td>3.0</td>\n",
       "    </tr>\n",
       "    <tr>\n",
       "      <th>1996-08-07</th>\n",
       "      <td>1.0</td>\n",
       "      <td>360.0</td>\n",
       "      <td>3.0</td>\n",
       "    </tr>\n",
       "  </tbody>\n",
       "</table>\n",
       "</div>"
      ],
      "text/plain": [
       "                                        BDE? (e)  V_ICME (km/s) (i)  MC? (l)\n",
       "ICME Plasma/Field Start Y/M/D (UT) (b)                                      \n",
       "1996-05-27                                   NaN                NaN      NaN\n",
       "1996-06-14                                   1.0              370.0      3.0\n",
       "1996-07-02                                   1.0              360.0      3.0\n",
       "1996-07-20                                   1.0              360.0      3.0\n",
       "1996-08-07                                   1.0              360.0      3.0"
      ]
     },
     "execution_count": 24,
     "metadata": {},
     "output_type": "execute_result"
    }
   ],
   "source": [
    "dataset.head()"
   ]
  },
  {
   "cell_type": "code",
   "execution_count": 25,
   "metadata": {},
   "outputs": [
    {
     "data": {
      "text/plain": [
       "(507, 3)"
      ]
     },
     "execution_count": 25,
     "metadata": {},
     "output_type": "execute_result"
    }
   ],
   "source": [
    "dataset.shape"
   ]
  },
  {
   "cell_type": "code",
   "execution_count": 26,
   "metadata": {},
   "outputs": [
    {
     "data": {
      "text/html": [
       "<div>\n",
       "<style scoped>\n",
       "    .dataframe tbody tr th:only-of-type {\n",
       "        vertical-align: middle;\n",
       "    }\n",
       "\n",
       "    .dataframe tbody tr th {\n",
       "        vertical-align: top;\n",
       "    }\n",
       "\n",
       "    .dataframe thead th {\n",
       "        text-align: right;\n",
       "    }\n",
       "</style>\n",
       "<table border=\"1\" class=\"dataframe\">\n",
       "  <thead>\n",
       "    <tr style=\"text-align: right;\">\n",
       "      <th></th>\n",
       "      <th>BDE? (e)</th>\n",
       "      <th>V_ICME (km/s) (i)</th>\n",
       "      <th>MC? (l)</th>\n",
       "    </tr>\n",
       "    <tr>\n",
       "      <th>ICME Plasma/Field Start Y/M/D (UT) (b)</th>\n",
       "      <th></th>\n",
       "      <th></th>\n",
       "      <th></th>\n",
       "    </tr>\n",
       "  </thead>\n",
       "  <tbody>\n",
       "    <tr>\n",
       "      <th>1996-06-14</th>\n",
       "      <td>1.0</td>\n",
       "      <td>370.0</td>\n",
       "      <td>3.0</td>\n",
       "    </tr>\n",
       "    <tr>\n",
       "      <th>1996-07-02</th>\n",
       "      <td>1.0</td>\n",
       "      <td>360.0</td>\n",
       "      <td>3.0</td>\n",
       "    </tr>\n",
       "    <tr>\n",
       "      <th>1996-07-20</th>\n",
       "      <td>1.0</td>\n",
       "      <td>360.0</td>\n",
       "      <td>3.0</td>\n",
       "    </tr>\n",
       "    <tr>\n",
       "      <th>1996-08-07</th>\n",
       "      <td>1.0</td>\n",
       "      <td>360.0</td>\n",
       "      <td>3.0</td>\n",
       "    </tr>\n",
       "    <tr>\n",
       "      <th>1996-08-25</th>\n",
       "      <td>1.0</td>\n",
       "      <td>350.0</td>\n",
       "      <td>3.0</td>\n",
       "    </tr>\n",
       "  </tbody>\n",
       "</table>\n",
       "</div>"
      ],
      "text/plain": [
       "                                        BDE? (e)  V_ICME (km/s) (i)  MC? (l)\n",
       "ICME Plasma/Field Start Y/M/D (UT) (b)                                      \n",
       "1996-06-14                                   1.0              370.0      3.0\n",
       "1996-07-02                                   1.0              360.0      3.0\n",
       "1996-07-20                                   1.0              360.0      3.0\n",
       "1996-08-07                                   1.0              360.0      3.0\n",
       "1996-08-25                                   1.0              350.0      3.0"
      ]
     },
     "execution_count": 26,
     "metadata": {},
     "output_type": "execute_result"
    }
   ],
   "source": [
    "# remove first row\n",
    "dataset = dataset.iloc[1: , :]\n",
    "dataset.head()"
   ]
  },
  {
   "cell_type": "markdown",
   "metadata": {},
   "source": [
    "## Preparing data \n",
    "\n",
    "Here I make new data set using pandas library. The shift method is used along with 60 lags. The goal is to use 60 lags (timestamps) to forecast the future timestamps (18 days ahead)."
   ]
  },
  {
   "cell_type": "code",
   "execution_count": 27,
   "metadata": {},
   "outputs": [
    {
     "data": {
      "text/html": [
       "<div>\n",
       "<style scoped>\n",
       "    .dataframe tbody tr th:only-of-type {\n",
       "        vertical-align: middle;\n",
       "    }\n",
       "\n",
       "    .dataframe tbody tr th {\n",
       "        vertical-align: top;\n",
       "    }\n",
       "\n",
       "    .dataframe thead th {\n",
       "        text-align: right;\n",
       "    }\n",
       "</style>\n",
       "<table border=\"1\" class=\"dataframe\">\n",
       "  <thead>\n",
       "    <tr style=\"text-align: right;\">\n",
       "      <th></th>\n",
       "      <th>BDE? (e)</th>\n",
       "      <th>V_ICME (km/s) (i)</th>\n",
       "      <th>MC? (l)</th>\n",
       "    </tr>\n",
       "    <tr>\n",
       "      <th>ICME Plasma/Field Start Y/M/D (UT) (b)</th>\n",
       "      <th></th>\n",
       "      <th></th>\n",
       "      <th></th>\n",
       "    </tr>\n",
       "  </thead>\n",
       "  <tbody>\n",
       "    <tr>\n",
       "      <th>1996-06-14</th>\n",
       "      <td>NaN</td>\n",
       "      <td>NaN</td>\n",
       "      <td>NaN</td>\n",
       "    </tr>\n",
       "    <tr>\n",
       "      <th>1996-07-02</th>\n",
       "      <td>1.0</td>\n",
       "      <td>370.0</td>\n",
       "      <td>3.0</td>\n",
       "    </tr>\n",
       "    <tr>\n",
       "      <th>1996-07-20</th>\n",
       "      <td>1.0</td>\n",
       "      <td>360.0</td>\n",
       "      <td>3.0</td>\n",
       "    </tr>\n",
       "    <tr>\n",
       "      <th>1996-08-07</th>\n",
       "      <td>1.0</td>\n",
       "      <td>360.0</td>\n",
       "      <td>3.0</td>\n",
       "    </tr>\n",
       "    <tr>\n",
       "      <th>1996-08-25</th>\n",
       "      <td>1.0</td>\n",
       "      <td>360.0</td>\n",
       "      <td>3.0</td>\n",
       "    </tr>\n",
       "    <tr>\n",
       "      <th>...</th>\n",
       "      <td>...</td>\n",
       "      <td>...</td>\n",
       "      <td>...</td>\n",
       "    </tr>\n",
       "    <tr>\n",
       "      <th>2021-02-21</th>\n",
       "      <td>3.0</td>\n",
       "      <td>440.0</td>\n",
       "      <td>1.0</td>\n",
       "    </tr>\n",
       "    <tr>\n",
       "      <th>2021-03-11</th>\n",
       "      <td>3.0</td>\n",
       "      <td>440.0</td>\n",
       "      <td>1.0</td>\n",
       "    </tr>\n",
       "    <tr>\n",
       "      <th>2021-03-29</th>\n",
       "      <td>3.0</td>\n",
       "      <td>510.0</td>\n",
       "      <td>1.0</td>\n",
       "    </tr>\n",
       "    <tr>\n",
       "      <th>2021-04-16</th>\n",
       "      <td>3.0</td>\n",
       "      <td>510.0</td>\n",
       "      <td>1.0</td>\n",
       "    </tr>\n",
       "    <tr>\n",
       "      <th>2021-05-04</th>\n",
       "      <td>3.0</td>\n",
       "      <td>510.0</td>\n",
       "      <td>1.0</td>\n",
       "    </tr>\n",
       "  </tbody>\n",
       "</table>\n",
       "<p>506 rows × 3 columns</p>\n",
       "</div>"
      ],
      "text/plain": [
       "                                        BDE? (e)  V_ICME (km/s) (i)  MC? (l)\n",
       "ICME Plasma/Field Start Y/M/D (UT) (b)                                      \n",
       "1996-06-14                                   NaN                NaN      NaN\n",
       "1996-07-02                                   1.0              370.0      3.0\n",
       "1996-07-20                                   1.0              360.0      3.0\n",
       "1996-08-07                                   1.0              360.0      3.0\n",
       "1996-08-25                                   1.0              360.0      3.0\n",
       "...                                          ...                ...      ...\n",
       "2021-02-21                                   3.0              440.0      1.0\n",
       "2021-03-11                                   3.0              440.0      1.0\n",
       "2021-03-29                                   3.0              510.0      1.0\n",
       "2021-04-16                                   3.0              510.0      1.0\n",
       "2021-05-04                                   3.0              510.0      1.0\n",
       "\n",
       "[506 rows x 3 columns]"
      ]
     },
     "execution_count": 27,
     "metadata": {},
     "output_type": "execute_result"
    }
   ],
   "source": [
    "dataset.shift(periods=1)"
   ]
  },
  {
   "cell_type": "code",
   "execution_count": 28,
   "metadata": {},
   "outputs": [
    {
     "data": {
      "text/plain": [
       "'BDE? (e)'"
      ]
     },
     "execution_count": 28,
     "metadata": {},
     "output_type": "execute_result"
    }
   ],
   "source": [
    "cols = dataset.columns\n",
    "cols[0]"
   ]
  },
  {
   "cell_type": "code",
   "execution_count": 29,
   "metadata": {},
   "outputs": [],
   "source": [
    "# df_pd"
   ]
  },
  {
   "cell_type": "code",
   "execution_count": 30,
   "metadata": {},
   "outputs": [],
   "source": [
    "lag=2"
   ]
  },
  {
   "cell_type": "code",
   "execution_count": 31,
   "metadata": {},
   "outputs": [],
   "source": [
    "df_pd = pd.DataFrame(dataset)\n",
    "df_pd_shifted = pd.DataFrame(dataset)\n",
    "\n",
    "cols = dataset.columns\n",
    "\n",
    "for i in range(1,lag+1):\n",
    "\n",
    "    \n",
    "    shifted_df = df_pd.shift(periods=i)\n",
    "    shifted_df.columns = [(cols[0] + 'lag' + str(i)), \n",
    "                          (cols[1] + 'lag' + str(i)), \n",
    "                          (cols[2] + 'lag' + str(i))] \n",
    "    \n",
    "    df_pd_shifted = pd.concat([df_pd_shifted, shifted_df], axis=1)\n",
    "    \n",
    "    \n",
    "    \n",
    "    \n",
    "\n",
    "# discard the first NaN rows \n",
    "df_pd_shifted = df_pd_shifted[lag:]\n",
    "\n"
   ]
  },
  {
   "cell_type": "code",
   "execution_count": 32,
   "metadata": {},
   "outputs": [],
   "source": [
    "for i in range(1,lag+1):\n",
    "    \n",
    "    for col in cols:\n",
    "    \n",
    "        colname = col + 'lag' + str(i) \n",
    "\n",
    "        df_pd_shifted[colname].astype('int32').dtypes"
   ]
  },
  {
   "cell_type": "code",
   "execution_count": 33,
   "metadata": {},
   "outputs": [
    {
     "data": {
      "text/html": [
       "<div>\n",
       "<style scoped>\n",
       "    .dataframe tbody tr th:only-of-type {\n",
       "        vertical-align: middle;\n",
       "    }\n",
       "\n",
       "    .dataframe tbody tr th {\n",
       "        vertical-align: top;\n",
       "    }\n",
       "\n",
       "    .dataframe thead th {\n",
       "        text-align: right;\n",
       "    }\n",
       "</style>\n",
       "<table border=\"1\" class=\"dataframe\">\n",
       "  <thead>\n",
       "    <tr style=\"text-align: right;\">\n",
       "      <th></th>\n",
       "      <th>BDE? (e)</th>\n",
       "      <th>V_ICME (km/s) (i)</th>\n",
       "      <th>MC? (l)</th>\n",
       "      <th>BDE? (e)lag1</th>\n",
       "      <th>V_ICME (km/s) (i)lag1</th>\n",
       "      <th>MC? (l)lag1</th>\n",
       "      <th>BDE? (e)lag2</th>\n",
       "      <th>V_ICME (km/s) (i)lag2</th>\n",
       "      <th>MC? (l)lag2</th>\n",
       "    </tr>\n",
       "    <tr>\n",
       "      <th>ICME Plasma/Field Start Y/M/D (UT) (b)</th>\n",
       "      <th></th>\n",
       "      <th></th>\n",
       "      <th></th>\n",
       "      <th></th>\n",
       "      <th></th>\n",
       "      <th></th>\n",
       "      <th></th>\n",
       "      <th></th>\n",
       "      <th></th>\n",
       "    </tr>\n",
       "  </thead>\n",
       "  <tbody>\n",
       "    <tr>\n",
       "      <th>1996-07-20</th>\n",
       "      <td>1.0</td>\n",
       "      <td>360.0</td>\n",
       "      <td>3.0</td>\n",
       "      <td>1.0</td>\n",
       "      <td>360.0</td>\n",
       "      <td>3.0</td>\n",
       "      <td>1.0</td>\n",
       "      <td>370.0</td>\n",
       "      <td>3.0</td>\n",
       "    </tr>\n",
       "    <tr>\n",
       "      <th>1996-08-07</th>\n",
       "      <td>1.0</td>\n",
       "      <td>360.0</td>\n",
       "      <td>3.0</td>\n",
       "      <td>1.0</td>\n",
       "      <td>360.0</td>\n",
       "      <td>3.0</td>\n",
       "      <td>1.0</td>\n",
       "      <td>360.0</td>\n",
       "      <td>3.0</td>\n",
       "    </tr>\n",
       "    <tr>\n",
       "      <th>1996-08-25</th>\n",
       "      <td>1.0</td>\n",
       "      <td>350.0</td>\n",
       "      <td>3.0</td>\n",
       "      <td>1.0</td>\n",
       "      <td>360.0</td>\n",
       "      <td>3.0</td>\n",
       "      <td>1.0</td>\n",
       "      <td>360.0</td>\n",
       "      <td>3.0</td>\n",
       "    </tr>\n",
       "    <tr>\n",
       "      <th>1996-09-12</th>\n",
       "      <td>1.0</td>\n",
       "      <td>350.0</td>\n",
       "      <td>3.0</td>\n",
       "      <td>1.0</td>\n",
       "      <td>350.0</td>\n",
       "      <td>3.0</td>\n",
       "      <td>1.0</td>\n",
       "      <td>360.0</td>\n",
       "      <td>3.0</td>\n",
       "    </tr>\n",
       "    <tr>\n",
       "      <th>1996-09-30</th>\n",
       "      <td>1.0</td>\n",
       "      <td>350.0</td>\n",
       "      <td>3.0</td>\n",
       "      <td>1.0</td>\n",
       "      <td>350.0</td>\n",
       "      <td>3.0</td>\n",
       "      <td>1.0</td>\n",
       "      <td>350.0</td>\n",
       "      <td>3.0</td>\n",
       "    </tr>\n",
       "  </tbody>\n",
       "</table>\n",
       "</div>"
      ],
      "text/plain": [
       "                                        BDE? (e)  V_ICME (km/s) (i)  MC? (l)  \\\n",
       "ICME Plasma/Field Start Y/M/D (UT) (b)                                         \n",
       "1996-07-20                                   1.0              360.0      3.0   \n",
       "1996-08-07                                   1.0              360.0      3.0   \n",
       "1996-08-25                                   1.0              350.0      3.0   \n",
       "1996-09-12                                   1.0              350.0      3.0   \n",
       "1996-09-30                                   1.0              350.0      3.0   \n",
       "\n",
       "                                        BDE? (e)lag1  V_ICME (km/s) (i)lag1  \\\n",
       "ICME Plasma/Field Start Y/M/D (UT) (b)                                        \n",
       "1996-07-20                                       1.0                  360.0   \n",
       "1996-08-07                                       1.0                  360.0   \n",
       "1996-08-25                                       1.0                  360.0   \n",
       "1996-09-12                                       1.0                  350.0   \n",
       "1996-09-30                                       1.0                  350.0   \n",
       "\n",
       "                                        MC? (l)lag1  BDE? (e)lag2  \\\n",
       "ICME Plasma/Field Start Y/M/D (UT) (b)                              \n",
       "1996-07-20                                      3.0           1.0   \n",
       "1996-08-07                                      3.0           1.0   \n",
       "1996-08-25                                      3.0           1.0   \n",
       "1996-09-12                                      3.0           1.0   \n",
       "1996-09-30                                      3.0           1.0   \n",
       "\n",
       "                                        V_ICME (km/s) (i)lag2  MC? (l)lag2  \n",
       "ICME Plasma/Field Start Y/M/D (UT) (b)                                      \n",
       "1996-07-20                                              370.0          3.0  \n",
       "1996-08-07                                              360.0          3.0  \n",
       "1996-08-25                                              360.0          3.0  \n",
       "1996-09-12                                              360.0          3.0  \n",
       "1996-09-30                                              350.0          3.0  "
      ]
     },
     "execution_count": 33,
     "metadata": {},
     "output_type": "execute_result"
    }
   ],
   "source": [
    "df_pd_shifted.head()"
   ]
  },
  {
   "cell_type": "code",
   "execution_count": 34,
   "metadata": {},
   "outputs": [],
   "source": [
    "dataset = df_pd_shifted"
   ]
  },
  {
   "cell_type": "markdown",
   "metadata": {},
   "source": [
    "## Split the data into training and test sets\n",
    "\n",
    "#### https://www.tensorflow.org/tutorials/keras/regression"
   ]
  },
  {
   "cell_type": "code",
   "execution_count": 35,
   "metadata": {},
   "outputs": [],
   "source": [
    "# train_dataset = dataset.sample(frac=0.69, random_state=0)\n",
    "# test_dataset = dataset.drop(train_dataset.index)"
   ]
  },
  {
   "cell_type": "code",
   "execution_count": 36,
   "metadata": {},
   "outputs": [],
   "source": [
    "split_frac= 0.8\n",
    "num_train_rows = int(split_frac*len(dataset))\n",
    "num_test_rows = len(dataset) - num_train_rows"
   ]
  },
  {
   "cell_type": "code",
   "execution_count": 37,
   "metadata": {},
   "outputs": [],
   "source": [
    "train_dataset, test_dataset = dataset[0:num_train_rows] , dataset[num_train_rows:]"
   ]
  },
  {
   "cell_type": "code",
   "execution_count": 38,
   "metadata": {},
   "outputs": [
    {
     "data": {
      "text/html": [
       "<div>\n",
       "<style scoped>\n",
       "    .dataframe tbody tr th:only-of-type {\n",
       "        vertical-align: middle;\n",
       "    }\n",
       "\n",
       "    .dataframe tbody tr th {\n",
       "        vertical-align: top;\n",
       "    }\n",
       "\n",
       "    .dataframe thead th {\n",
       "        text-align: right;\n",
       "    }\n",
       "</style>\n",
       "<table border=\"1\" class=\"dataframe\">\n",
       "  <thead>\n",
       "    <tr style=\"text-align: right;\">\n",
       "      <th></th>\n",
       "      <th>BDE? (e)</th>\n",
       "      <th>V_ICME (km/s) (i)</th>\n",
       "      <th>MC? (l)</th>\n",
       "      <th>BDE? (e)lag1</th>\n",
       "      <th>V_ICME (km/s) (i)lag1</th>\n",
       "      <th>MC? (l)lag1</th>\n",
       "      <th>BDE? (e)lag2</th>\n",
       "      <th>V_ICME (km/s) (i)lag2</th>\n",
       "      <th>MC? (l)lag2</th>\n",
       "    </tr>\n",
       "    <tr>\n",
       "      <th>ICME Plasma/Field Start Y/M/D (UT) (b)</th>\n",
       "      <th></th>\n",
       "      <th></th>\n",
       "      <th></th>\n",
       "      <th></th>\n",
       "      <th></th>\n",
       "      <th></th>\n",
       "      <th></th>\n",
       "      <th></th>\n",
       "      <th></th>\n",
       "    </tr>\n",
       "  </thead>\n",
       "  <tbody>\n",
       "    <tr>\n",
       "      <th>1996-07-20</th>\n",
       "      <td>1.0</td>\n",
       "      <td>360.0</td>\n",
       "      <td>3.0</td>\n",
       "      <td>1.0</td>\n",
       "      <td>360.0</td>\n",
       "      <td>3.0</td>\n",
       "      <td>1.0</td>\n",
       "      <td>370.0</td>\n",
       "      <td>3.0</td>\n",
       "    </tr>\n",
       "    <tr>\n",
       "      <th>1996-08-07</th>\n",
       "      <td>1.0</td>\n",
       "      <td>360.0</td>\n",
       "      <td>3.0</td>\n",
       "      <td>1.0</td>\n",
       "      <td>360.0</td>\n",
       "      <td>3.0</td>\n",
       "      <td>1.0</td>\n",
       "      <td>360.0</td>\n",
       "      <td>3.0</td>\n",
       "    </tr>\n",
       "    <tr>\n",
       "      <th>1996-08-25</th>\n",
       "      <td>1.0</td>\n",
       "      <td>350.0</td>\n",
       "      <td>3.0</td>\n",
       "      <td>1.0</td>\n",
       "      <td>360.0</td>\n",
       "      <td>3.0</td>\n",
       "      <td>1.0</td>\n",
       "      <td>360.0</td>\n",
       "      <td>3.0</td>\n",
       "    </tr>\n",
       "    <tr>\n",
       "      <th>1996-09-12</th>\n",
       "      <td>1.0</td>\n",
       "      <td>350.0</td>\n",
       "      <td>3.0</td>\n",
       "      <td>1.0</td>\n",
       "      <td>350.0</td>\n",
       "      <td>3.0</td>\n",
       "      <td>1.0</td>\n",
       "      <td>360.0</td>\n",
       "      <td>3.0</td>\n",
       "    </tr>\n",
       "    <tr>\n",
       "      <th>1996-09-30</th>\n",
       "      <td>1.0</td>\n",
       "      <td>350.0</td>\n",
       "      <td>3.0</td>\n",
       "      <td>1.0</td>\n",
       "      <td>350.0</td>\n",
       "      <td>3.0</td>\n",
       "      <td>1.0</td>\n",
       "      <td>350.0</td>\n",
       "      <td>3.0</td>\n",
       "    </tr>\n",
       "    <tr>\n",
       "      <th>...</th>\n",
       "      <td>...</td>\n",
       "      <td>...</td>\n",
       "      <td>...</td>\n",
       "      <td>...</td>\n",
       "      <td>...</td>\n",
       "      <td>...</td>\n",
       "      <td>...</td>\n",
       "      <td>...</td>\n",
       "      <td>...</td>\n",
       "    </tr>\n",
       "    <tr>\n",
       "      <th>2016-03-01</th>\n",
       "      <td>3.0</td>\n",
       "      <td>410.0</td>\n",
       "      <td>2.0</td>\n",
       "      <td>3.0</td>\n",
       "      <td>410.0</td>\n",
       "      <td>2.0</td>\n",
       "      <td>3.0</td>\n",
       "      <td>410.0</td>\n",
       "      <td>2.0</td>\n",
       "    </tr>\n",
       "    <tr>\n",
       "      <th>2016-03-19</th>\n",
       "      <td>1.0</td>\n",
       "      <td>360.0</td>\n",
       "      <td>3.0</td>\n",
       "      <td>3.0</td>\n",
       "      <td>410.0</td>\n",
       "      <td>2.0</td>\n",
       "      <td>3.0</td>\n",
       "      <td>410.0</td>\n",
       "      <td>2.0</td>\n",
       "    </tr>\n",
       "    <tr>\n",
       "      <th>2016-04-06</th>\n",
       "      <td>1.0</td>\n",
       "      <td>400.0</td>\n",
       "      <td>2.0</td>\n",
       "      <td>1.0</td>\n",
       "      <td>360.0</td>\n",
       "      <td>3.0</td>\n",
       "      <td>3.0</td>\n",
       "      <td>410.0</td>\n",
       "      <td>2.0</td>\n",
       "    </tr>\n",
       "    <tr>\n",
       "      <th>2016-04-24</th>\n",
       "      <td>1.0</td>\n",
       "      <td>400.0</td>\n",
       "      <td>2.0</td>\n",
       "      <td>1.0</td>\n",
       "      <td>400.0</td>\n",
       "      <td>2.0</td>\n",
       "      <td>1.0</td>\n",
       "      <td>360.0</td>\n",
       "      <td>3.0</td>\n",
       "    </tr>\n",
       "    <tr>\n",
       "      <th>2016-05-12</th>\n",
       "      <td>1.0</td>\n",
       "      <td>400.0</td>\n",
       "      <td>2.0</td>\n",
       "      <td>1.0</td>\n",
       "      <td>400.0</td>\n",
       "      <td>2.0</td>\n",
       "      <td>1.0</td>\n",
       "      <td>400.0</td>\n",
       "      <td>2.0</td>\n",
       "    </tr>\n",
       "  </tbody>\n",
       "</table>\n",
       "<p>403 rows × 9 columns</p>\n",
       "</div>"
      ],
      "text/plain": [
       "                                        BDE? (e)  V_ICME (km/s) (i)  MC? (l)  \\\n",
       "ICME Plasma/Field Start Y/M/D (UT) (b)                                         \n",
       "1996-07-20                                   1.0              360.0      3.0   \n",
       "1996-08-07                                   1.0              360.0      3.0   \n",
       "1996-08-25                                   1.0              350.0      3.0   \n",
       "1996-09-12                                   1.0              350.0      3.0   \n",
       "1996-09-30                                   1.0              350.0      3.0   \n",
       "...                                          ...                ...      ...   \n",
       "2016-03-01                                   3.0              410.0      2.0   \n",
       "2016-03-19                                   1.0              360.0      3.0   \n",
       "2016-04-06                                   1.0              400.0      2.0   \n",
       "2016-04-24                                   1.0              400.0      2.0   \n",
       "2016-05-12                                   1.0              400.0      2.0   \n",
       "\n",
       "                                        BDE? (e)lag1  V_ICME (km/s) (i)lag1  \\\n",
       "ICME Plasma/Field Start Y/M/D (UT) (b)                                        \n",
       "1996-07-20                                       1.0                  360.0   \n",
       "1996-08-07                                       1.0                  360.0   \n",
       "1996-08-25                                       1.0                  360.0   \n",
       "1996-09-12                                       1.0                  350.0   \n",
       "1996-09-30                                       1.0                  350.0   \n",
       "...                                              ...                    ...   \n",
       "2016-03-01                                       3.0                  410.0   \n",
       "2016-03-19                                       3.0                  410.0   \n",
       "2016-04-06                                       1.0                  360.0   \n",
       "2016-04-24                                       1.0                  400.0   \n",
       "2016-05-12                                       1.0                  400.0   \n",
       "\n",
       "                                        MC? (l)lag1  BDE? (e)lag2  \\\n",
       "ICME Plasma/Field Start Y/M/D (UT) (b)                              \n",
       "1996-07-20                                      3.0           1.0   \n",
       "1996-08-07                                      3.0           1.0   \n",
       "1996-08-25                                      3.0           1.0   \n",
       "1996-09-12                                      3.0           1.0   \n",
       "1996-09-30                                      3.0           1.0   \n",
       "...                                             ...           ...   \n",
       "2016-03-01                                      2.0           3.0   \n",
       "2016-03-19                                      2.0           3.0   \n",
       "2016-04-06                                      3.0           3.0   \n",
       "2016-04-24                                      2.0           1.0   \n",
       "2016-05-12                                      2.0           1.0   \n",
       "\n",
       "                                        V_ICME (km/s) (i)lag2  MC? (l)lag2  \n",
       "ICME Plasma/Field Start Y/M/D (UT) (b)                                      \n",
       "1996-07-20                                              370.0          3.0  \n",
       "1996-08-07                                              360.0          3.0  \n",
       "1996-08-25                                              360.0          3.0  \n",
       "1996-09-12                                              360.0          3.0  \n",
       "1996-09-30                                              350.0          3.0  \n",
       "...                                                       ...          ...  \n",
       "2016-03-01                                              410.0          2.0  \n",
       "2016-03-19                                              410.0          2.0  \n",
       "2016-04-06                                              410.0          2.0  \n",
       "2016-04-24                                              360.0          3.0  \n",
       "2016-05-12                                              400.0          2.0  \n",
       "\n",
       "[403 rows x 9 columns]"
      ]
     },
     "execution_count": 38,
     "metadata": {},
     "output_type": "execute_result"
    }
   ],
   "source": [
    "train_dataset"
   ]
  },
  {
   "cell_type": "code",
   "execution_count": null,
   "metadata": {},
   "outputs": [],
   "source": []
  },
  {
   "cell_type": "markdown",
   "metadata": {},
   "source": [
    "## Split features from labels"
   ]
  },
  {
   "cell_type": "code",
   "execution_count": 39,
   "metadata": {},
   "outputs": [],
   "source": [
    "train_features = train_dataset.copy()\n",
    "test_features = test_dataset.copy()\n",
    "\n",
    "train_labels = train_features.pop('V_ICME (km/s) (i)')\n",
    "test_labels = test_features.pop('V_ICME (km/s) (i)')"
   ]
  },
  {
   "cell_type": "markdown",
   "metadata": {},
   "source": [
    "## Normalization"
   ]
  },
  {
   "cell_type": "code",
   "execution_count": 40,
   "metadata": {},
   "outputs": [
    {
     "data": {
      "text/html": [
       "<div>\n",
       "<style scoped>\n",
       "    .dataframe tbody tr th:only-of-type {\n",
       "        vertical-align: middle;\n",
       "    }\n",
       "\n",
       "    .dataframe tbody tr th {\n",
       "        vertical-align: top;\n",
       "    }\n",
       "\n",
       "    .dataframe thead th {\n",
       "        text-align: right;\n",
       "    }\n",
       "</style>\n",
       "<table border=\"1\" class=\"dataframe\">\n",
       "  <thead>\n",
       "    <tr style=\"text-align: right;\">\n",
       "      <th></th>\n",
       "      <th>mean</th>\n",
       "      <th>std</th>\n",
       "    </tr>\n",
       "  </thead>\n",
       "  <tbody>\n",
       "    <tr>\n",
       "      <th>BDE? (e)</th>\n",
       "      <td>2.210918</td>\n",
       "      <td>0.978719</td>\n",
       "    </tr>\n",
       "    <tr>\n",
       "      <th>V_ICME (km/s) (i)</th>\n",
       "      <td>442.630273</td>\n",
       "      <td>92.958718</td>\n",
       "    </tr>\n",
       "    <tr>\n",
       "      <th>MC? (l)</th>\n",
       "      <td>2.225806</td>\n",
       "      <td>0.808000</td>\n",
       "    </tr>\n",
       "    <tr>\n",
       "      <th>BDE? (e)lag1</th>\n",
       "      <td>2.210918</td>\n",
       "      <td>0.978719</td>\n",
       "    </tr>\n",
       "    <tr>\n",
       "      <th>V_ICME (km/s) (i)lag1</th>\n",
       "      <td>442.531017</td>\n",
       "      <td>93.025679</td>\n",
       "    </tr>\n",
       "    <tr>\n",
       "      <th>MC? (l)lag1</th>\n",
       "      <td>2.228288</td>\n",
       "      <td>0.808840</td>\n",
       "    </tr>\n",
       "    <tr>\n",
       "      <th>BDE? (e)lag2</th>\n",
       "      <td>2.210918</td>\n",
       "      <td>0.978719</td>\n",
       "    </tr>\n",
       "    <tr>\n",
       "      <th>V_ICME (km/s) (i)lag2</th>\n",
       "      <td>442.456576</td>\n",
       "      <td>93.071790</td>\n",
       "    </tr>\n",
       "    <tr>\n",
       "      <th>MC? (l)lag2</th>\n",
       "      <td>2.230769</td>\n",
       "      <td>0.809672</td>\n",
       "    </tr>\n",
       "  </tbody>\n",
       "</table>\n",
       "</div>"
      ],
      "text/plain": [
       "                             mean        std\n",
       "BDE? (e)                 2.210918   0.978719\n",
       "V_ICME (km/s) (i)      442.630273  92.958718\n",
       "MC? (l)                  2.225806   0.808000\n",
       "BDE? (e)lag1             2.210918   0.978719\n",
       "V_ICME (km/s) (i)lag1  442.531017  93.025679\n",
       "MC? (l)lag1              2.228288   0.808840\n",
       "BDE? (e)lag2             2.210918   0.978719\n",
       "V_ICME (km/s) (i)lag2  442.456576  93.071790\n",
       "MC? (l)lag2              2.230769   0.809672"
      ]
     },
     "execution_count": 40,
     "metadata": {},
     "output_type": "execute_result"
    }
   ],
   "source": [
    "train_dataset.describe().transpose()[['mean', 'std']]"
   ]
  },
  {
   "cell_type": "markdown",
   "metadata": {},
   "source": [
    "## The Normalization layer"
   ]
  },
  {
   "cell_type": "code",
   "execution_count": 41,
   "metadata": {},
   "outputs": [],
   "source": [
    "normalizer = tf.keras.layers.Normalization(axis=-1)"
   ]
  },
  {
   "cell_type": "code",
   "execution_count": 42,
   "metadata": {},
   "outputs": [
    {
     "name": "stderr",
     "output_type": "stream",
     "text": [
      "2021-10-30 22:13:49.052598: I tensorflow/core/platform/cpu_feature_guard.cc:142] This TensorFlow binary is optimized with oneAPI Deep Neural Network Library (oneDNN) to use the following CPU instructions in performance-critical operations:  AVX2 FMA\n",
      "To enable them in other operations, rebuild TensorFlow with the appropriate compiler flags.\n",
      "2021-10-30 22:13:49.167901: I tensorflow/compiler/mlir/mlir_graph_optimization_pass.cc:185] None of the MLIR Optimization Passes are enabled (registered 2)\n"
     ]
    }
   ],
   "source": [
    "normalizer.adapt(np.array(train_features))"
   ]
  },
  {
   "cell_type": "code",
   "execution_count": 43,
   "metadata": {},
   "outputs": [
    {
     "name": "stdout",
     "output_type": "stream",
     "text": [
      "[[  2.2109182   2.2258067   2.2109182 442.53098     2.2282877   2.2109182\n",
      "  442.45657     2.2307692]]\n"
     ]
    }
   ],
   "source": [
    "print(normalizer.mean.numpy())"
   ]
  },
  {
   "cell_type": "code",
   "execution_count": 44,
   "metadata": {},
   "outputs": [
    {
     "name": "stdout",
     "output_type": "stream",
     "text": [
      "First example: [[  1.   3.   1. 360.   3.   1. 370.   3.]]\n",
      "\n",
      "Normalized: [[-1.24  0.96 -1.24 -0.89  0.96 -1.24 -0.78  0.95]]\n"
     ]
    }
   ],
   "source": [
    "first = np.array(train_features[:1])\n",
    "\n",
    "with np.printoptions(precision=2, suppress=True):\n",
    "    \n",
    "    print('First example:', first)\n",
    "    print()\n",
    "    print('Normalized:', normalizer(first).numpy())"
   ]
  },
  {
   "cell_type": "code",
   "execution_count": 45,
   "metadata": {},
   "outputs": [],
   "source": [
    "def plot_loss(history):\n",
    "    plt.plot(history.history['loss'], label='loss')\n",
    "    plt.plot(history.history['val_loss'], label='val_loss')\n",
    "    plt.ylim(0,)\n",
    "    plt.xlabel('Epoch')\n",
    "    plt.ylabel('Error V_ICME (km/s) (i)')\n",
    "    plt.legend()\n",
    "    plt.grid(True)"
   ]
  },
  {
   "cell_type": "markdown",
   "metadata": {},
   "source": [
    "## Regression using a DNN and multiple inputs"
   ]
  },
  {
   "cell_type": "code",
   "execution_count": 46,
   "metadata": {},
   "outputs": [],
   "source": [
    "def build_and_compile_model(norm):\n",
    "    model = keras.Sequential([\n",
    "      norm,\n",
    "      layers.Dense(8, activation='relu'),\n",
    "#       layers.Dense(32, activation='relu'),\n",
    "      layers.Dense(1)\n",
    "    ])\n",
    "\n",
    "    model.compile(loss='mean_absolute_error',\n",
    "                optimizer=tf.keras.optimizers.Adam(0.001))\n",
    "    return model"
   ]
  },
  {
   "cell_type": "code",
   "execution_count": null,
   "metadata": {},
   "outputs": [],
   "source": []
  },
  {
   "cell_type": "code",
   "execution_count": 47,
   "metadata": {},
   "outputs": [
    {
     "name": "stdout",
     "output_type": "stream",
     "text": [
      "Model: \"sequential\"\n",
      "_________________________________________________________________\n",
      "Layer (type)                 Output Shape              Param #   \n",
      "=================================================================\n",
      "normalization (Normalization (None, 8)                 17        \n",
      "_________________________________________________________________\n",
      "dense (Dense)                (None, 8)                 72        \n",
      "_________________________________________________________________\n",
      "dense_1 (Dense)              (None, 1)                 9         \n",
      "=================================================================\n",
      "Total params: 98\n",
      "Trainable params: 81\n",
      "Non-trainable params: 17\n",
      "_________________________________________________________________\n"
     ]
    }
   ],
   "source": [
    "dnn_model = build_and_compile_model(normalizer)\n",
    "dnn_model.summary()"
   ]
  },
  {
   "cell_type": "code",
   "execution_count": 48,
   "metadata": {},
   "outputs": [
    {
     "name": "stdout",
     "output_type": "stream",
     "text": [
      "CPU times: user 47.8 s, sys: 5.16 s, total: 53 s\n",
      "Wall time: 42.1 s\n"
     ]
    }
   ],
   "source": [
    "%%time\n",
    "history = dnn_model.fit(\n",
    "    train_features,\n",
    "    train_labels,\n",
    "    validation_split=0.2,\n",
    "    verbose=0, epochs=2000)"
   ]
  },
  {
   "cell_type": "code",
   "execution_count": 49,
   "metadata": {},
   "outputs": [
    {
     "data": {
      "image/png": "[encoded data removed]",
      "text/plain": [
       "<Figure size 432x288 with 1 Axes>"
      ]
     },
     "metadata": {
      "image/png": {
       "height": 261,
       "width": 389
      },
      "needs_background": "light"
     },
     "output_type": "display_data"
    }
   ],
   "source": [
    "plot_loss(history)"
   ]
  },
  {
   "cell_type": "code",
   "execution_count": 50,
   "metadata": {},
   "outputs": [
    {
     "data": {
      "text/plain": [
       "(200.0, 650.0)"
      ]
     },
     "execution_count": 50,
     "metadata": {},
     "output_type": "execute_result"
    },
    {
     "data": {
      "image/png": "[encoded data removed]",
      "text/plain": [
       "<Figure size 432x288 with 1 Axes>"
      ]
     },
     "metadata": {
      "image/png": {
       "height": 266,
       "width": 272
      },
      "needs_background": "light"
     },
     "output_type": "display_data"
    }
   ],
   "source": [
    "test_predictions = dnn_model.predict(test_features).flatten()\n",
    "\n",
    "a = plt.axes(aspect='equal')\n",
    "plt.scatter(test_labels, test_predictions)\n",
    "plt.xlabel('True Values [Error V_ICME (km/s) (i)]')\n",
    "plt.ylabel('Predictions [Error V_ICME (km/s) (i)]')\n",
    "lims = [200, 650]\n",
    "plt.xlim(lims)\n",
    "plt.ylim(lims)\n",
    "# _ = plt.plot(lims, lims)"
   ]
  },
  {
   "cell_type": "code",
   "execution_count": null,
   "metadata": {},
   "outputs": [],
   "source": []
  },
  {
   "cell_type": "code",
   "execution_count": 51,
   "metadata": {},
   "outputs": [
    {
     "data": {
      "image/png": "[encoded data removed]",
      "text/plain": [
       "<Figure size 432x288 with 1 Axes>"
      ]
     },
     "metadata": {
      "image/png": {
       "height": 262,
       "width": 382
      },
      "needs_background": "light"
     },
     "output_type": "display_data"
    }
   ],
   "source": [
    "error = test_predictions - test_labels\n",
    "plt.hist(error, bins=25)\n",
    "plt.xlabel('Prediction Error [Error V_ICME (km/s) (i)]')\n",
    "_ = plt.ylabel('Count')"
   ]
  },
  {
   "cell_type": "code",
   "execution_count": 52,
   "metadata": {},
   "outputs": [
    {
     "data": {
      "text/plain": [
       "403"
      ]
     },
     "execution_count": 52,
     "metadata": {},
     "output_type": "execute_result"
    }
   ],
   "source": [
    "len(train_labels)"
   ]
  },
  {
   "cell_type": "code",
   "execution_count": 53,
   "metadata": {},
   "outputs": [
    {
     "data": {
      "text/plain": [
       "array([443.87225, 443.87225, 443.87225, 382.9671 , 426.25702, 440.82553,\n",
       "       442.1623 , 442.1623 , 442.1623 , 390.90808, 344.00635, 354.1992 ,\n",
       "       360.04422, 360.04422, 360.04422, 360.04422, 360.04422, 360.04422,\n",
       "       352.01263, 390.8415 , 390.90588, 392.45667, 390.0503 , 416.39398,\n",
       "       495.80383, 474.65198, 462.60736, 502.15326, 518.73584, 518.73584,\n",
       "       518.73584, 518.73584, 471.34415, 397.69455, 406.21942, 406.21942,\n",
       "       406.21942, 418.2968 , 406.02054, 437.8676 , 397.00797, 440.27393,\n",
       "       406.56076, 433.57288, 398.8311 , 403.50983, 403.50983, 443.21472,\n",
       "       399.7058 , 450.78717, 456.40018, 456.40018, 456.40018, 456.40018,\n",
       "       456.40018, 456.40018, 456.40018, 456.40018, 456.40018, 456.40018,\n",
       "       433.0185 , 415.6273 , 404.07855, 412.0993 , 412.09927, 412.09927,\n",
       "       412.09927, 412.09927, 412.09927, 412.09927, 412.09927, 426.9886 ,\n",
       "       415.0572 , 416.39398, 416.39398, 421.3571 , 420.6887 , 420.6887 ,\n",
       "       420.6887 , 420.6887 , 400.83627, 403.50983, 403.50983, 403.50983,\n",
       "       403.50983, 403.50983, 403.50983, 403.50983, 403.50983, 403.50983,\n",
       "       413.43607, 412.09927, 365.7641 , 445.75476, 456.40018, 456.40018,\n",
       "       456.40018, 456.40018, 490.1277 , 495.99884, 495.99884],\n",
       "      dtype=float32)"
      ]
     },
     "execution_count": 53,
     "metadata": {},
     "output_type": "execute_result"
    }
   ],
   "source": [
    "test_predictions"
   ]
  },
  {
   "cell_type": "code",
   "execution_count": 54,
   "metadata": {},
   "outputs": [
    {
     "data": {
      "text/plain": [
       "ICME Plasma/Field Start Y/M/D (UT) (b)\n",
       "2016-05-30    400.0\n",
       "2016-06-17    400.0\n",
       "2016-07-05    400.0\n",
       "2016-07-23    440.0\n",
       "2016-08-10    420.0\n",
       "              ...  \n",
       "2021-02-21    440.0\n",
       "2021-03-11    510.0\n",
       "2021-03-29    510.0\n",
       "2021-04-16    510.0\n",
       "2021-05-04    510.0\n",
       "Freq: 18D, Name: V_ICME (km/s) (i), Length: 101, dtype: float64"
      ]
     },
     "execution_count": 54,
     "metadata": {},
     "output_type": "execute_result"
    }
   ],
   "source": [
    "test_labels"
   ]
  },
  {
   "cell_type": "code",
   "execution_count": 55,
   "metadata": {},
   "outputs": [],
   "source": [
    "yhat_ser = pd.Series(test_predictions)\n",
    "yhat_ser.index = test_labels.index"
   ]
  },
  {
   "cell_type": "code",
   "execution_count": 56,
   "metadata": {},
   "outputs": [],
   "source": [
    "# train_features = train_dataset.copy()\n",
    "# test_features = test_dataset.copy()\n",
    "\n",
    "# train_labels = train_features.pop('V_ICME (km/s) (i)')\n",
    "# test_labels = test_features.pop('V_ICME (km/s) (i)')"
   ]
  },
  {
   "cell_type": "code",
   "execution_count": 57,
   "metadata": {},
   "outputs": [
    {
     "data": {
      "text/plain": [
       "403"
      ]
     },
     "execution_count": 57,
     "metadata": {},
     "output_type": "execute_result"
    }
   ],
   "source": [
    "len(train_labels)"
   ]
  },
  {
   "cell_type": "code",
   "execution_count": 58,
   "metadata": {},
   "outputs": [
    {
     "data": {
      "text/plain": [
       "101"
      ]
     },
     "execution_count": 58,
     "metadata": {},
     "output_type": "execute_result"
    }
   ],
   "source": [
    "len(test_labels)"
   ]
  },
  {
   "cell_type": "code",
   "execution_count": 59,
   "metadata": {},
   "outputs": [],
   "source": [
    "@gif.frame\n",
    "def plott(ahead):\n",
    "    \n",
    "    ahead = ahead\n",
    "    past = 100\n",
    "\n",
    "\n",
    "    testy = test_labels\n",
    "    yhat = yhat_ser\n",
    "\n",
    "\n",
    "\n",
    "    plt.figure(figsize=(16,8))\n",
    "\n",
    "    plt.plot(train_labels[len(train_labels)-past:], 'r',label='history')\n",
    "    plt.vlines(train_labels[len(train_labels)-1:len(train_labels)].index,0, 700, colors='k', linestyles='dashed')\n",
    "\n",
    "    plt.plot(testy[0:ahead], 'r^',label='Test')\n",
    "    plt.plot(testy[0:ahead], 'r')\n",
    "    #     test.plot(kind='scatter')\n",
    "\n",
    "    plt.plot(yhat[0:ahead], color='blue',label='Predicted')\n",
    "    plt.title('DNN model', fontsize=10)\n",
    "    plt.xlabel('Date', fontsize=10)\n",
    "    plt.ylabel('ICME km/s', fontsize=10)\n",
    "\n",
    "\n",
    "    plt.xticks(fontsize=10)\n",
    "    plt.yticks(fontsize=10)\n",
    "\n",
    "\n",
    "    plt.legend(fontsize=10)\n",
    "    # plt.ylim(200,)"
   ]
  },
  {
   "cell_type": "code",
   "execution_count": 60,
   "metadata": {},
   "outputs": [
    {
     "data": {
      "image/png": "[encoded data removed]",
      "text/plain": [
       "<PIL.PngImagePlugin.PngImageFile image mode=RGBA size=1152x576 at 0x7F95EBF5AE48>"
      ]
     },
     "execution_count": 60,
     "metadata": {},
     "output_type": "execute_result"
    }
   ],
   "source": [
    "plott(ahead=3)"
   ]
  },
  {
   "cell_type": "markdown",
   "metadata": {},
   "source": [
    "## GIF visualization"
   ]
  },
  {
   "cell_type": "code",
   "execution_count": 61,
   "metadata": {},
   "outputs": [
    {
     "name": "stderr",
     "output_type": "stream",
     "text": [
      "100%|█████████████████████████████████████████| 102/102 [00:19<00:00,  5.30it/s]\n"
     ]
    }
   ],
   "source": [
    "frames = []    \n",
    "for i in tqdm(range(0,len(test_labels)+1)):\n",
    "\n",
    "    \n",
    "    frame =  plott(i)\n",
    "    frames.append(frame)"
   ]
  },
  {
   "cell_type": "code",
   "execution_count": 62,
   "metadata": {},
   "outputs": [],
   "source": [
    "gif.save(frames, \"../Figures/P03_06_DNN_multivar_sup.gif\", duration=1)"
   ]
  },
  {
   "cell_type": "markdown",
   "metadata": {},
   "source": [
    "## rs2"
   ]
  },
  {
   "cell_type": "code",
   "execution_count": 63,
   "metadata": {},
   "outputs": [
    {
     "name": "stdout",
     "output_type": "stream",
     "text": [
      "0.46\n"
     ]
    }
   ],
   "source": [
    "real_values = test_labels\n",
    "predited_values = test_predictions\n",
    "\n",
    "coefficient_of_dermination = r2_score(real_values, predited_values)\n",
    "coefficient_of_dermination\n",
    "\n",
    "rs2 = round(coefficient_of_dermination,2)\n",
    "print(rs2)"
   ]
  },
  {
   "cell_type": "markdown",
   "metadata": {},
   "source": [
    "## MAE"
   ]
  },
  {
   "cell_type": "code",
   "execution_count": 64,
   "metadata": {},
   "outputs": [
    {
     "data": {
      "text/plain": [
       "42.42"
      ]
     },
     "execution_count": 64,
     "metadata": {},
     "output_type": "execute_result"
    }
   ],
   "source": [
    "mae = mean_absolute_error(real_values, predited_values)\n",
    "mae = round(mae, 2)\n",
    "mae"
   ]
  },
  {
   "cell_type": "code",
   "execution_count": 65,
   "metadata": {},
   "outputs": [],
   "source": [
    "from sklearn.metrics import r2_score\n",
    "from math import sqrt\n",
    "import json"
   ]
  },
  {
   "cell_type": "code",
   "execution_count": 66,
   "metadata": {},
   "outputs": [],
   "source": [
    "Multivar_tf_supervised_P03_06_performance = {'R_sq': r2_score(real_values, predited_values),\n",
    "                                'rmse': sqrt(mean_squared_error(real_values, predited_values))}\n",
    "\n",
    "# https://stackoverflow.com/questions/27745500/how-to-save-a-list-to-a-file-and-read-it-as-a-list-type\n",
    "with open(\"../Data/Multivar_tf_supervised_P03_06_performance.json\", 'w') as f:\n",
    "    # indent=2 is not needed but makes the file human-readable\n",
    "    json.dump(Multivar_tf_supervised_P03_06_performance, f, indent=2)"
   ]
  },
  {
   "cell_type": "code",
   "execution_count": 70,
   "metadata": {},
   "outputs": [
    {
     "data": {
      "image/png": "[encoded data removed]",
      "text/plain": [
       "<Figure size 720x720 with 1 Axes>"
      ]
     },
     "metadata": {
      "image/png": {
       "height": 711,
       "width": 713
      },
      "needs_background": "light"
     },
     "output_type": "display_data"
    }
   ],
   "source": [
    "plt.figure(figsize=(10,10))\n",
    "\n",
    "\n",
    "real_values = test_labels\n",
    "predited_values = test_predictions\n",
    "\n",
    "\n",
    "plt.scatter(real_values, predited_values, color='r', \n",
    "            alpha=0.4, label=f'Validation Data with R2 = {rs2}',s=100)\n",
    "plt.xlabel(\"Real ICME speed km/s\", fontsize=14)\n",
    "plt.ylabel(\"Predited ICME speed km/s\", fontsize=14)\n",
    "plt.xticks(fontsize=12), plt.yticks(fontsize=12)\n",
    "plt.axline([0, 0], [1, 1], color ='k')\n",
    "# plt.hlines(0, -4, 4, linestyles=\"--\", color ='k')\n",
    "# plt.vlines(0, -4, 4, linestyles=\"--\", color ='k')\n",
    "\n",
    "lims = [300, 650]\n",
    "plt.xlim(lims)\n",
    "plt.ylim(lims)\n",
    "\n",
    "plt.title(\"DNN model | supervised | ICME speed forecast results for 18 \\\n",
    "days ahead\", fontsize=14)\n",
    "\n",
    "plt.tight_layout()\n",
    "plt.legend(fontsize=14)\n",
    "\n",
    "plt.savefig(\"../Figures/\" + section_fig_main_title + \"DNN18daysAhead.png\")"
   ]
  },
  {
   "cell_type": "code",
   "execution_count": 68,
   "metadata": {},
   "outputs": [
    {
     "name": "stderr",
     "output_type": "stream",
     "text": [
      "2021-10-30 22:14:55.946885: W tensorflow/python/util/util.cc:348] Sets are not currently considered sequences, but this may change in the future, so consider avoiding using them.\n"
     ]
    },
    {
     "name": "stdout",
     "output_type": "stream",
     "text": [
      "INFO:tensorflow:Assets written to: ../Models/dnn_model_tf_p03_06/assets\n"
     ]
    }
   ],
   "source": [
    "dnn_model.save('../Models/dnn_model_tf_p03_06')"
   ]
  },
  {
   "cell_type": "markdown",
   "metadata": {},
   "source": [
    "The DNN does not encounter overfitting however applying small networks is not helpful. Applying split fraction 0.8 results in improved MAE values.\n",
    "2 lags (2*18 days) data was used for prediction next timestamps."
   ]
  },
  {
   "cell_type": "code",
   "execution_count": null,
   "metadata": {},
   "outputs": [],
   "source": []
  }
 ],
 "metadata": {
  "kernelspec": {
   "display_name": "env",
   "language": "python",
   "name": "env"
  },
  "language_info": {
   "codemirror_mode": {
    "name": "ipython",
    "version": 3
   },
   "file_extension": ".py",
   "mimetype": "text/x-python",
   "name": "python",
   "nbconvert_exporter": "python",
   "pygments_lexer": "ipython3",
   "version": "3.7.1"
  }
 },
 "nbformat": 4,
 "nbformat_minor": 5
}

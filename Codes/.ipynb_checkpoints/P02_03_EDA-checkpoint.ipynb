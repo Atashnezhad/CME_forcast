{
 "cells": [
  {
   "cell_type": "markdown",
   "metadata": {},
   "source": [
    "# P02_03_EDA"
   ]
  },
  {
   "cell_type": "code",
   "execution_count": 1,
   "metadata": {},
   "outputs": [],
   "source": [
    "section_fig_main_title = 'P02_03_EDA_'"
   ]
  },
  {
   "cell_type": "code",
   "execution_count": 2,
   "metadata": {},
   "outputs": [],
   "source": [
    "import os, sys\n",
    "import requests\n",
    "from urllib.parse import urljoin, urlparse\n",
    "from bs4 import BeautifulSoup as bs\n",
    "import re\n",
    "import numpy as np\n",
    "import pandas as pd\n",
    "import matplotlib.pyplot as plt\n",
    "import seaborn as sns\n",
    "%config InlineBackend.figure_format = 'retina'\n",
    "from pandas.plotting import lag_plot"
   ]
  },
  {
   "cell_type": "code",
   "execution_count": 3,
   "metadata": {},
   "outputs": [],
   "source": [
    "from pandas.plotting import autocorrelation_plot\n"
   ]
  },
  {
   "cell_type": "code",
   "execution_count": 4,
   "metadata": {},
   "outputs": [],
   "source": [
    "import warnings\n",
    "warnings.filterwarnings('ignore')"
   ]
  },
  {
   "cell_type": "code",
   "execution_count": 5,
   "metadata": {},
   "outputs": [],
   "source": [
    "from sklearn.linear_model import LinearRegression\n",
    "from sklearn.preprocessing import StandardScaler, PolynomialFeatures"
   ]
  },
  {
   "cell_type": "code",
   "execution_count": 6,
   "metadata": {},
   "outputs": [],
   "source": [
    "from sklearn import metrics\n",
    "import statsmodels.api as sm"
   ]
  },
  {
   "cell_type": "markdown",
   "metadata": {},
   "source": [
    "## Read Data\n"
   ]
  },
  {
   "cell_type": "code",
   "execution_count": 7,
   "metadata": {},
   "outputs": [],
   "source": [
    "csv_path = \"../Data/Data_ICME_Edited_out_P02_02.csv\"\n",
    "df = pd.read_csv(csv_path, parse_dates=True, infer_datetime_format=True)"
   ]
  },
  {
   "cell_type": "code",
   "execution_count": 8,
   "metadata": {},
   "outputs": [
    {
     "data": {
      "text/html": [
       "<div>\n",
       "<style scoped>\n",
       "    .dataframe tbody tr th:only-of-type {\n",
       "        vertical-align: middle;\n",
       "    }\n",
       "\n",
       "    .dataframe tbody tr th {\n",
       "        vertical-align: top;\n",
       "    }\n",
       "\n",
       "    .dataframe thead th {\n",
       "        text-align: right;\n",
       "    }\n",
       "</style>\n",
       "<table border=\"1\" class=\"dataframe\">\n",
       "  <thead>\n",
       "    <tr style=\"text-align: right;\">\n",
       "      <th></th>\n",
       "      <th>Disturbance Y/M/D (UT) (a)</th>\n",
       "      <th>ICME Plasma/Field Start Y/M/D (UT) (b)</th>\n",
       "      <th>ICME Plasma/Field End Y/M/D (UT) (b)</th>\n",
       "      <th>Comp. Start (Hrs wrt. Plasma/ Field) (c)</th>\n",
       "      <th>Comp. End (Hrs wrt. Plasma/ Field) (c)</th>\n",
       "      <th>MC Start (Hrs wrt. Plasma/ Field) (d)</th>\n",
       "      <th>End (Hrs wrt. Plasma/ Field) (d)</th>\n",
       "      <th>BDE? (e)</th>\n",
       "      <th>BIF? (f)</th>\n",
       "      <th>Qual. (g)</th>\n",
       "      <th>dV (km/s) (h)</th>\n",
       "      <th>V_ICME (km/s) (i)</th>\n",
       "      <th>V_max (km/s) (j)</th>\n",
       "      <th>B (nT) (k)</th>\n",
       "      <th>MC? (l)</th>\n",
       "      <th>Dst (nT) (m)</th>\n",
       "      <th>V_transit (km/s) (n)</th>\n",
       "      <th>LASCO CME Y/M/D (UT) (o)</th>\n",
       "    </tr>\n",
       "  </thead>\n",
       "  <tbody>\n",
       "    <tr>\n",
       "      <th>0</th>\n",
       "      <td>1996/05/27 1500</td>\n",
       "      <td>1996-05-27 15:00:00</td>\n",
       "      <td>1996-05-29 03:00:00</td>\n",
       "      <td>...</td>\n",
       "      <td>...</td>\n",
       "      <td>0</td>\n",
       "      <td>+4</td>\n",
       "      <td>N</td>\n",
       "      <td>...</td>\n",
       "      <td>2</td>\n",
       "      <td>0</td>\n",
       "      <td>370</td>\n",
       "      <td>400</td>\n",
       "      <td>9</td>\n",
       "      <td>2</td>\n",
       "      <td>-33</td>\n",
       "      <td>...</td>\n",
       "      <td>NaN</td>\n",
       "    </tr>\n",
       "    <tr>\n",
       "      <th>1</th>\n",
       "      <td>1996/07/01 1320</td>\n",
       "      <td>1996-07-01 18:00:00</td>\n",
       "      <td>1996-07-02 11:00:00</td>\n",
       "      <td>...</td>\n",
       "      <td>...</td>\n",
       "      <td>0</td>\n",
       "      <td>0</td>\n",
       "      <td>N</td>\n",
       "      <td>...</td>\n",
       "      <td>3</td>\n",
       "      <td>40</td>\n",
       "      <td>360</td>\n",
       "      <td>370</td>\n",
       "      <td>11</td>\n",
       "      <td>2</td>\n",
       "      <td>-20</td>\n",
       "      <td>...</td>\n",
       "      <td>NaN</td>\n",
       "    </tr>\n",
       "  </tbody>\n",
       "</table>\n",
       "</div>"
      ],
      "text/plain": [
       "  Disturbance Y/M/D (UT) (a) ICME Plasma/Field Start Y/M/D (UT) (b)  \\\n",
       "0            1996/05/27 1500                    1996-05-27 15:00:00   \n",
       "1            1996/07/01 1320                    1996-07-01 18:00:00   \n",
       "\n",
       "  ICME Plasma/Field End Y/M/D (UT) (b)  \\\n",
       "0                  1996-05-29 03:00:00   \n",
       "1                  1996-07-02 11:00:00   \n",
       "\n",
       "  Comp. Start (Hrs wrt. Plasma/ Field) (c)  \\\n",
       "0                                      ...   \n",
       "1                                      ...   \n",
       "\n",
       "  Comp. End (Hrs wrt. Plasma/ Field) (c)  \\\n",
       "0                                    ...   \n",
       "1                                    ...   \n",
       "\n",
       "  MC Start (Hrs wrt. Plasma/ Field) (d) End (Hrs wrt. Plasma/ Field) (d)  \\\n",
       "0                                     0                               +4   \n",
       "1                                     0                                0   \n",
       "\n",
       "  BDE? (e) BIF? (f) Qual. (g) dV (km/s) (h)  V_ICME (km/s) (i)  \\\n",
       "0        N      ...         2             0                370   \n",
       "1        N      ...         3            40                360   \n",
       "\n",
       "   V_max (km/s) (j)  B (nT) (k) MC? (l) Dst (nT) (m) V_transit (km/s) (n)  \\\n",
       "0               400           9       2          -33                  ...   \n",
       "1               370          11       2          -20                  ...   \n",
       "\n",
       "  LASCO CME Y/M/D (UT) (o)  \n",
       "0                      NaN  \n",
       "1                      NaN  "
      ]
     },
     "execution_count": 8,
     "metadata": {},
     "output_type": "execute_result"
    }
   ],
   "source": [
    "df.head(2)"
   ]
  },
  {
   "cell_type": "markdown",
   "metadata": {},
   "source": [
    "drop the first column. "
   ]
  },
  {
   "cell_type": "code",
   "execution_count": 9,
   "metadata": {},
   "outputs": [],
   "source": [
    "df = df.drop(columns=['Disturbance Y/M/D (UT) (a)'])"
   ]
  },
  {
   "cell_type": "code",
   "execution_count": 10,
   "metadata": {},
   "outputs": [
    {
     "data": {
      "text/html": [
       "<div>\n",
       "<style scoped>\n",
       "    .dataframe tbody tr th:only-of-type {\n",
       "        vertical-align: middle;\n",
       "    }\n",
       "\n",
       "    .dataframe tbody tr th {\n",
       "        vertical-align: top;\n",
       "    }\n",
       "\n",
       "    .dataframe thead th {\n",
       "        text-align: right;\n",
       "    }\n",
       "</style>\n",
       "<table border=\"1\" class=\"dataframe\">\n",
       "  <thead>\n",
       "    <tr style=\"text-align: right;\">\n",
       "      <th></th>\n",
       "      <th>ICME Plasma/Field Start Y/M/D (UT) (b)</th>\n",
       "      <th>ICME Plasma/Field End Y/M/D (UT) (b)</th>\n",
       "      <th>Comp. Start (Hrs wrt. Plasma/ Field) (c)</th>\n",
       "      <th>Comp. End (Hrs wrt. Plasma/ Field) (c)</th>\n",
       "      <th>MC Start (Hrs wrt. Plasma/ Field) (d)</th>\n",
       "      <th>End (Hrs wrt. Plasma/ Field) (d)</th>\n",
       "      <th>BDE? (e)</th>\n",
       "      <th>BIF? (f)</th>\n",
       "      <th>Qual. (g)</th>\n",
       "      <th>dV (km/s) (h)</th>\n",
       "      <th>V_ICME (km/s) (i)</th>\n",
       "      <th>V_max (km/s) (j)</th>\n",
       "      <th>B (nT) (k)</th>\n",
       "      <th>MC? (l)</th>\n",
       "      <th>Dst (nT) (m)</th>\n",
       "      <th>V_transit (km/s) (n)</th>\n",
       "      <th>LASCO CME Y/M/D (UT) (o)</th>\n",
       "    </tr>\n",
       "  </thead>\n",
       "  <tbody>\n",
       "    <tr>\n",
       "      <th>0</th>\n",
       "      <td>1996-05-27 15:00:00</td>\n",
       "      <td>1996-05-29 03:00:00</td>\n",
       "      <td>...</td>\n",
       "      <td>...</td>\n",
       "      <td>0</td>\n",
       "      <td>+4</td>\n",
       "      <td>N</td>\n",
       "      <td>...</td>\n",
       "      <td>2</td>\n",
       "      <td>0</td>\n",
       "      <td>370</td>\n",
       "      <td>400</td>\n",
       "      <td>9</td>\n",
       "      <td>2</td>\n",
       "      <td>-33</td>\n",
       "      <td>...</td>\n",
       "      <td>NaN</td>\n",
       "    </tr>\n",
       "    <tr>\n",
       "      <th>1</th>\n",
       "      <td>1996-07-01 18:00:00</td>\n",
       "      <td>1996-07-02 11:00:00</td>\n",
       "      <td>...</td>\n",
       "      <td>...</td>\n",
       "      <td>0</td>\n",
       "      <td>0</td>\n",
       "      <td>N</td>\n",
       "      <td>...</td>\n",
       "      <td>3</td>\n",
       "      <td>40</td>\n",
       "      <td>360</td>\n",
       "      <td>370</td>\n",
       "      <td>11</td>\n",
       "      <td>2</td>\n",
       "      <td>-20</td>\n",
       "      <td>...</td>\n",
       "      <td>NaN</td>\n",
       "    </tr>\n",
       "  </tbody>\n",
       "</table>\n",
       "</div>"
      ],
      "text/plain": [
       "  ICME Plasma/Field Start Y/M/D (UT) (b) ICME Plasma/Field End Y/M/D (UT) (b)  \\\n",
       "0                    1996-05-27 15:00:00                  1996-05-29 03:00:00   \n",
       "1                    1996-07-01 18:00:00                  1996-07-02 11:00:00   \n",
       "\n",
       "  Comp. Start (Hrs wrt. Plasma/ Field) (c)  \\\n",
       "0                                      ...   \n",
       "1                                      ...   \n",
       "\n",
       "  Comp. End (Hrs wrt. Plasma/ Field) (c)  \\\n",
       "0                                    ...   \n",
       "1                                    ...   \n",
       "\n",
       "  MC Start (Hrs wrt. Plasma/ Field) (d) End (Hrs wrt. Plasma/ Field) (d)  \\\n",
       "0                                     0                               +4   \n",
       "1                                     0                                0   \n",
       "\n",
       "  BDE? (e) BIF? (f) Qual. (g) dV (km/s) (h)  V_ICME (km/s) (i)  \\\n",
       "0        N      ...         2             0                370   \n",
       "1        N      ...         3            40                360   \n",
       "\n",
       "   V_max (km/s) (j)  B (nT) (k) MC? (l) Dst (nT) (m) V_transit (km/s) (n)  \\\n",
       "0               400           9       2          -33                  ...   \n",
       "1               370          11       2          -20                  ...   \n",
       "\n",
       "  LASCO CME Y/M/D (UT) (o)  \n",
       "0                      NaN  \n",
       "1                      NaN  "
      ]
     },
     "execution_count": 10,
     "metadata": {},
     "output_type": "execute_result"
    }
   ],
   "source": [
    "df.head(2)"
   ]
  },
  {
   "cell_type": "code",
   "execution_count": 11,
   "metadata": {
    "scrolled": true
   },
   "outputs": [
    {
     "data": {
      "text/plain": [
       "ICME Plasma/Field Start Y/M/D (UT) (b)        0\n",
       "ICME Plasma/Field End Y/M/D (UT) (b)          0\n",
       "Comp. Start (Hrs wrt. Plasma/ Field) (c)      0\n",
       "Comp. End (Hrs wrt. Plasma/ Field) (c)        0\n",
       "MC Start (Hrs wrt. Plasma/ Field) (d)         0\n",
       "End (Hrs wrt. Plasma/ Field) (d)              0\n",
       "BDE? (e)                                      0\n",
       "BIF? (f)                                      0\n",
       "Qual. (g)                                     0\n",
       "dV (km/s) (h)                                 0\n",
       "V_ICME (km/s) (i)                             0\n",
       "V_max (km/s) (j)                              0\n",
       "B (nT) (k)                                    0\n",
       "MC? (l)                                       0\n",
       "Dst (nT) (m)                                  0\n",
       "V_transit (km/s) (n)                          1\n",
       "LASCO CME Y/M/D (UT) (o)                    235\n",
       "dtype: int64"
      ]
     },
     "execution_count": 11,
     "metadata": {},
     "output_type": "execute_result"
    }
   ],
   "source": [
    "df.isnull().sum()"
   ]
  },
  {
   "cell_type": "markdown",
   "metadata": {},
   "source": [
    "drop the LASCO CME Y/M/D (UT) (o) columns. it has 235 null values."
   ]
  },
  {
   "cell_type": "code",
   "execution_count": 12,
   "metadata": {},
   "outputs": [],
   "source": [
    "df = df.drop(columns=['LASCO CME Y/M/D (UT) (o)'])"
   ]
  },
  {
   "cell_type": "code",
   "execution_count": 13,
   "metadata": {},
   "outputs": [
    {
     "data": {
      "text/html": [
       "<div>\n",
       "<style scoped>\n",
       "    .dataframe tbody tr th:only-of-type {\n",
       "        vertical-align: middle;\n",
       "    }\n",
       "\n",
       "    .dataframe tbody tr th {\n",
       "        vertical-align: top;\n",
       "    }\n",
       "\n",
       "    .dataframe thead th {\n",
       "        text-align: right;\n",
       "    }\n",
       "</style>\n",
       "<table border=\"1\" class=\"dataframe\">\n",
       "  <thead>\n",
       "    <tr style=\"text-align: right;\">\n",
       "      <th></th>\n",
       "      <th>ICME Plasma/Field Start Y/M/D (UT) (b)</th>\n",
       "      <th>ICME Plasma/Field End Y/M/D (UT) (b)</th>\n",
       "      <th>Comp. Start (Hrs wrt. Plasma/ Field) (c)</th>\n",
       "      <th>Comp. End (Hrs wrt. Plasma/ Field) (c)</th>\n",
       "      <th>MC Start (Hrs wrt. Plasma/ Field) (d)</th>\n",
       "      <th>End (Hrs wrt. Plasma/ Field) (d)</th>\n",
       "      <th>BDE? (e)</th>\n",
       "      <th>BIF? (f)</th>\n",
       "      <th>Qual. (g)</th>\n",
       "      <th>dV (km/s) (h)</th>\n",
       "      <th>V_ICME (km/s) (i)</th>\n",
       "      <th>V_max (km/s) (j)</th>\n",
       "      <th>B (nT) (k)</th>\n",
       "      <th>MC? (l)</th>\n",
       "      <th>Dst (nT) (m)</th>\n",
       "      <th>V_transit (km/s) (n)</th>\n",
       "    </tr>\n",
       "  </thead>\n",
       "  <tbody>\n",
       "    <tr>\n",
       "      <th>0</th>\n",
       "      <td>1996-05-27 15:00:00</td>\n",
       "      <td>1996-05-29 03:00:00</td>\n",
       "      <td>...</td>\n",
       "      <td>...</td>\n",
       "      <td>0</td>\n",
       "      <td>+4</td>\n",
       "      <td>N</td>\n",
       "      <td>...</td>\n",
       "      <td>2</td>\n",
       "      <td>0</td>\n",
       "      <td>370</td>\n",
       "      <td>400</td>\n",
       "      <td>9</td>\n",
       "      <td>2</td>\n",
       "      <td>-33</td>\n",
       "      <td>...</td>\n",
       "    </tr>\n",
       "    <tr>\n",
       "      <th>1</th>\n",
       "      <td>1996-07-01 18:00:00</td>\n",
       "      <td>1996-07-02 11:00:00</td>\n",
       "      <td>...</td>\n",
       "      <td>...</td>\n",
       "      <td>0</td>\n",
       "      <td>0</td>\n",
       "      <td>N</td>\n",
       "      <td>...</td>\n",
       "      <td>3</td>\n",
       "      <td>40</td>\n",
       "      <td>360</td>\n",
       "      <td>370</td>\n",
       "      <td>11</td>\n",
       "      <td>2</td>\n",
       "      <td>-20</td>\n",
       "      <td>...</td>\n",
       "    </tr>\n",
       "    <tr>\n",
       "      <th>2</th>\n",
       "      <td>1996-08-07 12:00:00</td>\n",
       "      <td>1996-08-08 10:00:00</td>\n",
       "      <td>...</td>\n",
       "      <td>...</td>\n",
       "      <td>0</td>\n",
       "      <td>0</td>\n",
       "      <td>N</td>\n",
       "      <td>...</td>\n",
       "      <td>2</td>\n",
       "      <td>10</td>\n",
       "      <td>350</td>\n",
       "      <td>380</td>\n",
       "      <td>7</td>\n",
       "      <td>2</td>\n",
       "      <td>-23</td>\n",
       "      <td>...</td>\n",
       "    </tr>\n",
       "    <tr>\n",
       "      <th>3</th>\n",
       "      <td>1996-12-23 17:00:00</td>\n",
       "      <td>1996-12-25 11:00:00</td>\n",
       "      <td>...</td>\n",
       "      <td>...</td>\n",
       "      <td>+10</td>\n",
       "      <td>0</td>\n",
       "      <td>N</td>\n",
       "      <td>...</td>\n",
       "      <td>2</td>\n",
       "      <td>20</td>\n",
       "      <td>360</td>\n",
       "      <td>420</td>\n",
       "      <td>10</td>\n",
       "      <td>2</td>\n",
       "      <td>-18</td>\n",
       "      <td>435</td>\n",
       "    </tr>\n",
       "    <tr>\n",
       "      <th>4</th>\n",
       "      <td>1997-01-10 04:00:00</td>\n",
       "      <td>1997-01-11 02:00:00</td>\n",
       "      <td>...</td>\n",
       "      <td>...</td>\n",
       "      <td>0</td>\n",
       "      <td>0</td>\n",
       "      <td>Y</td>\n",
       "      <td>...</td>\n",
       "      <td>1</td>\n",
       "      <td>100 S</td>\n",
       "      <td>450</td>\n",
       "      <td>460</td>\n",
       "      <td>14</td>\n",
       "      <td>2</td>\n",
       "      <td>-78</td>\n",
       "      <td>507</td>\n",
       "    </tr>\n",
       "  </tbody>\n",
       "</table>\n",
       "</div>"
      ],
      "text/plain": [
       "  ICME Plasma/Field Start Y/M/D (UT) (b) ICME Plasma/Field End Y/M/D (UT) (b)  \\\n",
       "0                    1996-05-27 15:00:00                  1996-05-29 03:00:00   \n",
       "1                    1996-07-01 18:00:00                  1996-07-02 11:00:00   \n",
       "2                    1996-08-07 12:00:00                  1996-08-08 10:00:00   \n",
       "3                    1996-12-23 17:00:00                  1996-12-25 11:00:00   \n",
       "4                    1997-01-10 04:00:00                  1997-01-11 02:00:00   \n",
       "\n",
       "  Comp. Start (Hrs wrt. Plasma/ Field) (c)  \\\n",
       "0                                      ...   \n",
       "1                                      ...   \n",
       "2                                      ...   \n",
       "3                                      ...   \n",
       "4                                      ...   \n",
       "\n",
       "  Comp. End (Hrs wrt. Plasma/ Field) (c)  \\\n",
       "0                                    ...   \n",
       "1                                    ...   \n",
       "2                                    ...   \n",
       "3                                    ...   \n",
       "4                                    ...   \n",
       "\n",
       "  MC Start (Hrs wrt. Plasma/ Field) (d) End (Hrs wrt. Plasma/ Field) (d)  \\\n",
       "0                                     0                               +4   \n",
       "1                                     0                                0   \n",
       "2                                     0                                0   \n",
       "3                                   +10                                0   \n",
       "4                                     0                                0   \n",
       "\n",
       "  BDE? (e) BIF? (f) Qual. (g) dV (km/s) (h)  V_ICME (km/s) (i)  \\\n",
       "0        N      ...         2             0                370   \n",
       "1        N      ...         3            40                360   \n",
       "2        N      ...         2            10                350   \n",
       "3        N      ...         2            20                360   \n",
       "4        Y      ...         1         100 S                450   \n",
       "\n",
       "   V_max (km/s) (j)  B (nT) (k) MC? (l) Dst (nT) (m) V_transit (km/s) (n)  \n",
       "0               400           9       2          -33                  ...  \n",
       "1               370          11       2          -20                  ...  \n",
       "2               380           7       2          -23                  ...  \n",
       "3               420          10       2          -18                  435  \n",
       "4               460          14       2          -78                  507  "
      ]
     },
     "execution_count": 13,
     "metadata": {},
     "output_type": "execute_result"
    }
   ],
   "source": [
    "df.head()"
   ]
  },
  {
   "cell_type": "markdown",
   "metadata": {},
   "source": [
    "let's replace the ```...``` with nan and see how many missed values exist in data."
   ]
  },
  {
   "cell_type": "code",
   "execution_count": 14,
   "metadata": {},
   "outputs": [],
   "source": [
    "df = df.replace('...', np.nan)                "
   ]
  },
  {
   "cell_type": "code",
   "execution_count": 15,
   "metadata": {},
   "outputs": [
    {
     "data": {
      "text/plain": [
       "ICME Plasma/Field Start Y/M/D (UT) (b)        0\n",
       "ICME Plasma/Field End Y/M/D (UT) (b)          0\n",
       "Comp. Start (Hrs wrt. Plasma/ Field) (c)    236\n",
       "Comp. End (Hrs wrt. Plasma/ Field) (c)      236\n",
       "MC Start (Hrs wrt. Plasma/ Field) (d)       410\n",
       "End (Hrs wrt. Plasma/ Field) (d)            410\n",
       "BDE? (e)                                     12\n",
       "BIF? (f)                                    400\n",
       "Qual. (g)                                     0\n",
       "dV (km/s) (h)                                 1\n",
       "V_ICME (km/s) (i)                             0\n",
       "V_max (km/s) (j)                              0\n",
       "B (nT) (k)                                    0\n",
       "MC? (l)                                       0\n",
       "Dst (nT) (m)                                  7\n",
       "V_transit (km/s) (n)                        248\n",
       "dtype: int64"
      ]
     },
     "execution_count": 15,
     "metadata": {},
     "output_type": "execute_result"
    }
   ],
   "source": [
    "df.isna().sum()"
   ]
  },
  {
   "cell_type": "markdown",
   "metadata": {},
   "source": [
    "Ok lets's drop columns including: \n",
    "\n",
    "```\n",
    "Comp. Start (Hrs wrt. Plasma/ Field) (c)\n",
    "Comp. End (Hrs wrt. Plasma/ Field) (c)\n",
    "MC Start (Hrs wrt. Plasma/ Field) (d)\n",
    "End (Hrs wrt. Plasma/ Field) (d)            \n",
    "BIF? (f)                                   \n",
    "V_transit (km/s) (n)                        \n",
    "```"
   ]
  },
  {
   "cell_type": "code",
   "execution_count": 16,
   "metadata": {},
   "outputs": [
    {
     "data": {
      "text/html": [
       "<div>\n",
       "<style scoped>\n",
       "    .dataframe tbody tr th:only-of-type {\n",
       "        vertical-align: middle;\n",
       "    }\n",
       "\n",
       "    .dataframe tbody tr th {\n",
       "        vertical-align: top;\n",
       "    }\n",
       "\n",
       "    .dataframe thead th {\n",
       "        text-align: right;\n",
       "    }\n",
       "</style>\n",
       "<table border=\"1\" class=\"dataframe\">\n",
       "  <thead>\n",
       "    <tr style=\"text-align: right;\">\n",
       "      <th></th>\n",
       "      <th>ICME Plasma/Field Start Y/M/D (UT) (b)</th>\n",
       "      <th>ICME Plasma/Field End Y/M/D (UT) (b)</th>\n",
       "      <th>BDE? (e)</th>\n",
       "      <th>Qual. (g)</th>\n",
       "      <th>dV (km/s) (h)</th>\n",
       "      <th>V_ICME (km/s) (i)</th>\n",
       "      <th>V_max (km/s) (j)</th>\n",
       "      <th>B (nT) (k)</th>\n",
       "      <th>MC? (l)</th>\n",
       "      <th>Dst (nT) (m)</th>\n",
       "    </tr>\n",
       "  </thead>\n",
       "  <tbody>\n",
       "    <tr>\n",
       "      <th>0</th>\n",
       "      <td>1996-05-27 15:00:00</td>\n",
       "      <td>1996-05-29 03:00:00</td>\n",
       "      <td>N</td>\n",
       "      <td>2</td>\n",
       "      <td>0</td>\n",
       "      <td>370</td>\n",
       "      <td>400</td>\n",
       "      <td>9</td>\n",
       "      <td>2</td>\n",
       "      <td>-33</td>\n",
       "    </tr>\n",
       "    <tr>\n",
       "      <th>1</th>\n",
       "      <td>1996-07-01 18:00:00</td>\n",
       "      <td>1996-07-02 11:00:00</td>\n",
       "      <td>N</td>\n",
       "      <td>3</td>\n",
       "      <td>40</td>\n",
       "      <td>360</td>\n",
       "      <td>370</td>\n",
       "      <td>11</td>\n",
       "      <td>2</td>\n",
       "      <td>-20</td>\n",
       "    </tr>\n",
       "    <tr>\n",
       "      <th>2</th>\n",
       "      <td>1996-08-07 12:00:00</td>\n",
       "      <td>1996-08-08 10:00:00</td>\n",
       "      <td>N</td>\n",
       "      <td>2</td>\n",
       "      <td>10</td>\n",
       "      <td>350</td>\n",
       "      <td>380</td>\n",
       "      <td>7</td>\n",
       "      <td>2</td>\n",
       "      <td>-23</td>\n",
       "    </tr>\n",
       "    <tr>\n",
       "      <th>3</th>\n",
       "      <td>1996-12-23 17:00:00</td>\n",
       "      <td>1996-12-25 11:00:00</td>\n",
       "      <td>N</td>\n",
       "      <td>2</td>\n",
       "      <td>20</td>\n",
       "      <td>360</td>\n",
       "      <td>420</td>\n",
       "      <td>10</td>\n",
       "      <td>2</td>\n",
       "      <td>-18</td>\n",
       "    </tr>\n",
       "    <tr>\n",
       "      <th>4</th>\n",
       "      <td>1997-01-10 04:00:00</td>\n",
       "      <td>1997-01-11 02:00:00</td>\n",
       "      <td>Y</td>\n",
       "      <td>1</td>\n",
       "      <td>100 S</td>\n",
       "      <td>450</td>\n",
       "      <td>460</td>\n",
       "      <td>14</td>\n",
       "      <td>2</td>\n",
       "      <td>-78</td>\n",
       "    </tr>\n",
       "  </tbody>\n",
       "</table>\n",
       "</div>"
      ],
      "text/plain": [
       "  ICME Plasma/Field Start Y/M/D (UT) (b) ICME Plasma/Field End Y/M/D (UT) (b)  \\\n",
       "0                    1996-05-27 15:00:00                  1996-05-29 03:00:00   \n",
       "1                    1996-07-01 18:00:00                  1996-07-02 11:00:00   \n",
       "2                    1996-08-07 12:00:00                  1996-08-08 10:00:00   \n",
       "3                    1996-12-23 17:00:00                  1996-12-25 11:00:00   \n",
       "4                    1997-01-10 04:00:00                  1997-01-11 02:00:00   \n",
       "\n",
       "  BDE? (e) Qual. (g) dV (km/s) (h)  V_ICME (km/s) (i)  V_max (km/s) (j)  \\\n",
       "0        N         2             0                370               400   \n",
       "1        N         3            40                360               370   \n",
       "2        N         2            10                350               380   \n",
       "3        N         2            20                360               420   \n",
       "4        Y         1         100 S                450               460   \n",
       "\n",
       "   B (nT) (k) MC? (l) Dst (nT) (m)  \n",
       "0           9       2          -33  \n",
       "1          11       2          -20  \n",
       "2           7       2          -23  \n",
       "3          10       2          -18  \n",
       "4          14       2          -78  "
      ]
     },
     "execution_count": 16,
     "metadata": {},
     "output_type": "execute_result"
    }
   ],
   "source": [
    "cols = ['Comp. Start (Hrs wrt. Plasma/ Field) (c)',\n",
    "'Comp. End (Hrs wrt. Plasma/ Field) (c)',\n",
    "'MC Start (Hrs wrt. Plasma/ Field) (d)',\n",
    "'End (Hrs wrt. Plasma/ Field) (d)',           \n",
    "'BIF? (f)',                                  \n",
    "'V_transit (km/s) (n)']\n",
    "\n",
    "df = df.drop(columns=cols)\n",
    "df.head()"
   ]
  },
  {
   "cell_type": "code",
   "execution_count": 17,
   "metadata": {},
   "outputs": [
    {
     "data": {
      "text/plain": [
       "ICME Plasma/Field Start Y/M/D (UT) (b)     0\n",
       "ICME Plasma/Field End Y/M/D (UT) (b)       0\n",
       "BDE? (e)                                  12\n",
       "Qual. (g)                                  0\n",
       "dV (km/s) (h)                              1\n",
       "V_ICME (km/s) (i)                          0\n",
       "V_max (km/s) (j)                           0\n",
       "B (nT) (k)                                 0\n",
       "MC? (l)                                    0\n",
       "Dst (nT) (m)                               7\n",
       "dtype: int64"
      ]
     },
     "execution_count": 17,
     "metadata": {},
     "output_type": "execute_result"
    }
   ],
   "source": [
    "df.isna().sum()"
   ]
  },
  {
   "cell_type": "code",
   "execution_count": 18,
   "metadata": {},
   "outputs": [
    {
     "data": {
      "text/plain": [
       "ICME Plasma/Field Start Y/M/D (UT) (b)    object\n",
       "ICME Plasma/Field End Y/M/D (UT) (b)      object\n",
       "BDE? (e)                                  object\n",
       "Qual. (g)                                 object\n",
       "dV (km/s) (h)                             object\n",
       "V_ICME (km/s) (i)                          int64\n",
       "V_max (km/s) (j)                           int64\n",
       "B (nT) (k)                                 int64\n",
       "MC? (l)                                   object\n",
       "Dst (nT) (m)                              object\n",
       "dtype: object"
      ]
     },
     "execution_count": 18,
     "metadata": {},
     "output_type": "execute_result"
    }
   ],
   "source": [
    "df.dtypes"
   ]
  },
  {
   "cell_type": "markdown",
   "metadata": {},
   "source": [
    "before working on data dtypes, let's change the dtype of start and end ICME columns and subtract to come up with a time interval."
   ]
  },
  {
   "cell_type": "code",
   "execution_count": 19,
   "metadata": {},
   "outputs": [],
   "source": [
    "df['ICME Plasma/Field Start Y/M/D (UT) (b)'] = pd.to_datetime(df['ICME Plasma/Field Start Y/M/D (UT) (b)'])\n",
    "df['ICME Plasma/Field End Y/M/D (UT) (b)'] = pd.to_datetime(df['ICME Plasma/Field End Y/M/D (UT) (b)'])"
   ]
  },
  {
   "cell_type": "code",
   "execution_count": 20,
   "metadata": {},
   "outputs": [
    {
     "data": {
      "text/plain": [
       "ICME Plasma/Field Start Y/M/D (UT) (b)    datetime64[ns]\n",
       "ICME Plasma/Field End Y/M/D (UT) (b)      datetime64[ns]\n",
       "BDE? (e)                                          object\n",
       "Qual. (g)                                         object\n",
       "dV (km/s) (h)                                     object\n",
       "V_ICME (km/s) (i)                                  int64\n",
       "V_max (km/s) (j)                                   int64\n",
       "B (nT) (k)                                         int64\n",
       "MC? (l)                                           object\n",
       "Dst (nT) (m)                                      object\n",
       "dtype: object"
      ]
     },
     "execution_count": 20,
     "metadata": {},
     "output_type": "execute_result"
    }
   ],
   "source": [
    "df.dtypes"
   ]
  },
  {
   "cell_type": "markdown",
   "metadata": {},
   "source": [
    "time interval for each ICME."
   ]
  },
  {
   "cell_type": "code",
   "execution_count": 21,
   "metadata": {},
   "outputs": [],
   "source": [
    "df['time_interval'] = df['ICME Plasma/Field End Y/M/D (UT) (b)'] - \\\n",
    "                    df['ICME Plasma/Field Start Y/M/D (UT) (b)']"
   ]
  },
  {
   "cell_type": "code",
   "execution_count": 22,
   "metadata": {},
   "outputs": [
    {
     "data": {
      "text/html": [
       "<div>\n",
       "<style scoped>\n",
       "    .dataframe tbody tr th:only-of-type {\n",
       "        vertical-align: middle;\n",
       "    }\n",
       "\n",
       "    .dataframe tbody tr th {\n",
       "        vertical-align: top;\n",
       "    }\n",
       "\n",
       "    .dataframe thead th {\n",
       "        text-align: right;\n",
       "    }\n",
       "</style>\n",
       "<table border=\"1\" class=\"dataframe\">\n",
       "  <thead>\n",
       "    <tr style=\"text-align: right;\">\n",
       "      <th></th>\n",
       "      <th>ICME Plasma/Field Start Y/M/D (UT) (b)</th>\n",
       "      <th>ICME Plasma/Field End Y/M/D (UT) (b)</th>\n",
       "      <th>BDE? (e)</th>\n",
       "      <th>Qual. (g)</th>\n",
       "      <th>dV (km/s) (h)</th>\n",
       "      <th>V_ICME (km/s) (i)</th>\n",
       "      <th>V_max (km/s) (j)</th>\n",
       "      <th>B (nT) (k)</th>\n",
       "      <th>MC? (l)</th>\n",
       "      <th>Dst (nT) (m)</th>\n",
       "      <th>time_interval</th>\n",
       "    </tr>\n",
       "  </thead>\n",
       "  <tbody>\n",
       "    <tr>\n",
       "      <th>0</th>\n",
       "      <td>1996-05-27 15:00:00</td>\n",
       "      <td>1996-05-29 03:00:00</td>\n",
       "      <td>N</td>\n",
       "      <td>2</td>\n",
       "      <td>0</td>\n",
       "      <td>370</td>\n",
       "      <td>400</td>\n",
       "      <td>9</td>\n",
       "      <td>2</td>\n",
       "      <td>-33</td>\n",
       "      <td>1 days 12:00:00</td>\n",
       "    </tr>\n",
       "    <tr>\n",
       "      <th>1</th>\n",
       "      <td>1996-07-01 18:00:00</td>\n",
       "      <td>1996-07-02 11:00:00</td>\n",
       "      <td>N</td>\n",
       "      <td>3</td>\n",
       "      <td>40</td>\n",
       "      <td>360</td>\n",
       "      <td>370</td>\n",
       "      <td>11</td>\n",
       "      <td>2</td>\n",
       "      <td>-20</td>\n",
       "      <td>0 days 17:00:00</td>\n",
       "    </tr>\n",
       "    <tr>\n",
       "      <th>2</th>\n",
       "      <td>1996-08-07 12:00:00</td>\n",
       "      <td>1996-08-08 10:00:00</td>\n",
       "      <td>N</td>\n",
       "      <td>2</td>\n",
       "      <td>10</td>\n",
       "      <td>350</td>\n",
       "      <td>380</td>\n",
       "      <td>7</td>\n",
       "      <td>2</td>\n",
       "      <td>-23</td>\n",
       "      <td>0 days 22:00:00</td>\n",
       "    </tr>\n",
       "    <tr>\n",
       "      <th>3</th>\n",
       "      <td>1996-12-23 17:00:00</td>\n",
       "      <td>1996-12-25 11:00:00</td>\n",
       "      <td>N</td>\n",
       "      <td>2</td>\n",
       "      <td>20</td>\n",
       "      <td>360</td>\n",
       "      <td>420</td>\n",
       "      <td>10</td>\n",
       "      <td>2</td>\n",
       "      <td>-18</td>\n",
       "      <td>1 days 18:00:00</td>\n",
       "    </tr>\n",
       "    <tr>\n",
       "      <th>4</th>\n",
       "      <td>1997-01-10 04:00:00</td>\n",
       "      <td>1997-01-11 02:00:00</td>\n",
       "      <td>Y</td>\n",
       "      <td>1</td>\n",
       "      <td>100 S</td>\n",
       "      <td>450</td>\n",
       "      <td>460</td>\n",
       "      <td>14</td>\n",
       "      <td>2</td>\n",
       "      <td>-78</td>\n",
       "      <td>0 days 22:00:00</td>\n",
       "    </tr>\n",
       "  </tbody>\n",
       "</table>\n",
       "</div>"
      ],
      "text/plain": [
       "  ICME Plasma/Field Start Y/M/D (UT) (b) ICME Plasma/Field End Y/M/D (UT) (b)  \\\n",
       "0                    1996-05-27 15:00:00                  1996-05-29 03:00:00   \n",
       "1                    1996-07-01 18:00:00                  1996-07-02 11:00:00   \n",
       "2                    1996-08-07 12:00:00                  1996-08-08 10:00:00   \n",
       "3                    1996-12-23 17:00:00                  1996-12-25 11:00:00   \n",
       "4                    1997-01-10 04:00:00                  1997-01-11 02:00:00   \n",
       "\n",
       "  BDE? (e) Qual. (g) dV (km/s) (h)  V_ICME (km/s) (i)  V_max (km/s) (j)  \\\n",
       "0        N         2             0                370               400   \n",
       "1        N         3            40                360               370   \n",
       "2        N         2            10                350               380   \n",
       "3        N         2            20                360               420   \n",
       "4        Y         1         100 S                450               460   \n",
       "\n",
       "   B (nT) (k) MC? (l) Dst (nT) (m)   time_interval  \n",
       "0           9       2          -33 1 days 12:00:00  \n",
       "1          11       2          -20 0 days 17:00:00  \n",
       "2           7       2          -23 0 days 22:00:00  \n",
       "3          10       2          -18 1 days 18:00:00  \n",
       "4          14       2          -78 0 days 22:00:00  "
      ]
     },
     "execution_count": 22,
     "metadata": {},
     "output_type": "execute_result"
    }
   ],
   "source": [
    "df.head()"
   ]
  },
  {
   "cell_type": "code",
   "execution_count": 23,
   "metadata": {},
   "outputs": [
    {
     "data": {
      "text/plain": [
       "<matplotlib.axes._subplots.AxesSubplot at 0x7fcabf365908>"
      ]
     },
     "execution_count": 23,
     "metadata": {},
     "output_type": "execute_result"
    },
    {
     "data": {
      "image/png": "[encoded data removed]",
      "text/plain": [
       "<Figure size 432x288 with 1 Axes>"
      ]
     },
     "metadata": {
      "image/png": {
       "height": 258,
       "width": 373
      },
      "needs_background": "light"
     },
     "output_type": "display_data"
    }
   ],
   "source": [
    "df['time_interval'].plot()"
   ]
  },
  {
   "cell_type": "code",
   "execution_count": 24,
   "metadata": {},
   "outputs": [
    {
     "name": "stdout",
     "output_type": "stream",
     "text": [
      "<class 'pandas.core.frame.DataFrame'>\n",
      "RangeIndex: 513 entries, 0 to 512\n",
      "Data columns (total 11 columns):\n",
      " #   Column                                  Non-Null Count  Dtype          \n",
      "---  ------                                  --------------  -----          \n",
      " 0   ICME Plasma/Field Start Y/M/D (UT) (b)  513 non-null    datetime64[ns] \n",
      " 1   ICME Plasma/Field End Y/M/D (UT) (b)    513 non-null    datetime64[ns] \n",
      " 2   BDE? (e)                                501 non-null    object         \n",
      " 3   Qual. (g)                               513 non-null    object         \n",
      " 4   dV (km/s) (h)                           512 non-null    object         \n",
      " 5   V_ICME (km/s) (i)                       513 non-null    int64          \n",
      " 6   V_max (km/s) (j)                        513 non-null    int64          \n",
      " 7   B (nT) (k)                              513 non-null    int64          \n",
      " 8   MC? (l)                                 513 non-null    object         \n",
      " 9   Dst (nT) (m)                            506 non-null    object         \n",
      " 10  time_interval                           513 non-null    timedelta64[ns]\n",
      "dtypes: datetime64[ns](2), int64(3), object(5), timedelta64[ns](1)\n",
      "memory usage: 44.2+ KB\n"
     ]
    }
   ],
   "source": [
    "df.info()"
   ]
  },
  {
   "cell_type": "markdown",
   "metadata": {},
   "source": [
    "Let's add a new column with flaot format and normalized values. "
   ]
  },
  {
   "cell_type": "code",
   "execution_count": 25,
   "metadata": {},
   "outputs": [
    {
     "data": {
      "text/plain": [
       "Timedelta('0 days 03:00:00')"
      ]
     },
     "execution_count": 25,
     "metadata": {},
     "output_type": "execute_result"
    }
   ],
   "source": [
    "df['time_interval'].min()"
   ]
  },
  {
   "cell_type": "markdown",
   "metadata": {},
   "source": [
    "A minimum of 3 hours is used for normalization purposes.\n",
    "\n",
    "Remember that later any new data should be normalized based on 3 hours and used as a feature."
   ]
  },
  {
   "cell_type": "code",
   "execution_count": 26,
   "metadata": {},
   "outputs": [],
   "source": [
    " df['Normalized_time_interval'] = (df['time_interval'] - df['time_interval'].min())  / np.timedelta64(1,'D')"
   ]
  },
  {
   "cell_type": "code",
   "execution_count": 27,
   "metadata": {},
   "outputs": [
    {
     "name": "stdout",
     "output_type": "stream",
     "text": [
      "<class 'pandas.core.frame.DataFrame'>\n",
      "RangeIndex: 513 entries, 0 to 512\n",
      "Data columns (total 12 columns):\n",
      " #   Column                                  Non-Null Count  Dtype          \n",
      "---  ------                                  --------------  -----          \n",
      " 0   ICME Plasma/Field Start Y/M/D (UT) (b)  513 non-null    datetime64[ns] \n",
      " 1   ICME Plasma/Field End Y/M/D (UT) (b)    513 non-null    datetime64[ns] \n",
      " 2   BDE? (e)                                501 non-null    object         \n",
      " 3   Qual. (g)                               513 non-null    object         \n",
      " 4   dV (km/s) (h)                           512 non-null    object         \n",
      " 5   V_ICME (km/s) (i)                       513 non-null    int64          \n",
      " 6   V_max (km/s) (j)                        513 non-null    int64          \n",
      " 7   B (nT) (k)                              513 non-null    int64          \n",
      " 8   MC? (l)                                 513 non-null    object         \n",
      " 9   Dst (nT) (m)                            506 non-null    object         \n",
      " 10  time_interval                           513 non-null    timedelta64[ns]\n",
      " 11  Normalized_time_interval                513 non-null    float64        \n",
      "dtypes: datetime64[ns](2), float64(1), int64(3), object(5), timedelta64[ns](1)\n",
      "memory usage: 48.2+ KB\n"
     ]
    }
   ],
   "source": [
    "df.info()"
   ]
  },
  {
   "cell_type": "code",
   "execution_count": 28,
   "metadata": {},
   "outputs": [
    {
     "data": {
      "text/plain": [
       "<matplotlib.axes._subplots.AxesSubplot at 0x7fcabf4237f0>"
      ]
     },
     "execution_count": 28,
     "metadata": {},
     "output_type": "execute_result"
    },
    {
     "data": {
      "image/png": "[encoded data removed]",
      "text/plain": [
       "<Figure size 432x288 with 1 Axes>"
      ]
     },
     "metadata": {
      "image/png": {
       "height": 250,
       "width": 373
      },
      "needs_background": "light"
     },
     "output_type": "display_data"
    }
   ],
   "source": [
    "df['Normalized_time_interval'].plot()"
   ]
  },
  {
   "cell_type": "code",
   "execution_count": 29,
   "metadata": {},
   "outputs": [
    {
     "data": {
      "text/html": [
       "<div>\n",
       "<style scoped>\n",
       "    .dataframe tbody tr th:only-of-type {\n",
       "        vertical-align: middle;\n",
       "    }\n",
       "\n",
       "    .dataframe tbody tr th {\n",
       "        vertical-align: top;\n",
       "    }\n",
       "\n",
       "    .dataframe thead th {\n",
       "        text-align: right;\n",
       "    }\n",
       "</style>\n",
       "<table border=\"1\" class=\"dataframe\">\n",
       "  <thead>\n",
       "    <tr style=\"text-align: right;\">\n",
       "      <th></th>\n",
       "      <th>ICME Plasma/Field Start Y/M/D (UT) (b)</th>\n",
       "      <th>ICME Plasma/Field End Y/M/D (UT) (b)</th>\n",
       "      <th>BDE? (e)</th>\n",
       "      <th>Qual. (g)</th>\n",
       "      <th>dV (km/s) (h)</th>\n",
       "      <th>V_ICME (km/s) (i)</th>\n",
       "      <th>V_max (km/s) (j)</th>\n",
       "      <th>B (nT) (k)</th>\n",
       "      <th>MC? (l)</th>\n",
       "      <th>Dst (nT) (m)</th>\n",
       "      <th>time_interval</th>\n",
       "      <th>Normalized_time_interval</th>\n",
       "    </tr>\n",
       "  </thead>\n",
       "  <tbody>\n",
       "    <tr>\n",
       "      <th>0</th>\n",
       "      <td>1996-05-27 15:00:00</td>\n",
       "      <td>1996-05-29 03:00:00</td>\n",
       "      <td>N</td>\n",
       "      <td>2</td>\n",
       "      <td>0</td>\n",
       "      <td>370</td>\n",
       "      <td>400</td>\n",
       "      <td>9</td>\n",
       "      <td>2</td>\n",
       "      <td>-33</td>\n",
       "      <td>1 days 12:00:00</td>\n",
       "      <td>1.375000</td>\n",
       "    </tr>\n",
       "    <tr>\n",
       "      <th>1</th>\n",
       "      <td>1996-07-01 18:00:00</td>\n",
       "      <td>1996-07-02 11:00:00</td>\n",
       "      <td>N</td>\n",
       "      <td>3</td>\n",
       "      <td>40</td>\n",
       "      <td>360</td>\n",
       "      <td>370</td>\n",
       "      <td>11</td>\n",
       "      <td>2</td>\n",
       "      <td>-20</td>\n",
       "      <td>0 days 17:00:00</td>\n",
       "      <td>0.583333</td>\n",
       "    </tr>\n",
       "    <tr>\n",
       "      <th>2</th>\n",
       "      <td>1996-08-07 12:00:00</td>\n",
       "      <td>1996-08-08 10:00:00</td>\n",
       "      <td>N</td>\n",
       "      <td>2</td>\n",
       "      <td>10</td>\n",
       "      <td>350</td>\n",
       "      <td>380</td>\n",
       "      <td>7</td>\n",
       "      <td>2</td>\n",
       "      <td>-23</td>\n",
       "      <td>0 days 22:00:00</td>\n",
       "      <td>0.791667</td>\n",
       "    </tr>\n",
       "    <tr>\n",
       "      <th>3</th>\n",
       "      <td>1996-12-23 17:00:00</td>\n",
       "      <td>1996-12-25 11:00:00</td>\n",
       "      <td>N</td>\n",
       "      <td>2</td>\n",
       "      <td>20</td>\n",
       "      <td>360</td>\n",
       "      <td>420</td>\n",
       "      <td>10</td>\n",
       "      <td>2</td>\n",
       "      <td>-18</td>\n",
       "      <td>1 days 18:00:00</td>\n",
       "      <td>1.625000</td>\n",
       "    </tr>\n",
       "    <tr>\n",
       "      <th>4</th>\n",
       "      <td>1997-01-10 04:00:00</td>\n",
       "      <td>1997-01-11 02:00:00</td>\n",
       "      <td>Y</td>\n",
       "      <td>1</td>\n",
       "      <td>100 S</td>\n",
       "      <td>450</td>\n",
       "      <td>460</td>\n",
       "      <td>14</td>\n",
       "      <td>2</td>\n",
       "      <td>-78</td>\n",
       "      <td>0 days 22:00:00</td>\n",
       "      <td>0.791667</td>\n",
       "    </tr>\n",
       "  </tbody>\n",
       "</table>\n",
       "</div>"
      ],
      "text/plain": [
       "  ICME Plasma/Field Start Y/M/D (UT) (b) ICME Plasma/Field End Y/M/D (UT) (b)  \\\n",
       "0                    1996-05-27 15:00:00                  1996-05-29 03:00:00   \n",
       "1                    1996-07-01 18:00:00                  1996-07-02 11:00:00   \n",
       "2                    1996-08-07 12:00:00                  1996-08-08 10:00:00   \n",
       "3                    1996-12-23 17:00:00                  1996-12-25 11:00:00   \n",
       "4                    1997-01-10 04:00:00                  1997-01-11 02:00:00   \n",
       "\n",
       "  BDE? (e) Qual. (g) dV (km/s) (h)  V_ICME (km/s) (i)  V_max (km/s) (j)  \\\n",
       "0        N         2             0                370               400   \n",
       "1        N         3            40                360               370   \n",
       "2        N         2            10                350               380   \n",
       "3        N         2            20                360               420   \n",
       "4        Y         1         100 S                450               460   \n",
       "\n",
       "   B (nT) (k) MC? (l) Dst (nT) (m)   time_interval  Normalized_time_interval  \n",
       "0           9       2          -33 1 days 12:00:00                  1.375000  \n",
       "1          11       2          -20 0 days 17:00:00                  0.583333  \n",
       "2           7       2          -23 0 days 22:00:00                  0.791667  \n",
       "3          10       2          -18 1 days 18:00:00                  1.625000  \n",
       "4          14       2          -78 0 days 22:00:00                  0.791667  "
      ]
     },
     "execution_count": 29,
     "metadata": {},
     "output_type": "execute_result"
    }
   ],
   "source": [
    "df.head()"
   ]
  },
  {
   "cell_type": "code",
   "execution_count": 30,
   "metadata": {},
   "outputs": [],
   "source": [
    "df = df.drop(columns=['time_interval'])"
   ]
  },
  {
   "cell_type": "code",
   "execution_count": 31,
   "metadata": {},
   "outputs": [
    {
     "data": {
      "text/html": [
       "<div>\n",
       "<style scoped>\n",
       "    .dataframe tbody tr th:only-of-type {\n",
       "        vertical-align: middle;\n",
       "    }\n",
       "\n",
       "    .dataframe tbody tr th {\n",
       "        vertical-align: top;\n",
       "    }\n",
       "\n",
       "    .dataframe thead th {\n",
       "        text-align: right;\n",
       "    }\n",
       "</style>\n",
       "<table border=\"1\" class=\"dataframe\">\n",
       "  <thead>\n",
       "    <tr style=\"text-align: right;\">\n",
       "      <th></th>\n",
       "      <th>ICME Plasma/Field Start Y/M/D (UT) (b)</th>\n",
       "      <th>ICME Plasma/Field End Y/M/D (UT) (b)</th>\n",
       "      <th>BDE? (e)</th>\n",
       "      <th>Qual. (g)</th>\n",
       "      <th>dV (km/s) (h)</th>\n",
       "      <th>V_ICME (km/s) (i)</th>\n",
       "      <th>V_max (km/s) (j)</th>\n",
       "      <th>B (nT) (k)</th>\n",
       "      <th>MC? (l)</th>\n",
       "      <th>Dst (nT) (m)</th>\n",
       "      <th>Normalized_time_interval</th>\n",
       "    </tr>\n",
       "  </thead>\n",
       "  <tbody>\n",
       "    <tr>\n",
       "      <th>0</th>\n",
       "      <td>1996-05-27 15:00:00</td>\n",
       "      <td>1996-05-29 03:00:00</td>\n",
       "      <td>N</td>\n",
       "      <td>2</td>\n",
       "      <td>0</td>\n",
       "      <td>370</td>\n",
       "      <td>400</td>\n",
       "      <td>9</td>\n",
       "      <td>2</td>\n",
       "      <td>-33</td>\n",
       "      <td>1.375000</td>\n",
       "    </tr>\n",
       "    <tr>\n",
       "      <th>1</th>\n",
       "      <td>1996-07-01 18:00:00</td>\n",
       "      <td>1996-07-02 11:00:00</td>\n",
       "      <td>N</td>\n",
       "      <td>3</td>\n",
       "      <td>40</td>\n",
       "      <td>360</td>\n",
       "      <td>370</td>\n",
       "      <td>11</td>\n",
       "      <td>2</td>\n",
       "      <td>-20</td>\n",
       "      <td>0.583333</td>\n",
       "    </tr>\n",
       "    <tr>\n",
       "      <th>2</th>\n",
       "      <td>1996-08-07 12:00:00</td>\n",
       "      <td>1996-08-08 10:00:00</td>\n",
       "      <td>N</td>\n",
       "      <td>2</td>\n",
       "      <td>10</td>\n",
       "      <td>350</td>\n",
       "      <td>380</td>\n",
       "      <td>7</td>\n",
       "      <td>2</td>\n",
       "      <td>-23</td>\n",
       "      <td>0.791667</td>\n",
       "    </tr>\n",
       "    <tr>\n",
       "      <th>3</th>\n",
       "      <td>1996-12-23 17:00:00</td>\n",
       "      <td>1996-12-25 11:00:00</td>\n",
       "      <td>N</td>\n",
       "      <td>2</td>\n",
       "      <td>20</td>\n",
       "      <td>360</td>\n",
       "      <td>420</td>\n",
       "      <td>10</td>\n",
       "      <td>2</td>\n",
       "      <td>-18</td>\n",
       "      <td>1.625000</td>\n",
       "    </tr>\n",
       "    <tr>\n",
       "      <th>4</th>\n",
       "      <td>1997-01-10 04:00:00</td>\n",
       "      <td>1997-01-11 02:00:00</td>\n",
       "      <td>Y</td>\n",
       "      <td>1</td>\n",
       "      <td>100 S</td>\n",
       "      <td>450</td>\n",
       "      <td>460</td>\n",
       "      <td>14</td>\n",
       "      <td>2</td>\n",
       "      <td>-78</td>\n",
       "      <td>0.791667</td>\n",
       "    </tr>\n",
       "  </tbody>\n",
       "</table>\n",
       "</div>"
      ],
      "text/plain": [
       "  ICME Plasma/Field Start Y/M/D (UT) (b) ICME Plasma/Field End Y/M/D (UT) (b)  \\\n",
       "0                    1996-05-27 15:00:00                  1996-05-29 03:00:00   \n",
       "1                    1996-07-01 18:00:00                  1996-07-02 11:00:00   \n",
       "2                    1996-08-07 12:00:00                  1996-08-08 10:00:00   \n",
       "3                    1996-12-23 17:00:00                  1996-12-25 11:00:00   \n",
       "4                    1997-01-10 04:00:00                  1997-01-11 02:00:00   \n",
       "\n",
       "  BDE? (e) Qual. (g) dV (km/s) (h)  V_ICME (km/s) (i)  V_max (km/s) (j)  \\\n",
       "0        N         2             0                370               400   \n",
       "1        N         3            40                360               370   \n",
       "2        N         2            10                350               380   \n",
       "3        N         2            20                360               420   \n",
       "4        Y         1         100 S                450               460   \n",
       "\n",
       "   B (nT) (k) MC? (l) Dst (nT) (m)  Normalized_time_interval  \n",
       "0           9       2          -33                  1.375000  \n",
       "1          11       2          -20                  0.583333  \n",
       "2           7       2          -23                  0.791667  \n",
       "3          10       2          -18                  1.625000  \n",
       "4          14       2          -78                  0.791667  "
      ]
     },
     "execution_count": 31,
     "metadata": {},
     "output_type": "execute_result"
    }
   ],
   "source": [
    "df.head()"
   ]
  },
  {
   "cell_type": "code",
   "execution_count": 32,
   "metadata": {},
   "outputs": [
    {
     "data": {
      "text/plain": [
       "ICME Plasma/Field Start Y/M/D (UT) (b)     0\n",
       "ICME Plasma/Field End Y/M/D (UT) (b)       0\n",
       "BDE? (e)                                  12\n",
       "Qual. (g)                                  0\n",
       "dV (km/s) (h)                              1\n",
       "V_ICME (km/s) (i)                          0\n",
       "V_max (km/s) (j)                           0\n",
       "B (nT) (k)                                 0\n",
       "MC? (l)                                    0\n",
       "Dst (nT) (m)                               7\n",
       "Normalized_time_interval                   0\n",
       "dtype: int64"
      ]
     },
     "execution_count": 32,
     "metadata": {},
     "output_type": "execute_result"
    }
   ],
   "source": [
    "df.isna().sum()"
   ]
  },
  {
   "cell_type": "code",
   "execution_count": 33,
   "metadata": {},
   "outputs": [
    {
     "data": {
      "text/plain": [
       "array(['N', 'Y', nan, 'SEP'], dtype=object)"
      ]
     },
     "execution_count": 33,
     "metadata": {},
     "output_type": "execute_result"
    }
   ],
   "source": [
    "df['BDE? (e)'].unique()"
   ]
  },
  {
   "cell_type": "markdown",
   "metadata": {},
   "source": [
    "let's drop those rows with nan."
   ]
  },
  {
   "cell_type": "code",
   "execution_count": 34,
   "metadata": {},
   "outputs": [],
   "source": [
    "df = df.dropna()"
   ]
  },
  {
   "cell_type": "code",
   "execution_count": 35,
   "metadata": {},
   "outputs": [
    {
     "data": {
      "text/plain": [
       "ICME Plasma/Field Start Y/M/D (UT) (b)    0\n",
       "ICME Plasma/Field End Y/M/D (UT) (b)      0\n",
       "BDE? (e)                                  0\n",
       "Qual. (g)                                 0\n",
       "dV (km/s) (h)                             0\n",
       "V_ICME (km/s) (i)                         0\n",
       "V_max (km/s) (j)                          0\n",
       "B (nT) (k)                                0\n",
       "MC? (l)                                   0\n",
       "Dst (nT) (m)                              0\n",
       "Normalized_time_interval                  0\n",
       "dtype: int64"
      ]
     },
     "execution_count": 35,
     "metadata": {},
     "output_type": "execute_result"
    }
   ],
   "source": [
    "df.isna().sum()"
   ]
  },
  {
   "cell_type": "code",
   "execution_count": 36,
   "metadata": {},
   "outputs": [
    {
     "data": {
      "text/html": [
       "<div>\n",
       "<style scoped>\n",
       "    .dataframe tbody tr th:only-of-type {\n",
       "        vertical-align: middle;\n",
       "    }\n",
       "\n",
       "    .dataframe tbody tr th {\n",
       "        vertical-align: top;\n",
       "    }\n",
       "\n",
       "    .dataframe thead th {\n",
       "        text-align: right;\n",
       "    }\n",
       "</style>\n",
       "<table border=\"1\" class=\"dataframe\">\n",
       "  <thead>\n",
       "    <tr style=\"text-align: right;\">\n",
       "      <th></th>\n",
       "      <th>ICME Plasma/Field Start Y/M/D (UT) (b)</th>\n",
       "      <th>ICME Plasma/Field End Y/M/D (UT) (b)</th>\n",
       "      <th>BDE? (e)</th>\n",
       "      <th>Qual. (g)</th>\n",
       "      <th>dV (km/s) (h)</th>\n",
       "      <th>V_ICME (km/s) (i)</th>\n",
       "      <th>V_max (km/s) (j)</th>\n",
       "      <th>B (nT) (k)</th>\n",
       "      <th>MC? (l)</th>\n",
       "      <th>Dst (nT) (m)</th>\n",
       "      <th>Normalized_time_interval</th>\n",
       "    </tr>\n",
       "  </thead>\n",
       "  <tbody>\n",
       "    <tr>\n",
       "      <th>0</th>\n",
       "      <td>1996-05-27 15:00:00</td>\n",
       "      <td>1996-05-29 03:00:00</td>\n",
       "      <td>N</td>\n",
       "      <td>2</td>\n",
       "      <td>0</td>\n",
       "      <td>370</td>\n",
       "      <td>400</td>\n",
       "      <td>9</td>\n",
       "      <td>2</td>\n",
       "      <td>-33</td>\n",
       "      <td>1.375000</td>\n",
       "    </tr>\n",
       "    <tr>\n",
       "      <th>1</th>\n",
       "      <td>1996-07-01 18:00:00</td>\n",
       "      <td>1996-07-02 11:00:00</td>\n",
       "      <td>N</td>\n",
       "      <td>3</td>\n",
       "      <td>40</td>\n",
       "      <td>360</td>\n",
       "      <td>370</td>\n",
       "      <td>11</td>\n",
       "      <td>2</td>\n",
       "      <td>-20</td>\n",
       "      <td>0.583333</td>\n",
       "    </tr>\n",
       "    <tr>\n",
       "      <th>2</th>\n",
       "      <td>1996-08-07 12:00:00</td>\n",
       "      <td>1996-08-08 10:00:00</td>\n",
       "      <td>N</td>\n",
       "      <td>2</td>\n",
       "      <td>10</td>\n",
       "      <td>350</td>\n",
       "      <td>380</td>\n",
       "      <td>7</td>\n",
       "      <td>2</td>\n",
       "      <td>-23</td>\n",
       "      <td>0.791667</td>\n",
       "    </tr>\n",
       "    <tr>\n",
       "      <th>3</th>\n",
       "      <td>1996-12-23 17:00:00</td>\n",
       "      <td>1996-12-25 11:00:00</td>\n",
       "      <td>N</td>\n",
       "      <td>2</td>\n",
       "      <td>20</td>\n",
       "      <td>360</td>\n",
       "      <td>420</td>\n",
       "      <td>10</td>\n",
       "      <td>2</td>\n",
       "      <td>-18</td>\n",
       "      <td>1.625000</td>\n",
       "    </tr>\n",
       "    <tr>\n",
       "      <th>4</th>\n",
       "      <td>1997-01-10 04:00:00</td>\n",
       "      <td>1997-01-11 02:00:00</td>\n",
       "      <td>Y</td>\n",
       "      <td>1</td>\n",
       "      <td>100 S</td>\n",
       "      <td>450</td>\n",
       "      <td>460</td>\n",
       "      <td>14</td>\n",
       "      <td>2</td>\n",
       "      <td>-78</td>\n",
       "      <td>0.791667</td>\n",
       "    </tr>\n",
       "  </tbody>\n",
       "</table>\n",
       "</div>"
      ],
      "text/plain": [
       "  ICME Plasma/Field Start Y/M/D (UT) (b) ICME Plasma/Field End Y/M/D (UT) (b)  \\\n",
       "0                    1996-05-27 15:00:00                  1996-05-29 03:00:00   \n",
       "1                    1996-07-01 18:00:00                  1996-07-02 11:00:00   \n",
       "2                    1996-08-07 12:00:00                  1996-08-08 10:00:00   \n",
       "3                    1996-12-23 17:00:00                  1996-12-25 11:00:00   \n",
       "4                    1997-01-10 04:00:00                  1997-01-11 02:00:00   \n",
       "\n",
       "  BDE? (e) Qual. (g) dV (km/s) (h)  V_ICME (km/s) (i)  V_max (km/s) (j)  \\\n",
       "0        N         2             0                370               400   \n",
       "1        N         3            40                360               370   \n",
       "2        N         2            10                350               380   \n",
       "3        N         2            20                360               420   \n",
       "4        Y         1         100 S                450               460   \n",
       "\n",
       "   B (nT) (k) MC? (l) Dst (nT) (m)  Normalized_time_interval  \n",
       "0           9       2          -33                  1.375000  \n",
       "1          11       2          -20                  0.583333  \n",
       "2           7       2          -23                  0.791667  \n",
       "3          10       2          -18                  1.625000  \n",
       "4          14       2          -78                  0.791667  "
      ]
     },
     "execution_count": 36,
     "metadata": {},
     "output_type": "execute_result"
    }
   ],
   "source": [
    "df.head()"
   ]
  },
  {
   "cell_type": "code",
   "execution_count": 37,
   "metadata": {},
   "outputs": [
    {
     "data": {
      "text/plain": [
       "Index(['ICME Plasma/Field Start Y/M/D (UT) (b)',\n",
       "       'ICME Plasma/Field End Y/M/D (UT) (b)', 'BDE? (e)', 'Qual. (g)',\n",
       "       'dV (km/s) (h)', 'V_ICME (km/s) (i)', 'V_max (km/s) (j)', 'B (nT) (k)',\n",
       "       'MC? (l)', 'Dst (nT) (m)', 'Normalized_time_interval'],\n",
       "      dtype='object')"
      ]
     },
     "execution_count": 37,
     "metadata": {},
     "output_type": "execute_result"
    }
   ],
   "source": [
    "df.columns"
   ]
  },
  {
   "cell_type": "code",
   "execution_count": 38,
   "metadata": {},
   "outputs": [
    {
     "data": {
      "text/plain": [
       "ICME Plasma/Field Start Y/M/D (UT) (b)    datetime64[ns]\n",
       "ICME Plasma/Field End Y/M/D (UT) (b)      datetime64[ns]\n",
       "BDE? (e)                                          object\n",
       "Qual. (g)                                         object\n",
       "dV (km/s) (h)                                     object\n",
       "V_ICME (km/s) (i)                                  int64\n",
       "V_max (km/s) (j)                                   int64\n",
       "B (nT) (k)                                         int64\n",
       "MC? (l)                                           object\n",
       "Dst (nT) (m)                                      object\n",
       "Normalized_time_interval                         float64\n",
       "dtype: object"
      ]
     },
     "execution_count": 38,
     "metadata": {},
     "output_type": "execute_result"
    }
   ],
   "source": [
    "df.dtypes"
   ]
  },
  {
   "cell_type": "markdown",
   "metadata": {},
   "source": [
    "let's turn the object (strings) into values. The number of string are counted and a number is assigned.\n",
    "\n",
    "columns including ``` 'V_ICME (km/s) (i)', 'V_max (km/s) (j)', 'B (nT) (k)', 'Normalized_time_interval'``` are already int64 and flaot64. No need for turning catogorical to value."
   ]
  },
  {
   "cell_type": "code",
   "execution_count": 39,
   "metadata": {},
   "outputs": [
    {
     "name": "stdout",
     "output_type": "stream",
     "text": [
      "number of unique values for  BDE? (e) =   3\n",
      "number of unique values for  Qual. (g) =   5\n",
      "number of unique values for  dV (km/s) (h) =   62\n",
      "number of unique values for  MC? (l) =   4\n",
      "number of unique values for  Dst (nT) (m) =   221\n"
     ]
    }
   ],
   "source": [
    "cols = ['BDE? (e)', 'Qual. (g)',\n",
    "       'dV (km/s) (h)',\n",
    "       'MC? (l)', 'Dst (nT) (m)']\n",
    "\n",
    "for col in cols:    \n",
    "    print('number of unique values for ', \n",
    "          col, '=  ', df[col].value_counts().count())"
   ]
  },
  {
   "cell_type": "code",
   "execution_count": 40,
   "metadata": {},
   "outputs": [],
   "source": [
    "save_coded_values = []\n",
    "for col in cols:\n",
    "    \n",
    "    \n",
    "    labels = df[col].astype('category').cat.categories.tolist()\n",
    "    replace_map_comp = {col : {k: v for k,v in zip(labels,list(range(1,len(labels)+1)))}}\n",
    "#     print(replace_map_comp1)\n",
    "    save_coded_values.append(replace_map_comp)\n",
    "    df.replace(replace_map_comp, inplace=True)"
   ]
  },
  {
   "cell_type": "code",
   "execution_count": 41,
   "metadata": {},
   "outputs": [
    {
     "data": {
      "text/html": [
       "<div>\n",
       "<style scoped>\n",
       "    .dataframe tbody tr th:only-of-type {\n",
       "        vertical-align: middle;\n",
       "    }\n",
       "\n",
       "    .dataframe tbody tr th {\n",
       "        vertical-align: top;\n",
       "    }\n",
       "\n",
       "    .dataframe thead th {\n",
       "        text-align: right;\n",
       "    }\n",
       "</style>\n",
       "<table border=\"1\" class=\"dataframe\">\n",
       "  <thead>\n",
       "    <tr style=\"text-align: right;\">\n",
       "      <th></th>\n",
       "      <th>ICME Plasma/Field Start Y/M/D (UT) (b)</th>\n",
       "      <th>ICME Plasma/Field End Y/M/D (UT) (b)</th>\n",
       "      <th>BDE? (e)</th>\n",
       "      <th>Qual. (g)</th>\n",
       "      <th>dV (km/s) (h)</th>\n",
       "      <th>V_ICME (km/s) (i)</th>\n",
       "      <th>V_max (km/s) (j)</th>\n",
       "      <th>B (nT) (k)</th>\n",
       "      <th>MC? (l)</th>\n",
       "      <th>Dst (nT) (m)</th>\n",
       "      <th>Normalized_time_interval</th>\n",
       "    </tr>\n",
       "  </thead>\n",
       "  <tbody>\n",
       "    <tr>\n",
       "      <th>0</th>\n",
       "      <td>1996-05-27 15:00:00</td>\n",
       "      <td>1996-05-29 03:00:00</td>\n",
       "      <td>1</td>\n",
       "      <td>2</td>\n",
       "      <td>1</td>\n",
       "      <td>370</td>\n",
       "      <td>400</td>\n",
       "      <td>9</td>\n",
       "      <td>3</td>\n",
       "      <td>117</td>\n",
       "      <td>1.375000</td>\n",
       "    </tr>\n",
       "    <tr>\n",
       "      <th>1</th>\n",
       "      <td>1996-07-01 18:00:00</td>\n",
       "      <td>1996-07-02 11:00:00</td>\n",
       "      <td>1</td>\n",
       "      <td>4</td>\n",
       "      <td>44</td>\n",
       "      <td>360</td>\n",
       "      <td>370</td>\n",
       "      <td>11</td>\n",
       "      <td>3</td>\n",
       "      <td>78</td>\n",
       "      <td>0.583333</td>\n",
       "    </tr>\n",
       "    <tr>\n",
       "      <th>2</th>\n",
       "      <td>1996-08-07 12:00:00</td>\n",
       "      <td>1996-08-08 10:00:00</td>\n",
       "      <td>1</td>\n",
       "      <td>2</td>\n",
       "      <td>2</td>\n",
       "      <td>350</td>\n",
       "      <td>380</td>\n",
       "      <td>7</td>\n",
       "      <td>3</td>\n",
       "      <td>88</td>\n",
       "      <td>0.791667</td>\n",
       "    </tr>\n",
       "    <tr>\n",
       "      <th>3</th>\n",
       "      <td>1996-12-23 17:00:00</td>\n",
       "      <td>1996-12-25 11:00:00</td>\n",
       "      <td>1</td>\n",
       "      <td>2</td>\n",
       "      <td>22</td>\n",
       "      <td>360</td>\n",
       "      <td>420</td>\n",
       "      <td>10</td>\n",
       "      <td>3</td>\n",
       "      <td>69</td>\n",
       "      <td>1.625000</td>\n",
       "    </tr>\n",
       "    <tr>\n",
       "      <th>4</th>\n",
       "      <td>1997-01-10 04:00:00</td>\n",
       "      <td>1997-01-11 02:00:00</td>\n",
       "      <td>3</td>\n",
       "      <td>1</td>\n",
       "      <td>4</td>\n",
       "      <td>450</td>\n",
       "      <td>460</td>\n",
       "      <td>14</td>\n",
       "      <td>3</td>\n",
       "      <td>191</td>\n",
       "      <td>0.791667</td>\n",
       "    </tr>\n",
       "  </tbody>\n",
       "</table>\n",
       "</div>"
      ],
      "text/plain": [
       "  ICME Plasma/Field Start Y/M/D (UT) (b) ICME Plasma/Field End Y/M/D (UT) (b)  \\\n",
       "0                    1996-05-27 15:00:00                  1996-05-29 03:00:00   \n",
       "1                    1996-07-01 18:00:00                  1996-07-02 11:00:00   \n",
       "2                    1996-08-07 12:00:00                  1996-08-08 10:00:00   \n",
       "3                    1996-12-23 17:00:00                  1996-12-25 11:00:00   \n",
       "4                    1997-01-10 04:00:00                  1997-01-11 02:00:00   \n",
       "\n",
       "   BDE? (e)  Qual. (g)  dV (km/s) (h)  V_ICME (km/s) (i)  V_max (km/s) (j)  \\\n",
       "0         1          2              1                370               400   \n",
       "1         1          4             44                360               370   \n",
       "2         1          2              2                350               380   \n",
       "3         1          2             22                360               420   \n",
       "4         3          1              4                450               460   \n",
       "\n",
       "   B (nT) (k)  MC? (l)  Dst (nT) (m)  Normalized_time_interval  \n",
       "0           9        3           117                  1.375000  \n",
       "1          11        3            78                  0.583333  \n",
       "2           7        3            88                  0.791667  \n",
       "3          10        3            69                  1.625000  \n",
       "4          14        3           191                  0.791667  "
      ]
     },
     "execution_count": 41,
     "metadata": {},
     "output_type": "execute_result"
    }
   ],
   "source": [
    "df.head()"
   ]
  },
  {
   "cell_type": "code",
   "execution_count": 42,
   "metadata": {},
   "outputs": [
    {
     "name": "stdout",
     "output_type": "stream",
     "text": [
      "<class 'pandas.core.frame.DataFrame'>\n",
      "Int64Index: 493 entries, 0 to 511\n",
      "Data columns (total 11 columns):\n",
      " #   Column                                  Non-Null Count  Dtype         \n",
      "---  ------                                  --------------  -----         \n",
      " 0   ICME Plasma/Field Start Y/M/D (UT) (b)  493 non-null    datetime64[ns]\n",
      " 1   ICME Plasma/Field End Y/M/D (UT) (b)    493 non-null    datetime64[ns]\n",
      " 2   BDE? (e)                                493 non-null    int64         \n",
      " 3   Qual. (g)                               493 non-null    int64         \n",
      " 4   dV (km/s) (h)                           493 non-null    int64         \n",
      " 5   V_ICME (km/s) (i)                       493 non-null    int64         \n",
      " 6   V_max (km/s) (j)                        493 non-null    int64         \n",
      " 7   B (nT) (k)                              493 non-null    int64         \n",
      " 8   MC? (l)                                 493 non-null    int64         \n",
      " 9   Dst (nT) (m)                            493 non-null    int64         \n",
      " 10  Normalized_time_interval                493 non-null    float64       \n",
      "dtypes: datetime64[ns](2), float64(1), int64(8)\n",
      "memory usage: 46.2 KB\n"
     ]
    }
   ],
   "source": [
    "df.info()"
   ]
  },
  {
   "cell_type": "markdown",
   "metadata": {},
   "source": [
    "Nice. Now we have a data set with numerical values ready for ML.\n",
    "\n",
    "Checking out decoded values. Remember, any input values should be decoded before feeding into the ML. The ML uses decoded values for the fitting purposes."
   ]
  },
  {
   "cell_type": "code",
   "execution_count": 61,
   "metadata": {},
   "outputs": [],
   "source": [
    "# save_coded_values"
   ]
  },
  {
   "cell_type": "markdown",
   "metadata": {},
   "source": [
    "### Save the coded parameters in json format so later we can call it and check out and code and decode it.\n"
   ]
  },
  {
   "cell_type": "code",
   "execution_count": 84,
   "metadata": {},
   "outputs": [],
   "source": [
    "# https://stackoverflow.com/questions/27745500/how-to-save-a-list-to-a-file-and-read-it-as-a-list-type\n",
    "import json\n",
    "\n",
    "coded_vals=save_coded_values\n",
    "\n",
    "with open(\"../Data/save_coded_values_P02_03_EDA.json\", 'w') as f:\n",
    "    # indent=2 is not needed but makes the file human-readable\n",
    "    json.dump(coded_vals, f, indent=2) \n",
    "\n"
   ]
  },
  {
   "cell_type": "code",
   "execution_count": 85,
   "metadata": {},
   "outputs": [
    {
     "name": "stdout",
     "output_type": "stream",
     "text": [
      "[{'BDE? (e)': {'N': 1, 'SEP': 2, 'Y': 3}}, {'Qual. (g)': {'1': 1, '2': 2, '2W': 3, '3': 4, '3W': 5}}, {'dV (km/s) (h)': {'0': 1, '10': 2, '100': 3, '100 S': 4, '110': 5, '110 S': 6, '120': 7, '120 S': 8, '130': 9, '130 S': 10, '140': 11, '140 S': 12, '150': 13, '150  S': 14, '150 S': 15, '160 S': 16, '170': 17, '170 S': 18, '180': 19, '180 S': 20, '190': 21, '20': 22, '20 S': 23, '200': 24, '200 S': 25, '210 S': 26, '220': 27, '220 S': 28, '230': 29, '230 S': 30, '240 S': 31, '250 S': 32, '250 Wv': 33, '260 S': 34, '270': 35, '280': 36, '30': 37, '30 S': 38, '300  S': 39, '300 S': 40, '320 S': 41, '340 S': 42, '350 S': 43, '40': 44, '40 S': 45, '400 S': 46, '50': 47, '50 S': 48, '550 S': 49, '60': 50, '60 S': 51, '650 S': 52, '70': 53, '70  S': 54, '70 S': 55, '750 S': 56, '80': 57, '80 S': 58, '90': 59, '90  S': 60, '90 S': 61, '900 S': 62}}, {'MC? (l)': {'0': 1, '1': 2, '2': 3, '2H': 4}}, {'Dst (nT) (m)': {'+1': 1, '+16 P': 2, '+9': 3, '-1': 4, '-10': 5, '-10 P': 6, '-10 Q': 7, '-100': 8, '-101': 9, '-102': 10, '-104': 11, '-104 P': 12, '-105': 13, '-106': 14, '-107': 15, '-108': 16, '-109': 17, '-11': 18, '-110': 19, '-110 P': 20, '-112': 21, '-113': 22, '-114': 23, '-115': 24, '-117': 25, '-118': 26, '-119': 27, '-12': 28, '-122': 29, '-122 Q': 30, '-123': 31, '-124Q': 32, '-127': 33, '-129': 34, '-13': 35, '-130': 36, '-131': 37, '-132': 38, '-133': 39, '-136': 40, '-138': 41, '-139': 42, '-14': 43, '-14 P': 44, '-141': 45, '-143': 46, '-144': 47, '-145': 48, '-146': 49, '-147': 50, '-148': 51, '-149': 52, '-15': 53, '-155': 54, '-155 P': 55, '-157': 56, '-159': 57, '-16': 58, '-16 Q': 59, '-162': 60, '-166': 61, '-17': 62, '-17 P': 63, '-170': 64, '-173': 65, '-174 Q': 66, '-176': 67, '-17Q': 68, '-18': 69, '-181': 70, '-182': 71, '-187': 72, '-19': 73, '-19 Q': 74, '-2': 75, '-2 P': 76, '-2 Q': 77, '-20': 78, '-201': 79, '-204 P': 80, '-205': 81, '-207': 82, '-21': 83, '-21 Q': 84, '-22': 85, '-221': 86, '-223 P': 87, '-23': 88, '-23 P': 89, '-23 Q': 90, '-235': 91, '-237': 92, '-24': 93, '-24 Q': 94, '-247': 95, '-24Q': 96, '-25': 97, '-25 P': 98, '-25 Q': 99, '-26': 100, '-263': 101, '-27': 102, '-271': 103, '-28': 104, '-28 P': 105, '-28 Q': 106, '-288': 107, '-29': 108, '-29 P': 109, '-292': 110, '-3': 111, '-30': 112, '-301': 113, '-31': 114, '-31 Q': 115, '-32': 116, '-33': 117, '-34': 118, '-34 P': 119, '-35': 120, '-353': 121, '-36': 122, '-37': 123, '-374': 124, '-38': 125, '-38 P': 126, '-383': 127, '-387': 128, '-39': 129, '-39 Q': 130, '-4': 131, '-4 P': 132, '-40': 133, '-40 Q': 134, '-41': 135, '-42': 136, '-42 P': 137, '-422': 138, '-43': 139, '-43 P': 140, '-44 P': 141, '-44 Q': 142, '-45': 143, '-46': 144, '-47': 145, '-48': 146, '-48 Q': 147, '-48Q': 148, '-49': 149, '-5': 150, '-50': 151, '-51': 152, '-51 P': 153, '-51 Q': 154, '-52': 155, '-55': 156, '-56': 157, '-57': 158, '-57 P': 159, '-58': 160, '-59': 161, '-59 P': 162, '-59 Q': 163, '-6': 164, '-60': 165, '-60 P': 166, '-61': 167, '-61 P': 168, '-61 Q': 169, '-62': 170, '-62 P': 171, '-63': 172, '-64': 173, '-65': 174, '-65 Q': 175, '-66': 176, '-67': 177, '-68': 178, '-69': 179, '-7': 180, '-7 P': 181, '-71': 182, '-72': 183, '-72Q': 184, '-73': 185, '-74': 186, '-75': 187, '-75 P': 188, '-76': 189, '-77': 190, '-78': 191, '-79': 192, '-8': 193, '-8 P': 194, '-80': 195, '-81': 196, '-82': 197, '-83': 198, '-84': 199, '-84 P': 200, '-85': 201, '-86': 202, '-86 P': 203, '-87': 204, '-88': 205, '-89 P': 206, '-90': 207, '-91': 208, '-92': 209, '-92 P': 210, '-93': 211, '-93 P': 212, '-94 P': 213, '-95': 214, '-97': 215, '-98': 216, '-99': 217, '-99 P': 218, '0': 219, '0 Q': 220, '1 P': 221}}]\n"
     ]
    }
   ],
   "source": [
    "with open(\"../Data/save_coded_values_P02_03_EDA.json\", 'r') as f:\n",
    "    coded_vals = json.load(f)\n",
    "\n",
    "print(coded_vals)"
   ]
  },
  {
   "cell_type": "code",
   "execution_count": 44,
   "metadata": {},
   "outputs": [
    {
     "data": {
      "text/plain": [
       "{'Qual. (g)': {'1': 1, '2': 2, '2W': 3, '3': 4, '3W': 5}}"
      ]
     },
     "execution_count": 44,
     "metadata": {},
     "output_type": "execute_result"
    }
   ],
   "source": [
    "save_coded_values[1]"
   ]
  },
  {
   "cell_type": "markdown",
   "metadata": {},
   "source": [
    "Save the df."
   ]
  },
  {
   "cell_type": "code",
   "execution_count": 45,
   "metadata": {},
   "outputs": [],
   "source": [
    "file_path = \"../Data/\"\n",
    "file_name = \"Data_ICME_Edited_Decoded_out_P02_03.csv\"\n",
    "df.to_csv(file_path+file_name, index=False)"
   ]
  },
  {
   "cell_type": "code",
   "execution_count": null,
   "metadata": {},
   "outputs": [],
   "source": []
  }
 ],
 "metadata": {
  "kernelspec": {
   "display_name": "Python 3",
   "language": "python",
   "name": "python3"
  },
  "language_info": {
   "codemirror_mode": {
    "name": "ipython",
    "version": 3
   },
   "file_extension": ".py",
   "mimetype": "text/x-python",
   "name": "python",
   "nbconvert_exporter": "python",
   "pygments_lexer": "ipython3",
   "version": "3.7.0"
  }
 },
 "nbformat": 4,
 "nbformat_minor": 5
}

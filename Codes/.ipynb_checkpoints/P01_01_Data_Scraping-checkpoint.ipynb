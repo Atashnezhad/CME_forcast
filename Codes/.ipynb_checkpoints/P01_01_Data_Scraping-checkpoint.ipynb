{
 "cells": [
  {
   "cell_type": "code",
   "execution_count": 1,
   "metadata": {},
   "outputs": [],
   "source": [
    "import os, sys\n",
    "import requests\n",
    "from urllib.parse import urljoin, urlparse\n",
    "from bs4 import BeautifulSoup\n",
    "import re"
   ]
  },
  {
   "cell_type": "markdown",
   "metadata": {},
   "source": [
    "## Request\n",
    "Send request to the data source table webpage [here](http://www.srl.caltech.edu/ACE/ASC/DATA/level3/icmetable2.htm#(k))"
   ]
  },
  {
   "cell_type": "code",
   "execution_count": 245,
   "metadata": {},
   "outputs": [],
   "source": [
    "url = \"http://www.srl.caltech.edu/ACE/ASC/DATA/level3/icmetable2.htm#(k)\"\n",
    "r = requests.get(url)\n",
    "soup = BeautifulSoup(r.text, 'html.parser')"
   ]
  },
  {
   "cell_type": "markdown",
   "metadata": {},
   "source": [
    "## Searching for content"
   ]
  },
  {
   "cell_type": "code",
   "execution_count": 236,
   "metadata": {},
   "outputs": [
    {
     "data": {
      "text/plain": [
       "[<table align=\"center\" bgcolor=\"#ECFFFF\" border=\"1\" cellpadding=\"1\" cellspacing=\"0\" columns=\"18\" width=\"1500\">\n",
       " <thead>\n",
       " <tr align=\"center\"><td><b>Disturbance Y/M/D (UT) <a href=\"#(a)\">(a)</a></b> </td><td colspan=\"2\">\n",
       " <b>ICME Plasma/Field Start, End Y/M/D (UT) <a href=\"#(b)\">(b)</a> </b> </td><td colspan=\"2\">\n",
       " <b>Comp. Start, End (Hrs wrt. Plasma/ Field) <a href=\"#(c)\">(c)</a></b> </td><td colspan=\"2\">\n",
       " <b>MC Start, End (Hrs wrt. Plasma/ Field) <a href=\"#(d)\">(d)</a></b> </td><td>\n",
       " <b>BDE? <a href=\"#(e)\">(e)</a></b> </td><td>\n",
       " <b>BIF? <a href=\"#(f)\">(f)</a></b> </td><td>\n",
       " <b> Qual. <a href=\"#(g)\">(g)</a></b></td><td>\n",
       " <b>dV (km/s) <a href=\"#(h)\">(h)</a></b> </td><td>\n",
       " <b>V_ICME (km/s) <a href=\"#(i)\">(i)</a></b> </td><td>\n",
       " <b>V_max (km/s) <a href=\"#(j)\">(j)</a></b> </td><td>\n",
       " <b>B (nT) <a href=\"#(k)\">(k)</a></b> </td><td>\n",
       " <b>MC? <a href=\"#(l)\">(l)</a></b> </td><td>\n",
       " <b>Dst (nT) <a href=\"#(m)\">(m)</a></b> </td><td>\n",
       " <b>V_transit (km/s) <a href=\"#(n)\">(n)</a></b> </td><td>\n",
       " <b>LASCO CME Y/M/D (UT)<a href=\"#(o)\"> (o)</a></b></td></tr>\n",
       " </thead>\n",
       " <tr align=\"center\"><td>1996/05/27 1500 </td><td>1996/05/27 1500 </td><td> 1996/05/29 0300 </td><td>... </td><td>... </td><td> 0 </td><td> +4 </td><td>N </td><td>... </td><td> 2 </td><td>0  </td><td>370 </td><td>  400 </td><td>   9 </td><td>  2 </td><td>            -33 </td><td> ... </td><td> </td></tr>\n",
       " <tr align=\"center\"><td>1996/07/01 1320 </td><td>1996/07/01 1800 </td><td> 1996/07/02 1100 </td><td>... </td><td>... </td><td> 0  </td><td> 0 </td><td>N </td><td>... </td><td> 3 </td><td>  40  </td><td>360 </td><td>  370 </td><td>  11 </td><td>  2 </td><td>         -20 </td><td> ... </td><td>    </td> </tr>\n",
       " <tr align=\"center\"><td>1996/08/07 0600 </td><td>1996/08/07 1200 </td><td> 1996/08/08 1000 </td><td>... </td><td>... </td><td>0 </td><td> 0 </td><td>N </td><td>... </td><td> 2 </td><td>10  </td><td>350 </td><td>  380 </td><td>   7 </td><td>  2 </td><td>         -23 </td><td> ... </td><td> </td></tr>\n",
       " <tr align=\"center\"><td>1996/12/23 1600 </td><td>1996/12/23 1700 </td><td> 1996/12/25 1100 </td><td>... </td><td>... </td><td>+10 </td><td>0  </td><td>N </td><td>... </td><td> 2 </td><td>20  </td><td>360 </td><td>  420 </td><td>  10 </td><td>  2 </td><td>         -18 </td><td> 435 </td><td> 1996/12/19 1630 H   </td></tr>\n",
       " <thead>\n",
       " <tr align=\"center\"><td><b>Disturbance Y/M/D (UT) <a href=\"#(a)\">(a)</a></b> </td><td colspan=\"2\">\n",
       " <b>ICME Plasma/Field Start, End Y/M/D (UT) <a href=\"#(b)\">(b)</a> </b> </td><td colspan=\"2\">\n",
       " <b>Comp. Start, End (Hrs wrt. Plasma/ Field) <a href=\"#(c)\">(c)</a></b> </td><td colspan=\"2\">\n",
       " <b>MC Start, End (Hrs wrt. Plasma/ Field) <a href=\"#(d)\">(d)</a></b> </td><td>\n",
       " <b>BDE? <a href=\"#(e)\">(e)</a></b> </td><td>\n",
       " <b>BIF? <a href=\"#(f)\">(f)</a></b> </td><td>\n",
       " <b> Qual. <a href=\"#(g)\">(g)</a></b></td><td>\n",
       " <b>dV (km/s) <a href=\"#(h)\">(h)</a></b> </td><td>\n",
       " <b>V_ICME (km/s) <a href=\"#(i)\">(i)</a></b> </td><td>\n",
       " <b>V_max (km/s) <a href=\"#(j)\">(j)</a></b> </td><td>\n",
       " <b>B (nT) <a href=\"#(k)\">(k)</a></b> </td><td>\n",
       " <b>MC? <a href=\"#(l)\">(l)</a></b> </td><td>\n",
       " <b>Dst (nT) <a href=\"#(m)\">(m)</a></b> </td><td>\n",
       " <b>V_transit (km/s) <a href=\"#(n)\">(n)</a></b> </td><td>\n",
       " <b>LASCO CME Y/M/D (UT)<a href=\"#(o)\"> (o)</a></b></td></tr>\n",
       " </thead>\n",
       " <tr align=\"center\"><td>1997/01/10 0104 </td><td>  1997/01/10 0400 </td><td> 1997/01/11 0200 </td><td>... </td><td>... </td><td>0 </td><td>0 </td><td>Y </td><td>... </td><td> 1 </td><td>  100 S</td><td>450 </td><td>  460 </td><td>  14 </td><td>  2 </td><td>       -78 </td><td> 507 </td><td> 1997/01/06 1510 H   </td></tr>\n",
       " <tr align=\"center\"><td>1997/02/09 1321 </td><td>  1997/02/10 0200 </td><td> 1997/02/10 1900 </td><td>... </td><td>... </td><td>0 </td><td>0 </td><td>Y </td><td>... </td><td> 2 </td><td> 90  S</td><td>450 </td><td>  600 </td><td>   8 </td><td>  2 </td><td>       -68 </td><td> 683 </td><td> 1997/02/07 0030 H </td></tr>\n",
       " <tr align=\"center\"><td>1997/04/10 1745 </td><td>  1997/04/11 0600 </td><td> 1997/04/11 1900 </td><td>... </td><td>... </td><td>0 </td><td>0 </td><td>Y </td><td>... </td><td> 1 </td><td>  150  </td><td>460 </td><td>  470 </td><td>  20 </td><td>  2 </td><td>    -82 </td><td> 552 </td><td> 1997/04/07 1427 H</td></tr>\n",
       " <tr align=\"center\"><td> 1997/04/21 0600 </td><td>  1997/04/21 1000 </td><td> 1997/04/23 0400 </td><td>... </td><td>... </td><td>+4 </td><td>+2 </td><td>Y </td><td>... </td><td> 2 </td><td>40  </td><td>360 </td><td>  420 </td><td>  12 </td><td>  2 </td><td>   -107 </td><td> ... </td><td> </td></tr>\n",
       " <tr align=\"center\"><td> 1997/05/15 0159 </td><td>  1997/05/15 0900 </td><td> 1997/05/16 0000 </td><td>... </td><td>... </td><td>0 </td><td>0 </td><td>N </td><td>Y </td><td> 1 </td><td> 150 S </td><td>450 </td><td>  480 </td><td>  21 </td><td>  2 </td><td>         -115 </td><td> 616 </td><td> 1997/05/12 0530 H </td></tr>\n",
       " <tr align=\"center\"><td> 1997/05/26 0957 </td><td>  1997/05/26 1600 </td><td> 1997/05/27 1000 </td><td>... </td><td>... </td><td>0 </td><td>+9 </td><td>Y </td><td>... </td><td> 2 </td><td>  70 S  </td><td>340 </td><td>  350 </td><td>  10 </td><td>  2H </td><td>          -74 </td><td> 381 </td><td> 1997/05/21 2100</td></tr>\n",
       " <tr align=\"center\"><td>1997/06/08 1636 </td><td>  1997/06/08 1800 </td><td> 1997/06/10 0000 </td><td>... </td><td>... </td><td>+8 </td><td>0 </td><td>Y </td><td>... </td><td> 3 </td><td>  30  </td><td>380 </td><td>  400 </td><td>  12 </td><td>  2 </td><td>       -84 </td><td> ... </td><td> </td></tr>\n",
       " <tr align=\"center\"><td>1997/06/19 0032 </td><td>  1997/06/19 0700 </td><td> 1997/06/20 2300 </td><td>... </td><td>... </td><td>-2 </td><td>-31 </td><td>Y </td><td>Y </td><td> 2 </td><td>  60  </td><td>360 </td><td>  390 </td><td>   8 </td><td>  2 </td><td>       -36 </td><td> ... </td><td> </td></tr>\n",
       " <tr align=\"center\"><td>1997/07/15 0311 </td><td>  1997/07/15 0800 </td><td> 1997/07/16 1100 </td><td>... </td><td>... </td><td>0 </td><td>-11 </td><td>Y </td><td>Y </td><td> 2 </td><td>  80  </td><td>350 </td><td>  360 </td><td>  10 </td><td>  2 </td><td>       -45 </td><td> ... </td><td> </td></tr>\n",
       " <tr align=\"center\"><td>1997/08/03 1042 </td><td>  1997/08/03 1300 </td><td> 1997/08/04 0300 </td><td>... </td><td>... </td><td>0 </td><td>0 </td><td>Y </td><td>... </td><td> 1 </td><td>  80  </td><td>400 </td><td>  480 </td><td>  16 </td><td>  2 </td><td>       -48 </td><td> 410 </td><td> 1997/07/30 0445 H</td></tr>\n",
       " <tr align=\"center\"><td>1997/08/17 0200 </td><td>  1997/08/17 0600 </td><td> 1997/08/17 2000 </td><td>... </td><td>... </td><td>... </td><td>... </td><td>N </td><td>... </td><td> 2W </td><td>60  </td><td>390 </td><td>  410 </td><td>   7 </td><td>  0 </td><td>       -28 </td><td> ... </td><td> </td></tr>\n",
       " <tr align=\"center\"><td>1997/09/03 0800 </td><td>  1997/09/03 1300 </td><td> 1997/09/03 2100 </td><td>... </td><td>... </td><td>... </td><td>... </td><td>Y </td><td>N </td><td> 3W </td><td>40 S </td><td>410 </td><td>  430 </td><td>  14 </td><td>  1 </td><td>    -98 </td><td> 405 </td><td> 1997/08/30 0130 H</td></tr>\n",
       " <tr align=\"center\"><td>1997/09/21 1651 </td><td>  1997/09/21 2100 </td><td> 1997/09/22 1600 </td><td>... </td><td>... </td><td>+3 </td><td>0 </td><td>N </td><td>... </td><td> 1 </td><td>  110  </td><td>440 </td><td>  470 </td><td>  16 </td><td>  2 </td><td>    -36 </td><td> 450 </td><td> 1997/09/17 2028 H   </td></tr>\n",
       " <tr align=\"center\"><td>1997/10/01 0059 </td><td>  1997/10/01 1600 </td><td> 1997/10/02 2300 </td><td>... </td><td>... </td><td>0 </td><td>0 </td><td>Y </td><td>N </td><td> 1 </td><td> 60 S </td><td>450 </td><td>  470 </td><td>  10 </td><td>  2 </td><td>       -98 </td><td> 580 </td><td> 1997/09/28 0108 H </td></tr>\n",
       " <tr align=\"center\"><td>1997/10/10 0300 </td><td>  1997/10/10 1100 </td><td> 1997/10/10 2200 </td><td>... </td><td>... </td><td>... </td><td>... </td><td>Y </td><td>... </td><td>2 </td><td>30 </td><td>430 </td><td>460 </td><td>   8 </td><td>  1 </td><td>    -64       </td><td>...     </td><td> </td></tr>\n",
       " <tr align=\"center\"><td>1997/10/10 1612 </td><td>  1997/10/10 2200 </td><td> 1997/10/12 0000 </td><td>... </td><td>... </td><td>0 </td><td>0 </td><td>Y </td><td>Y </td><td> 1 </td><td> 40 S </td><td>400 </td><td>  450 </td><td>  12 </td><td>  2 </td><td>      -130 </td><td> 430 </td><td> 1997/10/06 1528    </td></tr>\n",
       " <tr align=\"center\"><td>1997/10/26 1200 </td><td>  1997/10/27 0000 </td><td> 1997/10/28 0700 </td><td>... </td><td>... </td><td>... </td><td>... </td><td>Y </td><td>... </td><td> 2 </td><td>40  </td><td>500 </td><td>  520 </td><td>   7 </td><td>  1 </td><td>       -60 </td><td> 572 </td><td> 1997/10/23 1126 H</td></tr>\n",
       " <tr align=\"center\"><td> 1997/11/06 2248 </td><td>  1997/11/07 0400 </td><td> 1997/11/09 1200 </td><td>... </td><td>... </td><td>+11 </td><td>-21 (2 MCs) </td><td>Y </td><td>N </td><td> 2 </td><td> 140 S </td><td>400 </td><td>  460 </td><td>  11 </td><td>  2 </td><td>       -110 </td><td> 640 </td><td> 1997/11/04 0610 H</td></tr>\n",
       " <tr align=\"center\"><td>1997/11/22 0949 </td><td>  1997/11/22 1900 </td><td> 1997/11/23 1400 </td><td>... </td><td>... </td><td>0 </td><td>-2 </td><td>Y </td><td>... </td><td> 1 </td><td> 170 S </td><td>510 </td><td>  520 </td><td>  17 </td><td>  2 </td><td>      -108 </td><td> 640 </td><td> dg (1997/11/19 1700)</td></tr>\n",
       " <tr align=\"center\"><td>1997/11/23 1900 </td><td> 1997/11/24 0000  </td><td>1997/11/25 0000 </td><td>... </td><td>... </td><td>...  </td><td>...  </td><td>Y </td><td>...  </td><td>2  </td><td>100  </td><td>530  </td><td>590  </td><td>  5    </td><td> 0   </td><td>-47        </td><td>...      </td><td>   </td></tr>\n",
       " <tr align=\"center\"><td>1997/12/10 0526 </td><td>  1997/12/10 1800 </td><td> 1997/12/12 0000 </td><td>... </td><td>... </td><td>... </td><td>... </td><td>... </td><td>... </td><td> 2 </td><td> 50 S </td><td>350 </td><td>  380 </td><td>  12 </td><td>  0 </td><td>       -60 </td><td> 460 </td><td> 1997/12/06 1027</td></tr>\n",
       " <tr align=\"center\"><td> 1997/12/30 0209 </td><td>  1997/12/30 1000 </td><td> 1997/12/31 1100 </td><td>... </td><td>... </td><td>... </td><td>... </td><td>Y </td><td>... </td><td> 3 </td><td> 50 S </td><td>370 </td><td>  410 </td><td>  12 </td><td>  1 </td><td>       -77 </td><td> 430 </td><td> 1997/12/26 0231 </td></tr>\n",
       " <thead>\n",
       " <tr align=\"center\"><td><b>Disturbance Y/M/D (UT) <a href=\"#(a)\">(a)</a></b> </td><td colspan=\"2\">\n",
       " <b>ICME Plasma/Field Start, End Y/M/D (UT) <a href=\"#(b)\">(b)</a> </b> </td><td colspan=\"2\">\n",
       " <b>Comp. Start, End (Hrs wrt. Plasma/ Field) <a href=\"#(c)\">(c)</a></b> </td><td colspan=\"2\">\n",
       " <b>MC Start, End (Hrs wrt. Plasma/ Field) <a href=\"#(d)\">(d)</a></b> </td><td>\n",
       " <b>BDE? <a href=\"#(e)\">(e)</a></b> </td><td>\n",
       " <b>BIF? <a href=\"#(f)\">(f)</a></b> </td><td>\n",
       " <b> Qual. <a href=\"#(g)\">(g)</a></b></td><td>\n",
       " <b>dV (km/s) <a href=\"#(h)\">(h)</a></b> </td><td>\n",
       " <b>V_ICME (km/s) <a href=\"#(i)\">(i)</a></b> </td><td>\n",
       " <b>V_max (km/s) <a href=\"#(j)\">(j)</a></b> </td><td>\n",
       " <b>B (nT) <a href=\"#(k)\">(k)</a></b> </td><td>\n",
       " <b>MC? <a href=\"#(l)\">(l)</a></b> </td><td>\n",
       " <b>Dst (nT) <a href=\"#(m)\">(m)</a></b> </td><td>\n",
       " <b>V_transit (km/s) <a href=\"#(n)\">(n)</a></b> </td><td>\n",
       " <b>LASCO CME Y/M/D (UT)<a href=\"#(o)\"> (o)</a></b></td></tr>\n",
       " </thead>\n",
       " <tr align=\"center\"><td>\n",
       "  1998/01/06 1416</td><td>  1998/01/07 0100</td><td> 1998/01/08 2200</td><td>...</td><td>...</td><td>+2</td><td>0 (2 MCs) </td><td>Y</td><td>..</td><td> 2</td><td> 80 S</td><td>400</td><td>  410</td><td>  16</td><td>  2</td><td>       -77</td><td> 480</td><td> 1998/01/02 2328 H   </td></tr><tr align=\"center\"><td>\n",
       "  1998/01/09 0700</td><td>  1998/01/09 0700</td><td> 1998/01/10 0800</td><td>...</td><td>...</td><td>...</td><td>...</td><td>N</td><td>...</td><td> 2</td><td>0 </td><td>450</td><td>  500</td><td>   6</td><td>  1</td><td>       -28</td><td> ...</td><td>        </td> </tr><tr align=\"center\"><td>\n",
       "  1998/01/20 0000</td><td>  1998/01/20 1700</td><td> 1998/01/21 0400</td><td>...</td><td>...</td><td>...</td><td>...</td><td>Y</td><td>...</td><td> 3W</td><td>50 </td><td>430</td><td>  450</td><td>   5</td><td>  1</td><td>       -29</td><td> ...</td><td>      </td> </tr><tr align=\"center\"><td>\n",
       "  1998/01/21 0400</td><td>  1998/01/21 0600</td><td> 1998/01/22 1300</td><td>...</td><td>...</td><td>...</td><td>...</td><td>N</td><td>...</td><td> 3W</td><td>0 </td><td>380</td><td>  400</td><td>  13</td><td>  0</td><td>     -11</td><td> 430</td><td> 1998/01/17 0409 H </td></tr><tr align=\"center\"><td>\n",
       "  1998/01/28 1600(A)</td><td>  1998/01/29 2000</td><td> 1998/01/31 0100</td><td>...</td><td>...</td><td>...</td><td>...</td><td>Y</td><td>N</td><td> 2</td><td>30 S </td><td>380</td><td>  410</td><td>   7</td><td>  0</td><td>     -55</td><td> 557</td><td> 1998/01/25 1526 H  </td></tr><tr align=\"center\"><td>\n",
       "  1998/02/04 0000</td><td>  1998/02/04 0400</td><td> 1998/02/05 2300</td><td>...</td><td>...</td><td>0</td><td>0</td><td>Y</td><td>...</td><td> 1</td><td>50 </td><td>320</td><td>  390</td><td>  11</td><td>  2</td><td>       -34</td><td> ...</td><td>    </td> </tr><tr align=\"center\"><td>\n",
       "  1998/02/17 0400</td><td>  1998/02/17 1000</td><td> 1998/02/17 2100</td><td>ns</td><td>ns</td><td>0</td><td>+7</td><td>Y</td><td>...</td><td> 2W</td><td>30 </td><td>400</td><td>  420</td><td>  12</td><td>  2H</td><td>      -100</td><td> 602</td><td> 1998/02/14 0655  </td></tr><tr align=\"center\"><td>\n",
       "  1998/02/18 0750(A)</td><td>  1998/02/19 0100</td><td> <b></b>1998/02/20 0000</td><td>-3</td><td>...</td><td>...</td><td>...</td><td>N</td><td>...</td><td> 2</td><td>20 S</td><td>440</td><td>  460</td><td>   9</td><td>  1</td><td>    -51</td><td> ...</td><td>       </td> </tr><tr align=\"center\"><td>\n",
       "  1998/03/04 1156</td><td>  1998/03/04 1300</td><td> 1998/03/06 0900</td><td>0</td><td>-9</td><td>0</td><td>-3</td><td>N</td><td>...</td><td> 1</td><td>  30 S </td><td>350</td><td>  380</td><td>  12</td><td>  2</td><td>    -36</td><td> 440</td><td> 1998/02/28 1248      </td></tr><tr align=\"center\"><td>\n",
       "  \n",
       "  1998/03/25 1000</td><td>  1998/03/25 1300</td><td> 1998/03/26 1000</td><td>...</td><td>...</td><td>...</td><td>...</td><td>Y</td><td>Y</td><td> 1</td><td>20 </td><td>400</td><td>  400</td><td>  10</td><td>  1</td><td>    -56</td><td> ...</td><td>  </td> </tr><tr align=\"center\"><td>\n",
       "  1998/03/30 2200</td><td>  1998/03/31 1100</td><td>1998/04/03 0200 </td><td>-6</td><td>0</td><td>...</td><td>...</td><td>N</td><td>Y</td><td> 1</td><td>30 </td><td>360   </td><td>430 </td><td> 7</td><td>  0 </td><td> -35 </td><td>... </td><td>    </td> </tr><tr align=\"center\"><td>\n",
       "  1998/04/11 2300</td><td>  1998/04/11 2300</td><td> 1998/04/13 1800</td><td>ns</td><td>ns</td><td>...</td><td>...</td><td>N</td><td>...</td><td> 3W</td><td>20 </td><td>390</td><td>  390</td><td>   8</td><td>  0</td><td>    -46</td><td> ...</td><td>         </td> </tr><tr align=\"center\"><td>\n",
       "  1998/05/01 2156</td><td>  1998/05/02 0500</td><td> 1998/05/04 0200</td><td>-2</td><td>-24</td><td>+7</td><td>-9</td><td>Y</td><td>Y</td><td> 1</td><td> 150 S </td><td>520</td><td>  650</td><td>  11</td><td>  2</td><td>       -85</td><td> 780</td><td> 1998/04/29 1658 H  </td></tr><tr align=\"center\"><td>\n",
       "  1998/05/04 0215(A)</td><td>  1998/05/04 1000</td><td> 1998/05/07 2300</td><td>-7</td><td>0</td><td>...</td><td>...</td><td>Y</td><td>...</td><td> 2</td><td>  250 Wv </td><td>550</td><td>  830</td><td> 10</td><td>  0</td><td> -205</td><td>1150</td><td> 1998/05/02 1406 H<a href=\"#(p)\">(p)</a> </td></tr><tr align=\"center\"><td>\n",
       "  1998/06/02 0800</td><td>  1998/06/02 1000</td><td> 1998/06/02 1800</td><td>...</td><td>...</td><td>0</td><td>0</td><td>N</td><td>...</td><td> 2</td><td>10 </td><td>390</td><td>  400</td><td>  9</td><td>  2</td><td>       -1</td><td> ...</td><td>     </td> </tr><tr align=\"center\"><td>\n",
       "  1998/06/13 1925</td><td>  1998/06/14 0400</td><td> 1998/06/15 0600</td><td>...</td><td>...</td><td>...</td><td>...</td><td>Y</td><td>N</td><td> 3</td><td>  80 S </td><td>340</td><td>  380</td><td>  10</td><td>  1</td><td>       -55</td><td> ...</td><td>      </td> </tr><tr align=\"center\"><td>\n",
       "  1998/06/24 1000</td><td>  1998/06/24 1600</td><td> 1998/06/25 2300</td><td>0</td><td>0</td><td>0</td><td>0</td><td>Y</td><td>...</td><td> 2</td><td>80 </td><td>450</td><td>  540</td><td>  12</td><td>  2</td><td>       -25</td><td> ...</td><td> 1998/06/21 0535?     </td></tr><tr align=\"center\"><td>\n",
       "  1998/06/25 1636</td><td>  1998/06/26 0400</td><td> 1998/06/26 1900</td><td>0</td><td>0</td><td>...</td><td>...</td><td>Y</td><td>...</td><td> 2</td><td>  30 S </td><td>470</td><td>  490</td><td>  11</td><td>  0</td><td>      -101</td><td> ...</td><td>          </td> </tr><tr align=\"center\"><td>\n",
       "  1998/07/05 0315(A)</td><td>  1998/07/06 0600</td><td> 1998/07/09 0700</td><td>0</td><td>...</td><td>...</td><td>...</td><td>N</td><td>...</td><td> 1</td><td>50 S </td><td>450</td><td>  630</td><td>   5</td><td>  0</td><td>       -30</td><td>  dg</td><td> dg               </td></tr><tr align=\"center\"><td>\n",
       "  1998/07/10 2300</td><td>  1998/07/11 0000</td><td> 1998/07/13 1500</td><td>...</td><td>...</td><td>...</td><td>...</td><td>Y</td><td>Y</td><td> 3W</td><td>20 </td><td>400</td><td>  430</td><td>  10</td><td>  0</td><td>       -35</td><td>  dg</td><td> dg           </td></tr><tr align=\"center\"><td>\n",
       "  1998/08/01 0400</td><td>  1998/08/01 0400</td><td> 1998/08/03 1000</td><td>0</td><td>...</td><td>...</td><td>...</td><td>N</td><td>Y</td><td> 3</td><td>30 </td><td>410</td><td>  450</td><td>   7</td><td>  1</td><td>       -6</td><td>  dg</td><td> dg               </td></tr><tr align=\"center\"><td>\n",
       "  1998/08/05 1300</td><td>  1998/08/05 1300</td><td> 1998/08/06 1200</td><td>...</td><td>...</td><td>...</td><td>...</td><td>Y</td><td>Y</td><td> 2W</td><td>0 </td><td>360</td><td>  390</td><td>  8</td><td>  1</td><td>      -138</td><td>  dg</td><td> dg          </td></tr><tr align=\"center\"><td>\n",
       "  1998/08/07 1100</td><td>  1998/08/07 2300</td><td> 1998/08/09 2300</td><td>...</td><td>...</td><td>...</td><td>...</td><td>N</td><td>Y</td><td> 2</td><td>0 </td><td>450</td><td>  500</td><td>   7</td><td>  0</td><td>       -62</td><td>  dg</td><td> dg           </td></tr><tr align=\"center\"><td>\n",
       "  1998/08/10 0046</td><td>  1998/08/10 1100</td><td> 1998/08/10 2200</td><td>ns</td><td>ns</td><td>...</td><td>...</td><td>Y</td><td>N</td><td> 3W</td><td> 100 S </td><td>450</td><td>  500</td><td>  7</td><td>  0</td><td>       -27</td><td>  dg</td><td> dg               </td></tr><tr align=\"center\"><td>\n",
       "  1998/08/11 2300</td><td>  1998/08/12 0100</td><td> 1998/08/13 1400</td><td>ns</td><td>ns</td><td>...</td><td>...</td><td>Y</td><td>...</td><td> 3W</td><td>20 </td><td>370</td><td>  420</td><td>  8</td><td>  1</td><td>       -19</td><td>  dg</td><td> dg               </td></tr><tr align=\"center\"><td>\n",
       "  1998/08/19 1847</td><td>  1998/08/20 0600</td><td> 1998/08/21 2000</td><td>0</td><td>0</td><td>+4</td><td>0</td><td>Y</td><td>Y</td><td> 1</td><td>  50 S </td><td>320</td><td>  340</td><td>  13</td><td>  2</td><td>       -67</td><td>  dg</td><td> dg               </td></tr><tr align=\"center\"><td>\n",
       "  1998/08/26 0651</td><td>  1998/08/26 2200</td><td> 1998/08/28 0000</td><td>0</td><td>+18</td><td>...</td><td>...</td><td>Y</td><td>...</td><td> 2</td><td>200 S </td><td>650</td><td>  860</td><td>  14</td><td>  0</td><td>      -155</td><td>1260</td><td> dg (1998/08/24 2200) </td></tr><tr align=\"center\"><td>\n",
       "  1998/09/23 0200</td><td>1998/09/23 0400</td><td>1998/09/23 1800</td><td>ns</td><td>ns</td><td>...</td><td>...</td><td>Y</td><td>N</td><td>2</td><td> 80</td><td> 420  </td><td>490  </td><td>   7 </td><td>  1  </td><td> -33    </td><td>dg    </td><td> dg   </td></tr><tr align=\"center\"><td>\n",
       "  1998/09/24 2345</td><td>  1998/09/25 0600</td><td> 1998/09/26 1600</td><td>-2</td><td>+4</td><td>+4</td><td>-3</td><td>Y</td><td>Y</td><td> 1</td><td> 300 S </td><td>640</td><td>  820</td><td>  13</td><td>  2</td><td>   -207</td><td>1020</td><td> dg (1998/09/23 0700) </td></tr><tr align=\"center\"><td>\n",
       "  1998/10/18 1952</td><td>  1998/10/19 0400</td><td> 1998/10/20 0700</td><td>0</td><td>0</td><td>0</td><td>-17</td><td>Y</td><td>Y</td><td> 1</td><td> 50 S </td><td>390</td><td>  430</td><td>  18</td><td>  2</td><td>      -112</td><td> 510</td><td> 1998/10/15 1004 H    </td></tr><tr align=\"center\"><td>\n",
       "  1998/10/23 1230(A)</td><td>  1998/10/23 1500</td><td> 1998/10/24 1600</td><td>0</td><td>0</td><td>...</td><td>...</td><td>N</td><td>Y</td><td> 3</td><td>50 S </td><td>520</td><td>  600</td><td>   7</td><td>  0</td><td>    -52</td><td> ...</td><td>           </td> </tr><tr align=\"center\"><td>\n",
       " 1998/11/07 0815</td><td>  1998/11/07 2200</td><td> 1998/11/09 0100</td><td>0</td><td>0</td><td>...</td><td>...</td><td>Y</td><td>...</td><td> 2</td><td> 130 S </td><td>450</td><td>  530</td><td>  15</td><td>  1</td><td>       -81</td><td> 570</td><td> 1998/11/04 0754 H    </td></tr><tr align=\"center\"><td>\n",
       "  1998/11/08 0451</td><td>  1998/11/09 0100</td><td> 1998/11/11 0100</td><td>+8</td><td>+17</td><td>0</td><td>-24</td><td>Y</td><td>...</td><td> 2</td><td>  200 S</td><td>450</td><td>  640</td><td>  12</td><td>  2</td><td>      -149</td><td> 740</td><td> 1998/11/05 2044 H    </td></tr><tr align=\"center\"><td>\n",
       "  1998/11/13 0143</td><td>  1998/11/13 0200</td><td> 1998/11/14 1200</td><td>ns</td><td>ns</td><td>0</td><td>-6</td><td>Y</td><td>N</td><td> 3</td><td>  50 </td><td>390</td><td>  400</td><td>  17</td><td>  2H</td><td>      -131</td><td> 520</td><td> 1998/11/09 1818      </td></tr><tr align=\"center\"><td>\n",
       "  1998/11/30 0507</td><td>  1998/11/30 2100</td><td> 1998/12/01 0400</td><td>0</td><td>0</td><td>...</td><td>...</td><td>Y</td><td>...</td><td> 2</td><td> 100 S </td><td>470</td><td>  480</td><td>   9</td><td>  0</td><td>       -15</td><td> ...</td><td>      </td> </tr><tr align=\"center\"><td>\n",
       "  1998/12/28 1826</td><td>  1998/12/29 1800</td><td> 1998/12/31 0200</td><td>0</td><td>0</td><td>...</td><td>...</td><td>N</td><td>...</td><td> 2</td><td> 30 S </td><td>400</td><td>  410</td><td>   8</td><td>  0</td><td>       -58</td><td>  dg</td><td> dg              </td></tr>\n",
       " <thead>\n",
       " <tr align=\"center\"><td><b>Disturbance Y/M/D (UT) <a href=\"#(a)\">(a)</a></b> </td><td colspan=\"2\">\n",
       " <b>ICME Plasma/Field Start, End Y/M/D (UT) <a href=\"#(b)\">(b)</a> </b> </td><td colspan=\"2\">\n",
       " <b>Comp. Start, End (Hrs wrt. Plasma/ Field) <a href=\"#(c)\">(c)</a></b> </td><td colspan=\"2\">\n",
       " <b>MC Start, End (Hrs wrt. Plasma/ Field) <a href=\"#(d)\">(d)</a></b> </td><td>\n",
       " <b>BDE? <a href=\"#(e)\">(e)</a></b> </td><td>\n",
       " <b>BIF? <a href=\"#(f)\">(f)</a></b> </td><td>\n",
       " <b> Qual. <a href=\"#(g)\">(g)</a></b></td><td>\n",
       " <b>dV (km/s) <a href=\"#(h)\">(h)</a></b> </td><td>\n",
       " <b>V_ICME (km/s) <a href=\"#(i)\">(i)</a></b> </td><td>\n",
       " <b>V_max (km/s) <a href=\"#(j)\">(j)</a></b> </td><td>\n",
       " <b>B (nT) <a href=\"#(k)\">(k)</a></b> </td><td>\n",
       " <b>MC? <a href=\"#(l)\">(l)</a></b> </td><td>\n",
       " <b>Dst (nT) <a href=\"#(m)\">(m)</a></b> </td><td>\n",
       " <b>V_transit (km/s) <a href=\"#(n)\">(n)</a></b> </td><td>\n",
       " <b>LASCO CME Y/M/D (UT)<a href=\"#(o)\"> (o)</a></b></td></tr>\n",
       " </thead>\n",
       " <tr align=\"center\"><td>\n",
       "  1999/01/04 0000</td><td>  1999/01/04 0400</td><td> 1999/01/04 2200</td><td>ns</td><td>ns</td><td>...</td><td>...</td><td>Y</td><td>...</td><td> 3W</td><td>20 </td><td>350</td><td>  360</td><td>   8</td><td>  0</td><td>       -29</td><td>  dg</td><td> dg               </td></tr><tr align=\"center\"><td>\n",
       "  1999/01/13 1054</td><td>  1999/01/13 1500</td><td> 1999/01/13 2300</td><td>0</td><td>0</td><td>...</td><td>...</td><td>N</td><td>...</td><td> 2</td><td> 70 S </td><td>420</td><td>  430</td><td>  18</td><td>  0</td><td>      -112</td><td>  dg</td><td> dg               </td></tr><tr align=\"center\"><td>\n",
       "  1999/01/22 1950(A)</td><td>  1999/01/23 0900</td><td> 1999/01/23 1800</td><td>nc</td><td>0</td><td>...</td><td>...</td><td>Y</td><td>...</td><td> 3</td><td>120 S </td><td>570</td><td>  660</td><td>  12</td><td>  0</td><td>    -52</td><td>  dg</td><td> dg        </td></tr><tr align=\"center\"><td>\n",
       "  1999/02/13 1900</td><td>  1999/02/13 1900</td><td> 1999/02/14 1500</td><td>0</td><td>-3</td><td>...</td><td>...</td><td>N</td><td>...</td><td>  3W</td><td>20 </td><td>440</td><td>  470</td><td>   9</td><td>  0</td><td>       -17</td><td> ...</td><td>     </td> </tr></table>]"
      ]
     },
     "execution_count": 236,
     "metadata": {},
     "output_type": "execute_result"
    }
   ],
   "source": [
    "tables = soup.find_all('table')\n",
    "tables"
   ]
  },
  {
   "cell_type": "code",
   "execution_count": 237,
   "metadata": {},
   "outputs": [
    {
     "data": {
      "text/plain": [
       "1"
      ]
     },
     "execution_count": 237,
     "metadata": {},
     "output_type": "execute_result"
    }
   ],
   "source": [
    "len(tables)"
   ]
  },
  {
   "cell_type": "code",
   "execution_count": 86,
   "metadata": {},
   "outputs": [
    {
     "name": "stdout",
     "output_type": "stream",
     "text": [
      "<tr align=\"center\"><td><b>Disturbance Y/M/D (UT) <a href=\"#(a)\">(a)</a></b> </td><td colspan=\"2\">\n",
      "<b>ICME Plasma/Field Start, End Y/M/D (UT) <a href=\"#(b)\">(b)</a> </b> </td><td colspan=\"2\">\n",
      "<b>Comp. Start, End (Hrs wrt. Plasma/ Field) <a href=\"#(c)\">(c)</a></b> </td><td colspan=\"2\">\n",
      "<b>MC Start, End (Hrs wrt. Plasma/ Field) <a href=\"#(d)\">(d)</a></b> </td><td>\n",
      "<b>BDE? <a href=\"#(e)\">(e)</a></b> </td><td>\n",
      "<b>BIF? <a href=\"#(f)\">(f)</a></b> </td><td>\n",
      "<b> Qual. <a href=\"#(g)\">(g)</a></b></td><td>\n",
      "<b>dV (km/s) <a href=\"#(h)\">(h)</a></b> </td><td>\n",
      "<b>V_ICME (km/s) <a href=\"#(i)\">(i)</a></b> </td><td>\n",
      "<b>V_max (km/s) <a href=\"#(j)\">(j)</a></b> </td><td>\n",
      "<b>B (nT) <a href=\"#(k)\">(k)</a></b> </td><td>\n",
      "<b>MC? <a href=\"#(l)\">(l)</a></b> </td><td>\n",
      "<b>Dst (nT) <a href=\"#(m)\">(m)</a></b> </td><td>\n",
      "<b>V_transit (km/s) <a href=\"#(n)\">(n)</a></b> </td><td>\n",
      "<b>LASCO CME Y/M/D (UT)<a href=\"#(o)\"> (o)</a></b></td></tr>\n"
     ]
    }
   ],
   "source": [
    "column_names_1 = tables[0].find_all('tr')\n",
    "print(column_names_1[0])"
   ]
  },
  {
   "cell_type": "code",
   "execution_count": 105,
   "metadata": {},
   "outputs": [
    {
     "data": {
      "text/plain": [
       "70"
      ]
     },
     "execution_count": 105,
     "metadata": {},
     "output_type": "execute_result"
    }
   ],
   "source": [
    "len(column_names_1)"
   ]
  },
  {
   "cell_type": "code",
   "execution_count": 160,
   "metadata": {},
   "outputs": [],
   "source": [
    "column_name_2  = column_names_1[0].find_all('b')"
   ]
  },
  {
   "cell_type": "code",
   "execution_count": null,
   "metadata": {},
   "outputs": [],
   "source": [
    "column_name_2[0].text.strip()"
   ]
  },
  {
   "cell_type": "code",
   "execution_count": 110,
   "metadata": {},
   "outputs": [
    {
     "data": {
      "text/plain": [
       "15"
      ]
     },
     "execution_count": 110,
     "metadata": {},
     "output_type": "execute_result"
    }
   ],
   "source": [
    "len(column_name_2)"
   ]
  },
  {
   "cell_type": "markdown",
   "metadata": {},
   "source": [
    "## Column names"
   ]
  },
  {
   "cell_type": "code",
   "execution_count": 96,
   "metadata": {},
   "outputs": [
    {
     "data": {
      "text/plain": [
       "['Disturbance Y/M/D (UT) (a)',\n",
       " 'ICME Plasma/Field Start, End Y/M/D (UT) (b)',\n",
       " 'Comp. Start, End (Hrs wrt. Plasma/ Field) (c)',\n",
       " 'MC Start, End (Hrs wrt. Plasma/ Field) (d)',\n",
       " 'BDE? (e)',\n",
       " 'BIF? (f)',\n",
       " 'Qual. (g)',\n",
       " 'dV (km/s) (h)',\n",
       " 'V_ICME (km/s) (i)',\n",
       " 'V_max (km/s) (j)',\n",
       " 'B (nT) (k)',\n",
       " 'MC? (l)',\n",
       " 'Dst (nT) (m)',\n",
       " 'V_transit (km/s) (n)',\n",
       " 'LASCO CME Y/M/D (UT) (o)']"
      ]
     },
     "execution_count": 96,
     "metadata": {},
     "output_type": "execute_result"
    }
   ],
   "source": [
    "Data_column_names = []\n",
    "for col in column_name_2:\n",
    "#     print(col.text.strip())\n",
    "    Data_column_names.append(col.text.strip())\n",
    "Data_column_names"
   ]
  },
  {
   "cell_type": "code",
   "execution_count": 97,
   "metadata": {},
   "outputs": [
    {
     "data": {
      "text/plain": [
       "15"
      ]
     },
     "execution_count": 97,
     "metadata": {},
     "output_type": "execute_result"
    }
   ],
   "source": [
    "len(Data_column_names)"
   ]
  },
  {
   "cell_type": "code",
   "execution_count": 243,
   "metadata": {},
   "outputs": [],
   "source": [
    "# soup.prettify(tables)"
   ]
  },
  {
   "cell_type": "code",
   "execution_count": 246,
   "metadata": {},
   "outputs": [
    {
     "data": {
      "text/plain": [
       "[]"
      ]
     },
     "execution_count": 246,
     "metadata": {},
     "output_type": "execute_result"
    }
   ],
   "source": [
    "bodys = soup.find_all('tbody')\n",
    "bodys"
   ]
  },
  {
   "cell_type": "markdown",
   "metadata": {},
   "source": [
    "```\n",
    "source https://stackoverflow.com/questions/51897756/table-element-not-showing-in-beautifulsoup\n",
    "You are not getting that content because, when you execute the request, it is not present in the page. Yet.\n",
    "\n",
    "If you check the javascript code between the script tags, you can see it is generating the table dynamically. So, you receive the html code before that has happened, since requests is not a browser and won't execute the js, and you don't get to see the table.\n",
    "```"
   ]
  },
  {
   "cell_type": "code",
   "execution_count": null,
   "metadata": {},
   "outputs": [],
   "source": []
  },
  {
   "cell_type": "code",
   "execution_count": 140,
   "metadata": {},
   "outputs": [],
   "source": [
    "# data_1 = tables[0].find_all('td')\n",
    "# # data_1[0]\n",
    "# data_1"
   ]
  },
  {
   "cell_type": "code",
   "execution_count": 248,
   "metadata": {},
   "outputs": [
    {
     "data": {
      "text/plain": [
       "[<tr align=\"center\"><td><b>Disturbance Y/M/D (UT) <a href=\"#(a)\">(a)</a></b> </td><td colspan=\"2\">\n",
       " <b>ICME Plasma/Field Start, End Y/M/D (UT) <a href=\"#(b)\">(b)</a> </b> </td><td colspan=\"2\">\n",
       " <b>Comp. Start, End (Hrs wrt. Plasma/ Field) <a href=\"#(c)\">(c)</a></b> </td><td colspan=\"2\">\n",
       " <b>MC Start, End (Hrs wrt. Plasma/ Field) <a href=\"#(d)\">(d)</a></b> </td><td>\n",
       " <b>BDE? <a href=\"#(e)\">(e)</a></b> </td><td>\n",
       " <b>BIF? <a href=\"#(f)\">(f)</a></b> </td><td>\n",
       " <b> Qual. <a href=\"#(g)\">(g)</a></b></td><td>\n",
       " <b>dV (km/s) <a href=\"#(h)\">(h)</a></b> </td><td>\n",
       " <b>V_ICME (km/s) <a href=\"#(i)\">(i)</a></b> </td><td>\n",
       " <b>V_max (km/s) <a href=\"#(j)\">(j)</a></b> </td><td>\n",
       " <b>B (nT) <a href=\"#(k)\">(k)</a></b> </td><td>\n",
       " <b>MC? <a href=\"#(l)\">(l)</a></b> </td><td>\n",
       " <b>Dst (nT) <a href=\"#(m)\">(m)</a></b> </td><td>\n",
       " <b>V_transit (km/s) <a href=\"#(n)\">(n)</a></b> </td><td>\n",
       " <b>LASCO CME Y/M/D (UT)<a href=\"#(o)\"> (o)</a></b></td></tr>,\n",
       " <tr align=\"center\"><td>1996/05/27 1500 </td><td>1996/05/27 1500 </td><td> 1996/05/29 0300 </td><td>... </td><td>... </td><td> 0 </td><td> +4 </td><td>N </td><td>... </td><td> 2 </td><td>0  </td><td>370 </td><td>  400 </td><td>   9 </td><td>  2 </td><td>            -33 </td><td> ... </td><td> </td></tr>,\n",
       " <tr align=\"center\"><td>1996/07/01 1320 </td><td>1996/07/01 1800 </td><td> 1996/07/02 1100 </td><td>... </td><td>... </td><td> 0  </td><td> 0 </td><td>N </td><td>... </td><td> 3 </td><td>  40  </td><td>360 </td><td>  370 </td><td>  11 </td><td>  2 </td><td>         -20 </td><td> ... </td><td>    </td> </tr>,\n",
       " <tr align=\"center\"><td>1996/08/07 0600 </td><td>1996/08/07 1200 </td><td> 1996/08/08 1000 </td><td>... </td><td>... </td><td>0 </td><td> 0 </td><td>N </td><td>... </td><td> 2 </td><td>10  </td><td>350 </td><td>  380 </td><td>   7 </td><td>  2 </td><td>         -23 </td><td> ... </td><td> </td></tr>,\n",
       " <tr align=\"center\"><td>1996/12/23 1600 </td><td>1996/12/23 1700 </td><td> 1996/12/25 1100 </td><td>... </td><td>... </td><td>+10 </td><td>0  </td><td>N </td><td>... </td><td> 2 </td><td>20  </td><td>360 </td><td>  420 </td><td>  10 </td><td>  2 </td><td>         -18 </td><td> 435 </td><td> 1996/12/19 1630 H   </td></tr>,\n",
       " <tr align=\"center\"><td><b>Disturbance Y/M/D (UT) <a href=\"#(a)\">(a)</a></b> </td><td colspan=\"2\">\n",
       " <b>ICME Plasma/Field Start, End Y/M/D (UT) <a href=\"#(b)\">(b)</a> </b> </td><td colspan=\"2\">\n",
       " <b>Comp. Start, End (Hrs wrt. Plasma/ Field) <a href=\"#(c)\">(c)</a></b> </td><td colspan=\"2\">\n",
       " <b>MC Start, End (Hrs wrt. Plasma/ Field) <a href=\"#(d)\">(d)</a></b> </td><td>\n",
       " <b>BDE? <a href=\"#(e)\">(e)</a></b> </td><td>\n",
       " <b>BIF? <a href=\"#(f)\">(f)</a></b> </td><td>\n",
       " <b> Qual. <a href=\"#(g)\">(g)</a></b></td><td>\n",
       " <b>dV (km/s) <a href=\"#(h)\">(h)</a></b> </td><td>\n",
       " <b>V_ICME (km/s) <a href=\"#(i)\">(i)</a></b> </td><td>\n",
       " <b>V_max (km/s) <a href=\"#(j)\">(j)</a></b> </td><td>\n",
       " <b>B (nT) <a href=\"#(k)\">(k)</a></b> </td><td>\n",
       " <b>MC? <a href=\"#(l)\">(l)</a></b> </td><td>\n",
       " <b>Dst (nT) <a href=\"#(m)\">(m)</a></b> </td><td>\n",
       " <b>V_transit (km/s) <a href=\"#(n)\">(n)</a></b> </td><td>\n",
       " <b>LASCO CME Y/M/D (UT)<a href=\"#(o)\"> (o)</a></b></td></tr>,\n",
       " <tr align=\"center\"><td>1997/01/10 0104 </td><td>  1997/01/10 0400 </td><td> 1997/01/11 0200 </td><td>... </td><td>... </td><td>0 </td><td>0 </td><td>Y </td><td>... </td><td> 1 </td><td>  100 S</td><td>450 </td><td>  460 </td><td>  14 </td><td>  2 </td><td>       -78 </td><td> 507 </td><td> 1997/01/06 1510 H   </td></tr>,\n",
       " <tr align=\"center\"><td>1997/02/09 1321 </td><td>  1997/02/10 0200 </td><td> 1997/02/10 1900 </td><td>... </td><td>... </td><td>0 </td><td>0 </td><td>Y </td><td>... </td><td> 2 </td><td> 90  S</td><td>450 </td><td>  600 </td><td>   8 </td><td>  2 </td><td>       -68 </td><td> 683 </td><td> 1997/02/07 0030 H </td></tr>,\n",
       " <tr align=\"center\"><td>1997/04/10 1745 </td><td>  1997/04/11 0600 </td><td> 1997/04/11 1900 </td><td>... </td><td>... </td><td>0 </td><td>0 </td><td>Y </td><td>... </td><td> 1 </td><td>  150  </td><td>460 </td><td>  470 </td><td>  20 </td><td>  2 </td><td>    -82 </td><td> 552 </td><td> 1997/04/07 1427 H</td></tr>,\n",
       " <tr align=\"center\"><td> 1997/04/21 0600 </td><td>  1997/04/21 1000 </td><td> 1997/04/23 0400 </td><td>... </td><td>... </td><td>+4 </td><td>+2 </td><td>Y </td><td>... </td><td> 2 </td><td>40  </td><td>360 </td><td>  420 </td><td>  12 </td><td>  2 </td><td>   -107 </td><td> ... </td><td> </td></tr>,\n",
       " <tr align=\"center\"><td> 1997/05/15 0159 </td><td>  1997/05/15 0900 </td><td> 1997/05/16 0000 </td><td>... </td><td>... </td><td>0 </td><td>0 </td><td>N </td><td>Y </td><td> 1 </td><td> 150 S </td><td>450 </td><td>  480 </td><td>  21 </td><td>  2 </td><td>         -115 </td><td> 616 </td><td> 1997/05/12 0530 H </td></tr>,\n",
       " <tr align=\"center\"><td> 1997/05/26 0957 </td><td>  1997/05/26 1600 </td><td> 1997/05/27 1000 </td><td>... </td><td>... </td><td>0 </td><td>+9 </td><td>Y </td><td>... </td><td> 2 </td><td>  70 S  </td><td>340 </td><td>  350 </td><td>  10 </td><td>  2H </td><td>          -74 </td><td> 381 </td><td> 1997/05/21 2100</td></tr>,\n",
       " <tr align=\"center\"><td>1997/06/08 1636 </td><td>  1997/06/08 1800 </td><td> 1997/06/10 0000 </td><td>... </td><td>... </td><td>+8 </td><td>0 </td><td>Y </td><td>... </td><td> 3 </td><td>  30  </td><td>380 </td><td>  400 </td><td>  12 </td><td>  2 </td><td>       -84 </td><td> ... </td><td> </td></tr>,\n",
       " <tr align=\"center\"><td>1997/06/19 0032 </td><td>  1997/06/19 0700 </td><td> 1997/06/20 2300 </td><td>... </td><td>... </td><td>-2 </td><td>-31 </td><td>Y </td><td>Y </td><td> 2 </td><td>  60  </td><td>360 </td><td>  390 </td><td>   8 </td><td>  2 </td><td>       -36 </td><td> ... </td><td> </td></tr>,\n",
       " <tr align=\"center\"><td>1997/07/15 0311 </td><td>  1997/07/15 0800 </td><td> 1997/07/16 1100 </td><td>... </td><td>... </td><td>0 </td><td>-11 </td><td>Y </td><td>Y </td><td> 2 </td><td>  80  </td><td>350 </td><td>  360 </td><td>  10 </td><td>  2 </td><td>       -45 </td><td> ... </td><td> </td></tr>,\n",
       " <tr align=\"center\"><td>1997/08/03 1042 </td><td>  1997/08/03 1300 </td><td> 1997/08/04 0300 </td><td>... </td><td>... </td><td>0 </td><td>0 </td><td>Y </td><td>... </td><td> 1 </td><td>  80  </td><td>400 </td><td>  480 </td><td>  16 </td><td>  2 </td><td>       -48 </td><td> 410 </td><td> 1997/07/30 0445 H</td></tr>,\n",
       " <tr align=\"center\"><td>1997/08/17 0200 </td><td>  1997/08/17 0600 </td><td> 1997/08/17 2000 </td><td>... </td><td>... </td><td>... </td><td>... </td><td>N </td><td>... </td><td> 2W </td><td>60  </td><td>390 </td><td>  410 </td><td>   7 </td><td>  0 </td><td>       -28 </td><td> ... </td><td> </td></tr>,\n",
       " <tr align=\"center\"><td>1997/09/03 0800 </td><td>  1997/09/03 1300 </td><td> 1997/09/03 2100 </td><td>... </td><td>... </td><td>... </td><td>... </td><td>Y </td><td>N </td><td> 3W </td><td>40 S </td><td>410 </td><td>  430 </td><td>  14 </td><td>  1 </td><td>    -98 </td><td> 405 </td><td> 1997/08/30 0130 H</td></tr>,\n",
       " <tr align=\"center\"><td>1997/09/21 1651 </td><td>  1997/09/21 2100 </td><td> 1997/09/22 1600 </td><td>... </td><td>... </td><td>+3 </td><td>0 </td><td>N </td><td>... </td><td> 1 </td><td>  110  </td><td>440 </td><td>  470 </td><td>  16 </td><td>  2 </td><td>    -36 </td><td> 450 </td><td> 1997/09/17 2028 H   </td></tr>,\n",
       " <tr align=\"center\"><td>1997/10/01 0059 </td><td>  1997/10/01 1600 </td><td> 1997/10/02 2300 </td><td>... </td><td>... </td><td>0 </td><td>0 </td><td>Y </td><td>N </td><td> 1 </td><td> 60 S </td><td>450 </td><td>  470 </td><td>  10 </td><td>  2 </td><td>       -98 </td><td> 580 </td><td> 1997/09/28 0108 H </td></tr>,\n",
       " <tr align=\"center\"><td>1997/10/10 0300 </td><td>  1997/10/10 1100 </td><td> 1997/10/10 2200 </td><td>... </td><td>... </td><td>... </td><td>... </td><td>Y </td><td>... </td><td>2 </td><td>30 </td><td>430 </td><td>460 </td><td>   8 </td><td>  1 </td><td>    -64       </td><td>...     </td><td> </td></tr>,\n",
       " <tr align=\"center\"><td>1997/10/10 1612 </td><td>  1997/10/10 2200 </td><td> 1997/10/12 0000 </td><td>... </td><td>... </td><td>0 </td><td>0 </td><td>Y </td><td>Y </td><td> 1 </td><td> 40 S </td><td>400 </td><td>  450 </td><td>  12 </td><td>  2 </td><td>      -130 </td><td> 430 </td><td> 1997/10/06 1528    </td></tr>,\n",
       " <tr align=\"center\"><td>1997/10/26 1200 </td><td>  1997/10/27 0000 </td><td> 1997/10/28 0700 </td><td>... </td><td>... </td><td>... </td><td>... </td><td>Y </td><td>... </td><td> 2 </td><td>40  </td><td>500 </td><td>  520 </td><td>   7 </td><td>  1 </td><td>       -60 </td><td> 572 </td><td> 1997/10/23 1126 H</td></tr>,\n",
       " <tr align=\"center\"><td> 1997/11/06 2248 </td><td>  1997/11/07 0400 </td><td> 1997/11/09 1200 </td><td>... </td><td>... </td><td>+11 </td><td>-21 (2 MCs) </td><td>Y </td><td>N </td><td> 2 </td><td> 140 S </td><td>400 </td><td>  460 </td><td>  11 </td><td>  2 </td><td>       -110 </td><td> 640 </td><td> 1997/11/04 0610 H</td></tr>,\n",
       " <tr align=\"center\"><td>1997/11/22 0949 </td><td>  1997/11/22 1900 </td><td> 1997/11/23 1400 </td><td>... </td><td>... </td><td>0 </td><td>-2 </td><td>Y </td><td>... </td><td> 1 </td><td> 170 S </td><td>510 </td><td>  520 </td><td>  17 </td><td>  2 </td><td>      -108 </td><td> 640 </td><td> dg (1997/11/19 1700)</td></tr>,\n",
       " <tr align=\"center\"><td>1997/11/23 1900 </td><td> 1997/11/24 0000  </td><td>1997/11/25 0000 </td><td>... </td><td>... </td><td>...  </td><td>...  </td><td>Y </td><td>...  </td><td>2  </td><td>100  </td><td>530  </td><td>590  </td><td>  5    </td><td> 0   </td><td>-47        </td><td>...      </td><td>   </td></tr>,\n",
       " <tr align=\"center\"><td>1997/12/10 0526 </td><td>  1997/12/10 1800 </td><td> 1997/12/12 0000 </td><td>... </td><td>... </td><td>... </td><td>... </td><td>... </td><td>... </td><td> 2 </td><td> 50 S </td><td>350 </td><td>  380 </td><td>  12 </td><td>  0 </td><td>       -60 </td><td> 460 </td><td> 1997/12/06 1027</td></tr>,\n",
       " <tr align=\"center\"><td> 1997/12/30 0209 </td><td>  1997/12/30 1000 </td><td> 1997/12/31 1100 </td><td>... </td><td>... </td><td>... </td><td>... </td><td>Y </td><td>... </td><td> 3 </td><td> 50 S </td><td>370 </td><td>  410 </td><td>  12 </td><td>  1 </td><td>       -77 </td><td> 430 </td><td> 1997/12/26 0231 </td></tr>,\n",
       " <tr align=\"center\"><td><b>Disturbance Y/M/D (UT) <a href=\"#(a)\">(a)</a></b> </td><td colspan=\"2\">\n",
       " <b>ICME Plasma/Field Start, End Y/M/D (UT) <a href=\"#(b)\">(b)</a> </b> </td><td colspan=\"2\">\n",
       " <b>Comp. Start, End (Hrs wrt. Plasma/ Field) <a href=\"#(c)\">(c)</a></b> </td><td colspan=\"2\">\n",
       " <b>MC Start, End (Hrs wrt. Plasma/ Field) <a href=\"#(d)\">(d)</a></b> </td><td>\n",
       " <b>BDE? <a href=\"#(e)\">(e)</a></b> </td><td>\n",
       " <b>BIF? <a href=\"#(f)\">(f)</a></b> </td><td>\n",
       " <b> Qual. <a href=\"#(g)\">(g)</a></b></td><td>\n",
       " <b>dV (km/s) <a href=\"#(h)\">(h)</a></b> </td><td>\n",
       " <b>V_ICME (km/s) <a href=\"#(i)\">(i)</a></b> </td><td>\n",
       " <b>V_max (km/s) <a href=\"#(j)\">(j)</a></b> </td><td>\n",
       " <b>B (nT) <a href=\"#(k)\">(k)</a></b> </td><td>\n",
       " <b>MC? <a href=\"#(l)\">(l)</a></b> </td><td>\n",
       " <b>Dst (nT) <a href=\"#(m)\">(m)</a></b> </td><td>\n",
       " <b>V_transit (km/s) <a href=\"#(n)\">(n)</a></b> </td><td>\n",
       " <b>LASCO CME Y/M/D (UT)<a href=\"#(o)\"> (o)</a></b></td></tr>,\n",
       " <tr align=\"center\"><td>\n",
       "  1998/01/06 1416</td><td>  1998/01/07 0100</td><td> 1998/01/08 2200</td><td>...</td><td>...</td><td>+2</td><td>0 (2 MCs) </td><td>Y</td><td>..</td><td> 2</td><td> 80 S</td><td>400</td><td>  410</td><td>  16</td><td>  2</td><td>       -77</td><td> 480</td><td> 1998/01/02 2328 H   </td></tr>,\n",
       " <tr align=\"center\"><td>\n",
       "  1998/01/09 0700</td><td>  1998/01/09 0700</td><td> 1998/01/10 0800</td><td>...</td><td>...</td><td>...</td><td>...</td><td>N</td><td>...</td><td> 2</td><td>0 </td><td>450</td><td>  500</td><td>   6</td><td>  1</td><td>       -28</td><td> ...</td><td>        </td> </tr>,\n",
       " <tr align=\"center\"><td>\n",
       "  1998/01/20 0000</td><td>  1998/01/20 1700</td><td> 1998/01/21 0400</td><td>...</td><td>...</td><td>...</td><td>...</td><td>Y</td><td>...</td><td> 3W</td><td>50 </td><td>430</td><td>  450</td><td>   5</td><td>  1</td><td>       -29</td><td> ...</td><td>      </td> </tr>,\n",
       " <tr align=\"center\"><td>\n",
       "  1998/01/21 0400</td><td>  1998/01/21 0600</td><td> 1998/01/22 1300</td><td>...</td><td>...</td><td>...</td><td>...</td><td>N</td><td>...</td><td> 3W</td><td>0 </td><td>380</td><td>  400</td><td>  13</td><td>  0</td><td>     -11</td><td> 430</td><td> 1998/01/17 0409 H </td></tr>,\n",
       " <tr align=\"center\"><td>\n",
       "  1998/01/28 1600(A)</td><td>  1998/01/29 2000</td><td> 1998/01/31 0100</td><td>...</td><td>...</td><td>...</td><td>...</td><td>Y</td><td>N</td><td> 2</td><td>30 S </td><td>380</td><td>  410</td><td>   7</td><td>  0</td><td>     -55</td><td> 557</td><td> 1998/01/25 1526 H  </td></tr>,\n",
       " <tr align=\"center\"><td>\n",
       "  1998/02/04 0000</td><td>  1998/02/04 0400</td><td> 1998/02/05 2300</td><td>...</td><td>...</td><td>0</td><td>0</td><td>Y</td><td>...</td><td> 1</td><td>50 </td><td>320</td><td>  390</td><td>  11</td><td>  2</td><td>       -34</td><td> ...</td><td>    </td> </tr>,\n",
       " <tr align=\"center\"><td>\n",
       "  1998/02/17 0400</td><td>  1998/02/17 1000</td><td> 1998/02/17 2100</td><td>ns</td><td>ns</td><td>0</td><td>+7</td><td>Y</td><td>...</td><td> 2W</td><td>30 </td><td>400</td><td>  420</td><td>  12</td><td>  2H</td><td>      -100</td><td> 602</td><td> 1998/02/14 0655  </td></tr>,\n",
       " <tr align=\"center\"><td>\n",
       "  1998/02/18 0750(A)</td><td>  1998/02/19 0100</td><td> <b></b>1998/02/20 0000</td><td>-3</td><td>...</td><td>...</td><td>...</td><td>N</td><td>...</td><td> 2</td><td>20 S</td><td>440</td><td>  460</td><td>   9</td><td>  1</td><td>    -51</td><td> ...</td><td>       </td> </tr>,\n",
       " <tr align=\"center\"><td>\n",
       "  1998/03/04 1156</td><td>  1998/03/04 1300</td><td> 1998/03/06 0900</td><td>0</td><td>-9</td><td>0</td><td>-3</td><td>N</td><td>...</td><td> 1</td><td>  30 S </td><td>350</td><td>  380</td><td>  12</td><td>  2</td><td>    -36</td><td> 440</td><td> 1998/02/28 1248      </td></tr>,\n",
       " <tr align=\"center\"><td>\n",
       "  \n",
       "  1998/03/25 1000</td><td>  1998/03/25 1300</td><td> 1998/03/26 1000</td><td>...</td><td>...</td><td>...</td><td>...</td><td>Y</td><td>Y</td><td> 1</td><td>20 </td><td>400</td><td>  400</td><td>  10</td><td>  1</td><td>    -56</td><td> ...</td><td>  </td> </tr>,\n",
       " <tr align=\"center\"><td>\n",
       "  1998/03/30 2200</td><td>  1998/03/31 1100</td><td>1998/04/03 0200 </td><td>-6</td><td>0</td><td>...</td><td>...</td><td>N</td><td>Y</td><td> 1</td><td>30 </td><td>360   </td><td>430 </td><td> 7</td><td>  0 </td><td> -35 </td><td>... </td><td>    </td> </tr>,\n",
       " <tr align=\"center\"><td>\n",
       "  1998/04/11 2300</td><td>  1998/04/11 2300</td><td> 1998/04/13 1800</td><td>ns</td><td>ns</td><td>...</td><td>...</td><td>N</td><td>...</td><td> 3W</td><td>20 </td><td>390</td><td>  390</td><td>   8</td><td>  0</td><td>    -46</td><td> ...</td><td>         </td> </tr>,\n",
       " <tr align=\"center\"><td>\n",
       "  1998/05/01 2156</td><td>  1998/05/02 0500</td><td> 1998/05/04 0200</td><td>-2</td><td>-24</td><td>+7</td><td>-9</td><td>Y</td><td>Y</td><td> 1</td><td> 150 S </td><td>520</td><td>  650</td><td>  11</td><td>  2</td><td>       -85</td><td> 780</td><td> 1998/04/29 1658 H  </td></tr>,\n",
       " <tr align=\"center\"><td>\n",
       "  1998/05/04 0215(A)</td><td>  1998/05/04 1000</td><td> 1998/05/07 2300</td><td>-7</td><td>0</td><td>...</td><td>...</td><td>Y</td><td>...</td><td> 2</td><td>  250 Wv </td><td>550</td><td>  830</td><td> 10</td><td>  0</td><td> -205</td><td>1150</td><td> 1998/05/02 1406 H<a href=\"#(p)\">(p)</a> </td></tr>,\n",
       " <tr align=\"center\"><td>\n",
       "  1998/06/02 0800</td><td>  1998/06/02 1000</td><td> 1998/06/02 1800</td><td>...</td><td>...</td><td>0</td><td>0</td><td>N</td><td>...</td><td> 2</td><td>10 </td><td>390</td><td>  400</td><td>  9</td><td>  2</td><td>       -1</td><td> ...</td><td>     </td> </tr>,\n",
       " <tr align=\"center\"><td>\n",
       "  1998/06/13 1925</td><td>  1998/06/14 0400</td><td> 1998/06/15 0600</td><td>...</td><td>...</td><td>...</td><td>...</td><td>Y</td><td>N</td><td> 3</td><td>  80 S </td><td>340</td><td>  380</td><td>  10</td><td>  1</td><td>       -55</td><td> ...</td><td>      </td> </tr>,\n",
       " <tr align=\"center\"><td>\n",
       "  1998/06/24 1000</td><td>  1998/06/24 1600</td><td> 1998/06/25 2300</td><td>0</td><td>0</td><td>0</td><td>0</td><td>Y</td><td>...</td><td> 2</td><td>80 </td><td>450</td><td>  540</td><td>  12</td><td>  2</td><td>       -25</td><td> ...</td><td> 1998/06/21 0535?     </td></tr>,\n",
       " <tr align=\"center\"><td>\n",
       "  1998/06/25 1636</td><td>  1998/06/26 0400</td><td> 1998/06/26 1900</td><td>0</td><td>0</td><td>...</td><td>...</td><td>Y</td><td>...</td><td> 2</td><td>  30 S </td><td>470</td><td>  490</td><td>  11</td><td>  0</td><td>      -101</td><td> ...</td><td>          </td> </tr>,\n",
       " <tr align=\"center\"><td>\n",
       "  1998/07/05 0315(A)</td><td>  1998/07/06 0600</td><td> 1998/07/09 0700</td><td>0</td><td>...</td><td>...</td><td>...</td><td>N</td><td>...</td><td> 1</td><td>50 S </td><td>450</td><td>  630</td><td>   5</td><td>  0</td><td>       -30</td><td>  dg</td><td> dg               </td></tr>,\n",
       " <tr align=\"center\"><td>\n",
       "  1998/07/10 2300</td><td>  1998/07/11 0000</td><td> 1998/07/13 1500</td><td>...</td><td>...</td><td>...</td><td>...</td><td>Y</td><td>Y</td><td> 3W</td><td>20 </td><td>400</td><td>  430</td><td>  10</td><td>  0</td><td>       -35</td><td>  dg</td><td> dg           </td></tr>,\n",
       " <tr align=\"center\"><td>\n",
       "  1998/08/01 0400</td><td>  1998/08/01 0400</td><td> 1998/08/03 1000</td><td>0</td><td>...</td><td>...</td><td>...</td><td>N</td><td>Y</td><td> 3</td><td>30 </td><td>410</td><td>  450</td><td>   7</td><td>  1</td><td>       -6</td><td>  dg</td><td> dg               </td></tr>,\n",
       " <tr align=\"center\"><td>\n",
       "  1998/08/05 1300</td><td>  1998/08/05 1300</td><td> 1998/08/06 1200</td><td>...</td><td>...</td><td>...</td><td>...</td><td>Y</td><td>Y</td><td> 2W</td><td>0 </td><td>360</td><td>  390</td><td>  8</td><td>  1</td><td>      -138</td><td>  dg</td><td> dg          </td></tr>,\n",
       " <tr align=\"center\"><td>\n",
       "  1998/08/07 1100</td><td>  1998/08/07 2300</td><td> 1998/08/09 2300</td><td>...</td><td>...</td><td>...</td><td>...</td><td>N</td><td>Y</td><td> 2</td><td>0 </td><td>450</td><td>  500</td><td>   7</td><td>  0</td><td>       -62</td><td>  dg</td><td> dg           </td></tr>,\n",
       " <tr align=\"center\"><td>\n",
       "  1998/08/10 0046</td><td>  1998/08/10 1100</td><td> 1998/08/10 2200</td><td>ns</td><td>ns</td><td>...</td><td>...</td><td>Y</td><td>N</td><td> 3W</td><td> 100 S </td><td>450</td><td>  500</td><td>  7</td><td>  0</td><td>       -27</td><td>  dg</td><td> dg               </td></tr>,\n",
       " <tr align=\"center\"><td>\n",
       "  1998/08/11 2300</td><td>  1998/08/12 0100</td><td> 1998/08/13 1400</td><td>ns</td><td>ns</td><td>...</td><td>...</td><td>Y</td><td>...</td><td> 3W</td><td>20 </td><td>370</td><td>  420</td><td>  8</td><td>  1</td><td>       -19</td><td>  dg</td><td> dg               </td></tr>,\n",
       " <tr align=\"center\"><td>\n",
       "  1998/08/19 1847</td><td>  1998/08/20 0600</td><td> 1998/08/21 2000</td><td>0</td><td>0</td><td>+4</td><td>0</td><td>Y</td><td>Y</td><td> 1</td><td>  50 S </td><td>320</td><td>  340</td><td>  13</td><td>  2</td><td>       -67</td><td>  dg</td><td> dg               </td></tr>,\n",
       " <tr align=\"center\"><td>\n",
       "  1998/08/26 0651</td><td>  1998/08/26 2200</td><td> 1998/08/28 0000</td><td>0</td><td>+18</td><td>...</td><td>...</td><td>Y</td><td>...</td><td> 2</td><td>200 S </td><td>650</td><td>  860</td><td>  14</td><td>  0</td><td>      -155</td><td>1260</td><td> dg (1998/08/24 2200) </td></tr>,\n",
       " <tr align=\"center\"><td>\n",
       "  1998/09/23 0200</td><td>1998/09/23 0400</td><td>1998/09/23 1800</td><td>ns</td><td>ns</td><td>...</td><td>...</td><td>Y</td><td>N</td><td>2</td><td> 80</td><td> 420  </td><td>490  </td><td>   7 </td><td>  1  </td><td> -33    </td><td>dg    </td><td> dg   </td></tr>,\n",
       " <tr align=\"center\"><td>\n",
       "  1998/09/24 2345</td><td>  1998/09/25 0600</td><td> 1998/09/26 1600</td><td>-2</td><td>+4</td><td>+4</td><td>-3</td><td>Y</td><td>Y</td><td> 1</td><td> 300 S </td><td>640</td><td>  820</td><td>  13</td><td>  2</td><td>   -207</td><td>1020</td><td> dg (1998/09/23 0700) </td></tr>,\n",
       " <tr align=\"center\"><td>\n",
       "  1998/10/18 1952</td><td>  1998/10/19 0400</td><td> 1998/10/20 0700</td><td>0</td><td>0</td><td>0</td><td>-17</td><td>Y</td><td>Y</td><td> 1</td><td> 50 S </td><td>390</td><td>  430</td><td>  18</td><td>  2</td><td>      -112</td><td> 510</td><td> 1998/10/15 1004 H    </td></tr>,\n",
       " <tr align=\"center\"><td>\n",
       "  1998/10/23 1230(A)</td><td>  1998/10/23 1500</td><td> 1998/10/24 1600</td><td>0</td><td>0</td><td>...</td><td>...</td><td>N</td><td>Y</td><td> 3</td><td>50 S </td><td>520</td><td>  600</td><td>   7</td><td>  0</td><td>    -52</td><td> ...</td><td>           </td> </tr>,\n",
       " <tr align=\"center\"><td>\n",
       " 1998/11/07 0815</td><td>  1998/11/07 2200</td><td> 1998/11/09 0100</td><td>0</td><td>0</td><td>...</td><td>...</td><td>Y</td><td>...</td><td> 2</td><td> 130 S </td><td>450</td><td>  530</td><td>  15</td><td>  1</td><td>       -81</td><td> 570</td><td> 1998/11/04 0754 H    </td></tr>,\n",
       " <tr align=\"center\"><td>\n",
       "  1998/11/08 0451</td><td>  1998/11/09 0100</td><td> 1998/11/11 0100</td><td>+8</td><td>+17</td><td>0</td><td>-24</td><td>Y</td><td>...</td><td> 2</td><td>  200 S</td><td>450</td><td>  640</td><td>  12</td><td>  2</td><td>      -149</td><td> 740</td><td> 1998/11/05 2044 H    </td></tr>,\n",
       " <tr align=\"center\"><td>\n",
       "  1998/11/13 0143</td><td>  1998/11/13 0200</td><td> 1998/11/14 1200</td><td>ns</td><td>ns</td><td>0</td><td>-6</td><td>Y</td><td>N</td><td> 3</td><td>  50 </td><td>390</td><td>  400</td><td>  17</td><td>  2H</td><td>      -131</td><td> 520</td><td> 1998/11/09 1818      </td></tr>,\n",
       " <tr align=\"center\"><td>\n",
       "  1998/11/30 0507</td><td>  1998/11/30 2100</td><td> 1998/12/01 0400</td><td>0</td><td>0</td><td>...</td><td>...</td><td>Y</td><td>...</td><td> 2</td><td> 100 S </td><td>470</td><td>  480</td><td>   9</td><td>  0</td><td>       -15</td><td> ...</td><td>      </td> </tr>,\n",
       " <tr align=\"center\"><td>\n",
       "  1998/12/28 1826</td><td>  1998/12/29 1800</td><td> 1998/12/31 0200</td><td>0</td><td>0</td><td>...</td><td>...</td><td>N</td><td>...</td><td> 2</td><td> 30 S </td><td>400</td><td>  410</td><td>   8</td><td>  0</td><td>       -58</td><td>  dg</td><td> dg              </td></tr>,\n",
       " <tr align=\"center\"><td><b>Disturbance Y/M/D (UT) <a href=\"#(a)\">(a)</a></b> </td><td colspan=\"2\">\n",
       " <b>ICME Plasma/Field Start, End Y/M/D (UT) <a href=\"#(b)\">(b)</a> </b> </td><td colspan=\"2\">\n",
       " <b>Comp. Start, End (Hrs wrt. Plasma/ Field) <a href=\"#(c)\">(c)</a></b> </td><td colspan=\"2\">\n",
       " <b>MC Start, End (Hrs wrt. Plasma/ Field) <a href=\"#(d)\">(d)</a></b> </td><td>\n",
       " <b>BDE? <a href=\"#(e)\">(e)</a></b> </td><td>\n",
       " <b>BIF? <a href=\"#(f)\">(f)</a></b> </td><td>\n",
       " <b> Qual. <a href=\"#(g)\">(g)</a></b></td><td>\n",
       " <b>dV (km/s) <a href=\"#(h)\">(h)</a></b> </td><td>\n",
       " <b>V_ICME (km/s) <a href=\"#(i)\">(i)</a></b> </td><td>\n",
       " <b>V_max (km/s) <a href=\"#(j)\">(j)</a></b> </td><td>\n",
       " <b>B (nT) <a href=\"#(k)\">(k)</a></b> </td><td>\n",
       " <b>MC? <a href=\"#(l)\">(l)</a></b> </td><td>\n",
       " <b>Dst (nT) <a href=\"#(m)\">(m)</a></b> </td><td>\n",
       " <b>V_transit (km/s) <a href=\"#(n)\">(n)</a></b> </td><td>\n",
       " <b>LASCO CME Y/M/D (UT)<a href=\"#(o)\"> (o)</a></b></td></tr>,\n",
       " <tr align=\"center\"><td>\n",
       "  1999/01/04 0000</td><td>  1999/01/04 0400</td><td> 1999/01/04 2200</td><td>ns</td><td>ns</td><td>...</td><td>...</td><td>Y</td><td>...</td><td> 3W</td><td>20 </td><td>350</td><td>  360</td><td>   8</td><td>  0</td><td>       -29</td><td>  dg</td><td> dg               </td></tr>,\n",
       " <tr align=\"center\"><td>\n",
       "  1999/01/13 1054</td><td>  1999/01/13 1500</td><td> 1999/01/13 2300</td><td>0</td><td>0</td><td>...</td><td>...</td><td>N</td><td>...</td><td> 2</td><td> 70 S </td><td>420</td><td>  430</td><td>  18</td><td>  0</td><td>      -112</td><td>  dg</td><td> dg               </td></tr>,\n",
       " <tr align=\"center\"><td>\n",
       "  1999/01/22 1950(A)</td><td>  1999/01/23 0900</td><td> 1999/01/23 1800</td><td>nc</td><td>0</td><td>...</td><td>...</td><td>Y</td><td>...</td><td> 3</td><td>120 S </td><td>570</td><td>  660</td><td>  12</td><td>  0</td><td>    -52</td><td>  dg</td><td> dg        </td></tr>,\n",
       " <tr align=\"center\"><td>\n",
       "  1999/02/13 1900</td><td>  1999/02/13 1900</td><td> 1999/02/14 1500</td><td>0</td><td>-3</td><td>...</td><td>...</td><td>N</td><td>...</td><td>  3W</td><td>20 </td><td>440</td><td>  470</td><td>   9</td><td>  0</td><td>       -17</td><td> ...</td><td>     </td> </tr>]"
      ]
     },
     "execution_count": 248,
     "metadata": {},
     "output_type": "execute_result"
    }
   ],
   "source": [
    "data_1 = tables[0].find_all('tr', align=\"center\")\n",
    "data_1"
   ]
  },
  {
   "cell_type": "markdown",
   "metadata": {},
   "source": [
    "these are data from 1996 - 1999. Let's extract it and then I will work on the rest of the data however the process is similar."
   ]
  },
  {
   "cell_type": "code",
   "execution_count": 270,
   "metadata": {},
   "outputs": [
    {
     "data": {
      "text/plain": [
       "70"
      ]
     },
     "execution_count": 270,
     "metadata": {},
     "output_type": "execute_result"
    }
   ],
   "source": [
    "len(data_1)"
   ]
  },
  {
   "cell_type": "markdown",
   "metadata": {},
   "source": [
    "the first element is the headers or column names. check out the number of columns"
   ]
  },
  {
   "cell_type": "code",
   "execution_count": 313,
   "metadata": {},
   "outputs": [
    {
     "data": {
      "text/plain": [
       "['Disturbance Y/M/D (UT) (a) ',\n",
       " 'ICME Plasma/Field Start, End Y/M/D (UT) (b)  ',\n",
       " 'Comp. Start, End (Hrs wrt. Plasma/ Field) (c) ',\n",
       " 'MC Start, End (Hrs wrt. Plasma/ Field) (d) ',\n",
       " 'BDE? (e) ',\n",
       " 'BIF? (f) ',\n",
       " ' Qual. (g)',\n",
       " 'dV (km/s) (h) ',\n",
       " 'V_ICME (km/s) (i) ',\n",
       " 'V_max (km/s) (j) ',\n",
       " 'B (nT) (k) ',\n",
       " 'MC? (l) ',\n",
       " 'Dst (nT) (m) ',\n",
       " 'V_transit (km/s) (n) ',\n",
       " 'LASCO CME Y/M/D (UT) (o)']"
      ]
     },
     "execution_count": 313,
     "metadata": {},
     "output_type": "execute_result"
    }
   ],
   "source": [
    "data_1[0].text.strip().split('\\n')"
   ]
  },
  {
   "cell_type": "code",
   "execution_count": 296,
   "metadata": {},
   "outputs": [
    {
     "data": {
      "text/plain": [
       "15"
      ]
     },
     "execution_count": 296,
     "metadata": {},
     "output_type": "execute_result"
    }
   ],
   "source": [
    "a = list(data_1[0])\n",
    "len(a)"
   ]
  },
  {
   "cell_type": "markdown",
   "metadata": {},
   "source": [
    "There are 15 columns in table. The next element has 18 elements which are the data we looking for. let's check out the number of elements."
   ]
  },
  {
   "cell_type": "code",
   "execution_count": 295,
   "metadata": {},
   "outputs": [
    {
     "data": {
      "text/plain": [
       "18"
      ]
     },
     "execution_count": 295,
     "metadata": {},
     "output_type": "execute_result"
    }
   ],
   "source": [
    "a = list(data_1[1])\n",
    "len(a)"
   ]
  },
  {
   "cell_type": "markdown",
   "metadata": {},
   "source": [
    "make a list of data and iterate through and extract the data."
   ]
  },
  {
   "cell_type": "code",
   "execution_count": 290,
   "metadata": {},
   "outputs": [],
   "source": [
    "data_ext = []\n",
    "for i in range(0,18):\n",
    "    data_ext.append(a[i].text.strip())\n",
    "#     print(a[i].text.strip())"
   ]
  },
  {
   "cell_type": "code",
   "execution_count": 364,
   "metadata": {},
   "outputs": [],
   "source": [
    "# data_ext"
   ]
  },
  {
   "cell_type": "markdown",
   "metadata": {},
   "source": [
    "we have to iterate through all 70 elements of data. \n",
    "\n",
    "note that some are just header with 15 sub elements, and some are the data with 18. let's gather all and later filter out data."
   ]
  },
  {
   "cell_type": "code",
   "execution_count": 350,
   "metadata": {},
   "outputs": [],
   "source": [
    "num_ite_1 = len(data_1)\n",
    "\n",
    "# keep data in data_ext list\n",
    "data_ext = []\n",
    "for i in range(0, num_ite_1):\n",
    "    \n",
    "    # make a list\n",
    "    a = list(data_1[i])\n",
    "    num_ite_2 = len(a)\n",
    "#     print(num_ite_2)\n",
    "    \n",
    "    collector = []\n",
    "    for j in range(0, num_ite_2):\n",
    "        try:\n",
    "            collector.append(a[j].text.strip())\n",
    "        except:\n",
    "            pass\n",
    "    data_ext.append(collector)\n"
   ]
  },
  {
   "cell_type": "code",
   "execution_count": 358,
   "metadata": {},
   "outputs": [
    {
     "data": {
      "text/plain": [
       "18"
      ]
     },
     "execution_count": 358,
     "metadata": {},
     "output_type": "execute_result"
    }
   ],
   "source": [
    "len(data_ext[1])"
   ]
  },
  {
   "cell_type": "code",
   "execution_count": 359,
   "metadata": {},
   "outputs": [],
   "source": [
    "real_data = []\n",
    "for i in range(len(data_ext)):\n",
    "    if len(data_ext[i]) == 18:\n",
    "        real_data.append(data_ext[i])\n",
    "        "
   ]
  },
  {
   "cell_type": "code",
   "execution_count": 363,
   "metadata": {},
   "outputs": [
    {
     "data": {
      "text/plain": [
       "66"
      ]
     },
     "execution_count": 363,
     "metadata": {},
     "output_type": "execute_result"
    }
   ],
   "source": [
    "len(real_data)"
   ]
  },
  {
   "cell_type": "code",
   "execution_count": 367,
   "metadata": {},
   "outputs": [
    {
     "data": {
      "text/html": [
       "<div>\n",
       "<style scoped>\n",
       "    .dataframe tbody tr th:only-of-type {\n",
       "        vertical-align: middle;\n",
       "    }\n",
       "\n",
       "    .dataframe tbody tr th {\n",
       "        vertical-align: top;\n",
       "    }\n",
       "\n",
       "    .dataframe thead th {\n",
       "        text-align: right;\n",
       "    }\n",
       "</style>\n",
       "<table border=\"1\" class=\"dataframe\">\n",
       "  <thead>\n",
       "    <tr style=\"text-align: right;\">\n",
       "      <th></th>\n",
       "      <th>0</th>\n",
       "      <th>1</th>\n",
       "      <th>2</th>\n",
       "      <th>3</th>\n",
       "      <th>4</th>\n",
       "      <th>5</th>\n",
       "      <th>6</th>\n",
       "      <th>7</th>\n",
       "      <th>8</th>\n",
       "      <th>9</th>\n",
       "      <th>10</th>\n",
       "      <th>11</th>\n",
       "      <th>12</th>\n",
       "      <th>13</th>\n",
       "      <th>14</th>\n",
       "      <th>15</th>\n",
       "      <th>16</th>\n",
       "      <th>17</th>\n",
       "    </tr>\n",
       "  </thead>\n",
       "  <tbody>\n",
       "    <tr>\n",
       "      <th>0</th>\n",
       "      <td>1996/05/27 1500</td>\n",
       "      <td>1996/05/27 1500</td>\n",
       "      <td>1996/05/29 0300</td>\n",
       "      <td>...</td>\n",
       "      <td>...</td>\n",
       "      <td>0</td>\n",
       "      <td>+4</td>\n",
       "      <td>N</td>\n",
       "      <td>...</td>\n",
       "      <td>2</td>\n",
       "      <td>0</td>\n",
       "      <td>370</td>\n",
       "      <td>400</td>\n",
       "      <td>9</td>\n",
       "      <td>2</td>\n",
       "      <td>-33</td>\n",
       "      <td>...</td>\n",
       "      <td></td>\n",
       "    </tr>\n",
       "    <tr>\n",
       "      <th>1</th>\n",
       "      <td>1996/07/01 1320</td>\n",
       "      <td>1996/07/01 1800</td>\n",
       "      <td>1996/07/02 1100</td>\n",
       "      <td>...</td>\n",
       "      <td>...</td>\n",
       "      <td>0</td>\n",
       "      <td>0</td>\n",
       "      <td>N</td>\n",
       "      <td>...</td>\n",
       "      <td>3</td>\n",
       "      <td>40</td>\n",
       "      <td>360</td>\n",
       "      <td>370</td>\n",
       "      <td>11</td>\n",
       "      <td>2</td>\n",
       "      <td>-20</td>\n",
       "      <td>...</td>\n",
       "      <td></td>\n",
       "    </tr>\n",
       "    <tr>\n",
       "      <th>2</th>\n",
       "      <td>1996/08/07 0600</td>\n",
       "      <td>1996/08/07 1200</td>\n",
       "      <td>1996/08/08 1000</td>\n",
       "      <td>...</td>\n",
       "      <td>...</td>\n",
       "      <td>0</td>\n",
       "      <td>0</td>\n",
       "      <td>N</td>\n",
       "      <td>...</td>\n",
       "      <td>2</td>\n",
       "      <td>10</td>\n",
       "      <td>350</td>\n",
       "      <td>380</td>\n",
       "      <td>7</td>\n",
       "      <td>2</td>\n",
       "      <td>-23</td>\n",
       "      <td>...</td>\n",
       "      <td></td>\n",
       "    </tr>\n",
       "    <tr>\n",
       "      <th>3</th>\n",
       "      <td>1996/12/23 1600</td>\n",
       "      <td>1996/12/23 1700</td>\n",
       "      <td>1996/12/25 1100</td>\n",
       "      <td>...</td>\n",
       "      <td>...</td>\n",
       "      <td>+10</td>\n",
       "      <td>0</td>\n",
       "      <td>N</td>\n",
       "      <td>...</td>\n",
       "      <td>2</td>\n",
       "      <td>20</td>\n",
       "      <td>360</td>\n",
       "      <td>420</td>\n",
       "      <td>10</td>\n",
       "      <td>2</td>\n",
       "      <td>-18</td>\n",
       "      <td>435</td>\n",
       "      <td>1996/12/19 1630 H</td>\n",
       "    </tr>\n",
       "    <tr>\n",
       "      <th>4</th>\n",
       "      <td>1997/01/10 0104</td>\n",
       "      <td>1997/01/10 0400</td>\n",
       "      <td>1997/01/11 0200</td>\n",
       "      <td>...</td>\n",
       "      <td>...</td>\n",
       "      <td>0</td>\n",
       "      <td>0</td>\n",
       "      <td>Y</td>\n",
       "      <td>...</td>\n",
       "      <td>1</td>\n",
       "      <td>100 S</td>\n",
       "      <td>450</td>\n",
       "      <td>460</td>\n",
       "      <td>14</td>\n",
       "      <td>2</td>\n",
       "      <td>-78</td>\n",
       "      <td>507</td>\n",
       "      <td>1997/01/06 1510 H</td>\n",
       "    </tr>\n",
       "  </tbody>\n",
       "</table>\n",
       "</div>"
      ],
      "text/plain": [
       "                0                1                2    3    4    5   6  7   \\\n",
       "0  1996/05/27 1500  1996/05/27 1500  1996/05/29 0300  ...  ...    0  +4  N   \n",
       "1  1996/07/01 1320  1996/07/01 1800  1996/07/02 1100  ...  ...    0   0  N   \n",
       "2  1996/08/07 0600  1996/08/07 1200  1996/08/08 1000  ...  ...    0   0  N   \n",
       "3  1996/12/23 1600  1996/12/23 1700  1996/12/25 1100  ...  ...  +10   0  N   \n",
       "4  1997/01/10 0104  1997/01/10 0400  1997/01/11 0200  ...  ...    0   0  Y   \n",
       "\n",
       "    8  9      10   11   12  13 14   15   16                 17  \n",
       "0  ...  2      0  370  400   9  2  -33  ...                     \n",
       "1  ...  3     40  360  370  11  2  -20  ...                     \n",
       "2  ...  2     10  350  380   7  2  -23  ...                     \n",
       "3  ...  2     20  360  420  10  2  -18  435  1996/12/19 1630 H  \n",
       "4  ...  1  100 S  450  460  14  2  -78  507  1997/01/06 1510 H  "
      ]
     },
     "execution_count": 367,
     "metadata": {},
     "output_type": "execute_result"
    }
   ],
   "source": [
    "import pandas as pd\n",
    "real_data_pd = pd.DataFrame(real_data)\n",
    "real_data_pd.head()"
   ]
  },
  {
   "cell_type": "code",
   "execution_count": 381,
   "metadata": {},
   "outputs": [
    {
     "data": {
      "text/html": [
       "<div>\n",
       "<style scoped>\n",
       "    .dataframe tbody tr th:only-of-type {\n",
       "        vertical-align: middle;\n",
       "    }\n",
       "\n",
       "    .dataframe tbody tr th {\n",
       "        vertical-align: top;\n",
       "    }\n",
       "\n",
       "    .dataframe thead th {\n",
       "        text-align: right;\n",
       "    }\n",
       "</style>\n",
       "<table border=\"1\" class=\"dataframe\">\n",
       "  <thead>\n",
       "    <tr style=\"text-align: right;\">\n",
       "      <th></th>\n",
       "      <th>0</th>\n",
       "      <th>1</th>\n",
       "      <th>2</th>\n",
       "      <th>3</th>\n",
       "      <th>4</th>\n",
       "      <th>5</th>\n",
       "      <th>6</th>\n",
       "      <th>7</th>\n",
       "      <th>8</th>\n",
       "      <th>9</th>\n",
       "      <th>10</th>\n",
       "      <th>11</th>\n",
       "      <th>12</th>\n",
       "      <th>13</th>\n",
       "      <th>14</th>\n",
       "      <th>15</th>\n",
       "      <th>16</th>\n",
       "      <th>17</th>\n",
       "    </tr>\n",
       "  </thead>\n",
       "  <tbody>\n",
       "    <tr>\n",
       "      <th>61</th>\n",
       "      <td>1998/12/28 1826</td>\n",
       "      <td>1998/12/29 1800</td>\n",
       "      <td>1998/12/31 0200</td>\n",
       "      <td>0</td>\n",
       "      <td>0</td>\n",
       "      <td>...</td>\n",
       "      <td>...</td>\n",
       "      <td>N</td>\n",
       "      <td>...</td>\n",
       "      <td>2</td>\n",
       "      <td>30 S</td>\n",
       "      <td>400</td>\n",
       "      <td>410</td>\n",
       "      <td>8</td>\n",
       "      <td>0</td>\n",
       "      <td>-58</td>\n",
       "      <td>dg</td>\n",
       "      <td>dg</td>\n",
       "    </tr>\n",
       "    <tr>\n",
       "      <th>62</th>\n",
       "      <td>1999/01/04 0000</td>\n",
       "      <td>1999/01/04 0400</td>\n",
       "      <td>1999/01/04 2200</td>\n",
       "      <td>ns</td>\n",
       "      <td>ns</td>\n",
       "      <td>...</td>\n",
       "      <td>...</td>\n",
       "      <td>Y</td>\n",
       "      <td>...</td>\n",
       "      <td>3W</td>\n",
       "      <td>20</td>\n",
       "      <td>350</td>\n",
       "      <td>360</td>\n",
       "      <td>8</td>\n",
       "      <td>0</td>\n",
       "      <td>-29</td>\n",
       "      <td>dg</td>\n",
       "      <td>dg</td>\n",
       "    </tr>\n",
       "    <tr>\n",
       "      <th>63</th>\n",
       "      <td>1999/01/13 1054</td>\n",
       "      <td>1999/01/13 1500</td>\n",
       "      <td>1999/01/13 2300</td>\n",
       "      <td>0</td>\n",
       "      <td>0</td>\n",
       "      <td>...</td>\n",
       "      <td>...</td>\n",
       "      <td>N</td>\n",
       "      <td>...</td>\n",
       "      <td>2</td>\n",
       "      <td>70 S</td>\n",
       "      <td>420</td>\n",
       "      <td>430</td>\n",
       "      <td>18</td>\n",
       "      <td>0</td>\n",
       "      <td>-112</td>\n",
       "      <td>dg</td>\n",
       "      <td>dg</td>\n",
       "    </tr>\n",
       "    <tr>\n",
       "      <th>64</th>\n",
       "      <td>1999/01/22 1950(A)</td>\n",
       "      <td>1999/01/23 0900</td>\n",
       "      <td>1999/01/23 1800</td>\n",
       "      <td>nc</td>\n",
       "      <td>0</td>\n",
       "      <td>...</td>\n",
       "      <td>...</td>\n",
       "      <td>Y</td>\n",
       "      <td>...</td>\n",
       "      <td>3</td>\n",
       "      <td>120 S</td>\n",
       "      <td>570</td>\n",
       "      <td>660</td>\n",
       "      <td>12</td>\n",
       "      <td>0</td>\n",
       "      <td>-52</td>\n",
       "      <td>dg</td>\n",
       "      <td>dg</td>\n",
       "    </tr>\n",
       "    <tr>\n",
       "      <th>65</th>\n",
       "      <td>1999/02/13 1900</td>\n",
       "      <td>1999/02/13 1900</td>\n",
       "      <td>1999/02/14 1500</td>\n",
       "      <td>0</td>\n",
       "      <td>-3</td>\n",
       "      <td>...</td>\n",
       "      <td>...</td>\n",
       "      <td>N</td>\n",
       "      <td>...</td>\n",
       "      <td>3W</td>\n",
       "      <td>20</td>\n",
       "      <td>440</td>\n",
       "      <td>470</td>\n",
       "      <td>9</td>\n",
       "      <td>0</td>\n",
       "      <td>-17</td>\n",
       "      <td>...</td>\n",
       "      <td></td>\n",
       "    </tr>\n",
       "  </tbody>\n",
       "</table>\n",
       "</div>"
      ],
      "text/plain": [
       "                    0                1                2   3   4    5    6  7   \\\n",
       "61     1998/12/28 1826  1998/12/29 1800  1998/12/31 0200   0   0  ...  ...  N   \n",
       "62     1999/01/04 0000  1999/01/04 0400  1999/01/04 2200  ns  ns  ...  ...  Y   \n",
       "63     1999/01/13 1054  1999/01/13 1500  1999/01/13 2300   0   0  ...  ...  N   \n",
       "64  1999/01/22 1950(A)  1999/01/23 0900  1999/01/23 1800  nc   0  ...  ...  Y   \n",
       "65     1999/02/13 1900  1999/02/13 1900  1999/02/14 1500   0  -3  ...  ...  N   \n",
       "\n",
       "     8   9      10   11   12  13 14    15   16  17  \n",
       "61  ...   2   30 S  400  410   8  0   -58   dg  dg  \n",
       "62  ...  3W     20  350  360   8  0   -29   dg  dg  \n",
       "63  ...   2   70 S  420  430  18  0  -112   dg  dg  \n",
       "64  ...   3  120 S  570  660  12  0   -52   dg  dg  \n",
       "65  ...  3W     20  440  470   9  0   -17  ...      "
      ]
     },
     "execution_count": 381,
     "metadata": {},
     "output_type": "execute_result"
    }
   ],
   "source": [
    "real_data_pd.tail()"
   ]
  },
  {
   "cell_type": "code",
   "execution_count": 368,
   "metadata": {},
   "outputs": [
    {
     "name": "stdout",
     "output_type": "stream",
     "text": [
      "<class 'pandas.core.frame.DataFrame'>\n",
      "RangeIndex: 66 entries, 0 to 65\n",
      "Data columns (total 18 columns):\n",
      "0     66 non-null object\n",
      "1     66 non-null object\n",
      "2     66 non-null object\n",
      "3     66 non-null object\n",
      "4     66 non-null object\n",
      "5     66 non-null object\n",
      "6     66 non-null object\n",
      "7     66 non-null object\n",
      "8     66 non-null object\n",
      "9     66 non-null object\n",
      "10    66 non-null object\n",
      "11    66 non-null object\n",
      "12    66 non-null object\n",
      "13    66 non-null object\n",
      "14    66 non-null object\n",
      "15    66 non-null object\n",
      "16    66 non-null object\n",
      "17    66 non-null object\n",
      "dtypes: object(18)\n",
      "memory usage: 9.4+ KB\n"
     ]
    }
   ],
   "source": [
    "real_data_pd.info()"
   ]
  },
  {
   "cell_type": "code",
   "execution_count": 373,
   "metadata": {},
   "outputs": [
    {
     "data": {
      "text/html": [
       "<div>\n",
       "<style scoped>\n",
       "    .dataframe tbody tr th:only-of-type {\n",
       "        vertical-align: middle;\n",
       "    }\n",
       "\n",
       "    .dataframe tbody tr th {\n",
       "        vertical-align: top;\n",
       "    }\n",
       "\n",
       "    .dataframe thead th {\n",
       "        text-align: right;\n",
       "    }\n",
       "</style>\n",
       "<table border=\"1\" class=\"dataframe\">\n",
       "  <thead>\n",
       "    <tr style=\"text-align: right;\">\n",
       "      <th></th>\n",
       "      <th>count</th>\n",
       "      <th>unique</th>\n",
       "      <th>top</th>\n",
       "      <th>freq</th>\n",
       "    </tr>\n",
       "  </thead>\n",
       "  <tbody>\n",
       "    <tr>\n",
       "      <th>0</th>\n",
       "      <td>66</td>\n",
       "      <td>66</td>\n",
       "      <td>1998/08/01 0400</td>\n",
       "      <td>1</td>\n",
       "    </tr>\n",
       "    <tr>\n",
       "      <th>1</th>\n",
       "      <td>66</td>\n",
       "      <td>66</td>\n",
       "      <td>1998/08/01 0400</td>\n",
       "      <td>1</td>\n",
       "    </tr>\n",
       "    <tr>\n",
       "      <th>2</th>\n",
       "      <td>66</td>\n",
       "      <td>66</td>\n",
       "      <td>1998/10/20 0700</td>\n",
       "      <td>1</td>\n",
       "    </tr>\n",
       "    <tr>\n",
       "      <th>3</th>\n",
       "      <td>66</td>\n",
       "      <td>9</td>\n",
       "      <td>...</td>\n",
       "      <td>38</td>\n",
       "    </tr>\n",
       "    <tr>\n",
       "      <th>4</th>\n",
       "      <td>66</td>\n",
       "      <td>9</td>\n",
       "      <td>...</td>\n",
       "      <td>41</td>\n",
       "    </tr>\n",
       "    <tr>\n",
       "      <th>5</th>\n",
       "      <td>66</td>\n",
       "      <td>10</td>\n",
       "      <td>...</td>\n",
       "      <td>35</td>\n",
       "    </tr>\n",
       "    <tr>\n",
       "      <th>6</th>\n",
       "      <td>66</td>\n",
       "      <td>16</td>\n",
       "      <td>...</td>\n",
       "      <td>35</td>\n",
       "    </tr>\n",
       "    <tr>\n",
       "      <th>7</th>\n",
       "      <td>66</td>\n",
       "      <td>3</td>\n",
       "      <td>Y</td>\n",
       "      <td>44</td>\n",
       "    </tr>\n",
       "    <tr>\n",
       "      <th>8</th>\n",
       "      <td>66</td>\n",
       "      <td>4</td>\n",
       "      <td>...</td>\n",
       "      <td>42</td>\n",
       "    </tr>\n",
       "    <tr>\n",
       "      <th>9</th>\n",
       "      <td>66</td>\n",
       "      <td>5</td>\n",
       "      <td>2</td>\n",
       "      <td>29</td>\n",
       "    </tr>\n",
       "    <tr>\n",
       "      <th>10</th>\n",
       "      <td>66</td>\n",
       "      <td>28</td>\n",
       "      <td>20</td>\n",
       "      <td>7</td>\n",
       "    </tr>\n",
       "    <tr>\n",
       "      <th>11</th>\n",
       "      <td>66</td>\n",
       "      <td>23</td>\n",
       "      <td>450</td>\n",
       "      <td>11</td>\n",
       "    </tr>\n",
       "    <tr>\n",
       "      <th>12</th>\n",
       "      <td>66</td>\n",
       "      <td>28</td>\n",
       "      <td>400</td>\n",
       "      <td>6</td>\n",
       "    </tr>\n",
       "    <tr>\n",
       "      <th>13</th>\n",
       "      <td>66</td>\n",
       "      <td>16</td>\n",
       "      <td>12</td>\n",
       "      <td>10</td>\n",
       "    </tr>\n",
       "    <tr>\n",
       "      <th>14</th>\n",
       "      <td>66</td>\n",
       "      <td>4</td>\n",
       "      <td>2</td>\n",
       "      <td>28</td>\n",
       "    </tr>\n",
       "    <tr>\n",
       "      <th>15</th>\n",
       "      <td>66</td>\n",
       "      <td>54</td>\n",
       "      <td>-36</td>\n",
       "      <td>3</td>\n",
       "    </tr>\n",
       "    <tr>\n",
       "      <th>16</th>\n",
       "      <td>66</td>\n",
       "      <td>28</td>\n",
       "      <td>...</td>\n",
       "      <td>24</td>\n",
       "    </tr>\n",
       "    <tr>\n",
       "      <th>17</th>\n",
       "      <td>66</td>\n",
       "      <td>32</td>\n",
       "      <td></td>\n",
       "      <td>23</td>\n",
       "    </tr>\n",
       "  </tbody>\n",
       "</table>\n",
       "</div>"
      ],
      "text/plain": [
       "   count unique              top freq\n",
       "0     66     66  1998/08/01 0400    1\n",
       "1     66     66  1998/08/01 0400    1\n",
       "2     66     66  1998/10/20 0700    1\n",
       "3     66      9              ...   38\n",
       "4     66      9              ...   41\n",
       "5     66     10              ...   35\n",
       "6     66     16              ...   35\n",
       "7     66      3                Y   44\n",
       "8     66      4              ...   42\n",
       "9     66      5                2   29\n",
       "10    66     28               20    7\n",
       "11    66     23              450   11\n",
       "12    66     28              400    6\n",
       "13    66     16               12   10\n",
       "14    66      4                2   28\n",
       "15    66     54              -36    3\n",
       "16    66     28              ...   24\n",
       "17    66     32                    23"
      ]
     },
     "execution_count": 373,
     "metadata": {},
     "output_type": "execute_result"
    }
   ],
   "source": [
    "real_data_pd.describe().T"
   ]
  },
  {
   "cell_type": "markdown",
   "metadata": {},
   "source": [
    "## Save data"
   ]
  },
  {
   "cell_type": "code",
   "execution_count": 374,
   "metadata": {},
   "outputs": [],
   "source": [
    "file_path = \"../Data/\"\n",
    "file_name = \"Data_ICME_scraped.csv\"\n",
    "real_data_pd.to_csv(file_path+file_name)"
   ]
  },
  {
   "cell_type": "markdown",
   "metadata": {},
   "source": [
    "I need to work on the rest of the data and in a similar fashion extract the rest of it."
   ]
  },
  {
   "cell_type": "code",
   "execution_count": 377,
   "metadata": {},
   "outputs": [],
   "source": [
    "# csv_path = \"../Data/Data_ICME_scraped.csv\"\n",
    "# df = pd.read_csv(csv_path, index_col='0', parse_dates=True)"
   ]
  },
  {
   "cell_type": "code",
   "execution_count": null,
   "metadata": {},
   "outputs": [],
   "source": []
  }
 ],
 "metadata": {
  "kernelspec": {
   "display_name": "Python 3",
   "language": "python",
   "name": "python3"
  },
  "language_info": {
   "codemirror_mode": {
    "name": "ipython",
    "version": 3
   },
   "file_extension": ".py",
   "mimetype": "text/x-python",
   "name": "python",
   "nbconvert_exporter": "python",
   "pygments_lexer": "ipython3",
   "version": "3.7.0"
  }
 },
 "nbformat": 4,
 "nbformat_minor": 5
}

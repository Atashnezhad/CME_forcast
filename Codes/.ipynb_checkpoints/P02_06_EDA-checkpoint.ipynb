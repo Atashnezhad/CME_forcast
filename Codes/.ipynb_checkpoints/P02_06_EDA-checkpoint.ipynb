{
 "cells": [
  {
   "cell_type": "markdown",
   "metadata": {},
   "source": [
    "# P02_06_EDA"
   ]
  },
  {
   "cell_type": "code",
   "execution_count": 1,
   "metadata": {},
   "outputs": [],
   "source": [
    "section_fig_main_title = 'P02_06_EDA_'"
   ]
  },
  {
   "cell_type": "code",
   "execution_count": 2,
   "metadata": {},
   "outputs": [],
   "source": [
    "import os, sys\n",
    "import requests\n",
    "from urllib.parse import urljoin, urlparse\n",
    "from bs4 import BeautifulSoup as bs\n",
    "import re\n",
    "import pandas as pd\n",
    "import matplotlib.pyplot as plt\n",
    "import seaborn as sns\n",
    "%config InlineBackend.figure_format = 'retina'\n",
    "from pandas.plotting import lag_plot"
   ]
  },
  {
   "cell_type": "code",
   "execution_count": 3,
   "metadata": {},
   "outputs": [],
   "source": [
    "from numpy import mean\n",
    "import numpy as np\n",
    "from numpy import absolute\n",
    "from numpy import loadtxt\n",
    "from sklearn.model_selection import cross_val_score\n",
    "from sklearn.model_selection import RepeatedKFold\n",
    "from sklearn.pipeline import Pipeline\n",
    "from sklearn.linear_model import HuberRegressor\n",
    "from sklearn.preprocessing import PowerTransformer\n",
    "from sklearn.preprocessing import MinMaxScaler\n",
    "from sklearn.compose import TransformedTargetRegressor"
   ]
  },
  {
   "cell_type": "code",
   "execution_count": 4,
   "metadata": {},
   "outputs": [],
   "source": [
    "from pandas.plotting import autocorrelation_plot\n",
    "from sklearn.feature_selection import VarianceThreshold"
   ]
  },
  {
   "cell_type": "code",
   "execution_count": 5,
   "metadata": {},
   "outputs": [],
   "source": [
    "import warnings\n",
    "warnings.filterwarnings('ignore')"
   ]
  },
  {
   "cell_type": "code",
   "execution_count": 6,
   "metadata": {},
   "outputs": [],
   "source": [
    "from sklearn.linear_model import LinearRegression\n",
    "from sklearn.preprocessing import StandardScaler, PolynomialFeatures"
   ]
  },
  {
   "cell_type": "code",
   "execution_count": 7,
   "metadata": {},
   "outputs": [],
   "source": [
    "from sklearn import metrics\n",
    "import statsmodels.api as sm"
   ]
  },
  {
   "cell_type": "markdown",
   "metadata": {},
   "source": [
    "## Read Data\n",
    "\n",
    "the page html file downloaded in Data directory and it is loaded below."
   ]
  },
  {
   "cell_type": "code",
   "execution_count": 8,
   "metadata": {},
   "outputs": [],
   "source": [
    "# csv_path = \"../Data/Data_ICME_scraped.csv\"\n",
    "# data = pd.read_csv(csv_path, parse_dates=True)\n",
    "\n",
    "csv_path = \"../Data/P02_05_EDA_Data.csv\"\n",
    "data = pd.read_csv(csv_path, parse_dates=True, infer_datetime_format=True)"
   ]
  },
  {
   "cell_type": "code",
   "execution_count": 9,
   "metadata": {},
   "outputs": [
    {
     "data": {
      "text/html": [
       "<div>\n",
       "<style scoped>\n",
       "    .dataframe tbody tr th:only-of-type {\n",
       "        vertical-align: middle;\n",
       "    }\n",
       "\n",
       "    .dataframe tbody tr th {\n",
       "        vertical-align: top;\n",
       "    }\n",
       "\n",
       "    .dataframe thead th {\n",
       "        text-align: right;\n",
       "    }\n",
       "</style>\n",
       "<table border=\"1\" class=\"dataframe\">\n",
       "  <thead>\n",
       "    <tr style=\"text-align: right;\">\n",
       "      <th></th>\n",
       "      <th>ICME Plasma/Field Start Y/M/D (UT) (b)</th>\n",
       "      <th>Evidence of BiDirectional suprathermal Electron strahls (BDE)</th>\n",
       "      <th>\"quality\" of the boundary times</th>\n",
       "      <th>Increase in solar wind speed at the upstream disturbance (shock/wave)</th>\n",
       "      <th>solar wind speed km/s</th>\n",
       "      <th>Mean magnetic field strength in the ICME</th>\n",
       "      <th>magnetic cloud has been reported</th>\n",
       "      <th>minimum value of the geomagnetic</th>\n",
       "      <th>Mean 1 AU transit speed of the disturbance</th>\n",
       "      <th>forward fast shock happens</th>\n",
       "      <th>\"quality\" of the boundary times*</th>\n",
       "      <th>Evidence of BiDirectional suprathermal Electron strahls (BDE)*</th>\n",
       "      <th>Increase in solar wind speed at the upstream disturbance (shock/wave)*</th>\n",
       "      <th>magnetic cloud has been reported*</th>\n",
       "      <th>minimum value of the geomagnetic*</th>\n",
       "      <th>Mean 1 AU transit speed of the disturbance*</th>\n",
       "    </tr>\n",
       "  </thead>\n",
       "  <tbody>\n",
       "    <tr>\n",
       "      <th>0</th>\n",
       "      <td>1996-05-27 15:00:00</td>\n",
       "      <td>N</td>\n",
       "      <td>2</td>\n",
       "      <td>0</td>\n",
       "      <td>370</td>\n",
       "      <td>9</td>\n",
       "      <td>2</td>\n",
       "      <td>-33</td>\n",
       "      <td>...</td>\n",
       "      <td>No</td>\n",
       "      <td>2.0</td>\n",
       "      <td>no Evidence</td>\n",
       "      <td>0</td>\n",
       "      <td>magnetic cloud has been reported</td>\n",
       "      <td>-33</td>\n",
       "      <td>0</td>\n",
       "    </tr>\n",
       "    <tr>\n",
       "      <th>1</th>\n",
       "      <td>1996-07-01 18:00:00</td>\n",
       "      <td>N</td>\n",
       "      <td>3</td>\n",
       "      <td>40</td>\n",
       "      <td>360</td>\n",
       "      <td>11</td>\n",
       "      <td>2</td>\n",
       "      <td>-20</td>\n",
       "      <td>...</td>\n",
       "      <td>No</td>\n",
       "      <td>3.0</td>\n",
       "      <td>no Evidence</td>\n",
       "      <td>40</td>\n",
       "      <td>magnetic cloud has been reported</td>\n",
       "      <td>-20</td>\n",
       "      <td>0</td>\n",
       "    </tr>\n",
       "  </tbody>\n",
       "</table>\n",
       "</div>"
      ],
      "text/plain": [
       "  ICME Plasma/Field Start Y/M/D (UT) (b)  \\\n",
       "0                    1996-05-27 15:00:00   \n",
       "1                    1996-07-01 18:00:00   \n",
       "\n",
       "  Evidence of BiDirectional suprathermal Electron strahls (BDE)  \\\n",
       "0                                                  N              \n",
       "1                                                  N              \n",
       "\n",
       "  \"quality\" of the boundary times  \\\n",
       "0                               2   \n",
       "1                               3   \n",
       "\n",
       "  Increase in solar wind speed at the upstream disturbance (shock/wave)  \\\n",
       "0                                                  0                      \n",
       "1                                                 40                      \n",
       "\n",
       "   solar wind speed km/s  Mean magnetic field strength in the ICME  \\\n",
       "0                    370                                         9   \n",
       "1                    360                                        11   \n",
       "\n",
       "  magnetic cloud has been reported minimum value of the geomagnetic  \\\n",
       "0                                2                              -33   \n",
       "1                                2                              -20   \n",
       "\n",
       "  Mean 1 AU transit speed of the disturbance forward fast shock happens  \\\n",
       "0                                        ...                         No   \n",
       "1                                        ...                         No   \n",
       "\n",
       "   \"quality\" of the boundary times*  \\\n",
       "0                               2.0   \n",
       "1                               3.0   \n",
       "\n",
       "  Evidence of BiDirectional suprathermal Electron strahls (BDE)*  \\\n",
       "0                                        no Evidence               \n",
       "1                                        no Evidence               \n",
       "\n",
       "   Increase in solar wind speed at the upstream disturbance (shock/wave)*  \\\n",
       "0                                                  0                        \n",
       "1                                                 40                        \n",
       "\n",
       "  magnetic cloud has been reported*  minimum value of the geomagnetic*  \\\n",
       "0  magnetic cloud has been reported                                -33   \n",
       "1  magnetic cloud has been reported                                -20   \n",
       "\n",
       "   Mean 1 AU transit speed of the disturbance*  \n",
       "0                                            0  \n",
       "1                                            0  "
      ]
     },
     "execution_count": 9,
     "metadata": {},
     "output_type": "execute_result"
    }
   ],
   "source": [
    "data.head(2)"
   ]
  },
  {
   "cell_type": "code",
   "execution_count": 10,
   "metadata": {},
   "outputs": [],
   "source": [
    "keep_cols = ['ICME Plasma/Field Start Y/M/D (UT) (b)',\n",
    "             'solar wind speed km/s',\n",
    "       'forward fast shock happens', '\"quality\" of the boundary times*',\n",
    "       'Evidence of BiDirectional suprathermal Electron strahls (BDE)*',\n",
    "       'Increase in solar wind speed at the upstream disturbance (shock/wave)*',\n",
    "       'magnetic cloud has been reported*',\n",
    "       'minimum value of the geomagnetic*',\n",
    "       'Mean 1 AU transit speed of the disturbance*']\n",
    "data = data[keep_cols]"
   ]
  },
  {
   "cell_type": "code",
   "execution_count": 11,
   "metadata": {},
   "outputs": [
    {
     "data": {
      "text/html": [
       "<div>\n",
       "<style scoped>\n",
       "    .dataframe tbody tr th:only-of-type {\n",
       "        vertical-align: middle;\n",
       "    }\n",
       "\n",
       "    .dataframe tbody tr th {\n",
       "        vertical-align: top;\n",
       "    }\n",
       "\n",
       "    .dataframe thead th {\n",
       "        text-align: right;\n",
       "    }\n",
       "</style>\n",
       "<table border=\"1\" class=\"dataframe\">\n",
       "  <thead>\n",
       "    <tr style=\"text-align: right;\">\n",
       "      <th></th>\n",
       "      <th>ICME Plasma/Field Start Y/M/D (UT) (b)</th>\n",
       "      <th>solar wind speed km/s</th>\n",
       "      <th>forward fast shock happens</th>\n",
       "      <th>\"quality\" of the boundary times*</th>\n",
       "      <th>Evidence of BiDirectional suprathermal Electron strahls (BDE)*</th>\n",
       "      <th>Increase in solar wind speed at the upstream disturbance (shock/wave)*</th>\n",
       "      <th>magnetic cloud has been reported*</th>\n",
       "      <th>minimum value of the geomagnetic*</th>\n",
       "      <th>Mean 1 AU transit speed of the disturbance*</th>\n",
       "    </tr>\n",
       "  </thead>\n",
       "  <tbody>\n",
       "    <tr>\n",
       "      <th>0</th>\n",
       "      <td>1996-05-27 15:00:00</td>\n",
       "      <td>370</td>\n",
       "      <td>No</td>\n",
       "      <td>2.0</td>\n",
       "      <td>no Evidence</td>\n",
       "      <td>0</td>\n",
       "      <td>magnetic cloud has been reported</td>\n",
       "      <td>-33</td>\n",
       "      <td>0</td>\n",
       "    </tr>\n",
       "    <tr>\n",
       "      <th>1</th>\n",
       "      <td>1996-07-01 18:00:00</td>\n",
       "      <td>360</td>\n",
       "      <td>No</td>\n",
       "      <td>3.0</td>\n",
       "      <td>no Evidence</td>\n",
       "      <td>40</td>\n",
       "      <td>magnetic cloud has been reported</td>\n",
       "      <td>-20</td>\n",
       "      <td>0</td>\n",
       "    </tr>\n",
       "    <tr>\n",
       "      <th>2</th>\n",
       "      <td>1996-08-07 12:00:00</td>\n",
       "      <td>350</td>\n",
       "      <td>No</td>\n",
       "      <td>2.0</td>\n",
       "      <td>no Evidence</td>\n",
       "      <td>10</td>\n",
       "      <td>magnetic cloud has been reported</td>\n",
       "      <td>-23</td>\n",
       "      <td>0</td>\n",
       "    </tr>\n",
       "    <tr>\n",
       "      <th>3</th>\n",
       "      <td>1996-12-23 17:00:00</td>\n",
       "      <td>360</td>\n",
       "      <td>No</td>\n",
       "      <td>2.0</td>\n",
       "      <td>no Evidence</td>\n",
       "      <td>20</td>\n",
       "      <td>magnetic cloud has been reported</td>\n",
       "      <td>-18</td>\n",
       "      <td>435</td>\n",
       "    </tr>\n",
       "    <tr>\n",
       "      <th>4</th>\n",
       "      <td>1997-01-10 04:00:00</td>\n",
       "      <td>450</td>\n",
       "      <td>Yes</td>\n",
       "      <td>1.0</td>\n",
       "      <td>some Evidence</td>\n",
       "      <td>100</td>\n",
       "      <td>magnetic cloud has been reported</td>\n",
       "      <td>-78</td>\n",
       "      <td>507</td>\n",
       "    </tr>\n",
       "  </tbody>\n",
       "</table>\n",
       "</div>"
      ],
      "text/plain": [
       "  ICME Plasma/Field Start Y/M/D (UT) (b)  solar wind speed km/s  \\\n",
       "0                    1996-05-27 15:00:00                    370   \n",
       "1                    1996-07-01 18:00:00                    360   \n",
       "2                    1996-08-07 12:00:00                    350   \n",
       "3                    1996-12-23 17:00:00                    360   \n",
       "4                    1997-01-10 04:00:00                    450   \n",
       "\n",
       "  forward fast shock happens  \"quality\" of the boundary times*  \\\n",
       "0                         No                               2.0   \n",
       "1                         No                               3.0   \n",
       "2                         No                               2.0   \n",
       "3                         No                               2.0   \n",
       "4                        Yes                               1.0   \n",
       "\n",
       "  Evidence of BiDirectional suprathermal Electron strahls (BDE)*  \\\n",
       "0                                        no Evidence               \n",
       "1                                        no Evidence               \n",
       "2                                        no Evidence               \n",
       "3                                        no Evidence               \n",
       "4                                      some Evidence               \n",
       "\n",
       "   Increase in solar wind speed at the upstream disturbance (shock/wave)*  \\\n",
       "0                                                  0                        \n",
       "1                                                 40                        \n",
       "2                                                 10                        \n",
       "3                                                 20                        \n",
       "4                                                100                        \n",
       "\n",
       "  magnetic cloud has been reported*  minimum value of the geomagnetic*  \\\n",
       "0  magnetic cloud has been reported                                -33   \n",
       "1  magnetic cloud has been reported                                -20   \n",
       "2  magnetic cloud has been reported                                -23   \n",
       "3  magnetic cloud has been reported                                -18   \n",
       "4  magnetic cloud has been reported                                -78   \n",
       "\n",
       "   Mean 1 AU transit speed of the disturbance*  \n",
       "0                                            0  \n",
       "1                                            0  \n",
       "2                                            0  \n",
       "3                                          435  \n",
       "4                                          507  "
      ]
     },
     "execution_count": 11,
     "metadata": {},
     "output_type": "execute_result"
    }
   ],
   "source": [
    "data.head()"
   ]
  },
  {
   "cell_type": "code",
   "execution_count": 12,
   "metadata": {},
   "outputs": [
    {
     "name": "stdout",
     "output_type": "stream",
     "text": [
      "solar wind speed km/s =  51 \n",
      "\n",
      "solar wind speed km/s =  [ 370  360  350  450  460  340  380  400  390  410  440  430  500  510\n",
      "  530  320  520  550  470  650  420  640  570  540  490  670  620  480\n",
      "  560  610  780  740  580  600  790  290  730  330  720  590  680 1300\n",
      "  800  870  630  810  900  750  310  660  300] \n",
      "\n",
      "\n",
      "forward fast shock happens =  2 \n",
      "\n",
      "forward fast shock happens =  ['No' 'Yes'] \n",
      "\n",
      "\n",
      "\"quality\" of the boundary times* =  5 \n",
      "\n",
      "\"quality\" of the boundary times* =  [2.  3.  1.  2.5 3.5] \n",
      "\n",
      "\n",
      "Evidence of BiDirectional suprathermal Electron strahls (BDE)* =  3 \n",
      "\n",
      "Evidence of BiDirectional suprathermal Electron strahls (BDE)* =  ['no Evidence' 'some Evidence' nan\n",
      " 'intense solar energetic particle event was in progress at the time of ICME passage and electron flows therefore cannot be determined'] \n",
      "\n",
      "\n",
      "Increase in solar wind speed at the upstream disturbance (shock/wave)* =  38 \n",
      "\n",
      "Increase in solar wind speed at the upstream disturbance (shock/wave)* =  [  0  40  10  20 100  90 150  70  30  60  80 110 140 170  50 250 200 300\n",
      " 130 120 180 280 220 260 350 230 400 550 160 210 650 340 900 750 240 320\n",
      " 270 190] \n",
      "\n",
      "\n",
      "magnetic cloud has been reported* =  4 \n",
      "\n",
      "magnetic cloud has been reported* =  ['magnetic cloud has been reported'\n",
      " 'magnetic cloud has been reported&\\nevent reported by Huttunen et al. Ann Geophys'\n",
      " 'magnetic cloud has not been reported'\n",
      " 'evidence of a rotation in field direction, but lacks some other characteristics of a magnetic cloud'] \n",
      "\n",
      "\n",
      "minimum value of the geomagnetic* =  159 \n",
      "\n",
      "minimum value of the geomagnetic* =  [ -33  -20  -23  -18  -78  -68  -82 -107 -115  -74  -84  -36  -45  -48\n",
      "  -28  -98  -64 -130  -60 -110 -108  -47  -77  -29  -11  -55  -34 -100\n",
      "  -51  -56  -35  -46  -85 -205   -1  -25 -101  -30   -6 -138  -62  -27\n",
      "  -19  -67 -155 -207 -112  -52  -81 -149 -131  -15  -58  -17   -7 -123\n",
      "  -91  -13  -41  -26   -4  -38  -39  -16  -66 -173 -237  -69 -106   -8\n",
      "  -97 -133  -43   -3 -288  -14  -61  -37  -10   -2  -32  -92 -147  -90\n",
      "  -12  -76    0  -57 -301  -93  -42  -71 -235 -201 -143 -182 -127 -159\n",
      "  -80 -119  -73  -87 -387  -50  -59 -271 -114 -102 -105  -40  -24 -148\n",
      " -104 -166 -187 -157 -292 -221 -109  -21 -181 -176 -146  -75  -72  -49\n",
      " -144  -63 -141 -353 -383 -422 -117  -99 -136 -170 -129 -374 -263  -65\n",
      " -247  -83 -113 -139  -88  -86  -22  -79 -162  -31   -5 -118 -145 -120\n",
      " -122    1    9 -132  -95] \n",
      "\n",
      "\n",
      "Mean 1 AU transit speed of the disturbance* =  122 \n",
      "\n",
      "Mean 1 AU transit speed of the disturbance* =  [   0  435  507  683  552  616  381  410  405  450  580  430  572  640\n",
      "  460  480  557  602  440  780 1150 1260 1020  510  570  740  520  870\n",
      "  760  620  560  710  615  770  561  530  630  915  815  860  603  500\n",
      "  830  650  403 1007  609  940 1500  490  550  418  756  590  565  660\n",
      " 1200  720  380  680  610  850  690  700 1050 1290  990 1040  790  715\n",
      "  417  694 1250 1320  667  625  750  863  420 1323  955  766  880  910\n",
      "  820  999 1078 1331 2185 2138  886  920  890 1302  960 1080 1170 1210\n",
      " 1270  488  477  840 1423  540 1180  980  437  350  400  600  360  670\n",
      " 1100 1220  370  730  470  563  800  810  330  300] \n",
      "\n",
      "\n"
     ]
    }
   ],
   "source": [
    "for col in data.columns:\n",
    "    if col != 'ICME Plasma/Field Start Y/M/D (UT) (b)':\n",
    "        print(f'{col} = ', data[col].nunique(),'\\n')\n",
    "        print(f'{col} = ', data[col].unique(), '\\n\\n')"
   ]
  },
  {
   "cell_type": "code",
   "execution_count": 13,
   "metadata": {},
   "outputs": [
    {
     "data": {
      "text/plain": [
       "Index(['ICME Plasma/Field Start Y/M/D (UT) (b)', 'solar wind speed km/s',\n",
       "       'forward fast shock happens', '\"quality\" of the boundary times*',\n",
       "       'Evidence of BiDirectional suprathermal Electron strahls (BDE)*',\n",
       "       'Increase in solar wind speed at the upstream disturbance (shock/wave)*',\n",
       "       'magnetic cloud has been reported*',\n",
       "       'minimum value of the geomagnetic*',\n",
       "       'Mean 1 AU transit speed of the disturbance*'],\n",
       "      dtype='object')"
      ]
     },
     "execution_count": 13,
     "metadata": {},
     "output_type": "execute_result"
    }
   ],
   "source": [
    "data.columns"
   ]
  },
  {
   "cell_type": "code",
   "execution_count": 14,
   "metadata": {},
   "outputs": [],
   "source": [
    "data_2 = data.dropna()"
   ]
  },
  {
   "cell_type": "code",
   "execution_count": 15,
   "metadata": {},
   "outputs": [
    {
     "data": {
      "text/html": [
       "<div>\n",
       "<style scoped>\n",
       "    .dataframe tbody tr th:only-of-type {\n",
       "        vertical-align: middle;\n",
       "    }\n",
       "\n",
       "    .dataframe tbody tr th {\n",
       "        vertical-align: top;\n",
       "    }\n",
       "\n",
       "    .dataframe thead th {\n",
       "        text-align: right;\n",
       "    }\n",
       "</style>\n",
       "<table border=\"1\" class=\"dataframe\">\n",
       "  <thead>\n",
       "    <tr style=\"text-align: right;\">\n",
       "      <th></th>\n",
       "      <th>ICME Plasma/Field Start Y/M/D (UT) (b)</th>\n",
       "      <th>solar wind speed km/s</th>\n",
       "      <th>forward fast shock happens</th>\n",
       "      <th>\"quality\" of the boundary times*</th>\n",
       "      <th>Evidence of BiDirectional suprathermal Electron strahls (BDE)*</th>\n",
       "      <th>Increase in solar wind speed at the upstream disturbance (shock/wave)*</th>\n",
       "      <th>magnetic cloud has been reported*</th>\n",
       "      <th>minimum value of the geomagnetic*</th>\n",
       "      <th>Mean 1 AU transit speed of the disturbance*</th>\n",
       "    </tr>\n",
       "  </thead>\n",
       "  <tbody>\n",
       "    <tr>\n",
       "      <th>0</th>\n",
       "      <td>1996-05-27 15:00:00</td>\n",
       "      <td>370</td>\n",
       "      <td>No</td>\n",
       "      <td>2.0</td>\n",
       "      <td>no Evidence</td>\n",
       "      <td>0</td>\n",
       "      <td>magnetic cloud has been reported</td>\n",
       "      <td>-33</td>\n",
       "      <td>0</td>\n",
       "    </tr>\n",
       "    <tr>\n",
       "      <th>1</th>\n",
       "      <td>1996-07-01 18:00:00</td>\n",
       "      <td>360</td>\n",
       "      <td>No</td>\n",
       "      <td>3.0</td>\n",
       "      <td>no Evidence</td>\n",
       "      <td>40</td>\n",
       "      <td>magnetic cloud has been reported</td>\n",
       "      <td>-20</td>\n",
       "      <td>0</td>\n",
       "    </tr>\n",
       "  </tbody>\n",
       "</table>\n",
       "</div>"
      ],
      "text/plain": [
       "  ICME Plasma/Field Start Y/M/D (UT) (b)  solar wind speed km/s  \\\n",
       "0                    1996-05-27 15:00:00                    370   \n",
       "1                    1996-07-01 18:00:00                    360   \n",
       "\n",
       "  forward fast shock happens  \"quality\" of the boundary times*  \\\n",
       "0                         No                               2.0   \n",
       "1                         No                               3.0   \n",
       "\n",
       "  Evidence of BiDirectional suprathermal Electron strahls (BDE)*  \\\n",
       "0                                        no Evidence               \n",
       "1                                        no Evidence               \n",
       "\n",
       "   Increase in solar wind speed at the upstream disturbance (shock/wave)*  \\\n",
       "0                                                  0                        \n",
       "1                                                 40                        \n",
       "\n",
       "  magnetic cloud has been reported*  minimum value of the geomagnetic*  \\\n",
       "0  magnetic cloud has been reported                                -33   \n",
       "1  magnetic cloud has been reported                                -20   \n",
       "\n",
       "   Mean 1 AU transit speed of the disturbance*  \n",
       "0                                            0  \n",
       "1                                            0  "
      ]
     },
     "execution_count": 15,
     "metadata": {},
     "output_type": "execute_result"
    }
   ],
   "source": [
    "data_2.head(2)"
   ]
  },
  {
   "cell_type": "code",
   "execution_count": 16,
   "metadata": {},
   "outputs": [
    {
     "name": "stdout",
     "output_type": "stream",
     "text": [
      "<class 'pandas.core.frame.DataFrame'>\n",
      "Int64Index: 501 entries, 0 to 511\n",
      "Data columns (total 9 columns):\n",
      " #   Column                                                                  Non-Null Count  Dtype  \n",
      "---  ------                                                                  --------------  -----  \n",
      " 0   ICME Plasma/Field Start Y/M/D (UT) (b)                                  501 non-null    object \n",
      " 1   solar wind speed km/s                                                   501 non-null    int64  \n",
      " 2   forward fast shock happens                                              501 non-null    object \n",
      " 3   \"quality\" of the boundary times*                                        501 non-null    float64\n",
      " 4   Evidence of BiDirectional suprathermal Electron strahls (BDE)*          501 non-null    object \n",
      " 5   Increase in solar wind speed at the upstream disturbance (shock/wave)*  501 non-null    int64  \n",
      " 6   magnetic cloud has been reported*                                       501 non-null    object \n",
      " 7   minimum value of the geomagnetic*                                       501 non-null    int64  \n",
      " 8   Mean 1 AU transit speed of the disturbance*                             501 non-null    int64  \n",
      "dtypes: float64(1), int64(4), object(4)\n",
      "memory usage: 39.1+ KB\n"
     ]
    }
   ],
   "source": [
    "data_2.info()"
   ]
  },
  {
   "cell_type": "code",
   "execution_count": 17,
   "metadata": {},
   "outputs": [
    {
     "name": "stdout",
     "output_type": "stream",
     "text": [
      "solar wind speed km/s =  51 \n",
      "\n",
      "solar wind speed km/s =  [ 370  360  350  450  460  340  380  400  390  410  440  430  500  510\n",
      "  530  320  520  550  470  650  420  640  570  540  490  670  620  480\n",
      "  560  610  780  740  580  600  790  290  730  330  720  590  680 1300\n",
      "  800  870  630  810  900  750  660  300  310] \n",
      "\n",
      "\n",
      "forward fast shock happens =  2 \n",
      "\n",
      "forward fast shock happens =  ['No' 'Yes'] \n",
      "\n",
      "\n",
      "\"quality\" of the boundary times* =  5 \n",
      "\n",
      "\"quality\" of the boundary times* =  [2.  3.  1.  2.5 3.5] \n",
      "\n",
      "\n",
      "Evidence of BiDirectional suprathermal Electron strahls (BDE)* =  3 \n",
      "\n",
      "Evidence of BiDirectional suprathermal Electron strahls (BDE)* =  ['no Evidence' 'some Evidence'\n",
      " 'intense solar energetic particle event was in progress at the time of ICME passage and electron flows therefore cannot be determined'] \n",
      "\n",
      "\n",
      "Increase in solar wind speed at the upstream disturbance (shock/wave)* =  38 \n",
      "\n",
      "Increase in solar wind speed at the upstream disturbance (shock/wave)* =  [  0  40  10  20 100  90 150  70  30  60  80 110 140 170  50 250 200 300\n",
      " 130 120 180 280 220 260 350 230 400 550 160 210 650 340 900 750 240 320\n",
      " 270 190] \n",
      "\n",
      "\n",
      "magnetic cloud has been reported* =  4 \n",
      "\n",
      "magnetic cloud has been reported* =  ['magnetic cloud has been reported'\n",
      " 'magnetic cloud has been reported&\\nevent reported by Huttunen et al. Ann Geophys'\n",
      " 'magnetic cloud has not been reported'\n",
      " 'evidence of a rotation in field direction, but lacks some other characteristics of a magnetic cloud'] \n",
      "\n",
      "\n",
      "minimum value of the geomagnetic* =  158 \n",
      "\n",
      "minimum value of the geomagnetic* =  [ -33  -20  -23  -18  -78  -68  -82 -107 -115  -74  -84  -36  -45  -48\n",
      "  -28  -98  -64 -130  -60 -110 -108  -47  -77  -29  -11  -55  -34 -100\n",
      "  -51  -56  -35  -46  -85 -205   -1  -25 -101  -30   -6 -138  -62  -27\n",
      "  -19  -67 -155 -207 -112  -52  -81 -149 -131  -15  -58  -17   -7 -123\n",
      "  -91  -13  -41   -4  -38  -39  -16  -66 -173 -237  -69 -106   -8  -97\n",
      " -133  -26  -43   -3 -288  -14  -61  -37  -10   -2  -32  -92 -147  -90\n",
      "  -12  -76    0  -57 -301  -93  -42  -71 -235 -201 -143 -182 -127 -159\n",
      "  -80 -119  -73  -87 -387  -50  -59 -271 -114 -102 -105  -40  -24 -148\n",
      " -104 -166 -187 -157 -292 -221 -109  -21 -181 -176 -146  -75  -72  -49\n",
      " -144  -63 -141 -353 -383 -422 -117  -99 -136 -170 -129 -374 -263  -65\n",
      " -247  -83 -113 -139  -88  -86  -22  -79 -162  -31   -5 -118 -145 -122\n",
      "    1    9 -132  -95] \n",
      "\n",
      "\n",
      "Mean 1 AU transit speed of the disturbance* =  122 \n",
      "\n",
      "Mean 1 AU transit speed of the disturbance* =  [   0  435  507  683  552  616  381  410  405  450  580  430  572  640\n",
      "  480  557  602  440  780 1150 1260 1020  510  570  740  520  870  760\n",
      "  620  560  710  615  770  561  530  630  915  815  860  603  500  830\n",
      "  650  403 1007  609  940 1500  490  550  418  756  590  565  660 1200\n",
      "  720  380  680  610  850  690  700 1050 1290  990 1040  790  715  417\n",
      "  694 1250 1320  667  625  750  863  420 1323  955  766  880  910  820\n",
      "  999 1078 1331 2185 2138  886  920  890 1302  960 1080 1170 1210 1270\n",
      "  488  477  840 1423  540 1180  980  437  350  400  600  360  670 1100\n",
      " 1220  370  730  470  563  800  810  460  330  300] \n",
      "\n",
      "\n"
     ]
    }
   ],
   "source": [
    "for col in data_2.columns:\n",
    "    if col != 'ICME Plasma/Field Start Y/M/D (UT) (b)':\n",
    "        print(f'{col} = ', data_2[col].nunique(),'\\n')\n",
    "        print(f'{col} = ', data_2[col].unique(), '\\n\\n')"
   ]
  },
  {
   "cell_type": "code",
   "execution_count": 18,
   "metadata": {},
   "outputs": [],
   "source": [
    "data = data_2"
   ]
  },
  {
   "cell_type": "markdown",
   "metadata": {},
   "source": [
    "# Check out columns unique values percentage"
   ]
  },
  {
   "cell_type": "code",
   "execution_count": 19,
   "metadata": {},
   "outputs": [
    {
     "name": "stdout",
     "output_type": "stream",
     "text": [
      "ICME Plasma/Field Start Y/M/D (UT) (b)\n",
      "100.0\n",
      "solar wind speed km/s\n",
      "10.18\n",
      "forward fast shock happens\n",
      "0.4\n",
      "\"quality\" of the boundary times*\n",
      "1.0\n",
      "Evidence of BiDirectional suprathermal Electron strahls (BDE)*\n",
      "0.6\n",
      "Increase in solar wind speed at the upstream disturbance (shock/wave)*\n",
      "7.58\n",
      "magnetic cloud has been reported*\n",
      "0.8\n",
      "minimum value of the geomagnetic*\n",
      "31.54\n",
      "Mean 1 AU transit speed of the disturbance*\n",
      "24.35\n"
     ]
    }
   ],
   "source": [
    "uniq_index = list(data.nunique().index)\n",
    "uniq_values = list(data.nunique())\n",
    "\n",
    "num_rows = data.shape[0]\n",
    "\n",
    "uniq_percent = [(val*100)/num_rows for val in uniq_values]\n",
    "for i, uniq in enumerate(uniq_percent):\n",
    "    \n",
    "    # print columns with low number of unique values\n",
    "#     if uniq < 1:\n",
    "\n",
    "        \n",
    "    print(uniq_index[i])\n",
    "    print(round(uniq, 2))"
   ]
  },
  {
   "cell_type": "markdown",
   "metadata": {},
   "source": [
    "# Data distribution\n",
    "\n",
    "checking out the data skewness and distribution"
   ]
  },
  {
   "cell_type": "code",
   "execution_count": 20,
   "metadata": {},
   "outputs": [
    {
     "data": {
      "text/html": [
       "<div>\n",
       "<style scoped>\n",
       "    .dataframe tbody tr th:only-of-type {\n",
       "        vertical-align: middle;\n",
       "    }\n",
       "\n",
       "    .dataframe tbody tr th {\n",
       "        vertical-align: top;\n",
       "    }\n",
       "\n",
       "    .dataframe thead th {\n",
       "        text-align: right;\n",
       "    }\n",
       "</style>\n",
       "<table border=\"1\" class=\"dataframe\">\n",
       "  <thead>\n",
       "    <tr style=\"text-align: right;\">\n",
       "      <th></th>\n",
       "      <th>ICME Plasma/Field Start Y/M/D (UT) (b)</th>\n",
       "      <th>solar wind speed km/s</th>\n",
       "      <th>forward fast shock happens</th>\n",
       "      <th>\"quality\" of the boundary times*</th>\n",
       "      <th>Evidence of BiDirectional suprathermal Electron strahls (BDE)*</th>\n",
       "      <th>Increase in solar wind speed at the upstream disturbance (shock/wave)*</th>\n",
       "      <th>magnetic cloud has been reported*</th>\n",
       "      <th>minimum value of the geomagnetic*</th>\n",
       "      <th>Mean 1 AU transit speed of the disturbance*</th>\n",
       "    </tr>\n",
       "  </thead>\n",
       "  <tbody>\n",
       "    <tr>\n",
       "      <th>0</th>\n",
       "      <td>1996-05-27 15:00:00</td>\n",
       "      <td>370</td>\n",
       "      <td>No</td>\n",
       "      <td>2.0</td>\n",
       "      <td>no Evidence</td>\n",
       "      <td>0</td>\n",
       "      <td>magnetic cloud has been reported</td>\n",
       "      <td>-33</td>\n",
       "      <td>0</td>\n",
       "    </tr>\n",
       "    <tr>\n",
       "      <th>1</th>\n",
       "      <td>1996-07-01 18:00:00</td>\n",
       "      <td>360</td>\n",
       "      <td>No</td>\n",
       "      <td>3.0</td>\n",
       "      <td>no Evidence</td>\n",
       "      <td>40</td>\n",
       "      <td>magnetic cloud has been reported</td>\n",
       "      <td>-20</td>\n",
       "      <td>0</td>\n",
       "    </tr>\n",
       "    <tr>\n",
       "      <th>2</th>\n",
       "      <td>1996-08-07 12:00:00</td>\n",
       "      <td>350</td>\n",
       "      <td>No</td>\n",
       "      <td>2.0</td>\n",
       "      <td>no Evidence</td>\n",
       "      <td>10</td>\n",
       "      <td>magnetic cloud has been reported</td>\n",
       "      <td>-23</td>\n",
       "      <td>0</td>\n",
       "    </tr>\n",
       "    <tr>\n",
       "      <th>3</th>\n",
       "      <td>1996-12-23 17:00:00</td>\n",
       "      <td>360</td>\n",
       "      <td>No</td>\n",
       "      <td>2.0</td>\n",
       "      <td>no Evidence</td>\n",
       "      <td>20</td>\n",
       "      <td>magnetic cloud has been reported</td>\n",
       "      <td>-18</td>\n",
       "      <td>435</td>\n",
       "    </tr>\n",
       "    <tr>\n",
       "      <th>4</th>\n",
       "      <td>1997-01-10 04:00:00</td>\n",
       "      <td>450</td>\n",
       "      <td>Yes</td>\n",
       "      <td>1.0</td>\n",
       "      <td>some Evidence</td>\n",
       "      <td>100</td>\n",
       "      <td>magnetic cloud has been reported</td>\n",
       "      <td>-78</td>\n",
       "      <td>507</td>\n",
       "    </tr>\n",
       "  </tbody>\n",
       "</table>\n",
       "</div>"
      ],
      "text/plain": [
       "  ICME Plasma/Field Start Y/M/D (UT) (b)  solar wind speed km/s  \\\n",
       "0                    1996-05-27 15:00:00                    370   \n",
       "1                    1996-07-01 18:00:00                    360   \n",
       "2                    1996-08-07 12:00:00                    350   \n",
       "3                    1996-12-23 17:00:00                    360   \n",
       "4                    1997-01-10 04:00:00                    450   \n",
       "\n",
       "  forward fast shock happens  \"quality\" of the boundary times*  \\\n",
       "0                         No                               2.0   \n",
       "1                         No                               3.0   \n",
       "2                         No                               2.0   \n",
       "3                         No                               2.0   \n",
       "4                        Yes                               1.0   \n",
       "\n",
       "  Evidence of BiDirectional suprathermal Electron strahls (BDE)*  \\\n",
       "0                                        no Evidence               \n",
       "1                                        no Evidence               \n",
       "2                                        no Evidence               \n",
       "3                                        no Evidence               \n",
       "4                                      some Evidence               \n",
       "\n",
       "   Increase in solar wind speed at the upstream disturbance (shock/wave)*  \\\n",
       "0                                                  0                        \n",
       "1                                                 40                        \n",
       "2                                                 10                        \n",
       "3                                                 20                        \n",
       "4                                                100                        \n",
       "\n",
       "  magnetic cloud has been reported*  minimum value of the geomagnetic*  \\\n",
       "0  magnetic cloud has been reported                                -33   \n",
       "1  magnetic cloud has been reported                                -20   \n",
       "2  magnetic cloud has been reported                                -23   \n",
       "3  magnetic cloud has been reported                                -18   \n",
       "4  magnetic cloud has been reported                                -78   \n",
       "\n",
       "   Mean 1 AU transit speed of the disturbance*  \n",
       "0                                            0  \n",
       "1                                            0  \n",
       "2                                            0  \n",
       "3                                          435  \n",
       "4                                          507  "
      ]
     },
     "execution_count": 20,
     "metadata": {},
     "output_type": "execute_result"
    }
   ],
   "source": [
    "data_2.head()"
   ]
  },
  {
   "cell_type": "code",
   "execution_count": 21,
   "metadata": {},
   "outputs": [
    {
     "name": "stdout",
     "output_type": "stream",
     "text": [
      "<class 'pandas.core.frame.DataFrame'>\n",
      "Int64Index: 501 entries, 0 to 511\n",
      "Data columns (total 9 columns):\n",
      " #   Column                                                                  Non-Null Count  Dtype  \n",
      "---  ------                                                                  --------------  -----  \n",
      " 0   ICME Plasma/Field Start Y/M/D (UT) (b)                                  501 non-null    object \n",
      " 1   solar wind speed km/s                                                   501 non-null    int64  \n",
      " 2   forward fast shock happens                                              501 non-null    object \n",
      " 3   \"quality\" of the boundary times*                                        501 non-null    float64\n",
      " 4   Evidence of BiDirectional suprathermal Electron strahls (BDE)*          501 non-null    object \n",
      " 5   Increase in solar wind speed at the upstream disturbance (shock/wave)*  501 non-null    int64  \n",
      " 6   magnetic cloud has been reported*                                       501 non-null    object \n",
      " 7   minimum value of the geomagnetic*                                       501 non-null    int64  \n",
      " 8   Mean 1 AU transit speed of the disturbance*                             501 non-null    int64  \n",
      "dtypes: float64(1), int64(4), object(4)\n",
      "memory usage: 39.1+ KB\n"
     ]
    }
   ],
   "source": [
    "data_2.info()"
   ]
  },
  {
   "cell_type": "code",
   "execution_count": 22,
   "metadata": {},
   "outputs": [
    {
     "data": {
      "image/png": "[encoded data removed]",
      "text/plain": [
       "<Figure size 720x576 with 6 Axes>"
      ]
     },
     "metadata": {
      "image/png": {
       "height": 567,
       "width": 745
      },
      "needs_background": "light"
     },
     "output_type": "display_data"
    }
   ],
   "source": [
    "data_2.hist(bins=20, \n",
    "            figsize=(10,8), \n",
    "#             log=True,\n",
    "           )\n",
    "\n",
    "plt.tight_layout()\n",
    "plt.show()"
   ]
  },
  {
   "cell_type": "code",
   "execution_count": 23,
   "metadata": {},
   "outputs": [
    {
     "data": {
      "text/plain": [
       "Index(['ICME Plasma/Field Start Y/M/D (UT) (b)', 'solar wind speed km/s',\n",
       "       'forward fast shock happens', '\"quality\" of the boundary times*',\n",
       "       'Evidence of BiDirectional suprathermal Electron strahls (BDE)*',\n",
       "       'Increase in solar wind speed at the upstream disturbance (shock/wave)*',\n",
       "       'magnetic cloud has been reported*',\n",
       "       'minimum value of the geomagnetic*',\n",
       "       'Mean 1 AU transit speed of the disturbance*'],\n",
       "      dtype='object')"
      ]
     },
     "execution_count": 23,
     "metadata": {},
     "output_type": "execute_result"
    }
   ],
   "source": [
    "data_2.columns"
   ]
  },
  {
   "cell_type": "markdown",
   "metadata": {},
   "source": [
    "data distribution is skewed and is semi gaussian"
   ]
  },
  {
   "cell_type": "markdown",
   "metadata": {},
   "source": [
    "# Automatic Outlier Detection using Local Outlier Factor (LOF)"
   ]
  },
  {
   "cell_type": "code",
   "execution_count": 24,
   "metadata": {},
   "outputs": [],
   "source": [
    "cols_trans = ['solar wind speed km/s', \n",
    "            '\"quality\" of the boundary times*',\n",
    "            'Increase in solar wind speed at the upstream disturbance (shock/wave)*',\n",
    "            'minimum value of the geomagnetic*',\n",
    "            'Mean 1 AU transit speed of the disturbance*'\n",
    "            ]\n",
    "data_3 = data_2[cols_trans]"
   ]
  },
  {
   "cell_type": "code",
   "execution_count": 25,
   "metadata": {},
   "outputs": [],
   "source": [
    "from pandas import read_csv\n",
    "from sklearn.model_selection import train_test_split\n",
    "from sklearn.linear_model import LinearRegression\n",
    "from sklearn.neighbors import LocalOutlierFactor\n",
    "from sklearn.metrics import mean_absolute_error"
   ]
  },
  {
   "cell_type": "markdown",
   "metadata": {},
   "source": [
    "applying transform on train set (67%).\n",
    "\n",
    "\n"
   ]
  },
  {
   "cell_type": "code",
   "execution_count": 26,
   "metadata": {},
   "outputs": [
    {
     "name": "stdout",
     "output_type": "stream",
     "text": [
      "(335, 4) (335,)\n"
     ]
    }
   ],
   "source": [
    "# split into inpiut and output elements\n",
    "X = data_3.drop(['solar wind speed km/s'], axis=1)\n",
    "y = data_3['solar wind speed km/s']\n",
    "\n",
    "# split into train and test sets\n",
    "X_train, X_test, y_train, y_test = train_test_split(X, y, test_size=0.33, random_state=1)\n",
    "# summarize the shape of the training dataset\n",
    "print(X_train.shape, y_train.shape)"
   ]
  },
  {
   "cell_type": "markdown",
   "metadata": {},
   "source": [
    "# Outlier transformer on Training data"
   ]
  },
  {
   "cell_type": "code",
   "execution_count": 27,
   "metadata": {},
   "outputs": [
    {
     "name": "stdout",
     "output_type": "stream",
     "text": [
      "(301, 4) (301,)\n"
     ]
    }
   ],
   "source": [
    "# identify outliers in the training dataset\n",
    "lof = LocalOutlierFactor()\n",
    "yhat = lof.fit_predict(X_train)\n",
    "\n",
    "# select all rows that are not outliers\n",
    "mask = yhat != -1\n",
    "X_train, y_train = X_train.iloc[mask, :], y_train.iloc[mask]\n",
    "\n",
    "# summarize the shape of the updated training dataset\n",
    "print(X_train.shape, y_train.shape)"
   ]
  },
  {
   "cell_type": "markdown",
   "metadata": {},
   "source": [
    "The number of rows decreased from 335 to 301. \n",
    "\n",
    "The auto outlier found 34 outliers"
   ]
  },
  {
   "cell_type": "code",
   "execution_count": 28,
   "metadata": {},
   "outputs": [
    {
     "data": {
      "image/png": "[encoded data removed]",
      "text/plain": [
       "<Figure size 720x576 with 4 Axes>"
      ]
     },
     "metadata": {
      "image/png": {
       "height": 567,
       "width": 770
      },
      "needs_background": "light"
     },
     "output_type": "display_data"
    }
   ],
   "source": [
    "X_train.hist(bins=20, \n",
    "            figsize=(10,8), \n",
    "            log=True,\n",
    "           )\n",
    "\n",
    "plt.tight_layout()\n",
    "plt.show()"
   ]
  },
  {
   "cell_type": "code",
   "execution_count": 29,
   "metadata": {},
   "outputs": [
    {
     "data": {
      "image/png": "[encoded data removed]",
      "text/plain": [
       "<Figure size 432x288 with 1 Axes>"
      ]
     },
     "metadata": {
      "image/png": {
       "height": 280,
       "width": 424
      },
      "needs_background": "light"
     },
     "output_type": "display_data"
    }
   ],
   "source": [
    "y_train.hist(bins=20, \n",
    "#             figsize=(10,8), \n",
    "#             log=True,\n",
    "           )\n",
    "\n",
    "plt.tight_layout()\n",
    "plt.show()"
   ]
  },
  {
   "cell_type": "markdown",
   "metadata": {},
   "source": [
    "# Apply Outlier on test \n",
    "\n",
    "### Avoid data leakage"
   ]
  },
  {
   "cell_type": "code",
   "execution_count": 30,
   "metadata": {},
   "outputs": [],
   "source": [
    "# lof = LocalOutlierFactor()\n",
    "yhat = lof.fit_predict(X_test)"
   ]
  },
  {
   "cell_type": "code",
   "execution_count": 31,
   "metadata": {},
   "outputs": [
    {
     "name": "stdout",
     "output_type": "stream",
     "text": [
      "(166, 4) (166,)\n"
     ]
    }
   ],
   "source": [
    "print(X_test.shape, y_test.shape)"
   ]
  },
  {
   "cell_type": "code",
   "execution_count": 32,
   "metadata": {},
   "outputs": [
    {
     "name": "stdout",
     "output_type": "stream",
     "text": [
      "(149, 4) (149,)\n"
     ]
    }
   ],
   "source": [
    "# select all rows that are not outliers\n",
    "mask = yhat != -1\n",
    "X_test, y_test = X_test.iloc[mask, :], y_test.iloc[mask]\n",
    "\n",
    "# summarize the shape of the updated training dataset\n",
    "print(X_test.shape, y_test.shape)"
   ]
  },
  {
   "cell_type": "markdown",
   "metadata": {},
   "source": [
    "the number of rows decreased from 166 to 149."
   ]
  },
  {
   "cell_type": "markdown",
   "metadata": {},
   "source": [
    "# MinMax & PowerTransformer on training data\n",
    "\n",
    "Transfer columns to gaussian or more gaussian distribution"
   ]
  },
  {
   "cell_type": "code",
   "execution_count": 33,
   "metadata": {},
   "outputs": [],
   "source": [
    "# prepare the model with input scaling and power transform\n",
    "steps = list()\n",
    "# steps.append(('LOF', LocalOutlierFactor()))\n",
    "steps.append(('scale', MinMaxScaler(feature_range=(1e-5,1))))\n",
    "steps.append(('power', PowerTransformer()))\n",
    "pipeline = Pipeline(steps=steps)\n",
    "trans_np = pipeline.fit_transform(X_train,y_train)"
   ]
  },
  {
   "cell_type": "code",
   "execution_count": 34,
   "metadata": {},
   "outputs": [
    {
     "data": {
      "image/png": "[encoded data removed]",
      "text/plain": [
       "<Figure size 720x576 with 4 Axes>"
      ]
     },
     "metadata": {
      "image/png": {
       "height": 567,
       "width": 711
      },
      "needs_background": "light"
     },
     "output_type": "display_data"
    }
   ],
   "source": [
    "trans_df = pd.DataFrame(trans_np)\n",
    "\n",
    "trans_df.hist(bins=20, \n",
    "            figsize=(10,8), \n",
    "            log=True,\n",
    "           )\n",
    "\n",
    "plt.tight_layout()\n",
    "plt.show()"
   ]
  },
  {
   "cell_type": "markdown",
   "metadata": {},
   "source": [
    "# MinMaxScaler, PowerTransformer & HuberRegressor on training data"
   ]
  },
  {
   "cell_type": "code",
   "execution_count": 35,
   "metadata": {},
   "outputs": [],
   "source": [
    "# prepare the model with input scaling and power transform\n",
    "steps = list()\n",
    "steps.append(('scale', MinMaxScaler(feature_range=(1e-5,1))))\n",
    "steps.append(('power', PowerTransformer()))\n",
    "steps.append(('model', HuberRegressor()))\n",
    "pipeline = Pipeline(steps=steps)"
   ]
  },
  {
   "cell_type": "code",
   "execution_count": 36,
   "metadata": {},
   "outputs": [
    {
     "name": "stdout",
     "output_type": "stream",
     "text": [
      "Mean MAE: 47.284\n"
     ]
    }
   ],
   "source": [
    "# prepare the model with target scaling\n",
    "model = TransformedTargetRegressor(regressor=pipeline)\n",
    "\n",
    "# evaluate model\n",
    "cv = RepeatedKFold(n_splits=10, n_repeats=3, random_state=1)\n",
    "scores = cross_val_score(model, X_train, y_train, \n",
    "                         scoring='neg_mean_absolute_error', \n",
    "                         cv=cv, n_jobs=-1)\n",
    "\n",
    "# convert scores to positive\n",
    "scores = absolute(scores)\n",
    "# summarize the result\n",
    "s_mean = mean(scores)\n",
    "print('Mean MAE: %.3f' % (s_mean))"
   ]
  },
  {
   "cell_type": "code",
   "execution_count": 37,
   "metadata": {},
   "outputs": [
    {
     "data": {
      "image/png": "[encoded data removed]",
      "text/plain": [
       "<Figure size 432x288 with 1 Axes>"
      ]
     },
     "metadata": {
      "image/png": {
       "height": 261,
       "width": 362
      },
      "needs_background": "light"
     },
     "output_type": "display_data"
    }
   ],
   "source": [
    "plt.boxplot(scores, vert=False)\n",
    "plt.xlim(0, )\n",
    "plt.xlabel('MAE')\n",
    "plt.show()"
   ]
  },
  {
   "cell_type": "markdown",
   "metadata": {},
   "source": [
    "# Fit and Predict with whole pipeline\n",
    "\n",
    "Note that the LOF was applied already on train set (fit) and then on test set."
   ]
  },
  {
   "cell_type": "code",
   "execution_count": 38,
   "metadata": {},
   "outputs": [],
   "source": [
    "steps = list()\n",
    "steps.append(('scale', MinMaxScaler(feature_range=(1e-5,1))))\n",
    "steps.append(('power', PowerTransformer()))\n",
    "steps.append(('model', HuberRegressor(max_iter=200)))\n",
    "pipeline = Pipeline(steps=steps)"
   ]
  },
  {
   "cell_type": "code",
   "execution_count": 39,
   "metadata": {},
   "outputs": [],
   "source": [
    "# fit pipeline\n",
    "pipeline.fit(X_train, y_train)\n",
    "# make predictions\n",
    "yhat = pipeline.predict(X_test)"
   ]
  },
  {
   "cell_type": "code",
   "execution_count": 40,
   "metadata": {},
   "outputs": [
    {
     "data": {
      "image/png": "[encoded data removed]",
      "text/plain": [
       "<Figure size 576x576 with 1 Axes>"
      ]
     },
     "metadata": {
      "image/png": {
       "height": 479,
       "width": 500
      },
      "needs_background": "light"
     },
     "output_type": "display_data"
    }
   ],
   "source": [
    "plt.figure(figsize=(8,8))\n",
    "plt.scatter(yhat, y_test)\n",
    "plt.ylabel('prediction - solar wind speed km/s')\n",
    "plt.xlabel('data - solar wind speed km/s')\n",
    "plt.xlim(0, )\n",
    "plt.ylim(0, )\n",
    "plt.show()"
   ]
  },
  {
   "cell_type": "code",
   "execution_count": null,
   "metadata": {},
   "outputs": [],
   "source": []
  },
  {
   "cell_type": "code",
   "execution_count": null,
   "metadata": {},
   "outputs": [],
   "source": []
  },
  {
   "cell_type": "code",
   "execution_count": null,
   "metadata": {},
   "outputs": [],
   "source": []
  },
  {
   "cell_type": "code",
   "execution_count": null,
   "metadata": {},
   "outputs": [],
   "source": []
  },
  {
   "cell_type": "code",
   "execution_count": null,
   "metadata": {},
   "outputs": [],
   "source": []
  },
  {
   "cell_type": "code",
   "execution_count": null,
   "metadata": {},
   "outputs": [],
   "source": []
  }
 ],
 "metadata": {
  "kernelspec": {
   "display_name": "Python 3",
   "language": "python",
   "name": "python3"
  },
  "language_info": {
   "codemirror_mode": {
    "name": "ipython",
    "version": 3
   },
   "file_extension": ".py",
   "mimetype": "text/x-python",
   "name": "python",
   "nbconvert_exporter": "python",
   "pygments_lexer": "ipython3",
   "version": "3.7.0"
  }
 },
 "nbformat": 4,
 "nbformat_minor": 5
}

{
 "cells": [
  {
   "cell_type": "markdown",
   "metadata": {},
   "source": [
    "# P01_02_Data_Scraping"
   ]
  },
  {
   "cell_type": "code",
   "execution_count": 5,
   "metadata": {},
   "outputs": [],
   "source": [
    "import os, sys\n",
    "import requests\n",
    "from urllib.parse import urljoin, urlparse\n",
    "from bs4 import BeautifulSoup as bs\n",
    "import re"
   ]
  },
  {
   "cell_type": "markdown",
   "metadata": {},
   "source": [
    "## Read Data\n",
    "\n",
    "the page html file downloaded in Data directory and it is loaded below."
   ]
  },
  {
   "cell_type": "code",
   "execution_count": 47,
   "metadata": {},
   "outputs": [],
   "source": [
    "file = open(\"../Data/ICME_WebScr_data.html\", \"r\")\n",
    "html = file.read()\n",
    "# print(html)"
   ]
  },
  {
   "cell_type": "code",
   "execution_count": 15,
   "metadata": {},
   "outputs": [],
   "source": [
    "soup = bs(html)\n",
    "# tds = soup.find_all('tr')"
   ]
  },
  {
   "cell_type": "code",
   "execution_count": 23,
   "metadata": {},
   "outputs": [
    {
     "name": "stdout",
     "output_type": "stream",
     "text": [
      "<tr align=\"center\"><td><b>Disturbance Y/M/D (UT) <a href=\"#(a)\">(a)</a></b> </td><td colspan=\"2\">\n",
      "<b>ICME Plasma/Field Start, End Y/M/D (UT) <a href=\"#(b)\">(b)</a> </b> </td><td colspan=\"2\">\n",
      "<b>Comp. Start, End (Hrs wrt. Plasma/ Field) <a href=\"#(c)\">(c)</a></b> </td><td colspan=\"2\">\n",
      "<b>MC Start, End (Hrs wrt. Plasma/ Field) <a href=\"#(d)\">(d)</a></b> </td><td>\n",
      "<b>BDE? <a href=\"#(e)\">(e)</a></b> </td><td>\n",
      "<b>BIF? <a href=\"#(f)\">(f)</a></b> </td><td>\n",
      "<b> Qual. <a href=\"#(g)\">(g)</a></b></td><td>\n",
      "<b>dV (km/s) <a href=\"#(h)\">(h)</a></b> </td><td>\n",
      "<b>V_ICME (km/s) <a href=\"#(i)\">(i)</a></b> </td><td>\n",
      "<b>V_max (km/s) <a href=\"#(j)\">(j)</a></b> </td><td>\n",
      "<b>B (nT) <a href=\"#(k)\">(k)</a></b> </td><td>\n",
      "<b>MC? <a href=\"#(l)\">(l)</a></b> </td><td>\n",
      "<b>Dst (nT) <a href=\"#(m)\">(m)</a></b> </td><td>\n",
      "<b>V_transit (km/s) <a href=\"#(n)\">(n)</a></b> </td><td>\n",
      "<b>LASCO CME Y/M/D (UT)<a href=\"#(o)\"> (o)</a></b></td></tr>\n"
     ]
    }
   ],
   "source": [
    "column_names_1 = soup.find_all('tr')\n",
    "print(column_names_1[0])"
   ]
  },
  {
   "cell_type": "code",
   "execution_count": 24,
   "metadata": {},
   "outputs": [
    {
     "data": {
      "text/plain": [
       "562"
      ]
     },
     "execution_count": 24,
     "metadata": {},
     "output_type": "execute_result"
    }
   ],
   "source": [
    "len(column_names_1)"
   ]
  },
  {
   "cell_type": "code",
   "execution_count": 25,
   "metadata": {},
   "outputs": [],
   "source": [
    "column_name_2  = column_names_1[0].find_all('b')\n"
   ]
  },
  {
   "cell_type": "code",
   "execution_count": 26,
   "metadata": {},
   "outputs": [
    {
     "data": {
      "text/plain": [
       "'Disturbance Y/M/D (UT) (a)'"
      ]
     },
     "execution_count": 26,
     "metadata": {},
     "output_type": "execute_result"
    }
   ],
   "source": [
    "column_name_2[0].text.strip()\n"
   ]
  },
  {
   "cell_type": "code",
   "execution_count": 27,
   "metadata": {},
   "outputs": [
    {
     "data": {
      "text/plain": [
       "15"
      ]
     },
     "execution_count": 27,
     "metadata": {},
     "output_type": "execute_result"
    }
   ],
   "source": [
    "len(column_name_2)\n"
   ]
  },
  {
   "cell_type": "markdown",
   "metadata": {},
   "source": [
    "## Column names"
   ]
  },
  {
   "cell_type": "code",
   "execution_count": 28,
   "metadata": {},
   "outputs": [
    {
     "data": {
      "text/plain": [
       "['Disturbance Y/M/D (UT) (a)',\n",
       " 'ICME Plasma/Field Start, End Y/M/D (UT) (b)',\n",
       " 'Comp. Start, End (Hrs wrt. Plasma/ Field) (c)',\n",
       " 'MC Start, End (Hrs wrt. Plasma/ Field) (d)',\n",
       " 'BDE? (e)',\n",
       " 'BIF? (f)',\n",
       " 'Qual. (g)',\n",
       " 'dV (km/s) (h)',\n",
       " 'V_ICME (km/s) (i)',\n",
       " 'V_max (km/s) (j)',\n",
       " 'B (nT) (k)',\n",
       " 'MC? (l)',\n",
       " 'Dst (nT) (m)',\n",
       " 'V_transit (km/s) (n)',\n",
       " 'LASCO CME Y/M/D (UT) (o)']"
      ]
     },
     "execution_count": 28,
     "metadata": {},
     "output_type": "execute_result"
    }
   ],
   "source": [
    "Data_column_names = []\n",
    "for col in column_name_2:\n",
    "#     print(col.text.strip())\n",
    "    Data_column_names.append(col.text.strip())\n",
    "Data_column_names"
   ]
  },
  {
   "cell_type": "code",
   "execution_count": 29,
   "metadata": {},
   "outputs": [
    {
     "data": {
      "text/plain": [
       "15"
      ]
     },
     "execution_count": 29,
     "metadata": {},
     "output_type": "execute_result"
    }
   ],
   "source": [
    "len(Data_column_names)\n"
   ]
  },
  {
   "cell_type": "code",
   "execution_count": 48,
   "metadata": {},
   "outputs": [
    {
     "data": {
      "text/plain": [
       "<tr align=\"center\"><td><b>Disturbance Y/M/D (UT) <a href=\"#(a)\">(a)</a></b> </td><td colspan=\"2\">\n",
       "<b>ICME Plasma/Field Start, End Y/M/D (UT) <a href=\"#(b)\">(b)</a> </b> </td><td colspan=\"2\">\n",
       "<b>Comp. Start, End (Hrs wrt. Plasma/ Field) <a href=\"#(c)\">(c)</a></b> </td><td colspan=\"2\">\n",
       "<b>MC Start, End (Hrs wrt. Plasma/ Field) <a href=\"#(d)\">(d)</a></b> </td><td>\n",
       "<b>BDE? <a href=\"#(e)\">(e)</a></b> </td><td>\n",
       "<b>BIF? <a href=\"#(f)\">(f)</a></b> </td><td>\n",
       "<b> Qual. <a href=\"#(g)\">(g)</a></b></td><td>\n",
       "<b>dV (km/s) <a href=\"#(h)\">(h)</a></b> </td><td>\n",
       "<b>V_ICME (km/s) <a href=\"#(i)\">(i)</a></b> </td><td>\n",
       "<b>V_max (km/s) <a href=\"#(j)\">(j)</a></b> </td><td>\n",
       "<b>B (nT) <a href=\"#(k)\">(k)</a></b> </td><td>\n",
       "<b>MC? <a href=\"#(l)\">(l)</a></b> </td><td>\n",
       "<b>Dst (nT) <a href=\"#(m)\">(m)</a></b> </td><td>\n",
       "<b>V_transit (km/s) <a href=\"#(n)\">(n)</a></b> </td><td>\n",
       "<b>LASCO CME Y/M/D (UT)<a href=\"#(o)\"> (o)</a></b></td></tr>"
      ]
     },
     "execution_count": 48,
     "metadata": {},
     "output_type": "execute_result"
    }
   ],
   "source": [
    "data_1 = soup.find_all('tr', align=\"center\")\n",
    "data_1[0]"
   ]
  },
  {
   "cell_type": "code",
   "execution_count": 32,
   "metadata": {},
   "outputs": [
    {
     "data": {
      "text/plain": [
       "562"
      ]
     },
     "execution_count": 32,
     "metadata": {},
     "output_type": "execute_result"
    }
   ],
   "source": [
    "len(data_1)\n"
   ]
  },
  {
   "cell_type": "markdown",
   "metadata": {},
   "source": [
    "the first element is the headers or column names. check out the number of columns\n"
   ]
  },
  {
   "cell_type": "code",
   "execution_count": 33,
   "metadata": {},
   "outputs": [
    {
     "data": {
      "text/plain": [
       "['Disturbance Y/M/D (UT) (a) ',\n",
       " 'ICME Plasma/Field Start, End Y/M/D (UT) (b)  ',\n",
       " 'Comp. Start, End (Hrs wrt. Plasma/ Field) (c) ',\n",
       " 'MC Start, End (Hrs wrt. Plasma/ Field) (d) ',\n",
       " 'BDE? (e) ',\n",
       " 'BIF? (f) ',\n",
       " ' Qual. (g)',\n",
       " 'dV (km/s) (h) ',\n",
       " 'V_ICME (km/s) (i) ',\n",
       " 'V_max (km/s) (j) ',\n",
       " 'B (nT) (k) ',\n",
       " 'MC? (l) ',\n",
       " 'Dst (nT) (m) ',\n",
       " 'V_transit (km/s) (n) ',\n",
       " 'LASCO CME Y/M/D (UT) (o)']"
      ]
     },
     "execution_count": 33,
     "metadata": {},
     "output_type": "execute_result"
    }
   ],
   "source": [
    "data_1[0].text.strip().split('\\n')\n"
   ]
  },
  {
   "cell_type": "code",
   "execution_count": 34,
   "metadata": {},
   "outputs": [
    {
     "data": {
      "text/plain": [
       "15"
      ]
     },
     "execution_count": 34,
     "metadata": {},
     "output_type": "execute_result"
    }
   ],
   "source": [
    "a = list(data_1[0])\n",
    "len(a)"
   ]
  },
  {
   "cell_type": "markdown",
   "metadata": {},
   "source": [
    "There are 15 columns in table. The next element has 18 elements which are the data we looking for. let's check out the number of elements.\n",
    "\n"
   ]
  },
  {
   "cell_type": "code",
   "execution_count": 35,
   "metadata": {},
   "outputs": [
    {
     "data": {
      "text/plain": [
       "18"
      ]
     },
     "execution_count": 35,
     "metadata": {},
     "output_type": "execute_result"
    }
   ],
   "source": [
    "a = list(data_1[1])\n",
    "len(a)"
   ]
  },
  {
   "cell_type": "markdown",
   "metadata": {},
   "source": [
    "make a list of data and iterate through and extract the data."
   ]
  },
  {
   "cell_type": "code",
   "execution_count": 36,
   "metadata": {},
   "outputs": [],
   "source": [
    "data_ext = []\n",
    "for i in range(0,18):\n",
    "    data_ext.append(a[i].text.strip())\n",
    "#     print(a[i].text.strip())"
   ]
  },
  {
   "cell_type": "code",
   "execution_count": 37,
   "metadata": {},
   "outputs": [],
   "source": [
    "# data_ext"
   ]
  },
  {
   "cell_type": "markdown",
   "metadata": {},
   "source": [
    "we have to iterate through all 562 elements of data. \n",
    "\n",
    "note that some are just header with 15 sub elements, and some are the data with 18. let's gather all and later filter out data."
   ]
  },
  {
   "cell_type": "code",
   "execution_count": 38,
   "metadata": {},
   "outputs": [],
   "source": [
    "num_ite_1 = len(data_1)\n",
    "\n",
    "# keep data in data_ext list\n",
    "data_ext = []\n",
    "for i in range(0, num_ite_1):\n",
    "    \n",
    "    # make a list\n",
    "    a = list(data_1[i])\n",
    "    num_ite_2 = len(a)\n",
    "#     print(num_ite_2)\n",
    "    \n",
    "    collector = []\n",
    "    for j in range(0, num_ite_2):\n",
    "        try:\n",
    "            collector.append(a[j].text.strip())\n",
    "        except:\n",
    "            pass\n",
    "    data_ext.append(collector)\n"
   ]
  },
  {
   "cell_type": "code",
   "execution_count": 39,
   "metadata": {},
   "outputs": [
    {
     "data": {
      "text/plain": [
       "18"
      ]
     },
     "execution_count": 39,
     "metadata": {},
     "output_type": "execute_result"
    }
   ],
   "source": [
    "len(data_ext[1])"
   ]
  },
  {
   "cell_type": "code",
   "execution_count": 40,
   "metadata": {},
   "outputs": [],
   "source": [
    "real_data = []\n",
    "for i in range(len(data_ext)):\n",
    "    if len(data_ext[i]) == 18:\n",
    "        real_data.append(data_ext[i])\n",
    "        "
   ]
  },
  {
   "cell_type": "code",
   "execution_count": 41,
   "metadata": {},
   "outputs": [
    {
     "data": {
      "text/plain": [
       "513"
      ]
     },
     "execution_count": 41,
     "metadata": {},
     "output_type": "execute_result"
    }
   ],
   "source": [
    "len(real_data)"
   ]
  },
  {
   "cell_type": "code",
   "execution_count": 42,
   "metadata": {},
   "outputs": [
    {
     "data": {
      "text/html": [
       "<div>\n",
       "<style scoped>\n",
       "    .dataframe tbody tr th:only-of-type {\n",
       "        vertical-align: middle;\n",
       "    }\n",
       "\n",
       "    .dataframe tbody tr th {\n",
       "        vertical-align: top;\n",
       "    }\n",
       "\n",
       "    .dataframe thead th {\n",
       "        text-align: right;\n",
       "    }\n",
       "</style>\n",
       "<table border=\"1\" class=\"dataframe\">\n",
       "  <thead>\n",
       "    <tr style=\"text-align: right;\">\n",
       "      <th></th>\n",
       "      <th>0</th>\n",
       "      <th>1</th>\n",
       "      <th>2</th>\n",
       "      <th>3</th>\n",
       "      <th>4</th>\n",
       "      <th>5</th>\n",
       "      <th>6</th>\n",
       "      <th>7</th>\n",
       "      <th>8</th>\n",
       "      <th>9</th>\n",
       "      <th>10</th>\n",
       "      <th>11</th>\n",
       "      <th>12</th>\n",
       "      <th>13</th>\n",
       "      <th>14</th>\n",
       "      <th>15</th>\n",
       "      <th>16</th>\n",
       "      <th>17</th>\n",
       "    </tr>\n",
       "  </thead>\n",
       "  <tbody>\n",
       "    <tr>\n",
       "      <th>0</th>\n",
       "      <td>1996/05/27 1500</td>\n",
       "      <td>1996/05/27 1500</td>\n",
       "      <td>1996/05/29 0300</td>\n",
       "      <td>...</td>\n",
       "      <td>...</td>\n",
       "      <td>0</td>\n",
       "      <td>+4</td>\n",
       "      <td>N</td>\n",
       "      <td>...</td>\n",
       "      <td>2</td>\n",
       "      <td>0</td>\n",
       "      <td>370</td>\n",
       "      <td>400</td>\n",
       "      <td>9</td>\n",
       "      <td>2</td>\n",
       "      <td>-33</td>\n",
       "      <td>...</td>\n",
       "      <td></td>\n",
       "    </tr>\n",
       "    <tr>\n",
       "      <th>1</th>\n",
       "      <td>1996/07/01 1320</td>\n",
       "      <td>1996/07/01 1800</td>\n",
       "      <td>1996/07/02 1100</td>\n",
       "      <td>...</td>\n",
       "      <td>...</td>\n",
       "      <td>0</td>\n",
       "      <td>0</td>\n",
       "      <td>N</td>\n",
       "      <td>...</td>\n",
       "      <td>3</td>\n",
       "      <td>40</td>\n",
       "      <td>360</td>\n",
       "      <td>370</td>\n",
       "      <td>11</td>\n",
       "      <td>2</td>\n",
       "      <td>-20</td>\n",
       "      <td>...</td>\n",
       "      <td></td>\n",
       "    </tr>\n",
       "    <tr>\n",
       "      <th>2</th>\n",
       "      <td>1996/08/07 0600</td>\n",
       "      <td>1996/08/07 1200</td>\n",
       "      <td>1996/08/08 1000</td>\n",
       "      <td>...</td>\n",
       "      <td>...</td>\n",
       "      <td>0</td>\n",
       "      <td>0</td>\n",
       "      <td>N</td>\n",
       "      <td>...</td>\n",
       "      <td>2</td>\n",
       "      <td>10</td>\n",
       "      <td>350</td>\n",
       "      <td>380</td>\n",
       "      <td>7</td>\n",
       "      <td>2</td>\n",
       "      <td>-23</td>\n",
       "      <td>...</td>\n",
       "      <td></td>\n",
       "    </tr>\n",
       "    <tr>\n",
       "      <th>3</th>\n",
       "      <td>1996/12/23 1600</td>\n",
       "      <td>1996/12/23 1700</td>\n",
       "      <td>1996/12/25 1100</td>\n",
       "      <td>...</td>\n",
       "      <td>...</td>\n",
       "      <td>+10</td>\n",
       "      <td>0</td>\n",
       "      <td>N</td>\n",
       "      <td>...</td>\n",
       "      <td>2</td>\n",
       "      <td>20</td>\n",
       "      <td>360</td>\n",
       "      <td>420</td>\n",
       "      <td>10</td>\n",
       "      <td>2</td>\n",
       "      <td>-18</td>\n",
       "      <td>435</td>\n",
       "      <td>1996/12/19 1630 H</td>\n",
       "    </tr>\n",
       "    <tr>\n",
       "      <th>4</th>\n",
       "      <td>1997/01/10 0104</td>\n",
       "      <td>1997/01/10 0400</td>\n",
       "      <td>1997/01/11 0200</td>\n",
       "      <td>...</td>\n",
       "      <td>...</td>\n",
       "      <td>0</td>\n",
       "      <td>0</td>\n",
       "      <td>Y</td>\n",
       "      <td>...</td>\n",
       "      <td>1</td>\n",
       "      <td>100 S</td>\n",
       "      <td>450</td>\n",
       "      <td>460</td>\n",
       "      <td>14</td>\n",
       "      <td>2</td>\n",
       "      <td>-78</td>\n",
       "      <td>507</td>\n",
       "      <td>1997/01/06 1510 H</td>\n",
       "    </tr>\n",
       "  </tbody>\n",
       "</table>\n",
       "</div>"
      ],
      "text/plain": [
       "                0                1                2    3    4    5   6  7   \\\n",
       "0  1996/05/27 1500  1996/05/27 1500  1996/05/29 0300  ...  ...    0  +4  N   \n",
       "1  1996/07/01 1320  1996/07/01 1800  1996/07/02 1100  ...  ...    0   0  N   \n",
       "2  1996/08/07 0600  1996/08/07 1200  1996/08/08 1000  ...  ...    0   0  N   \n",
       "3  1996/12/23 1600  1996/12/23 1700  1996/12/25 1100  ...  ...  +10   0  N   \n",
       "4  1997/01/10 0104  1997/01/10 0400  1997/01/11 0200  ...  ...    0   0  Y   \n",
       "\n",
       "    8  9      10   11   12  13 14   15   16                 17  \n",
       "0  ...  2      0  370  400   9  2  -33  ...                     \n",
       "1  ...  3     40  360  370  11  2  -20  ...                     \n",
       "2  ...  2     10  350  380   7  2  -23  ...                     \n",
       "3  ...  2     20  360  420  10  2  -18  435  1996/12/19 1630 H  \n",
       "4  ...  1  100 S  450  460  14  2  -78  507  1997/01/06 1510 H  "
      ]
     },
     "execution_count": 42,
     "metadata": {},
     "output_type": "execute_result"
    }
   ],
   "source": [
    "import pandas as pd\n",
    "real_data_pd = pd.DataFrame(real_data)\n",
    "real_data_pd.head()"
   ]
  },
  {
   "cell_type": "code",
   "execution_count": 43,
   "metadata": {},
   "outputs": [
    {
     "data": {
      "text/html": [
       "<div>\n",
       "<style scoped>\n",
       "    .dataframe tbody tr th:only-of-type {\n",
       "        vertical-align: middle;\n",
       "    }\n",
       "\n",
       "    .dataframe tbody tr th {\n",
       "        vertical-align: top;\n",
       "    }\n",
       "\n",
       "    .dataframe thead th {\n",
       "        text-align: right;\n",
       "    }\n",
       "</style>\n",
       "<table border=\"1\" class=\"dataframe\">\n",
       "  <thead>\n",
       "    <tr style=\"text-align: right;\">\n",
       "      <th></th>\n",
       "      <th>0</th>\n",
       "      <th>1</th>\n",
       "      <th>2</th>\n",
       "      <th>3</th>\n",
       "      <th>4</th>\n",
       "      <th>5</th>\n",
       "      <th>6</th>\n",
       "      <th>7</th>\n",
       "      <th>8</th>\n",
       "      <th>9</th>\n",
       "      <th>10</th>\n",
       "      <th>11</th>\n",
       "      <th>12</th>\n",
       "      <th>13</th>\n",
       "      <th>14</th>\n",
       "      <th>15</th>\n",
       "      <th>16</th>\n",
       "      <th>17</th>\n",
       "    </tr>\n",
       "  </thead>\n",
       "  <tbody>\n",
       "    <tr>\n",
       "      <th>508</th>\n",
       "      <td>2020/10/05 0806</td>\n",
       "      <td>2020/10/05 1700</td>\n",
       "      <td>2020/10/06 1400</td>\n",
       "      <td>...</td>\n",
       "      <td>...</td>\n",
       "      <td>...</td>\n",
       "      <td>...</td>\n",
       "      <td>Y</td>\n",
       "      <td>...</td>\n",
       "      <td>2</td>\n",
       "      <td>20</td>\n",
       "      <td>350</td>\n",
       "      <td>370</td>\n",
       "      <td>10</td>\n",
       "      <td>2</td>\n",
       "      <td>-40 Q</td>\n",
       "      <td>300</td>\n",
       "      <td>2020/09/29 1209 D?</td>\n",
       "    </tr>\n",
       "    <tr>\n",
       "      <th>509</th>\n",
       "      <td>2020/12/10 0210</td>\n",
       "      <td>2020/12/10 2300</td>\n",
       "      <td>2020/12/13 0400</td>\n",
       "      <td>...</td>\n",
       "      <td>...</td>\n",
       "      <td>...</td>\n",
       "      <td>...</td>\n",
       "      <td>Y</td>\n",
       "      <td>...</td>\n",
       "      <td>2</td>\n",
       "      <td>110</td>\n",
       "      <td>440</td>\n",
       "      <td>570</td>\n",
       "      <td>5</td>\n",
       "      <td>0</td>\n",
       "      <td>-10 Q</td>\n",
       "      <td>720</td>\n",
       "      <td>2020/12/07 1624H D</td>\n",
       "    </tr>\n",
       "    <tr>\n",
       "      <th>510</th>\n",
       "      <td>2021/02/23 0200</td>\n",
       "      <td>2021/02/23 0800</td>\n",
       "      <td>2021/02/24 1500</td>\n",
       "      <td>...</td>\n",
       "      <td>...</td>\n",
       "      <td>...</td>\n",
       "      <td>...</td>\n",
       "      <td>Y</td>\n",
       "      <td>...</td>\n",
       "      <td>3W</td>\n",
       "      <td>40</td>\n",
       "      <td>510</td>\n",
       "      <td>590</td>\n",
       "      <td>5</td>\n",
       "      <td>0</td>\n",
       "      <td>-31 Q</td>\n",
       "      <td>670</td>\n",
       "      <td>2021/02/20 1136 D</td>\n",
       "    </tr>\n",
       "    <tr>\n",
       "      <th>511</th>\n",
       "      <td>2021/05/12 0640</td>\n",
       "      <td>2021/05/12 1500</td>\n",
       "      <td>2021/05/14 2000</td>\n",
       "      <td>...</td>\n",
       "      <td>...</td>\n",
       "      <td>...</td>\n",
       "      <td>...</td>\n",
       "      <td>Y</td>\n",
       "      <td>...</td>\n",
       "      <td>2</td>\n",
       "      <td>120</td>\n",
       "      <td>410</td>\n",
       "      <td>500</td>\n",
       "      <td>8</td>\n",
       "      <td>2</td>\n",
       "      <td>-61 Q</td>\n",
       "      <td>620</td>\n",
       "      <td>2021/05/09 1123 D</td>\n",
       "    </tr>\n",
       "    <tr>\n",
       "      <th>512</th>\n",
       "      <td>2021/05/26 1246</td>\n",
       "      <td>2021/05/26 2200</td>\n",
       "      <td>2021/05/28 0300</td>\n",
       "      <td>...</td>\n",
       "      <td>...</td>\n",
       "      <td>...</td>\n",
       "      <td>...</td>\n",
       "      <td>...</td>\n",
       "      <td>...</td>\n",
       "      <td>3</td>\n",
       "      <td>40</td>\n",
       "      <td>410</td>\n",
       "      <td>430</td>\n",
       "      <td>9</td>\n",
       "      <td>0</td>\n",
       "      <td>-28 Q</td>\n",
       "      <td>550-700</td>\n",
       "      <td>2021/05/23 0953, 1138, 1738, 2525 D</td>\n",
       "    </tr>\n",
       "  </tbody>\n",
       "</table>\n",
       "</div>"
      ],
      "text/plain": [
       "                  0                1                2    3    4    5    6   \\\n",
       "508  2020/10/05 0806  2020/10/05 1700  2020/10/06 1400  ...  ...  ...  ...   \n",
       "509  2020/12/10 0210  2020/12/10 2300  2020/12/13 0400  ...  ...  ...  ...   \n",
       "510  2021/02/23 0200  2021/02/23 0800  2021/02/24 1500  ...  ...  ...  ...   \n",
       "511  2021/05/12 0640  2021/05/12 1500  2021/05/14 2000  ...  ...  ...  ...   \n",
       "512  2021/05/26 1246  2021/05/26 2200  2021/05/28 0300  ...  ...  ...  ...   \n",
       "\n",
       "      7    8   9    10   11   12  13 14     15       16  \\\n",
       "508    Y  ...   2   20  350  370  10  2  -40 Q      300   \n",
       "509    Y  ...   2  110  440  570   5  0  -10 Q      720   \n",
       "510    Y  ...  3W   40  510  590   5  0  -31 Q      670   \n",
       "511    Y  ...   2  120  410  500   8  2  -61 Q      620   \n",
       "512  ...  ...   3   40  410  430   9  0  -28 Q  550-700   \n",
       "\n",
       "                                      17  \n",
       "508                   2020/09/29 1209 D?  \n",
       "509                   2020/12/07 1624H D  \n",
       "510                    2021/02/20 1136 D  \n",
       "511                    2021/05/09 1123 D  \n",
       "512  2021/05/23 0953, 1138, 1738, 2525 D  "
      ]
     },
     "execution_count": 43,
     "metadata": {},
     "output_type": "execute_result"
    }
   ],
   "source": [
    "real_data_pd.tail()"
   ]
  },
  {
   "cell_type": "code",
   "execution_count": 44,
   "metadata": {},
   "outputs": [
    {
     "name": "stdout",
     "output_type": "stream",
     "text": [
      "<class 'pandas.core.frame.DataFrame'>\n",
      "RangeIndex: 513 entries, 0 to 512\n",
      "Data columns (total 18 columns):\n",
      "0     513 non-null object\n",
      "1     513 non-null object\n",
      "2     513 non-null object\n",
      "3     513 non-null object\n",
      "4     513 non-null object\n",
      "5     513 non-null object\n",
      "6     513 non-null object\n",
      "7     513 non-null object\n",
      "8     513 non-null object\n",
      "9     513 non-null object\n",
      "10    513 non-null object\n",
      "11    513 non-null object\n",
      "12    513 non-null object\n",
      "13    513 non-null object\n",
      "14    513 non-null object\n",
      "15    513 non-null object\n",
      "16    513 non-null object\n",
      "17    513 non-null object\n",
      "dtypes: object(18)\n",
      "memory usage: 72.2+ KB\n"
     ]
    }
   ],
   "source": [
    "real_data_pd.info()"
   ]
  },
  {
   "cell_type": "code",
   "execution_count": 45,
   "metadata": {},
   "outputs": [
    {
     "data": {
      "text/html": [
       "<div>\n",
       "<style scoped>\n",
       "    .dataframe tbody tr th:only-of-type {\n",
       "        vertical-align: middle;\n",
       "    }\n",
       "\n",
       "    .dataframe tbody tr th {\n",
       "        vertical-align: top;\n",
       "    }\n",
       "\n",
       "    .dataframe thead th {\n",
       "        text-align: right;\n",
       "    }\n",
       "</style>\n",
       "<table border=\"1\" class=\"dataframe\">\n",
       "  <thead>\n",
       "    <tr style=\"text-align: right;\">\n",
       "      <th></th>\n",
       "      <th>count</th>\n",
       "      <th>unique</th>\n",
       "      <th>top</th>\n",
       "      <th>freq</th>\n",
       "    </tr>\n",
       "  </thead>\n",
       "  <tbody>\n",
       "    <tr>\n",
       "      <th>0</th>\n",
       "      <td>513</td>\n",
       "      <td>513</td>\n",
       "      <td>2001/09/30 1924</td>\n",
       "      <td>1</td>\n",
       "    </tr>\n",
       "    <tr>\n",
       "      <th>1</th>\n",
       "      <td>513</td>\n",
       "      <td>513</td>\n",
       "      <td>2000/07/14 1700</td>\n",
       "      <td>1</td>\n",
       "    </tr>\n",
       "    <tr>\n",
       "      <th>2</th>\n",
       "      <td>513</td>\n",
       "      <td>513</td>\n",
       "      <td>2012/07/23 1600</td>\n",
       "      <td>1</td>\n",
       "    </tr>\n",
       "    <tr>\n",
       "      <th>3</th>\n",
       "      <td>513</td>\n",
       "      <td>31</td>\n",
       "      <td>...</td>\n",
       "      <td>236</td>\n",
       "    </tr>\n",
       "    <tr>\n",
       "      <th>4</th>\n",
       "      <td>513</td>\n",
       "      <td>41</td>\n",
       "      <td>...</td>\n",
       "      <td>236</td>\n",
       "    </tr>\n",
       "    <tr>\n",
       "      <th>5</th>\n",
       "      <td>513</td>\n",
       "      <td>19</td>\n",
       "      <td>...</td>\n",
       "      <td>410</td>\n",
       "    </tr>\n",
       "    <tr>\n",
       "      <th>6</th>\n",
       "      <td>513</td>\n",
       "      <td>41</td>\n",
       "      <td>...</td>\n",
       "      <td>410</td>\n",
       "    </tr>\n",
       "    <tr>\n",
       "      <th>7</th>\n",
       "      <td>513</td>\n",
       "      <td>4</td>\n",
       "      <td>Y</td>\n",
       "      <td>346</td>\n",
       "    </tr>\n",
       "    <tr>\n",
       "      <th>8</th>\n",
       "      <td>513</td>\n",
       "      <td>4</td>\n",
       "      <td>...</td>\n",
       "      <td>400</td>\n",
       "    </tr>\n",
       "    <tr>\n",
       "      <th>9</th>\n",
       "      <td>513</td>\n",
       "      <td>5</td>\n",
       "      <td>2</td>\n",
       "      <td>255</td>\n",
       "    </tr>\n",
       "    <tr>\n",
       "      <th>10</th>\n",
       "      <td>513</td>\n",
       "      <td>63</td>\n",
       "      <td>0</td>\n",
       "      <td>62</td>\n",
       "    </tr>\n",
       "    <tr>\n",
       "      <th>11</th>\n",
       "      <td>513</td>\n",
       "      <td>51</td>\n",
       "      <td>400</td>\n",
       "      <td>36</td>\n",
       "    </tr>\n",
       "    <tr>\n",
       "      <th>12</th>\n",
       "      <td>513</td>\n",
       "      <td>68</td>\n",
       "      <td>460</td>\n",
       "      <td>30</td>\n",
       "    </tr>\n",
       "    <tr>\n",
       "      <th>13</th>\n",
       "      <td>513</td>\n",
       "      <td>25</td>\n",
       "      <td>8</td>\n",
       "      <td>60</td>\n",
       "    </tr>\n",
       "    <tr>\n",
       "      <th>14</th>\n",
       "      <td>513</td>\n",
       "      <td>4</td>\n",
       "      <td>2</td>\n",
       "      <td>178</td>\n",
       "    </tr>\n",
       "    <tr>\n",
       "      <th>15</th>\n",
       "      <td>513</td>\n",
       "      <td>223</td>\n",
       "      <td>-36</td>\n",
       "      <td>9</td>\n",
       "    </tr>\n",
       "    <tr>\n",
       "      <th>16</th>\n",
       "      <td>513</td>\n",
       "      <td>126</td>\n",
       "      <td>...</td>\n",
       "      <td>247</td>\n",
       "    </tr>\n",
       "    <tr>\n",
       "      <th>17</th>\n",
       "      <td>513</td>\n",
       "      <td>252</td>\n",
       "      <td></td>\n",
       "      <td>235</td>\n",
       "    </tr>\n",
       "  </tbody>\n",
       "</table>\n",
       "</div>"
      ],
      "text/plain": [
       "   count unique              top freq\n",
       "0    513    513  2001/09/30 1924    1\n",
       "1    513    513  2000/07/14 1700    1\n",
       "2    513    513  2012/07/23 1600    1\n",
       "3    513     31              ...  236\n",
       "4    513     41              ...  236\n",
       "5    513     19              ...  410\n",
       "6    513     41              ...  410\n",
       "7    513      4                Y  346\n",
       "8    513      4              ...  400\n",
       "9    513      5                2  255\n",
       "10   513     63                0   62\n",
       "11   513     51              400   36\n",
       "12   513     68              460   30\n",
       "13   513     25                8   60\n",
       "14   513      4                2  178\n",
       "15   513    223              -36    9\n",
       "16   513    126              ...  247\n",
       "17   513    252                   235"
      ]
     },
     "execution_count": 45,
     "metadata": {},
     "output_type": "execute_result"
    }
   ],
   "source": [
    "real_data_pd.describe().T"
   ]
  },
  {
   "cell_type": "markdown",
   "metadata": {},
   "source": [
    "## Save data"
   ]
  },
  {
   "cell_type": "code",
   "execution_count": 46,
   "metadata": {},
   "outputs": [],
   "source": [
    "file_path = \"../Data/\"\n",
    "file_name = \"Data_ICME_scraped.csv\"\n",
    "real_data_pd.to_csv(file_path+file_name)"
   ]
  },
  {
   "cell_type": "code",
   "execution_count": 377,
   "metadata": {},
   "outputs": [],
   "source": [
    "# csv_path = \"../Data/Data_ICME_scraped.csv\"\n",
    "# df = pd.read_csv(csv_path, index_col='0', parse_dates=True)"
   ]
  },
  {
   "cell_type": "code",
   "execution_count": null,
   "metadata": {},
   "outputs": [],
   "source": []
  }
 ],
 "metadata": {
  "kernelspec": {
   "display_name": "Python 3",
   "language": "python",
   "name": "python3"
  },
  "language_info": {
   "codemirror_mode": {
    "name": "ipython",
    "version": 3
   },
   "file_extension": ".py",
   "mimetype": "text/x-python",
   "name": "python",
   "nbconvert_exporter": "python",
   "pygments_lexer": "ipython3",
   "version": "3.7.0"
  }
 },
 "nbformat": 4,
 "nbformat_minor": 5
}

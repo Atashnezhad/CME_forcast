{
 "cells": [
  {
   "cell_type": "code",
   "execution_count": 1,
   "metadata": {},
   "outputs": [],
   "source": [
    "import os, sys\n",
    "import requests\n",
    "from urllib.parse import urljoin, urlparse\n",
    "from bs4 import BeautifulSoup\n",
    "import re"
   ]
  },
  {
   "cell_type": "markdown",
   "metadata": {},
   "source": [
    "## Request\n",
    "Send request to the data source table webpage [here](http://www.srl.caltech.edu/ACE/ASC/DATA/level3/icmetable2.htm#(k))"
   ]
  },
  {
   "cell_type": "code",
   "execution_count": 23,
   "metadata": {},
   "outputs": [],
   "source": [
    "url = \"http://www.srl.caltech.edu/ACE/ASC/DATA/level3/icmetable2.htm#(k)\"\n",
    "r = requests.get(url)\n",
    "soup = BeautifulSoup(r.text, 'html.parser')"
   ]
  },
  {
   "cell_type": "markdown",
   "metadata": {},
   "source": [
    "## Searching for content"
   ]
  },
  {
   "cell_type": "code",
   "execution_count": 83,
   "metadata": {},
   "outputs": [
    {
     "data": {
      "text/plain": [
       "[<table align=\"center\" bgcolor=\"#ECFFFF\" border=\"1\" cellpadding=\"1\" cellspacing=\"0\" columns=\"18\" width=\"1500\">\n",
       " <thead>\n",
       " <tr align=\"center\"><td><b>Disturbance Y/M/D (UT) <a href=\"#(a)\">(a)</a></b> </td><td colspan=\"2\">\n",
       " <b>ICME Plasma/Field Start, End Y/M/D (UT) <a href=\"#(b)\">(b)</a> </b> </td><td colspan=\"2\">\n",
       " <b>Comp. Start, End (Hrs wrt. Plasma/ Field) <a href=\"#(c)\">(c)</a></b> </td><td colspan=\"2\">\n",
       " <b>MC Start, End (Hrs wrt. Plasma/ Field) <a href=\"#(d)\">(d)</a></b> </td><td>\n",
       " <b>BDE? <a href=\"#(e)\">(e)</a></b> </td><td>\n",
       " <b>BIF? <a href=\"#(f)\">(f)</a></b> </td><td>\n",
       " <b> Qual. <a href=\"#(g)\">(g)</a></b></td><td>\n",
       " <b>dV (km/s) <a href=\"#(h)\">(h)</a></b> </td><td>\n",
       " <b>V_ICME (km/s) <a href=\"#(i)\">(i)</a></b> </td><td>\n",
       " <b>V_max (km/s) <a href=\"#(j)\">(j)</a></b> </td><td>\n",
       " <b>B (nT) <a href=\"#(k)\">(k)</a></b> </td><td>\n",
       " <b>MC? <a href=\"#(l)\">(l)</a></b> </td><td>\n",
       " <b>Dst (nT) <a href=\"#(m)\">(m)</a></b> </td><td>\n",
       " <b>V_transit (km/s) <a href=\"#(n)\">(n)</a></b> </td><td>\n",
       " <b>LASCO CME Y/M/D (UT)<a href=\"#(o)\"> (o)</a></b></td></tr>\n",
       " </thead>\n",
       " <tr align=\"center\"><td>1996/05/27 1500 </td><td>1996/05/27 1500 </td><td> 1996/05/29 0300 </td><td>... </td><td>... </td><td> 0 </td><td> +4 </td><td>N </td><td>... </td><td> 2 </td><td>0  </td><td>370 </td><td>  400 </td><td>   9 </td><td>  2 </td><td>            -33 </td><td> ... </td><td> </td></tr>\n",
       " <tr align=\"center\"><td>1996/07/01 1320 </td><td>1996/07/01 1800 </td><td> 1996/07/02 1100 </td><td>... </td><td>... </td><td> 0  </td><td> 0 </td><td>N </td><td>... </td><td> 3 </td><td>  40  </td><td>360 </td><td>  370 </td><td>  11 </td><td>  2 </td><td>         -20 </td><td> ... </td><td>    </td> </tr>\n",
       " <tr align=\"center\"><td>1996/08/07 0600 </td><td>1996/08/07 1200 </td><td> 1996/08/08 1000 </td><td>... </td><td>... </td><td>0 </td><td> 0 </td><td>N </td><td>... </td><td> 2 </td><td>10  </td><td>350 </td><td>  380 </td><td>   7 </td><td>  2 </td><td>         -23 </td><td> ... </td><td> </td></tr>\n",
       " <tr align=\"center\"><td>1996/12/23 1600 </td><td>1996/12/23 1700 </td><td> 1996/12/25 1100 </td><td>... </td><td>... </td><td>+10 </td><td>0  </td><td>N </td><td>... </td><td> 2 </td><td>20  </td><td>360 </td><td>  420 </td><td>  10 </td><td>  2 </td><td>         -18 </td><td> 435 </td><td> 1996/12/19 1630 H   </td></tr>\n",
       " <thead>\n",
       " <tr align=\"center\"><td><b>Disturbance Y/M/D (UT) <a href=\"#(a)\">(a)</a></b> </td><td colspan=\"2\">\n",
       " <b>ICME Plasma/Field Start, End Y/M/D (UT) <a href=\"#(b)\">(b)</a> </b> </td><td colspan=\"2\">\n",
       " <b>Comp. Start, End (Hrs wrt. Plasma/ Field) <a href=\"#(c)\">(c)</a></b> </td><td colspan=\"2\">\n",
       " <b>MC Start, End (Hrs wrt. Plasma/ Field) <a href=\"#(d)\">(d)</a></b> </td><td>\n",
       " <b>BDE? <a href=\"#(e)\">(e)</a></b> </td><td>\n",
       " <b>BIF? <a href=\"#(f)\">(f)</a></b> </td><td>\n",
       " <b> Qual. <a href=\"#(g)\">(g)</a></b></td><td>\n",
       " <b>dV (km/s) <a href=\"#(h)\">(h)</a></b> </td><td>\n",
       " <b>V_ICME (km/s) <a href=\"#(i)\">(i)</a></b> </td><td>\n",
       " <b>V_max (km/s) <a href=\"#(j)\">(j)</a></b> </td><td>\n",
       " <b>B (nT) <a href=\"#(k)\">(k)</a></b> </td><td>\n",
       " <b>MC? <a href=\"#(l)\">(l)</a></b> </td><td>\n",
       " <b>Dst (nT) <a href=\"#(m)\">(m)</a></b> </td><td>\n",
       " <b>V_transit (km/s) <a href=\"#(n)\">(n)</a></b> </td><td>\n",
       " <b>LASCO CME Y/M/D (UT)<a href=\"#(o)\"> (o)</a></b></td></tr>\n",
       " </thead>\n",
       " <tr align=\"center\"><td>1997/01/10 0104 </td><td>  1997/01/10 0400 </td><td> 1997/01/11 0200 </td><td>... </td><td>... </td><td>0 </td><td>0 </td><td>Y </td><td>... </td><td> 1 </td><td>  100 S</td><td>450 </td><td>  460 </td><td>  14 </td><td>  2 </td><td>       -78 </td><td> 507 </td><td> 1997/01/06 1510 H   </td></tr>\n",
       " <tr align=\"center\"><td>1997/02/09 1321 </td><td>  1997/02/10 0200 </td><td> 1997/02/10 1900 </td><td>... </td><td>... </td><td>0 </td><td>0 </td><td>Y </td><td>... </td><td> 2 </td><td> 90  S</td><td>450 </td><td>  600 </td><td>   8 </td><td>  2 </td><td>       -68 </td><td> 683 </td><td> 1997/02/07 0030 H </td></tr>\n",
       " <tr align=\"center\"><td>1997/04/10 1745 </td><td>  1997/04/11 0600 </td><td> 1997/04/11 1900 </td><td>... </td><td>... </td><td>0 </td><td>0 </td><td>Y </td><td>... </td><td> 1 </td><td>  150  </td><td>460 </td><td>  470 </td><td>  20 </td><td>  2 </td><td>    -82 </td><td> 552 </td><td> 1997/04/07 1427 H</td></tr>\n",
       " <tr align=\"center\"><td> 1997/04/21 0600 </td><td>  1997/04/21 1000 </td><td> 1997/04/23 0400 </td><td>... </td><td>... </td><td>+4 </td><td>+2 </td><td>Y </td><td>... </td><td> 2 </td><td>40  </td><td>360 </td><td>  420 </td><td>  12 </td><td>  2 </td><td>   -107 </td><td> ... </td><td> </td></tr>\n",
       " <tr align=\"center\"><td> 1997/05/15 0159 </td><td>  1997/05/15 0900 </td><td> 1997/05/16 0000 </td><td>... </td><td>... </td><td>0 </td><td>0 </td><td>N </td><td>Y </td><td> 1 </td><td> 150 S </td><td>450 </td><td>  480 </td><td>  21 </td><td>  2 </td><td>         -115 </td><td> 616 </td><td> 1997/05/12 0530 H </td></tr>\n",
       " <tr align=\"center\"><td> 1997/05/26 0957 </td><td>  1997/05/26 1600 </td><td> 1997/05/27 1000 </td><td>... </td><td>... </td><td>0 </td><td>+9 </td><td>Y </td><td>... </td><td> 2 </td><td>  70 S  </td><td>340 </td><td>  350 </td><td>  10 </td><td>  2H </td><td>          -74 </td><td> 381 </td><td> 1997/05/21 2100</td></tr>\n",
       " <tr align=\"center\"><td>1997/06/08 1636 </td><td>  1997/06/08 1800 </td><td> 1997/06/10 0000 </td><td>... </td><td>... </td><td>+8 </td><td>0 </td><td>Y </td><td>... </td><td> 3 </td><td>  30  </td><td>380 </td><td>  400 </td><td>  12 </td><td>  2 </td><td>       -84 </td><td> ... </td><td> </td></tr>\n",
       " <tr align=\"center\"><td>1997/06/19 0032 </td><td>  1997/06/19 0700 </td><td> 1997/06/20 2300 </td><td>... </td><td>... </td><td>-2 </td><td>-31 </td><td>Y </td><td>Y </td><td> 2 </td><td>  60  </td><td>360 </td><td>  390 </td><td>   8 </td><td>  2 </td><td>       -36 </td><td> ... </td><td> </td></tr>\n",
       " <tr align=\"center\"><td>1997/07/15 0311 </td><td>  1997/07/15 0800 </td><td> 1997/07/16 1100 </td><td>... </td><td>... </td><td>0 </td><td>-11 </td><td>Y </td><td>Y </td><td> 2 </td><td>  80  </td><td>350 </td><td>  360 </td><td>  10 </td><td>  2 </td><td>       -45 </td><td> ... </td><td> </td></tr>\n",
       " <tr align=\"center\"><td>1997/08/03 1042 </td><td>  1997/08/03 1300 </td><td> 1997/08/04 0300 </td><td>... </td><td>... </td><td>0 </td><td>0 </td><td>Y </td><td>... </td><td> 1 </td><td>  80  </td><td>400 </td><td>  480 </td><td>  16 </td><td>  2 </td><td>       -48 </td><td> 410 </td><td> 1997/07/30 0445 H</td></tr>\n",
       " <tr align=\"center\"><td>1997/08/17 0200 </td><td>  1997/08/17 0600 </td><td> 1997/08/17 2000 </td><td>... </td><td>... </td><td>... </td><td>... </td><td>N </td><td>... </td><td> 2W </td><td>60  </td><td>390 </td><td>  410 </td><td>   7 </td><td>  0 </td><td>       -28 </td><td> ... </td><td> </td></tr>\n",
       " <tr align=\"center\"><td>1997/09/03 0800 </td><td>  1997/09/03 1300 </td><td> 1997/09/03 2100 </td><td>... </td><td>... </td><td>... </td><td>... </td><td>Y </td><td>N </td><td> 3W </td><td>40 S </td><td>410 </td><td>  430 </td><td>  14 </td><td>  1 </td><td>    -98 </td><td> 405 </td><td> 1997/08/30 0130 H</td></tr>\n",
       " <tr align=\"center\"><td>1997/09/21 1651 </td><td>  1997/09/21 2100 </td><td> 1997/09/22 1600 </td><td>... </td><td>... </td><td>+3 </td><td>0 </td><td>N </td><td>... </td><td> 1 </td><td>  110  </td><td>440 </td><td>  470 </td><td>  16 </td><td>  2 </td><td>    -36 </td><td> 450 </td><td> 1997/09/17 2028 H   </td></tr>\n",
       " <tr align=\"center\"><td>1997/10/01 0059 </td><td>  1997/10/01 1600 </td><td> 1997/10/02 2300 </td><td>... </td><td>... </td><td>0 </td><td>0 </td><td>Y </td><td>N </td><td> 1 </td><td> 60 S </td><td>450 </td><td>  470 </td><td>  10 </td><td>  2 </td><td>       -98 </td><td> 580 </td><td> 1997/09/28 0108 H </td></tr>\n",
       " <tr align=\"center\"><td>1997/10/10 0300 </td><td>  1997/10/10 1100 </td><td> 1997/10/10 2200 </td><td>... </td><td>... </td><td>... </td><td>... </td><td>Y </td><td>... </td><td>2 </td><td>30 </td><td>430 </td><td>460 </td><td>   8 </td><td>  1 </td><td>    -64       </td><td>...     </td><td> </td></tr>\n",
       " <tr align=\"center\"><td>1997/10/10 1612 </td><td>  1997/10/10 2200 </td><td> 1997/10/12 0000 </td><td>... </td><td>... </td><td>0 </td><td>0 </td><td>Y </td><td>Y </td><td> 1 </td><td> 40 S </td><td>400 </td><td>  450 </td><td>  12 </td><td>  2 </td><td>      -130 </td><td> 430 </td><td> 1997/10/06 1528    </td></tr>\n",
       " <tr align=\"center\"><td>1997/10/26 1200 </td><td>  1997/10/27 0000 </td><td> 1997/10/28 0700 </td><td>... </td><td>... </td><td>... </td><td>... </td><td>Y </td><td>... </td><td> 2 </td><td>40  </td><td>500 </td><td>  520 </td><td>   7 </td><td>  1 </td><td>       -60 </td><td> 572 </td><td> 1997/10/23 1126 H</td></tr>\n",
       " <tr align=\"center\"><td> 1997/11/06 2248 </td><td>  1997/11/07 0400 </td><td> 1997/11/09 1200 </td><td>... </td><td>... </td><td>+11 </td><td>-21 (2 MCs) </td><td>Y </td><td>N </td><td> 2 </td><td> 140 S </td><td>400 </td><td>  460 </td><td>  11 </td><td>  2 </td><td>       -110 </td><td> 640 </td><td> 1997/11/04 0610 H</td></tr>\n",
       " <tr align=\"center\"><td>1997/11/22 0949 </td><td>  1997/11/22 1900 </td><td> 1997/11/23 1400 </td><td>... </td><td>... </td><td>0 </td><td>-2 </td><td>Y </td><td>... </td><td> 1 </td><td> 170 S </td><td>510 </td><td>  520 </td><td>  17 </td><td>  2 </td><td>      -108 </td><td> 640 </td><td> dg (1997/11/19 1700)</td></tr>\n",
       " <tr align=\"center\"><td>1997/11/23 1900 </td><td> 1997/11/24 0000  </td><td>1997/11/25 0000 </td><td>... </td><td>... </td><td>...  </td><td>...  </td><td>Y </td><td>...  </td><td>2  </td><td>100  </td><td>530  </td><td>590  </td><td>  5    </td><td> 0   </td><td>-47        </td><td>...      </td><td>   </td></tr>\n",
       " <tr align=\"center\"><td>1997/12/10 0526 </td><td>  1997/12/10 1800 </td><td> 1997/12/12 0000 </td><td>... </td><td>... </td><td>... </td><td>... </td><td>... </td><td>... </td><td> 2 </td><td> 50 S </td><td>350 </td><td>  380 </td><td>  12 </td><td>  0 </td><td>       -60 </td><td> 460 </td><td> 1997/12/06 1027</td></tr>\n",
       " <tr align=\"center\"><td> 1997/12/30 0209 </td><td>  1997/12/30 1000 </td><td> 1997/12/31 1100 </td><td>... </td><td>... </td><td>... </td><td>... </td><td>Y </td><td>... </td><td> 3 </td><td> 50 S </td><td>370 </td><td>  410 </td><td>  12 </td><td>  1 </td><td>       -77 </td><td> 430 </td><td> 1997/12/26 0231 </td></tr>\n",
       " <thead>\n",
       " <tr align=\"center\"><td><b>Disturbance Y/M/D (UT) <a href=\"#(a)\">(a)</a></b> </td><td colspan=\"2\">\n",
       " <b>ICME Plasma/Field Start, End Y/M/D (UT) <a href=\"#(b)\">(b)</a> </b> </td><td colspan=\"2\">\n",
       " <b>Comp. Start, End (Hrs wrt. Plasma/ Field) <a href=\"#(c)\">(c)</a></b> </td><td colspan=\"2\">\n",
       " <b>MC Start, End (Hrs wrt. Plasma/ Field) <a href=\"#(d)\">(d)</a></b> </td><td>\n",
       " <b>BDE? <a href=\"#(e)\">(e)</a></b> </td><td>\n",
       " <b>BIF? <a href=\"#(f)\">(f)</a></b> </td><td>\n",
       " <b> Qual. <a href=\"#(g)\">(g)</a></b></td><td>\n",
       " <b>dV (km/s) <a href=\"#(h)\">(h)</a></b> </td><td>\n",
       " <b>V_ICME (km/s) <a href=\"#(i)\">(i)</a></b> </td><td>\n",
       " <b>V_max (km/s) <a href=\"#(j)\">(j)</a></b> </td><td>\n",
       " <b>B (nT) <a href=\"#(k)\">(k)</a></b> </td><td>\n",
       " <b>MC? <a href=\"#(l)\">(l)</a></b> </td><td>\n",
       " <b>Dst (nT) <a href=\"#(m)\">(m)</a></b> </td><td>\n",
       " <b>V_transit (km/s) <a href=\"#(n)\">(n)</a></b> </td><td>\n",
       " <b>LASCO CME Y/M/D (UT)<a href=\"#(o)\"> (o)</a></b></td></tr>\n",
       " </thead>\n",
       " <tr align=\"center\"><td>\n",
       "  1998/01/06 1416</td><td>  1998/01/07 0100</td><td> 1998/01/08 2200</td><td>...</td><td>...</td><td>+2</td><td>0 (2 MCs) </td><td>Y</td><td>..</td><td> 2</td><td> 80 S</td><td>400</td><td>  410</td><td>  16</td><td>  2</td><td>       -77</td><td> 480</td><td> 1998/01/02 2328 H   </td></tr><tr align=\"center\"><td>\n",
       "  1998/01/09 0700</td><td>  1998/01/09 0700</td><td> 1998/01/10 0800</td><td>...</td><td>...</td><td>...</td><td>...</td><td>N</td><td>...</td><td> 2</td><td>0 </td><td>450</td><td>  500</td><td>   6</td><td>  1</td><td>       -28</td><td> ...</td><td>        </td> </tr><tr align=\"center\"><td>\n",
       "  1998/01/20 0000</td><td>  1998/01/20 1700</td><td> 1998/01/21 0400</td><td>...</td><td>...</td><td>...</td><td>...</td><td>Y</td><td>...</td><td> 3W</td><td>50 </td><td>430</td><td>  450</td><td>   5</td><td>  1</td><td>       -29</td><td> ...</td><td>      </td> </tr><tr align=\"center\"><td>\n",
       "  1998/01/21 0400</td><td>  1998/01/21 0600</td><td> 1998/01/22 1300</td><td>...</td><td>...</td><td>...</td><td>...</td><td>N</td><td>...</td><td> 3W</td><td>0 </td><td>380</td><td>  400</td><td>  13</td><td>  0</td><td>     -11</td><td> 430</td><td> 1998/01/17 0409 H </td></tr><tr align=\"center\"><td>\n",
       "  1998/01/28 1600(A)</td><td>  1998/01/29 2000</td><td> 1998/01/31 0100</td><td>...</td><td>...</td><td>...</td><td>...</td><td>Y</td><td>N</td><td> 2</td><td>30 S </td><td>380</td><td>  410</td><td>   7</td><td>  0</td><td>     -55</td><td> 557</td><td> 1998/01/25 1526 H  </td></tr><tr align=\"center\"><td>\n",
       "  1998/02/04 0000</td><td>  1998/02/04 0400</td><td> 1998/02/05 2300</td><td>...</td><td>...</td><td>0</td><td>0</td><td>Y</td><td>...</td><td> 1</td><td>50 </td><td>320</td><td>  390</td><td>  11</td><td>  2</td><td>       -34</td><td> ...</td><td>    </td> </tr><tr align=\"center\"><td>\n",
       "  1998/02/17 0400</td><td>  1998/02/17 1000</td><td> 1998/02/17 2100</td><td>ns</td><td>ns</td><td>0</td><td>+7</td><td>Y</td><td>...</td><td> 2W</td><td>30 </td><td>400</td><td>  420</td><td>  12</td><td>  2H</td><td>      -100</td><td> 602</td><td> 1998/02/14 0655  </td></tr><tr align=\"center\"><td>\n",
       "  1998/02/18 0750(A)</td><td>  1998/02/19 0100</td><td> <b></b>1998/02/20 0000</td><td>-3</td><td>...</td><td>...</td><td>...</td><td>N</td><td>...</td><td> 2</td><td>20 S</td><td>440</td><td>  460</td><td>   9</td><td>  1</td><td>    -51</td><td> ...</td><td>       </td> </tr><tr align=\"center\"><td>\n",
       "  1998/03/04 1156</td><td>  1998/03/04 1300</td><td> 1998/03/06 0900</td><td>0</td><td>-9</td><td>0</td><td>-3</td><td>N</td><td>...</td><td> 1</td><td>  30 S </td><td>350</td><td>  380</td><td>  12</td><td>  2</td><td>    -36</td><td> 440</td><td> 1998/02/28 1248      </td></tr><tr align=\"center\"><td>\n",
       "  \n",
       "  1998/03/25 1000</td><td>  1998/03/25 1300</td><td> 1998/03/26 1000</td><td>...</td><td>...</td><td>...</td><td>...</td><td>Y</td><td>Y</td><td> 1</td><td>20 </td><td>400</td><td>  400</td><td>  10</td><td>  1</td><td>    -56</td><td> ...</td><td>  </td> </tr><tr align=\"center\"><td>\n",
       "  1998/03/30 2200</td><td>  1998/03/31 1100</td><td>1998/04/03 0200 </td><td>-6</td><td>0</td><td>...</td><td>...</td><td>N</td><td>Y</td><td> 1</td><td>30 </td><td>360   </td><td>430 </td><td> 7</td><td>  0 </td><td> -35 </td><td>... </td><td>    </td> </tr><tr align=\"center\"><td>\n",
       "  1998/04/11 2300</td><td>  1998/04/11 2300</td><td> 1998/04/13 1800</td><td>ns</td><td>ns</td><td>...</td><td>...</td><td>N</td><td>...</td><td> 3W</td><td>20 </td><td>390</td><td>  390</td><td>   8</td><td>  0</td><td>    -46</td><td> ...</td><td>         </td> </tr><tr align=\"center\"><td>\n",
       "  1998/05/01 2156</td><td>  1998/05/02 0500</td><td> 1998/05/04 0200</td><td>-2</td><td>-24</td><td>+7</td><td>-9</td><td>Y</td><td>Y</td><td> 1</td><td> 150 S </td><td>520</td><td>  650</td><td>  11</td><td>  2</td><td>       -85</td><td> 780</td><td> 1998/04/29 1658 H  </td></tr><tr align=\"center\"><td>\n",
       "  1998/05/04 0215(A)</td><td>  1998/05/04 1000</td><td> 1998/05/07 2300</td><td>-7</td><td>0</td><td>...</td><td>...</td><td>Y</td><td>...</td><td> 2</td><td>  250 Wv </td><td>550</td><td>  830</td><td> 10</td><td>  0</td><td> -205</td><td>1150</td><td> 1998/05/02 1406 H<a href=\"#(p)\">(p)</a> </td></tr><tr align=\"center\"><td>\n",
       "  1998/06/02 0800</td><td>  1998/06/02 1000</td><td> 1998/06/02 1800</td><td>...</td><td>...</td><td>0</td><td>0</td><td>N</td><td>...</td><td> 2</td><td>10 </td><td>390</td><td>  400</td><td>  9</td><td>  2</td><td>       -1</td><td> ...</td><td>     </td> </tr><tr align=\"center\"><td>\n",
       "  1998/06/13 1925</td><td>  1998/06/14 0400</td><td> 1998/06/15 0600</td><td>...</td><td>...</td><td>...</td><td>...</td><td>Y</td><td>N</td><td> 3</td><td>  80 S </td><td>340</td><td>  380</td><td>  10</td><td>  1</td><td>       -55</td><td> ...</td><td>      </td> </tr><tr align=\"center\"><td>\n",
       "  1998/06/24 1000</td><td>  1998/06/24 1600</td><td> 1998/06/25 2300</td><td>0</td><td>0</td><td>0</td><td>0</td><td>Y</td><td>...</td><td> 2</td><td>80 </td><td>450</td><td>  540</td><td>  12</td><td>  2</td><td>       -25</td><td> ...</td><td> 1998/06/21 0535?     </td></tr><tr align=\"center\"><td>\n",
       "  1998/06/25 1636</td><td>  1998/06/26 0400</td><td> 1998/06/26 1900</td><td>0</td><td>0</td><td>...</td><td>...</td><td>Y</td><td>...</td><td> 2</td><td>  30 S </td><td>470</td><td>  490</td><td>  11</td><td>  0</td><td>      -101</td><td> ...</td><td>          </td> </tr><tr align=\"center\"><td>\n",
       "  1998/07/05 0315(A)</td><td>  1998/07/06 0600</td><td> 1998/07/09 0700</td><td>0</td><td>...</td><td>...</td><td>...</td><td>N</td><td>...</td><td> 1</td><td>50 S </td><td>450</td><td>  630</td><td>   5</td><td>  0</td><td>       -30</td><td>  dg</td><td> dg               </td></tr><tr align=\"center\"><td>\n",
       "  1998/07/10 2300</td><td>  1998/07/11 0000</td><td> 1998/07/13 1500</td><td>...</td><td>...</td><td>...</td><td>...</td><td>Y</td><td>Y</td><td> 3W</td><td>20 </td><td>400</td><td>  430</td><td>  10</td><td>  0</td><td>       -35</td><td>  dg</td><td> dg           </td></tr><tr align=\"center\"><td>\n",
       "  1998/08/01 0400</td><td>  1998/08/01 0400</td><td> 1998/08/03 1000</td><td>0</td><td>...</td><td>...</td><td>...</td><td>N</td><td>Y</td><td> 3</td><td>30 </td><td>410</td><td>  450</td><td>   7</td><td>  1</td><td>       -6</td><td>  dg</td><td> dg               </td></tr><tr align=\"center\"><td>\n",
       "  1998/08/05 1300</td><td>  1998/08/05 1300</td><td> 1998/08/06 1200</td><td>...</td><td>...</td><td>...</td><td>...</td><td>Y</td><td>Y</td><td> 2W</td><td>0 </td><td>360</td><td>  390</td><td>  8</td><td>  1</td><td>      -138</td><td>  dg</td><td> dg          </td></tr><tr align=\"center\"><td>\n",
       "  1998/08/07 1100</td><td>  1998/08/07 2300</td><td> 1998/08/09 2300</td><td>...</td><td>...</td><td>...</td><td>...</td><td>N</td><td>Y</td><td> 2</td><td>0 </td><td>450</td><td>  500</td><td>   7</td><td>  0</td><td>       -62</td><td>  dg</td><td> dg           </td></tr><tr align=\"center\"><td>\n",
       "  1998/08/10 0046</td><td>  1998/08/10 1100</td><td> 1998/08/10 2200</td><td>ns</td><td>ns</td><td>...</td><td>...</td><td>Y</td><td>N</td><td> 3W</td><td> 100 S </td><td>450</td><td>  500</td><td>  7</td><td>  0</td><td>       -27</td><td>  dg</td><td> dg               </td></tr><tr align=\"center\"><td>\n",
       "  1998/08/11 2300</td><td>  1998/08/12 0100</td><td> 1998/08/13 1400</td><td>ns</td><td>ns</td><td>...</td><td>...</td><td>Y</td><td>...</td><td> 3W</td><td>20 </td><td>370</td><td>  420</td><td>  8</td><td>  1</td><td>       -19</td><td>  dg</td><td> dg               </td></tr><tr align=\"center\"><td>\n",
       "  1998/08/19 1847</td><td>  1998/08/20 0600</td><td> 1998/08/21 2000</td><td>0</td><td>0</td><td>+4</td><td>0</td><td>Y</td><td>Y</td><td> 1</td><td>  50 S </td><td>320</td><td>  340</td><td>  13</td><td>  2</td><td>       -67</td><td>  dg</td><td> dg               </td></tr><tr align=\"center\"><td>\n",
       "  1998/08/26 0651</td><td>  1998/08/26 2200</td><td> 1998/08/28 0000</td><td>0</td><td>+18</td><td>...</td><td>...</td><td>Y</td><td>...</td><td> 2</td><td>200 S </td><td>650</td><td>  860</td><td>  14</td><td>  0</td><td>      -155</td><td>1260</td><td> dg (1998/08/24 2200) </td></tr><tr align=\"center\"><td>\n",
       "  1998/09/23 0200</td><td>1998/09/23 0400</td><td>1998/09/23 1800</td><td>ns</td><td>ns</td><td>...</td><td>...</td><td>Y</td><td>N</td><td>2</td><td> 80</td><td> 420  </td><td>490  </td><td>   7 </td><td>  1  </td><td> -33    </td><td>dg    </td><td> dg   </td></tr><tr align=\"center\"><td>\n",
       "  1998/09/24 2345</td><td>  1998/09/25 0600</td><td> 1998/09/26 1600</td><td>-2</td><td>+4</td><td>+4</td><td>-3</td><td>Y</td><td>Y</td><td> 1</td><td> 300 S </td><td>640</td><td>  820</td><td>  13</td><td>  2</td><td>   -207</td><td>1020</td><td> dg (1998/09/23 0700) </td></tr><tr align=\"center\"><td>\n",
       "  1998/10/18 1952</td><td>  1998/10/19 0400</td><td> 1998/10/20 0700</td><td>0</td><td>0</td><td>0</td><td>-17</td><td>Y</td><td>Y</td><td> 1</td><td> 50 S </td><td>390</td><td>  430</td><td>  18</td><td>  2</td><td>      -112</td><td> 510</td><td> 1998/10/15 1004 H    </td></tr><tr align=\"center\"><td>\n",
       "  1998/10/23 1230(A)</td><td>  1998/10/23 1500</td><td> 1998/10/24 1600</td><td>0</td><td>0</td><td>...</td><td>...</td><td>N</td><td>Y</td><td> 3</td><td>50 S </td><td>520</td><td>  600</td><td>   7</td><td>  0</td><td>    -52</td><td> ...</td><td>           </td> </tr><tr align=\"center\"><td>\n",
       " 1998/11/07 0815</td><td>  1998/11/07 2200</td><td> 1998/11/09 0100</td><td>0</td><td>0</td><td>...</td><td>...</td><td>Y</td><td>...</td><td> 2</td><td> 130 S </td><td>450</td><td>  530</td><td>  15</td><td>  1</td><td>       -81</td><td> 570</td><td> 1998/11/04 0754 H    </td></tr><tr align=\"center\"><td>\n",
       "  1998/11/08 0451</td><td>  1998/11/09 0100</td><td> 1998/11/11 0100</td><td>+8</td><td>+17</td><td>0</td><td>-24</td><td>Y</td><td>...</td><td> 2</td><td>  200 S</td><td>450</td><td>  640</td><td>  12</td><td>  2</td><td>      -149</td><td> 740</td><td> 1998/11/05 2044 H    </td></tr><tr align=\"center\"><td>\n",
       "  1998/11/13 0143</td><td>  1998/11/13 0200</td><td> 1998/11/14 1200</td><td>ns</td><td>ns</td><td>0</td><td>-6</td><td>Y</td><td>N</td><td> 3</td><td>  50 </td><td>390</td><td>  400</td><td>  17</td><td>  2H</td><td>      -131</td><td> 520</td><td> 1998/11/09 1818      </td></tr><tr align=\"center\"><td>\n",
       "  1998/11/30 0507</td><td>  1998/11/30 2100</td><td> 1998/12/01 0400</td><td>0</td><td>0</td><td>...</td><td>...</td><td>Y</td><td>...</td><td> 2</td><td> 100 S </td><td>470</td><td>  480</td><td>   9</td><td>  0</td><td>       -15</td><td> ...</td><td>      </td> </tr><tr align=\"center\"><td>\n",
       "  1998/12/28 1826</td><td>  1998/12/29 1800</td><td> 1998/12/31 0200</td><td>0</td><td>0</td><td>...</td><td>...</td><td>N</td><td>...</td><td> 2</td><td> 30 S </td><td>400</td><td>  410</td><td>   8</td><td>  0</td><td>       -58</td><td>  dg</td><td> dg              </td></tr>\n",
       " <thead>\n",
       " <tr align=\"center\"><td><b>Disturbance Y/M/D (UT) <a href=\"#(a)\">(a)</a></b> </td><td colspan=\"2\">\n",
       " <b>ICME Plasma/Field Start, End Y/M/D (UT) <a href=\"#(b)\">(b)</a> </b> </td><td colspan=\"2\">\n",
       " <b>Comp. Start, End (Hrs wrt. Plasma/ Field) <a href=\"#(c)\">(c)</a></b> </td><td colspan=\"2\">\n",
       " <b>MC Start, End (Hrs wrt. Plasma/ Field) <a href=\"#(d)\">(d)</a></b> </td><td>\n",
       " <b>BDE? <a href=\"#(e)\">(e)</a></b> </td><td>\n",
       " <b>BIF? <a href=\"#(f)\">(f)</a></b> </td><td>\n",
       " <b> Qual. <a href=\"#(g)\">(g)</a></b></td><td>\n",
       " <b>dV (km/s) <a href=\"#(h)\">(h)</a></b> </td><td>\n",
       " <b>V_ICME (km/s) <a href=\"#(i)\">(i)</a></b> </td><td>\n",
       " <b>V_max (km/s) <a href=\"#(j)\">(j)</a></b> </td><td>\n",
       " <b>B (nT) <a href=\"#(k)\">(k)</a></b> </td><td>\n",
       " <b>MC? <a href=\"#(l)\">(l)</a></b> </td><td>\n",
       " <b>Dst (nT) <a href=\"#(m)\">(m)</a></b> </td><td>\n",
       " <b>V_transit (km/s) <a href=\"#(n)\">(n)</a></b> </td><td>\n",
       " <b>LASCO CME Y/M/D (UT)<a href=\"#(o)\"> (o)</a></b></td></tr>\n",
       " </thead>\n",
       " <tr align=\"center\"><td>\n",
       "  1999/01/04 0000</td><td>  1999/01/04 0400</td><td> 1999/01/04 2200</td><td>ns</td><td>ns</td><td>...</td><td>...</td><td>Y</td><td>...</td><td> 3W</td><td>20 </td><td>350</td><td>  360</td><td>   8</td><td>  0</td><td>       -29</td><td>  dg</td><td> dg               </td></tr><tr align=\"center\"><td>\n",
       "  1999/01/13 1054</td><td>  1999/01/13 1500</td><td> 1999/01/13 2300</td><td>0</td><td>0</td><td>...</td><td>...</td><td>N</td><td>...</td><td> 2</td><td> 70 S </td><td>420</td><td>  430</td><td>  18</td><td>  0</td><td>      -112</td><td>  dg</td><td> dg               </td></tr><tr align=\"center\"><td>\n",
       "  1999/01/22 1950(A)</td><td>  1999/01/23 0900</td><td> 1999/01/23 1800</td><td>nc</td><td>0</td><td>...</td><td>...</td><td>Y</td><td>...</td><td> 3</td><td>120 S </td><td>570</td><td>  660</td><td>  12</td><td>  0</td><td>    -52</td><td>  dg</td><td> dg        </td></tr><tr align=\"center\"><td>\n",
       "  1999/02/13 1900</td><td>  1999/02/13 1900</td><td> 1999/02/14 1500</td><td>0</td><td>-3</td><td>...</td><td>...</td><td>N</td><td>...</td><td>  3W</td><td>20 </td><td>440</td><td>  470</td><td>   9</td><td>  0</td><td>       -17</td><td> ...</td><td>     </td> </tr></table>]"
      ]
     },
     "execution_count": 83,
     "metadata": {},
     "output_type": "execute_result"
    }
   ],
   "source": [
    "tables = soup.find_all('table')\n",
    "tables"
   ]
  },
  {
   "cell_type": "code",
   "execution_count": 86,
   "metadata": {},
   "outputs": [
    {
     "name": "stdout",
     "output_type": "stream",
     "text": [
      "<tr align=\"center\"><td><b>Disturbance Y/M/D (UT) <a href=\"#(a)\">(a)</a></b> </td><td colspan=\"2\">\n",
      "<b>ICME Plasma/Field Start, End Y/M/D (UT) <a href=\"#(b)\">(b)</a> </b> </td><td colspan=\"2\">\n",
      "<b>Comp. Start, End (Hrs wrt. Plasma/ Field) <a href=\"#(c)\">(c)</a></b> </td><td colspan=\"2\">\n",
      "<b>MC Start, End (Hrs wrt. Plasma/ Field) <a href=\"#(d)\">(d)</a></b> </td><td>\n",
      "<b>BDE? <a href=\"#(e)\">(e)</a></b> </td><td>\n",
      "<b>BIF? <a href=\"#(f)\">(f)</a></b> </td><td>\n",
      "<b> Qual. <a href=\"#(g)\">(g)</a></b></td><td>\n",
      "<b>dV (km/s) <a href=\"#(h)\">(h)</a></b> </td><td>\n",
      "<b>V_ICME (km/s) <a href=\"#(i)\">(i)</a></b> </td><td>\n",
      "<b>V_max (km/s) <a href=\"#(j)\">(j)</a></b> </td><td>\n",
      "<b>B (nT) <a href=\"#(k)\">(k)</a></b> </td><td>\n",
      "<b>MC? <a href=\"#(l)\">(l)</a></b> </td><td>\n",
      "<b>Dst (nT) <a href=\"#(m)\">(m)</a></b> </td><td>\n",
      "<b>V_transit (km/s) <a href=\"#(n)\">(n)</a></b> </td><td>\n",
      "<b>LASCO CME Y/M/D (UT)<a href=\"#(o)\"> (o)</a></b></td></tr>\n"
     ]
    }
   ],
   "source": [
    "column_names_1 = tables[0].find_all('tr')\n",
    "print(column_names_1[0])"
   ]
  },
  {
   "cell_type": "code",
   "execution_count": 94,
   "metadata": {},
   "outputs": [
    {
     "data": {
      "text/plain": [
       "'Disturbance Y/M/D (UT) (a)'"
      ]
     },
     "execution_count": 94,
     "metadata": {},
     "output_type": "execute_result"
    }
   ],
   "source": [
    "column_name_2  = column_names_1[0].find_all('b')\n",
    "column_name_2[0].text.strip()"
   ]
  },
  {
   "cell_type": "markdown",
   "metadata": {},
   "source": [
    "## Column names"
   ]
  },
  {
   "cell_type": "code",
   "execution_count": 96,
   "metadata": {},
   "outputs": [
    {
     "data": {
      "text/plain": [
       "['Disturbance Y/M/D (UT) (a)',\n",
       " 'ICME Plasma/Field Start, End Y/M/D (UT) (b)',\n",
       " 'Comp. Start, End (Hrs wrt. Plasma/ Field) (c)',\n",
       " 'MC Start, End (Hrs wrt. Plasma/ Field) (d)',\n",
       " 'BDE? (e)',\n",
       " 'BIF? (f)',\n",
       " 'Qual. (g)',\n",
       " 'dV (km/s) (h)',\n",
       " 'V_ICME (km/s) (i)',\n",
       " 'V_max (km/s) (j)',\n",
       " 'B (nT) (k)',\n",
       " 'MC? (l)',\n",
       " 'Dst (nT) (m)',\n",
       " 'V_transit (km/s) (n)',\n",
       " 'LASCO CME Y/M/D (UT) (o)']"
      ]
     },
     "execution_count": 96,
     "metadata": {},
     "output_type": "execute_result"
    }
   ],
   "source": [
    "Data_column_names = []\n",
    "for col in column_name_2:\n",
    "#     print(col.text.strip())\n",
    "    Data_column_names.append(col.text.strip())\n",
    "Data_column_names"
   ]
  },
  {
   "cell_type": "code",
   "execution_count": 97,
   "metadata": {},
   "outputs": [
    {
     "data": {
      "text/plain": [
       "15"
      ]
     },
     "execution_count": 97,
     "metadata": {},
     "output_type": "execute_result"
    }
   ],
   "source": [
    "len(Data_column_names)"
   ]
  },
  {
   "cell_type": "code",
   "execution_count": null,
   "metadata": {},
   "outputs": [],
   "source": []
  },
  {
   "cell_type": "code",
   "execution_count": null,
   "metadata": {},
   "outputs": [],
   "source": []
  },
  {
   "cell_type": "code",
   "execution_count": null,
   "metadata": {},
   "outputs": [],
   "source": []
  },
  {
   "cell_type": "code",
   "execution_count": null,
   "metadata": {},
   "outputs": [],
   "source": []
  },
  {
   "cell_type": "code",
   "execution_count": null,
   "metadata": {},
   "outputs": [],
   "source": []
  },
  {
   "cell_type": "code",
   "execution_count": null,
   "metadata": {},
   "outputs": [],
   "source": []
  },
  {
   "cell_type": "code",
   "execution_count": null,
   "metadata": {},
   "outputs": [],
   "source": []
  },
  {
   "cell_type": "code",
   "execution_count": null,
   "metadata": {},
   "outputs": [],
   "source": []
  },
  {
   "cell_type": "code",
   "execution_count": null,
   "metadata": {},
   "outputs": [],
   "source": []
  },
  {
   "cell_type": "code",
   "execution_count": null,
   "metadata": {},
   "outputs": [],
   "source": []
  }
 ],
 "metadata": {
  "kernelspec": {
   "display_name": "Python 3",
   "language": "python",
   "name": "python3"
  },
  "language_info": {
   "codemirror_mode": {
    "name": "ipython",
    "version": 3
   },
   "file_extension": ".py",
   "mimetype": "text/x-python",
   "name": "python",
   "nbconvert_exporter": "python",
   "pygments_lexer": "ipython3",
   "version": "3.7.0"
  }
 },
 "nbformat": 4,
 "nbformat_minor": 5
}
